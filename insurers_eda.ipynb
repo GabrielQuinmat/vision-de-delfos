{
 "cells": [
  {
   "cell_type": "markdown",
   "metadata": {},
   "source": [
    "# Análisis Exploratorio\n",
    "\n",
    "## Insurers"
   ]
  },
  {
   "cell_type": "code",
   "execution_count": 50,
   "metadata": {},
   "outputs": [],
   "source": [
    "import requests\n",
    "import numpy as np\n",
    "import pandas as pd\n",
    "import plotly.express as px\n",
    "from plotly.subplots import make_subplots\n",
    "import plotly.graph_objects as go\n",
    "from pandas_profiling import ProfileReport\n",
    "from funcs import *\n",
    "import pingouin as pg\n",
    "\n",
    "\n",
    "data = requests.get(\n",
    "    \"https://api.datamexico.org/tesseract/data.jsonrecords?cube=insurers&drilldowns=Ingress+Month%2CPatient+ID%2CHospital+Group%2CInterest+Supplies%2CMedical+Supply%2CState&measures=Treatment+Days%2CPatient+Treatment+Days%2CTreatment+Cost%2CSupply+Units%2CCost+per+Unit\"\n",
    ")\n",
    "df = pd.DataFrame(data.json()[\"data\"])\n",
    "df[\"Ingress Month\"] = pd.to_datetime(df[\"Ingress Month\"] + \"-01\")\n",
    "df['Ingress Year'] = df['Ingress Month'].dt.year\n",
    "df = df[\n",
    "    [\n",
    "        \"Ingress Month\",\n",
    "        \"Patient ID\",\n",
    "        \"Hospital Group\",\n",
    "        \"Interest Supplies\",\n",
    "        \"Medical Supply\",\n",
    "        \"State\",\n",
    "        \"Treatment Days\",\n",
    "        \"Patient Treatment Days\",\n",
    "        \"Treatment Cost\",\n",
    "        \"Supply Units\",\n",
    "        \"Cost per Unit\",\n",
    "    ]\n",
    "]\n",
    "\n",
    "covid_data = requests.get('https://api.datamexico.org/tesseract/data.jsonrecords?cube=gobmx_covid&drilldowns=Ingress+Month&measures=Cases')\n",
    "covidDF = pd.DataFrame(covid_data.json()['data'])\n",
    "\n",
    "\n"
   ]
  },
  {
   "cell_type": "markdown",
   "metadata": {},
   "source": [
    "Ya que los datos estan explotados por cada Medical Supply, se agrega por separado un dataframe de pacientes con su gasto total."
   ]
  },
  {
   "cell_type": "code",
   "execution_count": 51,
   "metadata": {},
   "outputs": [],
   "source": [
    "cols = ['Patient ID', 'Ingress Month', 'Interest Supplies', 'Hospital Group', 'Treatment Days', 'State']\n",
    "patientDF = df.groupby(cols)\n",
    "patientDF = patientDF['Treatment Cost'].sum()\n",
    "patientDF = patientDF.reset_index()\n",
    "patientDF = patientDF[patientDF['Treatment Cost'] > 0]"
   ]
  },
  {
   "cell_type": "markdown",
   "metadata": {},
   "source": [
    "## Revisión de variación del costo de tratamiento en el tiempo por paciente"
   ]
  },
  {
   "cell_type": "code",
   "execution_count": 52,
   "metadata": {},
   "outputs": [
    {
     "data": {
      "application/vnd.plotly.v1+json": {
       "config": {
        "plotlyServerURL": "https://plot.ly"
       },
       "data": [
        {
         "marker": {
          "color": "#3C7A89",
          "size": 13
         },
         "name": "Mean Treatment Cost",
         "type": "scatter",
         "x": [
          "2020-03-01T00:00:00",
          "2020-04-01T00:00:00",
          "2020-05-01T00:00:00",
          "2020-06-01T00:00:00",
          "2020-07-01T00:00:00",
          "2020-08-01T00:00:00",
          "2020-09-01T00:00:00",
          "2020-10-01T00:00:00",
          "2020-11-01T00:00:00",
          "2020-12-01T00:00:00",
          "2021-01-01T00:00:00",
          "2021-02-01T00:00:00",
          "2021-03-01T00:00:00",
          "2021-04-01T00:00:00",
          "2021-05-01T00:00:00",
          "2021-06-01T00:00:00",
          "2021-07-01T00:00:00"
         ],
         "xaxis": "x",
         "y": [
          54719,
          26997.575757575756,
          42709.6,
          40955.66820276498,
          32093.251533742332,
          27816.17391304348,
          28631.91056910569,
          24500.282685512368,
          27517.528409090908,
          24024.315789473683,
          20813.82978723404,
          20441.25,
          22916.36815920398,
          20885.35714285714,
          17809.68992248062,
          19059.590163934427,
          15133.72340425532
         ],
         "yaxis": "y2"
        },
        {
         "fill": "tozeroy",
         "fillcolor": "rgba(0, 0, 0, 0.2)",
         "line": {
          "color": "rgba(0, 0, 0, 0.2)",
          "shape": "spline"
         },
         "marker": {
          "color": "rgba(0, 0, 0, 0.2)"
         },
         "name": "Casos Confirmados de COVID",
         "type": "scatter",
         "x": [
          "2020-01",
          "2020-02",
          "2020-03",
          "2020-04",
          "2020-05",
          "2020-06",
          "2020-07",
          "2020-08",
          "2020-09",
          "2020-10",
          "2020-11",
          "2020-12",
          "2021-01",
          "2021-02",
          "2021-03",
          "2021-04",
          "2021-05",
          "2021-06",
          "2021-07",
          "2021-08",
          "2021-09",
          "2021-10",
          "2021-11",
          "2021-12",
          "2022-01",
          "2022-02",
          "2022-03",
          "2022-04",
          "2022-05",
          "2022-06",
          "2022-07"
         ],
         "xaxis": "x",
         "y": [
          11612,
          11549,
          34280,
          114145,
          222141,
          349339,
          452124,
          402369,
          388148,
          443498,
          495214,
          866707,
          1118310,
          713070,
          631221,
          514831,
          402880,
          464212,
          1082811,
          1374302,
          873224,
          617999,
          506261,
          539459,
          2209861,
          608476,
          273702,
          170249,
          194814,
          584804,
          512740
         ],
         "yaxis": "y"
        },
        {
         "marker": {
          "color": "#2E4756",
          "size": 13
         },
         "name": "Mean Treatment Days",
         "type": "scatter",
         "x": [
          "2020-03-01T00:00:00",
          "2020-04-01T00:00:00",
          "2020-05-01T00:00:00",
          "2020-06-01T00:00:00",
          "2020-07-01T00:00:00",
          "2020-08-01T00:00:00",
          "2020-09-01T00:00:00",
          "2020-10-01T00:00:00",
          "2020-11-01T00:00:00",
          "2020-12-01T00:00:00",
          "2021-01-01T00:00:00",
          "2021-02-01T00:00:00",
          "2021-03-01T00:00:00",
          "2021-04-01T00:00:00",
          "2021-05-01T00:00:00",
          "2021-06-01T00:00:00",
          "2021-07-01T00:00:00"
         ],
         "xaxis": "x2",
         "y": [
          15.585365853658537,
          10.507537688442211,
          10.623595505617978,
          11.263858093126386,
          14.542857142857143,
          10.554,
          11.480225988700566,
          10.5728,
          14.364341085271318,
          12.498542274052479,
          13.007843137254902,
          14.23538961038961,
          11.554585152838428,
          11.268138801261829,
          10.72982456140351,
          9.452205882352942,
          7.414457831325302
         ],
         "yaxis": "y4"
        },
        {
         "fill": "tozeroy",
         "fillcolor": "rgba(0, 0, 0, 0.2)",
         "line": {
          "color": "rgba(0, 0, 0, 0.2)",
          "shape": "spline"
         },
         "marker": {
          "color": "rgba(0, 0, 0, 0.2)"
         },
         "name": "Casos Confirmados de COVID",
         "type": "scatter",
         "x": [
          "2020-01",
          "2020-02",
          "2020-03",
          "2020-04",
          "2020-05",
          "2020-06",
          "2020-07",
          "2020-08",
          "2020-09",
          "2020-10",
          "2020-11",
          "2020-12",
          "2021-01",
          "2021-02",
          "2021-03",
          "2021-04",
          "2021-05",
          "2021-06",
          "2021-07",
          "2021-08",
          "2021-09",
          "2021-10",
          "2021-11",
          "2021-12",
          "2022-01",
          "2022-02",
          "2022-03",
          "2022-04",
          "2022-05",
          "2022-06",
          "2022-07"
         ],
         "xaxis": "x2",
         "y": [
          11612,
          11549,
          34280,
          114145,
          222141,
          349339,
          452124,
          402369,
          388148,
          443498,
          495214,
          866707,
          1118310,
          713070,
          631221,
          514831,
          402880,
          464212,
          1082811,
          1374302,
          873224,
          617999,
          506261,
          539459,
          2209861,
          608476,
          273702,
          170249,
          194814,
          584804,
          512740
         ],
         "yaxis": "y3"
        }
       ],
       "layout": {
        "annotations": [
         {
          "font": {
           "color": "#3C7A89",
           "size": 13
          },
          "showarrow": false,
          "text": "<b>Media de Costo<br>de Tratamiento</br>",
          "x": "2021-07-01",
          "xref": "x",
          "xshift": 80,
          "y": 15133.72340425532,
          "yref": "y",
          "yshift": 25
         },
         {
          "font": {
           "color": "#2E4756",
           "size": 13
          },
          "showarrow": false,
          "text": "<b>Media de Días<br>de Tratamiento</b>",
          "x": "2021-07-01",
          "xref": "x2",
          "xshift": 80,
          "y": 7.414457831325302,
          "yref": "y3",
          "yshift": 25
         },
         {
          "showarrow": false,
          "text": "Fuente: Elaboración propia con datos de Insurers, DataMexico",
          "x": 0,
          "xref": "paper",
          "y": -0.065,
          "yref": "paper"
         }
        ],
        "showlegend": false,
        "template": {
         "data": {
          "bar": [
           {
            "error_x": {
             "color": "#2a3f5f"
            },
            "error_y": {
             "color": "#2a3f5f"
            },
            "marker": {
             "line": {
              "color": "white",
              "width": 0.5
             },
             "pattern": {
              "fillmode": "overlay",
              "size": 10,
              "solidity": 0.2
             }
            },
            "type": "bar"
           }
          ],
          "barpolar": [
           {
            "marker": {
             "line": {
              "color": "white",
              "width": 0.5
             },
             "pattern": {
              "fillmode": "overlay",
              "size": 10,
              "solidity": 0.2
             }
            },
            "type": "barpolar"
           }
          ],
          "carpet": [
           {
            "aaxis": {
             "endlinecolor": "#2a3f5f",
             "gridcolor": "#C8D4E3",
             "linecolor": "#C8D4E3",
             "minorgridcolor": "#C8D4E3",
             "startlinecolor": "#2a3f5f"
            },
            "baxis": {
             "endlinecolor": "#2a3f5f",
             "gridcolor": "#C8D4E3",
             "linecolor": "#C8D4E3",
             "minorgridcolor": "#C8D4E3",
             "startlinecolor": "#2a3f5f"
            },
            "type": "carpet"
           }
          ],
          "choropleth": [
           {
            "colorbar": {
             "outlinewidth": 0,
             "ticks": ""
            },
            "type": "choropleth"
           }
          ],
          "contour": [
           {
            "colorbar": {
             "outlinewidth": 0,
             "ticks": ""
            },
            "colorscale": [
             [
              0,
              "#0d0887"
             ],
             [
              0.1111111111111111,
              "#46039f"
             ],
             [
              0.2222222222222222,
              "#7201a8"
             ],
             [
              0.3333333333333333,
              "#9c179e"
             ],
             [
              0.4444444444444444,
              "#bd3786"
             ],
             [
              0.5555555555555556,
              "#d8576b"
             ],
             [
              0.6666666666666666,
              "#ed7953"
             ],
             [
              0.7777777777777778,
              "#fb9f3a"
             ],
             [
              0.8888888888888888,
              "#fdca26"
             ],
             [
              1,
              "#f0f921"
             ]
            ],
            "type": "contour"
           }
          ],
          "contourcarpet": [
           {
            "colorbar": {
             "outlinewidth": 0,
             "ticks": ""
            },
            "type": "contourcarpet"
           }
          ],
          "heatmap": [
           {
            "colorbar": {
             "outlinewidth": 0,
             "ticks": ""
            },
            "colorscale": [
             [
              0,
              "#0d0887"
             ],
             [
              0.1111111111111111,
              "#46039f"
             ],
             [
              0.2222222222222222,
              "#7201a8"
             ],
             [
              0.3333333333333333,
              "#9c179e"
             ],
             [
              0.4444444444444444,
              "#bd3786"
             ],
             [
              0.5555555555555556,
              "#d8576b"
             ],
             [
              0.6666666666666666,
              "#ed7953"
             ],
             [
              0.7777777777777778,
              "#fb9f3a"
             ],
             [
              0.8888888888888888,
              "#fdca26"
             ],
             [
              1,
              "#f0f921"
             ]
            ],
            "type": "heatmap"
           }
          ],
          "heatmapgl": [
           {
            "colorbar": {
             "outlinewidth": 0,
             "ticks": ""
            },
            "colorscale": [
             [
              0,
              "#0d0887"
             ],
             [
              0.1111111111111111,
              "#46039f"
             ],
             [
              0.2222222222222222,
              "#7201a8"
             ],
             [
              0.3333333333333333,
              "#9c179e"
             ],
             [
              0.4444444444444444,
              "#bd3786"
             ],
             [
              0.5555555555555556,
              "#d8576b"
             ],
             [
              0.6666666666666666,
              "#ed7953"
             ],
             [
              0.7777777777777778,
              "#fb9f3a"
             ],
             [
              0.8888888888888888,
              "#fdca26"
             ],
             [
              1,
              "#f0f921"
             ]
            ],
            "type": "heatmapgl"
           }
          ],
          "histogram": [
           {
            "marker": {
             "pattern": {
              "fillmode": "overlay",
              "size": 10,
              "solidity": 0.2
             }
            },
            "type": "histogram"
           }
          ],
          "histogram2d": [
           {
            "colorbar": {
             "outlinewidth": 0,
             "ticks": ""
            },
            "colorscale": [
             [
              0,
              "#0d0887"
             ],
             [
              0.1111111111111111,
              "#46039f"
             ],
             [
              0.2222222222222222,
              "#7201a8"
             ],
             [
              0.3333333333333333,
              "#9c179e"
             ],
             [
              0.4444444444444444,
              "#bd3786"
             ],
             [
              0.5555555555555556,
              "#d8576b"
             ],
             [
              0.6666666666666666,
              "#ed7953"
             ],
             [
              0.7777777777777778,
              "#fb9f3a"
             ],
             [
              0.8888888888888888,
              "#fdca26"
             ],
             [
              1,
              "#f0f921"
             ]
            ],
            "type": "histogram2d"
           }
          ],
          "histogram2dcontour": [
           {
            "colorbar": {
             "outlinewidth": 0,
             "ticks": ""
            },
            "colorscale": [
             [
              0,
              "#0d0887"
             ],
             [
              0.1111111111111111,
              "#46039f"
             ],
             [
              0.2222222222222222,
              "#7201a8"
             ],
             [
              0.3333333333333333,
              "#9c179e"
             ],
             [
              0.4444444444444444,
              "#bd3786"
             ],
             [
              0.5555555555555556,
              "#d8576b"
             ],
             [
              0.6666666666666666,
              "#ed7953"
             ],
             [
              0.7777777777777778,
              "#fb9f3a"
             ],
             [
              0.8888888888888888,
              "#fdca26"
             ],
             [
              1,
              "#f0f921"
             ]
            ],
            "type": "histogram2dcontour"
           }
          ],
          "mesh3d": [
           {
            "colorbar": {
             "outlinewidth": 0,
             "ticks": ""
            },
            "type": "mesh3d"
           }
          ],
          "parcoords": [
           {
            "line": {
             "colorbar": {
              "outlinewidth": 0,
              "ticks": ""
             }
            },
            "type": "parcoords"
           }
          ],
          "pie": [
           {
            "automargin": true,
            "type": "pie"
           }
          ],
          "scatter": [
           {
            "fillpattern": {
             "fillmode": "overlay",
             "size": 10,
             "solidity": 0.2
            },
            "type": "scatter"
           }
          ],
          "scatter3d": [
           {
            "line": {
             "colorbar": {
              "outlinewidth": 0,
              "ticks": ""
             }
            },
            "marker": {
             "colorbar": {
              "outlinewidth": 0,
              "ticks": ""
             }
            },
            "type": "scatter3d"
           }
          ],
          "scattercarpet": [
           {
            "marker": {
             "colorbar": {
              "outlinewidth": 0,
              "ticks": ""
             }
            },
            "type": "scattercarpet"
           }
          ],
          "scattergeo": [
           {
            "marker": {
             "colorbar": {
              "outlinewidth": 0,
              "ticks": ""
             }
            },
            "type": "scattergeo"
           }
          ],
          "scattergl": [
           {
            "marker": {
             "colorbar": {
              "outlinewidth": 0,
              "ticks": ""
             }
            },
            "type": "scattergl"
           }
          ],
          "scattermapbox": [
           {
            "marker": {
             "colorbar": {
              "outlinewidth": 0,
              "ticks": ""
             }
            },
            "type": "scattermapbox"
           }
          ],
          "scatterpolar": [
           {
            "marker": {
             "colorbar": {
              "outlinewidth": 0,
              "ticks": ""
             }
            },
            "type": "scatterpolar"
           }
          ],
          "scatterpolargl": [
           {
            "marker": {
             "colorbar": {
              "outlinewidth": 0,
              "ticks": ""
             }
            },
            "type": "scatterpolargl"
           }
          ],
          "scatterternary": [
           {
            "marker": {
             "colorbar": {
              "outlinewidth": 0,
              "ticks": ""
             }
            },
            "type": "scatterternary"
           }
          ],
          "surface": [
           {
            "colorbar": {
             "outlinewidth": 0,
             "ticks": ""
            },
            "colorscale": [
             [
              0,
              "#0d0887"
             ],
             [
              0.1111111111111111,
              "#46039f"
             ],
             [
              0.2222222222222222,
              "#7201a8"
             ],
             [
              0.3333333333333333,
              "#9c179e"
             ],
             [
              0.4444444444444444,
              "#bd3786"
             ],
             [
              0.5555555555555556,
              "#d8576b"
             ],
             [
              0.6666666666666666,
              "#ed7953"
             ],
             [
              0.7777777777777778,
              "#fb9f3a"
             ],
             [
              0.8888888888888888,
              "#fdca26"
             ],
             [
              1,
              "#f0f921"
             ]
            ],
            "type": "surface"
           }
          ],
          "table": [
           {
            "cells": {
             "fill": {
              "color": "#EBF0F8"
             },
             "line": {
              "color": "white"
             }
            },
            "header": {
             "fill": {
              "color": "#C8D4E3"
             },
             "line": {
              "color": "white"
             }
            },
            "type": "table"
           }
          ]
         },
         "layout": {
          "annotationdefaults": {
           "arrowcolor": "#2a3f5f",
           "arrowhead": 0,
           "arrowwidth": 1
          },
          "autotypenumbers": "strict",
          "coloraxis": {
           "colorbar": {
            "outlinewidth": 0,
            "ticks": ""
           }
          },
          "colorscale": {
           "diverging": [
            [
             0,
             "#8e0152"
            ],
            [
             0.1,
             "#c51b7d"
            ],
            [
             0.2,
             "#de77ae"
            ],
            [
             0.3,
             "#f1b6da"
            ],
            [
             0.4,
             "#fde0ef"
            ],
            [
             0.5,
             "#f7f7f7"
            ],
            [
             0.6,
             "#e6f5d0"
            ],
            [
             0.7,
             "#b8e186"
            ],
            [
             0.8,
             "#7fbc41"
            ],
            [
             0.9,
             "#4d9221"
            ],
            [
             1,
             "#276419"
            ]
           ],
           "sequential": [
            [
             0,
             "#0d0887"
            ],
            [
             0.1111111111111111,
             "#46039f"
            ],
            [
             0.2222222222222222,
             "#7201a8"
            ],
            [
             0.3333333333333333,
             "#9c179e"
            ],
            [
             0.4444444444444444,
             "#bd3786"
            ],
            [
             0.5555555555555556,
             "#d8576b"
            ],
            [
             0.6666666666666666,
             "#ed7953"
            ],
            [
             0.7777777777777778,
             "#fb9f3a"
            ],
            [
             0.8888888888888888,
             "#fdca26"
            ],
            [
             1,
             "#f0f921"
            ]
           ],
           "sequentialminus": [
            [
             0,
             "#0d0887"
            ],
            [
             0.1111111111111111,
             "#46039f"
            ],
            [
             0.2222222222222222,
             "#7201a8"
            ],
            [
             0.3333333333333333,
             "#9c179e"
            ],
            [
             0.4444444444444444,
             "#bd3786"
            ],
            [
             0.5555555555555556,
             "#d8576b"
            ],
            [
             0.6666666666666666,
             "#ed7953"
            ],
            [
             0.7777777777777778,
             "#fb9f3a"
            ],
            [
             0.8888888888888888,
             "#fdca26"
            ],
            [
             1,
             "#f0f921"
            ]
           ]
          },
          "colorway": [
           "#636efa",
           "#EF553B",
           "#00cc96",
           "#ab63fa",
           "#FFA15A",
           "#19d3f3",
           "#FF6692",
           "#B6E880",
           "#FF97FF",
           "#FECB52"
          ],
          "font": {
           "color": "#2a3f5f"
          },
          "geo": {
           "bgcolor": "white",
           "lakecolor": "white",
           "landcolor": "white",
           "showlakes": true,
           "showland": true,
           "subunitcolor": "#C8D4E3"
          },
          "hoverlabel": {
           "align": "left"
          },
          "hovermode": "closest",
          "mapbox": {
           "style": "light"
          },
          "paper_bgcolor": "white",
          "plot_bgcolor": "white",
          "polar": {
           "angularaxis": {
            "gridcolor": "#EBF0F8",
            "linecolor": "#EBF0F8",
            "ticks": ""
           },
           "bgcolor": "white",
           "radialaxis": {
            "gridcolor": "#EBF0F8",
            "linecolor": "#EBF0F8",
            "ticks": ""
           }
          },
          "scene": {
           "xaxis": {
            "backgroundcolor": "white",
            "gridcolor": "#DFE8F3",
            "gridwidth": 2,
            "linecolor": "#EBF0F8",
            "showbackground": true,
            "ticks": "",
            "zerolinecolor": "#EBF0F8"
           },
           "yaxis": {
            "backgroundcolor": "white",
            "gridcolor": "#DFE8F3",
            "gridwidth": 2,
            "linecolor": "#EBF0F8",
            "showbackground": true,
            "ticks": "",
            "zerolinecolor": "#EBF0F8"
           },
           "zaxis": {
            "backgroundcolor": "white",
            "gridcolor": "#DFE8F3",
            "gridwidth": 2,
            "linecolor": "#EBF0F8",
            "showbackground": true,
            "ticks": "",
            "zerolinecolor": "#EBF0F8"
           }
          },
          "shapedefaults": {
           "line": {
            "color": "#2a3f5f"
           }
          },
          "ternary": {
           "aaxis": {
            "gridcolor": "#DFE8F3",
            "linecolor": "#A2B1C6",
            "ticks": ""
           },
           "baxis": {
            "gridcolor": "#DFE8F3",
            "linecolor": "#A2B1C6",
            "ticks": ""
           },
           "bgcolor": "white",
           "caxis": {
            "gridcolor": "#DFE8F3",
            "linecolor": "#A2B1C6",
            "ticks": ""
           }
          },
          "title": {
           "x": 0.05
          },
          "xaxis": {
           "automargin": true,
           "gridcolor": "#EBF0F8",
           "linecolor": "#EBF0F8",
           "ticks": "",
           "title": {
            "standoff": 15
           },
           "zerolinecolor": "#EBF0F8",
           "zerolinewidth": 2
          },
          "yaxis": {
           "automargin": true,
           "gridcolor": "#EBF0F8",
           "linecolor": "#EBF0F8",
           "ticks": "",
           "title": {
            "standoff": 15
           },
           "zerolinecolor": "#EBF0F8",
           "zerolinewidth": 2
          }
         }
        },
        "title": {
         "text": "Figura 1. Comportamíento histórico"
        },
        "xaxis": {
         "anchor": "y",
         "domain": [
          0,
          0.94
         ],
         "range": [
          "2020-02-01",
          "2021-12-01"
         ]
        },
        "xaxis2": {
         "anchor": "y3",
         "domain": [
          0,
          0.94
         ],
         "range": [
          "2020-02-01",
          "2021-12-01"
         ]
        },
        "yaxis": {
         "anchor": "x",
         "domain": [
          0.575,
          1
         ],
         "title": {
          "text": "Casos confirmados de COVID"
         }
        },
        "yaxis2": {
         "anchor": "x",
         "overlaying": "y",
         "side": "right",
         "title": {
          "text": ""
         }
        },
        "yaxis3": {
         "anchor": "x2",
         "domain": [
          0,
          0.425
         ],
         "title": {
          "text": "Casos confirmados de COVID"
         }
        },
        "yaxis4": {
         "anchor": "x2",
         "overlaying": "y3",
         "side": "right",
         "title": {
          "text": ""
         }
        }
       }
      }
     },
     "metadata": {},
     "output_type": "display_data"
    }
   ],
   "source": [
    "rDF = patientDF[patientDF['Interest Supplies'] == 'Insumo de Interes'].groupby('Ingress Month')['Treatment Cost'].mean()\n",
    "rDF = rDF.reset_index()\n",
    "gptDF = patientDF.groupby('Ingress Month')['Treatment Days'].mean().reset_index()\n",
    "\n",
    "annotation1 = '<b>Media de Costo<br>de Tratamiento</br>'\n",
    "annotation2 = '<b>Media de Días<br>de Tratamiento</b>'\n",
    "\n",
    "fig = make_subplots(\n",
    "    rows=2,\n",
    "    specs=[[{\"secondary_y\": True}], [{\"secondary_y\": True}]]\n",
    "    )\n",
    "\n",
    "fig.add_trace(\n",
    "        go.Scatter(\n",
    "            x=rDF[\"Ingress Month\"],\n",
    "            y=rDF[\"Treatment Cost\"],\n",
    "            name='Mean Treatment Cost',\n",
    "            marker=dict(size=13, color=CATEGORY_PALETTE[0]),\n",
    "        ),\n",
    "        row=1, col=1,\n",
    "        secondary_y=True,\n",
    "    )\n",
    "\n",
    "fig.add_annotation(x='2021-07-01', y=rDF.iloc[-1, 1], text=annotation1, \n",
    "                   row=1, col=1, yref='y2', showarrow=False, yshift=25,\n",
    "                   xshift=80, font=dict(color=CATEGORY_PALETTE[0], size=13))\n",
    "\n",
    "fig.add_trace(\n",
    "    go.Scatter(\n",
    "        x=covidDF[\"Ingress Month\"],\n",
    "        y=covidDF[\"Cases\"],\n",
    "        name=\"Casos Confirmados de COVID\",\n",
    "        fill='tozeroy',\n",
    "        fillcolor=\"rgba(0, 0, 0, 0.2)\",\n",
    "        marker_color=\"rgba(0, 0, 0, 0.2)\",\n",
    "        marker=dict(color=\"rgba(0, 0, 0, 0.2)\"),\n",
    "        line=dict(color=\"rgba(0, 0, 0, 0.2)\"),\n",
    "        line_shape=\"spline\",\n",
    "    ),\n",
    "    secondary_y=False,\n",
    "    row=1, col=1\n",
    ")\n",
    "\n",
    "fig.add_trace(\n",
    "        go.Scatter(\n",
    "            x=gptDF[\"Ingress Month\"],\n",
    "            y=gptDF[\"Treatment Days\"],\n",
    "            name='Mean Treatment Days',\n",
    "            marker=dict(size=13, color=CATEGORY_PALETTE[2]),\n",
    "        ),\n",
    "        row=2, col=1,\n",
    "        secondary_y=True,\n",
    "    )\n",
    "\n",
    "fig.add_annotation(x='2021-07-01', y=gptDF.iloc[-1, 1],\n",
    "                   row=2, col=1, yshift=25, xshift=80,\n",
    "                   text=annotation2, yref='y2', showarrow=False,\n",
    "                   font=dict(color=CATEGORY_PALETTE[2], size=13))\n",
    "\n",
    "\n",
    "fig.add_trace(\n",
    "    go.Scatter(\n",
    "        x=covidDF[\"Ingress Month\"],\n",
    "        y=covidDF[\"Cases\"],\n",
    "        name=\"Casos Confirmados de COVID\",\n",
    "        fill='tozeroy',\n",
    "        fillcolor=\"rgba(0, 0, 0, 0.2)\",\n",
    "        marker_color=\"rgba(0, 0, 0, 0.2)\",\n",
    "        marker=dict(color=\"rgba(0, 0, 0, 0.2)\"),\n",
    "        line=dict(color=\"rgba(0, 0, 0, 0.2)\"),\n",
    "        line_shape=\"spline\",\n",
    "    ),\n",
    "    secondary_y=False,\n",
    "    row=2, col=1\n",
    ")\n",
    "\n",
    "fig.add_annotation(xref='paper', yref='paper', x=0, y=-0.065,\n",
    "                   text='Fuente: Elaboración propia con datos de Insurers, DataMexico',\n",
    "                   showarrow=False)\n",
    "\n",
    "fig.update_layout(title_text=\"Figura 1. Comportamíento histórico\", showlegend=False,\n",
    "                  template=\"plotly_white\",)\n",
    "fig.update_xaxes(range=['2020-02-01', '2021-12-01'])\n",
    "fig.update_yaxes(title_text=\"Casos confirmados de COVID\", secondary_y=False)\n",
    "fig.update_yaxes(title_text=\"\", secondary_y=True)\n",
    "fig.write_image(\"images/comportamiento_historico_Costo.png\", height=800, width=1000)\n",
    "fig.show()"
   ]
  },
  {
   "cell_type": "markdown",
   "metadata": {},
   "source": [
    "## Revisión de Días de tratamiento por paciente"
   ]
  },
  {
   "cell_type": "code",
   "execution_count": 53,
   "metadata": {},
   "outputs": [
    {
     "data": {
      "application/vnd.plotly.v1+json": {
       "config": {
        "plotlyServerURL": "https://plot.ly"
       },
       "data": [
        {
         "alignmentgroup": "True",
         "bingroup": "x",
         "hovertemplate": "Treatment Days=%{x}<br>count=%{y}<extra></extra>",
         "legendgroup": "",
         "marker": {
          "color": "#3C7A89",
          "pattern": {
           "shape": ""
          }
         },
         "name": "",
         "offsetgroup": "",
         "orientation": "v",
         "showlegend": false,
         "type": "histogram",
         "x": [
          19,
          29,
          13,
          45,
          6,
          8,
          8,
          9,
          4,
          11,
          44,
          7,
          28,
          22,
          29,
          11,
          6,
          9,
          4,
          10,
          2,
          4,
          6,
          3,
          8,
          5,
          8,
          25,
          0,
          16,
          26,
          19,
          5,
          13,
          12,
          1,
          6,
          10,
          10,
          6,
          8,
          9,
          37,
          8,
          2,
          33,
          11,
          8,
          18,
          26,
          5,
          0,
          0,
          7,
          5,
          0,
          0,
          3,
          14,
          9,
          6,
          22,
          27,
          13,
          17,
          5,
          3,
          9,
          1,
          4,
          75,
          10,
          0,
          8,
          6,
          5,
          10,
          6,
          15,
          8,
          22,
          5,
          7,
          7,
          49,
          18,
          18,
          6,
          17,
          6,
          31,
          6,
          0,
          8,
          4,
          8,
          7,
          0,
          4,
          8,
          22,
          9,
          12,
          0,
          7,
          7,
          6,
          9,
          7,
          14,
          11,
          15,
          10,
          6,
          0,
          7,
          8,
          6,
          9,
          9,
          9,
          7,
          18,
          27,
          15,
          88,
          46,
          6,
          19,
          8,
          9,
          4,
          4,
          10,
          8,
          14,
          10,
          25,
          8,
          1,
          5,
          12,
          0,
          7,
          22,
          29,
          18,
          16,
          9,
          11,
          2,
          25,
          19,
          4,
          10,
          0,
          5,
          4,
          52,
          15,
          9,
          14,
          5,
          17,
          12,
          11,
          20,
          19,
          13,
          14,
          16,
          23,
          6,
          0,
          40,
          18,
          17,
          9,
          11,
          15,
          5,
          0,
          21,
          35,
          16,
          8,
          5,
          4,
          2,
          18,
          9,
          8,
          12,
          10,
          7,
          39,
          26,
          0,
          8,
          12,
          0,
          6,
          5,
          4,
          4,
          4,
          11,
          7,
          10,
          10,
          16,
          7,
          7,
          4,
          2,
          8,
          25,
          5,
          1,
          3,
          3,
          4,
          14,
          9,
          8,
          1,
          8,
          14,
          18,
          2,
          16,
          2,
          5,
          7,
          0,
          17,
          8,
          9,
          24,
          12,
          7,
          7,
          10,
          7,
          5,
          8,
          7,
          4,
          5,
          28,
          4,
          5,
          5,
          13,
          3,
          3,
          3,
          0,
          4,
          5,
          15,
          32,
          10,
          4,
          0,
          8,
          16,
          0,
          17,
          19,
          19,
          0,
          5,
          0,
          7,
          11,
          0,
          0,
          13,
          4,
          8,
          6,
          5,
          8,
          9,
          1,
          2,
          0,
          33,
          3,
          8,
          1,
          5,
          1,
          8,
          0,
          11,
          4,
          0,
          6,
          13,
          8,
          5,
          6,
          2,
          8,
          0,
          3,
          27,
          9,
          6,
          0,
          8,
          8,
          5,
          8,
          28,
          7,
          13,
          18,
          17,
          0,
          11,
          24,
          24,
          1,
          0,
          10,
          13,
          0,
          10,
          14,
          6,
          26,
          3,
          17,
          21,
          6,
          9,
          3,
          7,
          5,
          7,
          8,
          5,
          14,
          5,
          0,
          14,
          11,
          10,
          8,
          9,
          1,
          7,
          49,
          7,
          38,
          9,
          21,
          5,
          10,
          24,
          1,
          18,
          11,
          7,
          5,
          23,
          16,
          10,
          0,
          6,
          6,
          4,
          0,
          6,
          20,
          33,
          6,
          3,
          8,
          6,
          18,
          29,
          12,
          5,
          9,
          7,
          5,
          9,
          17,
          9,
          8,
          24,
          24,
          49,
          3,
          24,
          9,
          22,
          0,
          8,
          0,
          5,
          0,
          7,
          13,
          4,
          7,
          5,
          5,
          7,
          3,
          4,
          14,
          7,
          10,
          47,
          49,
          15,
          11,
          9,
          8,
          6,
          23,
          16,
          5,
          7,
          17,
          5,
          3,
          8,
          1,
          4,
          3,
          7,
          4,
          31,
          5,
          9,
          22,
          6,
          11,
          14,
          8,
          0,
          28,
          0,
          4,
          3,
          4,
          11,
          11,
          9,
          13,
          10,
          3,
          0,
          1,
          24,
          5,
          14,
          16,
          3,
          13,
          16,
          10,
          15,
          9,
          7,
          4,
          15,
          34,
          28,
          20,
          0,
          15,
          27,
          6,
          4,
          38,
          8,
          1,
          6,
          86,
          8,
          7,
          13,
          0,
          16,
          8,
          7,
          13,
          24,
          8,
          14,
          0,
          6,
          6,
          0,
          1,
          35,
          6,
          7,
          1,
          6,
          16,
          18,
          1,
          3,
          22,
          0,
          0,
          80,
          0,
          4,
          5,
          0,
          2,
          2,
          0,
          7,
          15,
          22,
          7,
          21,
          40,
          0,
          0,
          0,
          4,
          9,
          13,
          0,
          9,
          6,
          9,
          85,
          13,
          10,
          3,
          2,
          9,
          5,
          21,
          0,
          6,
          8,
          102,
          11,
          14,
          47,
          1,
          6,
          17,
          13,
          26,
          12,
          2,
          15,
          6,
          0,
          0,
          8,
          8,
          14,
          7,
          0,
          6,
          11,
          5,
          7,
          1,
          0,
          41,
          2,
          11,
          24,
          5,
          8,
          26,
          1,
          6,
          5,
          6,
          10,
          5,
          3,
          3,
          6,
          9,
          16,
          23,
          15,
          20,
          7,
          6,
          25,
          4,
          5,
          5,
          21,
          27,
          28,
          15,
          105,
          90,
          27,
          14,
          8,
          6,
          37,
          18,
          5,
          98,
          11,
          28,
          28,
          21,
          6,
          7,
          7,
          10,
          11,
          29,
          7,
          36,
          36,
          31,
          15,
          16,
          13,
          123,
          7,
          10,
          3,
          5,
          7,
          17,
          25,
          11,
          5,
          58,
          4,
          19,
          14,
          12,
          24,
          0,
          5,
          13,
          4,
          22,
          9,
          19,
          9,
          12,
          23,
          9,
          12,
          104,
          7,
          7,
          0,
          3,
          25,
          10,
          13,
          36,
          23,
          19,
          14,
          14,
          8,
          5,
          30,
          35,
          19,
          9,
          8,
          26,
          8,
          32,
          38,
          16,
          13,
          30,
          5,
          46,
          12,
          4,
          7,
          3,
          84,
          28,
          6,
          19,
          5,
          5,
          6,
          10,
          15,
          2,
          8,
          12,
          10,
          1,
          7,
          16,
          7,
          6,
          2,
          7,
          8,
          15,
          6,
          10,
          11,
          6,
          11,
          8,
          13,
          2,
          5,
          6,
          9,
          6,
          9,
          1,
          6,
          9,
          5,
          14,
          23,
          5,
          15,
          11,
          16,
          6,
          15,
          16,
          0,
          6,
          0,
          11,
          0,
          18,
          10,
          6,
          5,
          12,
          8,
          2,
          30,
          6,
          167,
          46,
          11,
          15,
          15,
          68,
          5,
          4,
          7,
          6,
          11,
          8,
          6,
          33,
          6,
          15,
          5,
          5,
          29,
          8,
          4,
          2,
          6,
          8,
          5,
          2,
          1,
          4,
          22,
          9,
          16,
          36,
          3,
          3,
          4,
          11,
          5,
          0,
          0,
          48,
          0,
          19,
          3,
          0,
          9,
          22,
          5,
          7,
          2,
          19,
          2,
          2,
          5,
          1,
          8,
          0,
          0,
          63,
          3,
          0,
          0,
          25,
          2,
          2,
          13,
          48,
          48,
          10,
          48,
          5,
          5,
          5,
          12,
          11,
          1,
          10,
          72,
          15,
          29,
          3,
          10,
          12,
          16,
          4,
          17,
          3,
          14,
          74,
          3,
          74,
          3,
          24,
          0,
          0,
          0,
          0,
          0,
          2,
          9,
          5,
          0,
          5,
          0,
          40,
          34,
          3,
          6,
          2,
          2,
          0,
          7,
          10,
          1,
          0,
          6,
          4,
          6,
          12,
          6,
          0,
          4,
          14,
          9,
          3,
          15,
          30,
          11,
          7,
          5,
          6,
          6,
          5,
          17,
          7,
          16,
          11,
          8,
          5,
          21,
          5,
          8,
          4,
          6,
          14,
          7,
          7,
          9,
          14,
          16,
          6,
          6,
          15,
          18,
          7,
          4,
          5,
          2,
          0,
          16,
          6,
          6,
          26,
          11,
          14,
          18,
          6,
          0,
          24,
          5,
          6,
          4,
          6,
          29,
          0,
          7,
          34,
          6,
          56,
          0,
          33,
          0,
          10,
          4,
          0,
          5,
          23,
          4,
          22,
          6,
          49,
          10,
          51,
          7,
          8,
          7,
          4,
          12,
          3,
          25,
          12,
          30,
          25,
          20,
          12,
          14,
          3,
          0,
          1,
          33,
          8,
          24,
          22,
          41,
          0,
          8,
          7,
          3,
          9,
          4,
          22,
          16,
          11,
          21,
          22,
          4,
          6,
          47,
          4,
          8,
          0,
          14,
          8,
          32,
          46,
          37,
          7,
          0,
          2,
          7,
          5,
          11,
          27,
          36,
          18,
          4,
          14,
          0,
          22,
          5,
          6,
          6,
          0,
          16,
          16,
          6,
          17,
          0,
          0,
          5,
          5,
          9,
          0,
          6,
          11,
          14,
          22,
          8,
          16,
          1,
          1,
          19,
          1,
          7,
          7,
          1,
          7,
          0,
          10,
          1,
          9,
          4,
          1,
          12,
          7,
          10,
          4,
          36,
          11,
          3,
          12,
          11,
          6,
          4,
          3,
          9,
          5,
          8,
          4,
          14,
          6,
          5,
          0,
          1,
          0,
          3,
          5,
          0,
          6,
          6,
          25,
          4,
          8,
          6,
          8,
          27,
          10,
          9,
          5,
          7,
          13,
          6,
          6,
          1,
          13,
          6,
          31,
          1,
          6,
          14,
          10,
          6,
          5,
          4,
          5,
          20,
          18,
          8,
          4,
          22,
          5,
          6,
          11,
          21,
          8,
          3,
          1,
          0,
          8,
          1,
          8,
          0,
          0,
          0,
          13,
          0,
          0,
          22,
          13,
          5,
          13,
          6,
          0,
          13,
          34,
          30,
          13,
          27,
          8,
          8,
          33,
          0,
          2,
          6,
          14,
          1,
          19,
          5,
          0,
          16,
          10,
          6,
          5,
          0,
          0,
          2,
          0,
          6,
          32,
          0,
          2,
          22,
          11,
          1,
          2,
          2,
          4,
          14,
          7,
          28,
          12,
          10,
          9,
          35,
          14,
          5,
          9,
          13,
          4,
          7,
          10,
          9,
          11,
          12,
          20,
          5,
          20,
          20,
          4,
          13,
          6,
          12,
          16,
          13,
          7,
          10,
          5,
          24,
          4,
          6,
          7,
          7,
          0,
          8,
          4,
          6,
          22,
          8,
          8,
          25,
          17,
          5,
          8,
          2,
          8,
          31,
          8,
          10,
          27,
          7,
          7,
          15,
          9,
          22,
          7,
          2,
          6,
          15,
          8,
          7,
          6,
          0,
          5,
          10,
          27,
          9,
          6,
          40,
          38,
          5,
          7,
          5,
          14,
          21,
          13,
          5,
          14,
          15,
          33,
          60,
          6,
          30,
          10,
          0,
          4,
          65,
          5,
          14,
          2,
          12,
          35,
          19,
          6,
          7,
          6,
          5,
          21,
          15,
          10,
          34,
          17,
          19,
          8,
          10,
          17,
          28,
          12,
          22,
          10,
          2,
          7,
          14,
          7,
          2,
          8,
          6,
          11,
          12,
          21,
          7,
          4,
          1,
          32,
          16,
          7,
          18,
          4,
          7,
          4,
          25,
          17,
          11,
          6,
          10,
          7,
          8,
          8,
          5,
          8,
          56,
          3,
          15,
          3,
          4,
          3,
          25,
          4,
          16,
          25,
          8,
          3,
          3,
          2,
          19,
          1,
          29,
          7,
          4,
          11,
          2,
          13,
          20,
          26,
          5,
          9,
          7,
          0,
          2,
          11,
          5,
          5,
          6,
          18,
          5,
          3,
          17,
          2,
          6,
          1,
          1,
          4,
          8,
          91,
          8,
          3,
          7,
          10,
          5,
          11,
          11,
          0,
          7,
          4,
          7,
          7,
          6,
          6,
          21,
          0,
          9,
          5,
          32,
          11,
          8,
          4,
          13,
          10,
          8,
          1,
          8,
          12,
          9,
          3,
          68,
          6,
          6,
          25,
          11,
          12,
          5,
          6,
          54,
          26,
          26,
          8,
          14,
          19,
          9,
          8,
          8,
          0,
          7,
          7,
          9,
          1,
          0,
          6,
          4,
          30,
          3,
          8,
          7,
          10,
          6,
          9,
          7,
          8,
          0,
          0,
          5,
          15,
          5,
          13,
          26,
          33,
          17,
          6,
          4,
          0,
          4,
          7,
          30,
          30,
          13,
          2,
          5,
          34,
          10,
          6,
          2,
          8,
          0,
          9,
          7,
          8,
          6,
          34,
          0,
          6,
          2,
          1,
          25,
          6,
          4,
          0,
          2,
          12,
          17,
          4,
          5,
          36,
          10,
          5,
          8,
          23,
          13,
          10,
          10,
          2,
          9,
          7,
          9,
          7,
          26,
          12,
          22,
          3,
          10,
          12,
          3,
          5,
          5,
          19,
          4,
          7,
          5,
          4,
          9,
          22,
          3,
          8,
          15,
          12,
          85,
          10,
          5,
          20,
          10,
          7,
          10,
          31,
          3,
          10,
          7,
          6,
          49,
          12,
          18,
          5,
          6,
          7,
          15,
          7,
          7,
          25,
          6,
          5,
          8,
          3,
          6,
          13,
          1,
          0,
          9,
          4,
          5,
          10,
          8,
          16,
          2,
          4,
          27,
          19,
          16,
          11,
          7,
          38,
          2,
          0,
          4,
          1,
          5,
          11,
          9,
          8,
          9,
          6,
          4,
          11,
          24,
          9,
          1,
          5,
          8,
          0,
          6,
          16,
          8,
          10,
          11,
          18,
          9,
          1,
          5,
          24,
          5,
          9,
          6,
          7,
          6,
          7,
          9,
          7,
          25,
          6,
          8,
          7,
          6,
          4,
          8,
          1,
          4,
          9,
          7,
          11,
          0,
          69,
          27,
          40,
          7,
          9,
          13,
          38,
          24,
          14,
          6,
          33,
          0,
          12,
          8,
          18,
          6,
          9,
          8,
          1,
          4,
          5,
          7,
          3,
          26,
          14,
          18,
          14,
          5,
          7,
          11,
          18,
          5,
          3,
          1,
          7,
          6,
          52,
          23,
          1,
          4,
          8,
          7,
          16,
          24,
          2,
          34,
          14,
          25,
          2,
          10,
          18,
          22,
          3,
          8,
          47,
          1,
          2,
          7,
          7,
          7,
          7,
          5,
          7,
          2,
          16,
          14,
          12,
          9,
          4,
          8,
          53,
          5,
          7,
          8,
          2,
          43,
          8,
          8,
          7,
          7,
          53,
          6,
          8,
          5,
          6,
          28,
          2,
          16,
          5,
          33,
          7,
          25,
          7,
          3,
          12,
          3,
          4,
          13,
          15,
          6,
          5,
          5,
          6,
          14,
          33,
          6,
          8,
          5,
          4,
          34,
          9,
          4,
          5,
          0,
          10,
          0,
          13,
          9,
          7,
          9,
          9,
          0,
          8,
          0,
          0,
          7,
          6,
          5,
          13,
          18,
          1,
          4,
          0,
          5,
          6,
          0,
          9,
          0,
          8,
          44,
          0,
          10,
          0,
          0,
          5,
          0,
          6,
          5,
          9,
          11,
          14,
          12,
          16,
          0,
          13,
          9,
          16,
          5,
          7,
          4,
          1,
          25,
          2,
          17,
          12,
          9,
          0,
          1,
          0,
          0,
          19,
          7,
          3,
          0,
          0,
          5,
          0,
          8,
          2,
          5,
          11,
          7,
          8,
          3,
          8,
          8,
          1,
          3,
          19,
          2,
          3,
          10,
          5,
          6,
          27,
          6,
          8,
          10,
          76,
          4,
          34,
          2,
          7,
          4,
          16,
          24,
          9,
          0,
          13,
          6,
          12,
          11,
          4,
          7,
          10,
          7,
          10,
          25,
          16,
          12,
          10,
          10,
          3,
          5,
          8,
          20,
          8,
          4,
          6,
          6,
          12,
          40,
          4,
          10,
          7,
          22,
          21,
          15,
          5,
          25,
          7,
          7,
          12,
          5,
          6,
          6,
          53,
          7,
          7,
          10,
          22,
          18,
          6,
          5,
          6,
          7,
          7,
          11,
          13,
          4,
          6,
          5,
          19,
          6,
          12,
          28,
          6,
          5,
          12,
          8,
          32,
          21,
          27,
          4,
          6,
          26,
          24,
          10,
          15,
          5,
          0,
          1,
          10,
          30,
          0,
          7,
          23,
          10,
          27,
          7,
          33,
          41,
          5,
          18,
          12,
          5,
          11,
          8,
          11,
          6,
          0,
          9,
          0,
          14,
          10,
          9,
          41,
          0,
          22,
          0,
          7,
          19,
          6,
          30,
          20,
          14,
          26,
          0,
          13,
          10,
          7,
          41,
          16,
          28,
          12,
          18,
          4,
          5,
          5,
          2,
          10,
          0,
          0,
          60,
          6,
          9,
          7,
          9,
          9,
          15,
          11,
          17,
          10,
          31,
          4,
          4,
          5,
          29,
          29,
          6,
          20,
          8,
          8,
          15,
          4,
          5,
          15,
          11,
          7,
          22,
          11,
          52,
          7,
          11,
          26,
          5,
          39,
          41,
          37,
          0,
          15,
          7,
          12,
          5,
          5,
          84,
          12,
          8,
          1,
          5,
          13,
          39,
          6,
          5,
          11,
          3,
          14,
          27,
          46,
          22,
          31,
          84,
          2,
          26,
          22,
          6,
          11,
          21,
          2,
          23,
          21,
          0,
          84,
          0,
          17,
          21,
          16,
          20,
          15,
          14,
          6,
          6,
          1,
          1,
          12,
          15,
          8,
          4,
          88,
          10,
          14,
          4,
          3,
          15,
          0,
          80,
          9,
          48,
          17,
          1,
          5,
          5,
          22,
          7,
          53,
          9,
          2,
          9,
          15,
          18,
          7,
          11,
          52,
          4,
          5,
          93,
          0,
          17,
          4,
          5,
          0,
          7,
          2,
          0,
          2,
          4,
          7,
          5,
          9,
          8,
          6,
          14,
          2,
          10,
          7,
          2,
          8,
          4,
          0,
          2,
          1,
          7,
          7,
          0,
          0,
          80,
          32,
          80,
          2,
          6,
          9,
          20,
          21,
          0,
          3,
          13,
          61,
          4,
          6,
          5,
          3,
          9,
          2,
          11,
          76,
          37,
          20,
          6,
          2,
          19,
          4,
          11,
          80,
          8,
          19,
          4,
          11,
          10,
          4,
          1,
          6,
          6,
          4,
          69,
          11,
          8,
          26,
          7,
          6,
          5,
          53,
          34,
          0,
          2,
          3,
          9,
          6,
          2,
          9,
          14,
          5,
          4,
          11,
          6,
          0,
          58,
          11,
          4,
          0,
          1,
          6,
          0,
          23,
          4,
          10,
          12,
          8,
          5,
          5,
          7,
          3,
          7,
          15,
          9,
          2,
          88,
          5,
          15,
          7,
          3,
          64,
          7,
          8,
          6,
          6,
          27,
          10,
          9,
          6,
          22,
          12,
          6,
          26,
          0,
          0,
          15,
          0,
          0,
          14,
          4,
          11,
          22,
          5,
          34,
          0,
          5,
          5,
          10,
          0,
          3,
          13,
          4,
          0,
          9,
          16,
          31,
          1,
          5,
          6,
          84,
          84,
          18,
          3,
          8,
          6,
          84,
          20,
          7,
          11,
          3,
          12,
          79,
          4,
          0,
          9,
          4,
          69,
          4,
          1,
          22,
          5,
          4,
          24,
          7,
          0,
          12,
          2,
          45,
          7,
          9,
          9,
          7,
          7,
          6,
          4,
          10,
          7,
          4,
          12,
          17,
          8,
          7,
          21,
          8,
          5,
          4,
          5,
          6,
          5,
          16,
          10,
          10,
          8,
          11,
          14,
          7,
          3,
          11,
          11,
          28,
          11,
          6,
          4,
          42,
          6,
          11,
          5,
          5,
          6,
          27,
          2,
          59,
          4,
          3,
          14,
          13,
          4,
          6,
          6,
          23,
          7,
          16,
          6,
          4,
          6,
          5,
          25,
          13,
          19,
          7,
          4,
          13,
          15,
          13,
          5,
          1,
          1,
          1,
          0,
          0,
          10,
          6,
          4,
          6,
          2,
          4,
          28,
          4,
          9,
          31,
          7,
          22,
          12,
          4,
          19,
          10,
          4,
          4,
          24,
          6,
          8,
          4,
          60,
          27,
          7,
          3,
          5,
          31,
          28,
          12,
          38,
          19,
          76,
          38,
          6,
          24,
          4,
          18,
          19,
          7,
          18,
          10,
          9,
          37,
          0,
          39,
          24,
          0,
          30,
          37,
          51,
          28,
          32,
          6,
          13,
          7,
          44,
          6,
          8,
          5,
          27,
          11,
          2,
          4,
          8,
          4,
          19,
          14,
          5,
          12,
          42,
          6,
          14,
          4,
          11,
          15,
          6,
          17,
          30,
          1,
          25,
          9,
          11,
          1,
          33,
          3,
          45,
          18,
          13,
          7,
          24,
          8,
          1,
          19,
          21,
          17,
          24,
          14,
          1,
          2,
          11,
          10,
          4,
          14,
          12,
          12,
          6,
          14,
          8,
          5,
          4,
          15,
          4,
          5,
          32,
          1,
          0,
          0,
          7,
          20,
          18,
          11,
          7,
          14,
          22,
          12,
          27,
          18,
          8,
          0,
          0,
          40,
          15,
          5,
          14,
          0,
          14,
          23,
          24,
          37,
          0,
          30,
          1,
          9,
          8,
          11,
          1,
          79,
          7,
          4,
          14,
          5,
          6,
          2,
          17,
          16,
          0,
          19,
          18,
          5,
          4,
          0,
          3,
          27,
          10,
          11,
          31,
          8,
          19,
          19,
          1,
          6,
          6,
          2,
          0,
          6,
          54,
          1,
          50,
          1,
          2,
          0,
          8,
          4,
          11,
          20,
          76,
          19,
          3,
          52,
          30,
          7,
          36,
          6,
          18,
          4,
          6,
          6,
          23,
          23,
          6,
          29,
          18,
          5,
          8,
          7,
          15,
          6,
          13,
          10,
          9,
          18,
          13,
          6,
          6,
          4,
          7,
          4,
          1,
          15,
          30,
          4,
          4,
          8,
          32,
          11,
          0,
          12,
          0,
          7,
          5,
          16,
          13,
          9,
          14,
          11,
          18,
          10,
          5,
          6,
          6,
          9,
          5,
          4,
          15,
          6,
          16,
          10,
          3,
          3,
          31,
          3,
          14,
          8,
          1,
          13,
          21,
          1,
          11,
          14,
          9,
          10,
          5,
          13,
          9,
          11,
          6,
          11,
          5,
          9,
          2,
          22,
          10,
          4,
          27,
          1,
          1,
          0,
          50,
          11,
          8,
          8,
          0,
          42,
          26,
          16,
          4,
          24,
          20,
          3,
          5,
          9,
          22,
          4,
          9,
          6,
          24,
          0,
          0,
          2,
          11,
          12,
          12,
          11,
          5,
          4,
          3,
          9,
          5,
          9,
          10,
          5,
          8,
          4,
          10,
          10,
          8,
          7,
          11,
          8,
          25,
          55,
          11,
          7,
          0,
          4,
          24,
          9,
          4,
          0,
          1,
          11,
          1,
          5,
          3,
          8,
          5,
          4,
          18,
          23,
          5,
          10,
          0,
          4,
          8,
          13,
          4,
          6,
          10,
          0,
          5,
          4,
          71,
          0,
          32,
          0,
          11,
          4,
          3,
          7,
          5,
          9,
          17,
          0,
          6,
          0,
          12,
          3,
          1,
          6,
          7,
          9,
          5,
          21,
          21,
          19,
          80,
          0,
          7,
          12,
          4,
          10,
          6,
          10,
          6,
          0,
          14,
          13,
          8,
          9,
          5,
          7,
          36,
          0,
          8,
          11,
          0,
          7,
          43,
          8,
          80,
          5,
          1,
          4,
          30,
          32,
          4,
          6,
          1,
          5,
          0,
          15,
          8,
          0,
          4,
          18,
          7,
          2,
          9,
          0,
          7,
          6,
          12,
          0,
          3,
          7,
          0,
          13,
          9,
          14,
          9,
          5,
          0,
          6,
          80,
          12,
          37,
          4,
          0,
          4,
          0,
          14,
          12,
          26,
          38,
          35,
          40,
          22,
          31,
          40,
          0,
          12,
          19,
          7,
          0,
          30,
          9,
          24,
          0,
          9,
          2,
          14,
          27,
          27,
          16,
          27,
          8,
          5,
          19,
          2,
          30,
          19,
          29,
          0,
          12,
          12,
          9,
          9,
          6,
          5,
          11,
          14,
          7,
          4,
          11,
          11,
          9,
          8,
          18,
          4,
          7,
          12,
          7,
          7,
          2,
          15,
          5,
          11,
          9,
          3,
          5,
          26,
          6,
          13,
          4,
          9,
          8,
          2,
          32,
          53,
          14,
          10,
          27,
          10,
          5,
          29,
          11,
          84,
          28,
          28,
          17,
          1,
          4,
          28,
          0,
          13,
          13,
          0,
          9,
          13,
          4,
          24,
          13,
          7,
          14,
          5,
          3,
          4,
          33,
          46,
          17,
          10,
          9,
          9,
          73,
          11,
          4,
          6,
          20,
          2,
          11,
          17,
          9,
          7,
          49,
          4,
          23,
          1,
          5,
          5,
          7,
          0,
          8,
          9,
          28,
          28,
          16,
          0,
          30,
          2,
          21,
          16,
          10,
          0,
          0,
          14,
          44,
          23,
          28,
          56,
          9,
          18,
          6,
          4,
          0,
          14,
          8,
          11,
          59,
          15,
          25,
          12,
          5,
          0,
          0,
          83,
          11,
          19,
          39,
          15,
          7,
          44,
          9,
          13,
          22,
          25,
          1,
          15,
          22,
          1,
          7,
          22,
          2,
          0,
          42,
          13,
          46,
          1,
          4,
          40,
          0,
          46,
          16,
          4,
          15,
          7,
          7,
          6,
          8,
          28,
          0,
          3,
          8,
          9,
          14,
          9,
          0,
          8,
          10,
          7,
          16,
          26,
          26,
          0,
          42,
          8,
          10,
          12,
          12,
          3,
          13,
          7,
          4,
          6,
          37,
          13,
          51,
          0,
          3,
          11,
          12,
          7,
          0,
          0,
          16,
          0,
          5,
          11,
          20,
          9,
          12,
          0,
          2,
          13,
          6,
          0,
          0,
          10,
          26,
          10,
          43,
          38,
          16,
          6,
          0,
          0,
          4,
          14,
          26,
          19,
          14,
          21,
          19,
          5,
          4,
          24,
          0,
          12,
          9,
          9,
          11,
          11,
          91,
          26,
          38,
          16,
          32,
          3,
          0,
          10,
          0,
          32,
          1,
          11,
          3,
          4,
          0,
          7,
          8,
          2,
          0,
          18,
          19,
          0,
          8,
          6,
          4,
          11,
          3,
          10,
          0,
          9,
          5,
          1,
          5,
          4,
          5,
          11,
          27,
          17,
          7,
          1,
          12,
          7,
          7,
          6,
          3,
          4,
          0,
          7,
          62,
          8,
          3,
          5,
          9,
          5,
          9,
          7,
          6,
          6,
          10,
          2,
          7,
          6,
          14,
          3,
          15,
          26,
          6,
          17,
          11,
          32,
          7,
          5,
          5,
          4,
          4,
          5,
          10,
          9,
          20,
          34,
          16,
          5,
          7,
          1,
          22,
          7,
          10,
          2,
          5,
          7,
          8,
          16,
          4,
          5,
          16,
          6,
          6,
          4,
          23,
          13,
          4,
          0,
          10,
          11,
          8,
          5,
          21,
          7,
          22,
          3,
          3,
          1,
          4,
          1,
          20,
          7,
          5,
          3,
          10,
          14,
          4,
          14,
          11,
          0,
          10,
          6,
          10,
          15,
          3,
          39,
          5,
          16,
          26,
          4,
          4,
          1,
          4,
          6,
          17,
          37,
          7,
          7,
          6,
          3,
          8,
          4,
          7,
          14,
          25,
          7,
          20,
          3,
          4,
          6,
          7,
          10,
          10,
          6,
          4,
          28,
          14,
          0,
          7,
          15,
          0,
          30,
          4,
          18,
          85,
          7,
          7,
          13,
          2,
          3,
          8,
          3,
          22,
          3,
          20,
          14,
          3,
          5,
          10,
          15,
          6,
          6,
          7,
          0,
          8,
          5,
          12,
          11,
          8,
          5,
          9,
          21,
          13,
          52,
          36,
          6,
          5,
          5,
          5,
          21,
          9,
          0,
          3,
          4,
          128,
          1,
          10,
          11,
          6,
          5,
          2,
          5,
          0,
          0,
          0,
          10,
          14,
          21,
          8,
          8,
          8,
          9,
          0,
          0,
          12,
          13,
          46,
          10,
          15,
          16,
          0,
          10,
          9,
          7,
          8,
          21,
          5,
          43,
          0,
          7,
          26,
          4,
          0,
          5,
          6,
          7,
          5,
          7,
          7,
          4,
          7,
          8,
          0,
          13,
          5,
          8,
          6,
          6,
          23,
          2,
          49,
          21,
          53,
          19,
          2,
          2,
          23,
          23,
          7,
          8,
          0,
          88,
          0,
          0,
          61,
          74,
          8,
          0,
          0,
          89,
          93,
          7,
          6,
          12,
          0,
          0,
          6,
          0,
          0,
          6,
          45,
          6,
          7,
          16,
          0,
          5,
          2,
          2,
          10,
          54,
          34,
          0,
          14,
          24,
          0,
          6,
          0,
          6,
          3,
          23,
          2,
          6,
          23,
          1,
          27,
          0,
          2,
          26,
          0,
          54,
          6,
          3,
          8,
          43,
          10,
          10,
          11,
          5,
          8,
          49,
          10,
          9,
          3,
          8,
          7,
          26,
          8,
          10,
          7,
          8,
          8,
          24,
          21,
          23,
          8,
          10,
          8,
          22,
          7,
          17,
          7,
          15,
          9,
          10,
          13,
          20,
          11,
          14,
          0,
          24,
          2,
          7,
          6,
          42,
          12,
          42,
          4,
          8,
          6,
          6,
          0,
          9,
          7,
          23,
          6,
          5,
          5,
          5,
          12,
          8,
          19,
          8,
          29,
          0,
          28,
          13,
          2,
          14,
          12,
          40,
          8,
          2,
          0,
          7,
          10,
          8,
          13,
          24,
          0,
          42,
          12,
          6,
          9,
          46,
          26,
          28,
          35,
          30,
          1,
          1,
          7,
          0,
          21,
          2,
          12,
          6,
          55,
          23,
          7,
          35,
          14,
          25,
          20,
          0,
          8,
          37,
          17,
          0,
          42,
          17,
          4,
          8,
          13,
          10,
          8,
          6,
          0,
          8,
          8,
          21,
          5,
          2,
          5,
          10,
          74,
          0,
          13,
          10,
          28,
          0,
          9,
          5,
          0,
          0,
          3,
          16,
          4,
          2,
          0,
          0,
          7,
          0,
          4,
          12,
          15,
          21,
          0,
          6,
          3,
          15,
          10,
          3,
          18,
          6,
          66,
          2,
          6,
          11,
          6,
          11,
          84,
          12,
          5,
          24,
          11,
          11,
          11,
          8,
          6,
          9,
          24,
          17,
          24,
          13,
          9,
          14,
          5,
          7,
          11,
          4,
          6,
          6,
          4,
          45,
          4,
          7,
          0,
          11,
          61,
          15,
          18,
          7,
          10,
          5,
          13,
          4,
          10,
          4,
          6,
          6,
          16,
          13,
          22,
          16,
          23,
          2,
          5,
          5,
          4,
          14,
          6,
          2,
          35,
          12,
          3,
          19,
          8,
          85,
          11,
          7,
          22,
          0,
          5,
          8,
          0,
          5,
          11,
          3,
          5,
          82,
          10,
          26,
          5,
          15,
          6,
          11,
          11,
          13,
          66,
          52,
          4,
          19,
          5,
          24,
          46,
          5,
          66,
          6,
          3,
          8,
          19,
          27,
          31,
          9,
          2,
          17,
          18,
          2,
          15,
          10,
          13,
          4,
          10,
          4,
          6,
          10,
          34,
          25,
          8,
          0,
          35,
          0,
          16,
          17,
          17,
          14,
          8,
          0,
          0,
          7,
          0,
          0,
          11,
          23,
          6,
          17,
          5,
          0,
          4,
          22,
          9,
          15,
          16,
          12,
          0,
          7,
          13,
          19,
          12,
          20,
          42,
          61,
          34,
          22,
          19,
          96,
          26,
          73,
          26,
          5,
          6,
          18,
          7,
          0,
          46,
          4,
          45,
          61,
          1,
          61,
          4,
          4,
          6,
          16,
          1,
          3,
          5,
          20,
          18,
          20,
          3,
          2,
          2,
          0,
          0,
          17,
          21,
          0,
          10,
          0,
          48,
          16,
          23,
          31,
          8,
          10,
          31,
          19,
          36,
          5,
          20,
          7,
          8,
          7,
          4,
          4,
          17,
          7,
          11,
          6,
          4,
          8,
          11,
          12,
          24,
          8,
          6,
          11,
          9,
          10,
          54,
          0,
          0,
          0,
          0,
          17,
          4,
          10,
          11,
          10,
          8,
          13,
          10,
          47,
          2,
          24,
          5,
          6,
          18,
          10,
          16,
          47,
          6,
          0,
          28,
          4,
          1,
          12,
          25,
          8,
          18,
          79,
          15,
          16,
          4,
          29,
          0,
          28,
          11,
          19,
          12,
          34,
          21,
          14,
          0,
          2,
          11,
          1,
          10,
          2,
          5,
          1,
          5,
          5,
          20,
          27,
          8,
          11,
          2,
          1,
          0,
          0,
          14,
          12,
          6,
          9,
          1,
          40,
          8,
          19,
          7,
          11,
          1,
          10,
          33,
          49,
          0,
          2,
          5,
          12,
          0,
          0,
          38,
          6,
          8,
          13,
          0,
          8,
          25,
          3,
          10,
          17,
          4,
          12,
          3,
          4,
          5,
          7,
          5,
          3,
          24,
          13,
          6,
          11,
          7,
          6,
          6,
          33,
          10,
          13,
          20,
          12,
          2,
          5,
          28,
          11,
          7,
          13,
          3,
          25,
          10,
          6,
          13,
          1,
          7,
          12,
          6,
          31,
          0,
          17,
          20,
          0,
          6,
          19,
          12,
          9,
          0,
          14,
          32,
          3,
          24,
          7,
          40,
          8,
          11,
          9,
          1,
          16,
          7,
          0,
          6,
          18,
          8,
          9,
          10,
          17,
          27,
          13,
          7,
          5,
          31,
          17,
          11,
          8,
          6,
          5,
          54,
          14,
          14,
          0,
          12,
          0,
          0,
          1,
          14,
          4,
          0,
          6,
          0,
          5,
          9,
          48,
          2,
          7,
          11,
          11,
          0,
          3,
          0,
          15,
          14,
          2,
          12,
          0,
          0,
          0,
          6,
          0,
          12,
          5,
          14,
          9,
          8,
          30,
          2,
          5,
          0,
          19,
          11,
          41,
          22,
          33,
          6,
          14,
          19,
          5,
          7,
          9,
          7,
          8,
          9,
          7,
          5,
          29,
          5,
          5,
          7,
          7,
          1,
          0,
          5,
          0,
          4,
          6,
          0,
          71,
          2,
          20,
          20,
          1,
          45,
          2,
          14,
          11,
          21,
          29,
          51,
          3,
          5,
          5,
          15,
          9,
          15,
          9,
          6,
          20,
          4,
          45,
          11,
          5,
          7,
          8,
          5,
          8,
          7,
          0,
          8,
          11,
          11,
          45,
          0,
          9,
          10,
          16,
          8,
          36,
          13,
          43,
          0,
          9,
          0,
          0,
          12,
          11,
          21,
          14,
          44,
          1,
          9,
          24,
          0,
          36,
          9,
          13,
          29,
          5,
          0,
          2,
          8,
          11,
          4,
          10,
          19,
          1,
          5,
          6,
          5,
          9,
          20,
          11,
          7,
          1,
          11,
          9,
          3,
          20,
          5,
          6,
          12,
          7,
          5,
          3,
          5,
          19,
          7,
          1,
          5,
          2,
          46,
          7,
          6,
          16,
          12,
          13,
          11,
          10,
          2,
          8,
          13,
          4,
          11,
          5,
          7,
          10,
          10,
          5,
          19,
          8,
          13,
          22,
          17,
          6,
          28,
          1,
          25,
          18,
          2,
          8,
          10,
          13,
          14,
          0,
          0,
          15,
          6,
          12,
          5,
          8,
          0,
          42,
          13,
          10,
          2,
          0,
          7,
          17,
          14,
          8,
          55,
          5,
          44,
          8,
          23,
          10,
          6,
          29,
          16,
          39,
          11,
          11,
          10,
          11,
          10,
          33,
          8,
          22,
          13,
          7,
          8,
          10,
          10,
          0,
          23,
          0,
          0,
          10,
          16,
          4,
          2,
          1,
          2,
          0,
          5,
          1,
          0,
          2,
          1,
          3,
          0,
          16,
          18,
          15,
          7,
          17,
          24,
          12,
          9,
          13,
          9,
          5,
          5,
          4,
          3,
          5,
          6,
          10,
          19,
          10,
          4,
          13,
          3,
          3,
          2,
          11,
          8,
          7,
          37,
          4,
          1,
          13,
          14,
          7,
          27,
          20,
          5,
          9,
          16,
          6,
          57,
          5,
          71,
          5,
          20,
          19,
          19,
          0,
          9,
          17,
          7,
          12,
          0,
          10,
          10,
          0,
          1,
          19,
          0,
          6,
          17,
          0,
          8,
          18,
          0,
          52,
          13,
          15,
          1,
          1,
          0,
          6,
          11,
          51,
          0,
          0,
          30,
          15,
          10,
          0,
          11,
          7,
          5,
          0,
          0,
          22,
          0,
          1,
          5,
          33,
          10,
          6,
          12,
          5,
          3,
          10,
          16,
          16,
          7,
          10,
          7,
          28,
          5,
          8,
          0,
          0,
          24,
          35,
          14,
          9,
          4,
          3,
          17,
          3,
          16,
          6,
          5,
          1,
          17,
          5,
          1,
          11,
          9,
          14,
          6,
          14,
          1,
          14,
          23,
          2,
          7,
          6,
          5,
          13,
          6,
          2,
          7,
          7,
          7,
          1,
          4,
          0,
          0,
          4,
          0,
          17,
          0,
          14,
          31,
          13,
          0,
          5,
          2,
          0,
          6,
          9,
          0,
          1,
          9,
          15,
          64,
          8,
          21,
          13,
          21,
          29,
          27,
          9,
          26,
          23,
          8,
          5,
          13,
          5,
          8,
          4,
          2,
          4,
          5,
          10,
          9,
          5,
          10,
          0,
          7,
          6,
          4,
          3,
          21,
          10,
          7,
          5,
          13,
          1,
          9,
          0,
          4,
          21,
          7,
          16,
          21,
          25,
          7,
          21,
          13,
          12,
          6,
          13,
          6,
          7,
          10,
          0,
          5,
          14,
          13,
          3,
          6,
          19,
          0,
          22,
          0,
          8,
          27,
          10,
          8,
          21,
          7,
          0,
          6,
          3,
          9,
          1,
          6,
          18,
          0,
          1,
          11,
          5,
          5,
          5,
          13,
          5,
          11,
          10,
          11,
          6,
          17,
          6,
          6,
          8,
          9,
          6,
          12,
          7,
          20,
          0,
          5,
          17,
          3,
          16,
          13,
          6,
          11,
          39,
          31,
          9,
          7,
          4,
          43,
          3,
          6,
          5,
          14,
          7,
          8,
          2,
          25,
          15,
          0,
          10,
          15,
          25,
          19,
          6,
          4,
          34,
          16,
          27,
          4,
          5,
          0,
          4,
          23,
          6,
          4,
          12,
          6,
          2,
          0,
          6,
          22,
          2,
          0,
          8,
          0,
          0,
          9,
          2,
          5,
          1,
          2,
          7,
          11,
          4,
          4,
          23,
          0,
          30,
          0,
          16,
          9,
          7,
          6,
          14,
          5,
          15,
          9,
          8,
          10,
          7,
          15,
          6,
          5,
          10,
          3,
          4,
          7,
          14,
          13,
          4,
          25,
          10,
          8,
          7,
          8,
          8,
          4,
          8,
          16,
          6,
          10,
          11,
          7,
          6,
          5,
          7,
          16,
          6,
          7,
          6,
          6,
          8,
          24,
          3,
          18,
          20,
          12,
          3,
          18,
          8,
          7,
          14,
          0,
          9,
          15,
          1,
          16,
          5,
          1,
          20,
          0,
          23,
          0,
          8,
          0,
          20,
          5,
          6,
          18,
          7,
          0,
          5,
          0,
          1,
          16,
          1,
          6,
          1,
          18,
          12,
          15,
          5,
          1,
          8,
          1,
          10,
          8,
          0,
          0,
          15,
          4,
          15,
          0,
          3,
          5,
          10,
          10,
          11,
          0,
          4,
          7,
          13,
          4,
          2,
          7,
          19,
          12,
          6,
          4,
          4,
          5,
          16,
          6,
          5,
          4,
          7,
          6,
          8,
          9,
          21,
          12,
          12,
          9,
          9,
          1,
          11,
          11,
          6,
          2,
          6,
          9,
          7,
          5,
          2,
          4,
          8,
          4,
          11,
          7,
          0,
          3,
          9,
          3,
          4,
          21,
          6,
          0,
          4,
          0,
          4,
          9,
          8,
          6,
          5,
          0,
          2,
          10,
          6,
          3,
          16,
          5,
          7,
          5,
          9,
          10,
          10,
          4,
          9,
          12,
          6,
          14,
          0,
          6,
          20,
          0,
          2,
          4,
          0,
          7,
          4,
          3,
          9,
          9,
          1,
          1,
          6,
          12,
          5,
          7,
          3,
          12,
          8,
          9,
          3,
          17,
          6,
          0,
          2,
          1,
          0,
          0,
          3,
          3,
          9,
          10,
          1,
          2,
          14,
          4,
          8,
          9,
          15,
          3,
          4,
          11,
          5,
          4,
          10,
          4,
          15,
          6,
          12,
          6,
          11,
          5,
          8,
          22,
          16,
          9,
          10,
          6,
          3,
          8,
          3,
          10,
          1,
          8,
          3,
          15,
          14
         ],
         "xaxis": "x",
         "yaxis": "y"
        }
       ],
       "layout": {
        "barmode": "relative",
        "legend": {
         "tracegroupgap": 0
        },
        "margin": {
         "t": 60
        },
        "template": {
         "data": {
          "bar": [
           {
            "error_x": {
             "color": "#2a3f5f"
            },
            "error_y": {
             "color": "#2a3f5f"
            },
            "marker": {
             "line": {
              "color": "#E5ECF6",
              "width": 0.5
             },
             "pattern": {
              "fillmode": "overlay",
              "size": 10,
              "solidity": 0.2
             }
            },
            "type": "bar"
           }
          ],
          "barpolar": [
           {
            "marker": {
             "line": {
              "color": "#E5ECF6",
              "width": 0.5
             },
             "pattern": {
              "fillmode": "overlay",
              "size": 10,
              "solidity": 0.2
             }
            },
            "type": "barpolar"
           }
          ],
          "carpet": [
           {
            "aaxis": {
             "endlinecolor": "#2a3f5f",
             "gridcolor": "white",
             "linecolor": "white",
             "minorgridcolor": "white",
             "startlinecolor": "#2a3f5f"
            },
            "baxis": {
             "endlinecolor": "#2a3f5f",
             "gridcolor": "white",
             "linecolor": "white",
             "minorgridcolor": "white",
             "startlinecolor": "#2a3f5f"
            },
            "type": "carpet"
           }
          ],
          "choropleth": [
           {
            "colorbar": {
             "outlinewidth": 0,
             "ticks": ""
            },
            "type": "choropleth"
           }
          ],
          "contour": [
           {
            "colorbar": {
             "outlinewidth": 0,
             "ticks": ""
            },
            "colorscale": [
             [
              0,
              "#0d0887"
             ],
             [
              0.1111111111111111,
              "#46039f"
             ],
             [
              0.2222222222222222,
              "#7201a8"
             ],
             [
              0.3333333333333333,
              "#9c179e"
             ],
             [
              0.4444444444444444,
              "#bd3786"
             ],
             [
              0.5555555555555556,
              "#d8576b"
             ],
             [
              0.6666666666666666,
              "#ed7953"
             ],
             [
              0.7777777777777778,
              "#fb9f3a"
             ],
             [
              0.8888888888888888,
              "#fdca26"
             ],
             [
              1,
              "#f0f921"
             ]
            ],
            "type": "contour"
           }
          ],
          "contourcarpet": [
           {
            "colorbar": {
             "outlinewidth": 0,
             "ticks": ""
            },
            "type": "contourcarpet"
           }
          ],
          "heatmap": [
           {
            "colorbar": {
             "outlinewidth": 0,
             "ticks": ""
            },
            "colorscale": [
             [
              0,
              "#0d0887"
             ],
             [
              0.1111111111111111,
              "#46039f"
             ],
             [
              0.2222222222222222,
              "#7201a8"
             ],
             [
              0.3333333333333333,
              "#9c179e"
             ],
             [
              0.4444444444444444,
              "#bd3786"
             ],
             [
              0.5555555555555556,
              "#d8576b"
             ],
             [
              0.6666666666666666,
              "#ed7953"
             ],
             [
              0.7777777777777778,
              "#fb9f3a"
             ],
             [
              0.8888888888888888,
              "#fdca26"
             ],
             [
              1,
              "#f0f921"
             ]
            ],
            "type": "heatmap"
           }
          ],
          "heatmapgl": [
           {
            "colorbar": {
             "outlinewidth": 0,
             "ticks": ""
            },
            "colorscale": [
             [
              0,
              "#0d0887"
             ],
             [
              0.1111111111111111,
              "#46039f"
             ],
             [
              0.2222222222222222,
              "#7201a8"
             ],
             [
              0.3333333333333333,
              "#9c179e"
             ],
             [
              0.4444444444444444,
              "#bd3786"
             ],
             [
              0.5555555555555556,
              "#d8576b"
             ],
             [
              0.6666666666666666,
              "#ed7953"
             ],
             [
              0.7777777777777778,
              "#fb9f3a"
             ],
             [
              0.8888888888888888,
              "#fdca26"
             ],
             [
              1,
              "#f0f921"
             ]
            ],
            "type": "heatmapgl"
           }
          ],
          "histogram": [
           {
            "marker": {
             "pattern": {
              "fillmode": "overlay",
              "size": 10,
              "solidity": 0.2
             }
            },
            "type": "histogram"
           }
          ],
          "histogram2d": [
           {
            "colorbar": {
             "outlinewidth": 0,
             "ticks": ""
            },
            "colorscale": [
             [
              0,
              "#0d0887"
             ],
             [
              0.1111111111111111,
              "#46039f"
             ],
             [
              0.2222222222222222,
              "#7201a8"
             ],
             [
              0.3333333333333333,
              "#9c179e"
             ],
             [
              0.4444444444444444,
              "#bd3786"
             ],
             [
              0.5555555555555556,
              "#d8576b"
             ],
             [
              0.6666666666666666,
              "#ed7953"
             ],
             [
              0.7777777777777778,
              "#fb9f3a"
             ],
             [
              0.8888888888888888,
              "#fdca26"
             ],
             [
              1,
              "#f0f921"
             ]
            ],
            "type": "histogram2d"
           }
          ],
          "histogram2dcontour": [
           {
            "colorbar": {
             "outlinewidth": 0,
             "ticks": ""
            },
            "colorscale": [
             [
              0,
              "#0d0887"
             ],
             [
              0.1111111111111111,
              "#46039f"
             ],
             [
              0.2222222222222222,
              "#7201a8"
             ],
             [
              0.3333333333333333,
              "#9c179e"
             ],
             [
              0.4444444444444444,
              "#bd3786"
             ],
             [
              0.5555555555555556,
              "#d8576b"
             ],
             [
              0.6666666666666666,
              "#ed7953"
             ],
             [
              0.7777777777777778,
              "#fb9f3a"
             ],
             [
              0.8888888888888888,
              "#fdca26"
             ],
             [
              1,
              "#f0f921"
             ]
            ],
            "type": "histogram2dcontour"
           }
          ],
          "mesh3d": [
           {
            "colorbar": {
             "outlinewidth": 0,
             "ticks": ""
            },
            "type": "mesh3d"
           }
          ],
          "parcoords": [
           {
            "line": {
             "colorbar": {
              "outlinewidth": 0,
              "ticks": ""
             }
            },
            "type": "parcoords"
           }
          ],
          "pie": [
           {
            "automargin": true,
            "type": "pie"
           }
          ],
          "scatter": [
           {
            "fillpattern": {
             "fillmode": "overlay",
             "size": 10,
             "solidity": 0.2
            },
            "type": "scatter"
           }
          ],
          "scatter3d": [
           {
            "line": {
             "colorbar": {
              "outlinewidth": 0,
              "ticks": ""
             }
            },
            "marker": {
             "colorbar": {
              "outlinewidth": 0,
              "ticks": ""
             }
            },
            "type": "scatter3d"
           }
          ],
          "scattercarpet": [
           {
            "marker": {
             "colorbar": {
              "outlinewidth": 0,
              "ticks": ""
             }
            },
            "type": "scattercarpet"
           }
          ],
          "scattergeo": [
           {
            "marker": {
             "colorbar": {
              "outlinewidth": 0,
              "ticks": ""
             }
            },
            "type": "scattergeo"
           }
          ],
          "scattergl": [
           {
            "marker": {
             "colorbar": {
              "outlinewidth": 0,
              "ticks": ""
             }
            },
            "type": "scattergl"
           }
          ],
          "scattermapbox": [
           {
            "marker": {
             "colorbar": {
              "outlinewidth": 0,
              "ticks": ""
             }
            },
            "type": "scattermapbox"
           }
          ],
          "scatterpolar": [
           {
            "marker": {
             "colorbar": {
              "outlinewidth": 0,
              "ticks": ""
             }
            },
            "type": "scatterpolar"
           }
          ],
          "scatterpolargl": [
           {
            "marker": {
             "colorbar": {
              "outlinewidth": 0,
              "ticks": ""
             }
            },
            "type": "scatterpolargl"
           }
          ],
          "scatterternary": [
           {
            "marker": {
             "colorbar": {
              "outlinewidth": 0,
              "ticks": ""
             }
            },
            "type": "scatterternary"
           }
          ],
          "surface": [
           {
            "colorbar": {
             "outlinewidth": 0,
             "ticks": ""
            },
            "colorscale": [
             [
              0,
              "#0d0887"
             ],
             [
              0.1111111111111111,
              "#46039f"
             ],
             [
              0.2222222222222222,
              "#7201a8"
             ],
             [
              0.3333333333333333,
              "#9c179e"
             ],
             [
              0.4444444444444444,
              "#bd3786"
             ],
             [
              0.5555555555555556,
              "#d8576b"
             ],
             [
              0.6666666666666666,
              "#ed7953"
             ],
             [
              0.7777777777777778,
              "#fb9f3a"
             ],
             [
              0.8888888888888888,
              "#fdca26"
             ],
             [
              1,
              "#f0f921"
             ]
            ],
            "type": "surface"
           }
          ],
          "table": [
           {
            "cells": {
             "fill": {
              "color": "#EBF0F8"
             },
             "line": {
              "color": "white"
             }
            },
            "header": {
             "fill": {
              "color": "#C8D4E3"
             },
             "line": {
              "color": "white"
             }
            },
            "type": "table"
           }
          ]
         },
         "layout": {
          "annotationdefaults": {
           "arrowcolor": "#2a3f5f",
           "arrowhead": 0,
           "arrowwidth": 1
          },
          "autotypenumbers": "strict",
          "coloraxis": {
           "colorbar": {
            "outlinewidth": 0,
            "ticks": ""
           }
          },
          "colorscale": {
           "diverging": [
            [
             0,
             "#8e0152"
            ],
            [
             0.1,
             "#c51b7d"
            ],
            [
             0.2,
             "#de77ae"
            ],
            [
             0.3,
             "#f1b6da"
            ],
            [
             0.4,
             "#fde0ef"
            ],
            [
             0.5,
             "#f7f7f7"
            ],
            [
             0.6,
             "#e6f5d0"
            ],
            [
             0.7,
             "#b8e186"
            ],
            [
             0.8,
             "#7fbc41"
            ],
            [
             0.9,
             "#4d9221"
            ],
            [
             1,
             "#276419"
            ]
           ],
           "sequential": [
            [
             0,
             "#0d0887"
            ],
            [
             0.1111111111111111,
             "#46039f"
            ],
            [
             0.2222222222222222,
             "#7201a8"
            ],
            [
             0.3333333333333333,
             "#9c179e"
            ],
            [
             0.4444444444444444,
             "#bd3786"
            ],
            [
             0.5555555555555556,
             "#d8576b"
            ],
            [
             0.6666666666666666,
             "#ed7953"
            ],
            [
             0.7777777777777778,
             "#fb9f3a"
            ],
            [
             0.8888888888888888,
             "#fdca26"
            ],
            [
             1,
             "#f0f921"
            ]
           ],
           "sequentialminus": [
            [
             0,
             "#0d0887"
            ],
            [
             0.1111111111111111,
             "#46039f"
            ],
            [
             0.2222222222222222,
             "#7201a8"
            ],
            [
             0.3333333333333333,
             "#9c179e"
            ],
            [
             0.4444444444444444,
             "#bd3786"
            ],
            [
             0.5555555555555556,
             "#d8576b"
            ],
            [
             0.6666666666666666,
             "#ed7953"
            ],
            [
             0.7777777777777778,
             "#fb9f3a"
            ],
            [
             0.8888888888888888,
             "#fdca26"
            ],
            [
             1,
             "#f0f921"
            ]
           ]
          },
          "colorway": [
           "#636efa",
           "#EF553B",
           "#00cc96",
           "#ab63fa",
           "#FFA15A",
           "#19d3f3",
           "#FF6692",
           "#B6E880",
           "#FF97FF",
           "#FECB52"
          ],
          "font": {
           "color": "#2a3f5f"
          },
          "geo": {
           "bgcolor": "white",
           "lakecolor": "white",
           "landcolor": "#E5ECF6",
           "showlakes": true,
           "showland": true,
           "subunitcolor": "white"
          },
          "hoverlabel": {
           "align": "left"
          },
          "hovermode": "closest",
          "mapbox": {
           "style": "light"
          },
          "paper_bgcolor": "white",
          "plot_bgcolor": "#E5ECF6",
          "polar": {
           "angularaxis": {
            "gridcolor": "white",
            "linecolor": "white",
            "ticks": ""
           },
           "bgcolor": "#E5ECF6",
           "radialaxis": {
            "gridcolor": "white",
            "linecolor": "white",
            "ticks": ""
           }
          },
          "scene": {
           "xaxis": {
            "backgroundcolor": "#E5ECF6",
            "gridcolor": "white",
            "gridwidth": 2,
            "linecolor": "white",
            "showbackground": true,
            "ticks": "",
            "zerolinecolor": "white"
           },
           "yaxis": {
            "backgroundcolor": "#E5ECF6",
            "gridcolor": "white",
            "gridwidth": 2,
            "linecolor": "white",
            "showbackground": true,
            "ticks": "",
            "zerolinecolor": "white"
           },
           "zaxis": {
            "backgroundcolor": "#E5ECF6",
            "gridcolor": "white",
            "gridwidth": 2,
            "linecolor": "white",
            "showbackground": true,
            "ticks": "",
            "zerolinecolor": "white"
           }
          },
          "shapedefaults": {
           "line": {
            "color": "#2a3f5f"
           }
          },
          "ternary": {
           "aaxis": {
            "gridcolor": "white",
            "linecolor": "white",
            "ticks": ""
           },
           "baxis": {
            "gridcolor": "white",
            "linecolor": "white",
            "ticks": ""
           },
           "bgcolor": "#E5ECF6",
           "caxis": {
            "gridcolor": "white",
            "linecolor": "white",
            "ticks": ""
           }
          },
          "title": {
           "x": 0.05
          },
          "xaxis": {
           "automargin": true,
           "gridcolor": "white",
           "linecolor": "white",
           "ticks": "",
           "title": {
            "standoff": 15
           },
           "zerolinecolor": "white",
           "zerolinewidth": 2
          },
          "yaxis": {
           "automargin": true,
           "gridcolor": "white",
           "linecolor": "white",
           "ticks": "",
           "title": {
            "standoff": 15
           },
           "zerolinecolor": "white",
           "zerolinewidth": 2
          }
         }
        },
        "title": {
         "text": "Treatment Days Histogram"
        },
        "xaxis": {
         "anchor": "y",
         "domain": [
          0,
          1
         ],
         "title": {
          "text": "Treatment Days"
         }
        },
        "yaxis": {
         "anchor": "x",
         "domain": [
          0,
          1
         ],
         "title": {
          "text": "Count"
         }
        }
       }
      }
     },
     "metadata": {},
     "output_type": "display_data"
    }
   ],
   "source": [
    "ptDF = df[['Patient ID', 'Treatment Days']].drop_duplicates()\n",
    "fig = px.histogram(ptDF, x='Treatment Days')\n",
    "fig.update_traces(marker_color=CATEGORY_PALETTE[0])\n",
    "fig.update_layout(xaxis_title='Treatment Days', yaxis_title='Count', title='Treatment Days Histogram')\n",
    "fig.show()"
   ]
  },
  {
   "cell_type": "markdown",
   "metadata": {},
   "source": [
    "La mayoría de los casos entran dentro de los primeros 10 días de tratamiento. Llama la atención ver que el pico más grande del histograma sea en 0 días.\n",
    "Se necesita apreciar si la cantidad de días de tratamiento cambió durante el tiempo."
   ]
  },
  {
   "cell_type": "markdown",
   "metadata": {},
   "source": [
    "La media parece ser estable durante todo un año, hasta que en Marzo del 2021 empieza a caer notablemente el promedio de días de tratamiento. \n",
    "Esto podría deberse a la entrada de las vacunas, lamentablemente el cubo Insurers termina los datos hasta Julio 2021 y no nos permite poder analizar esta hipótesis.\n",
    "\n",
    "Vale la pena hacer un análisis de conteo de ceros durante el mismo tiempo."
   ]
  },
  {
   "cell_type": "code",
   "execution_count": 54,
   "metadata": {},
   "outputs": [
    {
     "data": {
      "application/vnd.plotly.v1+json": {
       "config": {
        "plotlyServerURL": "https://plot.ly"
       },
       "data": [
        {
         "alignmentgroup": "True",
         "bingroup": "x",
         "hovertemplate": "Mes de ingreso=%{x}<br>count=%{y}<extra></extra>",
         "legendgroup": "",
         "marker": {
          "color": "#3C7A89",
          "pattern": {
           "shape": ""
          }
         },
         "name": "",
         "offsetgroup": "",
         "orientation": "v",
         "showlegend": false,
         "texttemplate": "%{value}",
         "type": "histogram",
         "x": [
          "2020-08-01T00:00:00",
          "2020-08-01T00:00:00",
          "2021-06-01T00:00:00",
          "2021-06-01T00:00:00",
          "2020-07-01T00:00:00",
          "2020-07-01T00:00:00",
          "2020-09-01T00:00:00",
          "2020-09-01T00:00:00",
          "2021-02-01T00:00:00",
          "2021-02-01T00:00:00",
          "2021-01-01T00:00:00",
          "2021-01-01T00:00:00",
          "2020-08-01T00:00:00",
          "2020-08-01T00:00:00",
          "2021-01-01T00:00:00",
          "2021-01-01T00:00:00",
          "2021-04-01T00:00:00",
          "2021-04-01T00:00:00",
          "2020-08-01T00:00:00",
          "2020-08-01T00:00:00",
          "2020-08-01T00:00:00",
          "2020-08-01T00:00:00",
          "2020-06-01T00:00:00",
          "2020-06-01T00:00:00",
          "2020-08-01T00:00:00",
          "2020-08-01T00:00:00",
          "2020-08-01T00:00:00",
          "2020-08-01T00:00:00",
          "2020-07-01T00:00:00",
          "2020-07-01T00:00:00",
          "2020-07-01T00:00:00",
          "2020-07-01T00:00:00",
          "2020-07-01T00:00:00",
          "2020-07-01T00:00:00",
          "2020-07-01T00:00:00",
          "2020-07-01T00:00:00",
          "2020-11-01T00:00:00",
          "2020-11-01T00:00:00",
          "2020-12-01T00:00:00",
          "2020-12-01T00:00:00",
          "2020-11-01T00:00:00",
          "2020-11-01T00:00:00",
          "2020-12-01T00:00:00",
          "2020-12-01T00:00:00",
          "2021-02-01T00:00:00",
          "2021-02-01T00:00:00",
          "2020-09-01T00:00:00",
          "2020-09-01T00:00:00",
          "2020-06-01T00:00:00",
          "2020-06-01T00:00:00",
          "2020-10-01T00:00:00",
          "2020-10-01T00:00:00",
          "2020-11-01T00:00:00",
          "2020-11-01T00:00:00",
          "2020-11-01T00:00:00",
          "2020-11-01T00:00:00",
          "2021-01-01T00:00:00",
          "2021-01-01T00:00:00",
          "2020-06-01T00:00:00",
          "2020-06-01T00:00:00",
          "2020-11-01T00:00:00",
          "2020-11-01T00:00:00",
          "2020-11-01T00:00:00",
          "2020-11-01T00:00:00",
          "2021-04-01T00:00:00",
          "2021-04-01T00:00:00",
          "2021-03-01T00:00:00",
          "2021-03-01T00:00:00",
          "2021-06-01T00:00:00",
          "2021-06-01T00:00:00",
          "2021-04-01T00:00:00",
          "2021-04-01T00:00:00",
          "2021-04-01T00:00:00",
          "2021-04-01T00:00:00",
          "2020-08-01T00:00:00",
          "2020-08-01T00:00:00",
          "2021-01-01T00:00:00",
          "2021-01-01T00:00:00",
          "2020-11-01T00:00:00",
          "2020-11-01T00:00:00",
          "2020-06-01T00:00:00",
          "2020-06-01T00:00:00",
          "2021-01-01T00:00:00",
          "2021-01-01T00:00:00",
          "2021-01-01T00:00:00",
          "2021-01-01T00:00:00",
          "2020-06-01T00:00:00",
          "2021-02-01T00:00:00",
          "2021-02-01T00:00:00",
          "2021-05-01T00:00:00",
          "2021-05-01T00:00:00",
          "2020-04-01T00:00:00",
          "2020-04-01T00:00:00",
          "2020-05-01T00:00:00",
          "2020-05-01T00:00:00",
          "2020-12-01T00:00:00",
          "2020-12-01T00:00:00",
          "2020-10-01T00:00:00",
          "2020-10-01T00:00:00",
          "2020-12-01T00:00:00",
          "2020-12-01T00:00:00",
          "2021-03-01T00:00:00",
          "2021-03-01T00:00:00",
          "2020-08-01T00:00:00",
          "2020-08-01T00:00:00",
          "2021-01-01T00:00:00",
          "2021-01-01T00:00:00",
          "2021-02-01T00:00:00",
          "2021-02-01T00:00:00",
          "2021-05-01T00:00:00",
          "2021-05-01T00:00:00",
          "2020-09-01T00:00:00",
          "2020-09-01T00:00:00",
          "2020-05-01T00:00:00",
          "2020-05-01T00:00:00",
          "2021-03-01T00:00:00",
          "2021-03-01T00:00:00",
          "2021-05-01T00:00:00",
          "2021-05-01T00:00:00",
          "2021-02-01T00:00:00",
          "2021-02-01T00:00:00",
          "2020-11-01T00:00:00",
          "2020-11-01T00:00:00",
          "2021-01-01T00:00:00",
          "2021-01-01T00:00:00",
          "2021-01-01T00:00:00",
          "2021-01-01T00:00:00",
          "2021-07-01T00:00:00",
          "2021-07-01T00:00:00",
          "2020-11-01T00:00:00",
          "2020-11-01T00:00:00",
          "2021-05-01T00:00:00",
          "2021-05-01T00:00:00",
          "2020-06-01T00:00:00",
          "2020-06-01T00:00:00",
          "2021-05-01T00:00:00",
          "2021-05-01T00:00:00",
          "2021-02-01T00:00:00",
          "2021-02-01T00:00:00",
          "2021-04-01T00:00:00",
          "2021-04-01T00:00:00",
          "2021-07-01T00:00:00",
          "2021-07-01T00:00:00",
          "2021-01-01T00:00:00",
          "2021-01-01T00:00:00",
          "2020-08-01T00:00:00",
          "2020-08-01T00:00:00",
          "2021-03-01T00:00:00",
          "2021-03-01T00:00:00",
          "2021-03-01T00:00:00",
          "2021-03-01T00:00:00",
          "2021-02-01T00:00:00",
          "2021-02-01T00:00:00",
          "2021-01-01T00:00:00",
          "2021-01-01T00:00:00",
          "2021-02-01T00:00:00",
          "2021-02-01T00:00:00",
          "2020-10-01T00:00:00",
          "2020-10-01T00:00:00",
          "2021-07-01T00:00:00",
          "2021-07-01T00:00:00",
          "2021-01-01T00:00:00",
          "2021-01-01T00:00:00",
          "2021-06-01T00:00:00",
          "2021-06-01T00:00:00",
          "2021-07-01T00:00:00",
          "2021-07-01T00:00:00",
          "2021-01-01T00:00:00",
          "2021-01-01T00:00:00",
          "2020-05-01T00:00:00",
          "2020-05-01T00:00:00",
          "2020-08-01T00:00:00",
          "2020-08-01T00:00:00",
          "2021-02-01T00:00:00",
          "2021-02-01T00:00:00",
          "2021-05-01T00:00:00",
          "2021-05-01T00:00:00",
          "2021-01-01T00:00:00",
          "2021-01-01T00:00:00",
          "2020-06-01T00:00:00",
          "2020-06-01T00:00:00",
          "2021-06-01T00:00:00",
          "2021-06-01T00:00:00",
          "2021-02-01T00:00:00",
          "2020-04-01T00:00:00",
          "2020-04-01T00:00:00",
          "2020-04-01T00:00:00",
          "2020-04-01T00:00:00",
          "2021-01-01T00:00:00",
          "2021-01-01T00:00:00",
          "2021-07-01T00:00:00",
          "2021-07-01T00:00:00",
          "2020-06-01T00:00:00",
          "2020-06-01T00:00:00",
          "2021-07-01T00:00:00",
          "2021-07-01T00:00:00",
          "2021-01-01T00:00:00",
          "2021-01-01T00:00:00",
          "2021-03-01T00:00:00",
          "2021-03-01T00:00:00",
          "2021-05-01T00:00:00",
          "2021-05-01T00:00:00",
          "2020-04-01T00:00:00",
          "2020-04-01T00:00:00",
          "2021-01-01T00:00:00",
          "2021-01-01T00:00:00",
          "2021-06-01T00:00:00",
          "2021-06-01T00:00:00",
          "2021-01-01T00:00:00",
          "2021-01-01T00:00:00",
          "2021-04-01T00:00:00",
          "2021-04-01T00:00:00",
          "2020-05-01T00:00:00",
          "2020-05-01T00:00:00",
          "2020-11-01T00:00:00",
          "2020-11-01T00:00:00",
          "2021-02-01T00:00:00",
          "2021-02-01T00:00:00",
          "2020-08-01T00:00:00",
          "2021-05-01T00:00:00",
          "2021-05-01T00:00:00",
          "2021-05-01T00:00:00",
          "2021-05-01T00:00:00",
          "2021-02-01T00:00:00",
          "2021-02-01T00:00:00",
          "2020-04-01T00:00:00",
          "2020-04-01T00:00:00",
          "2021-01-01T00:00:00",
          "2021-01-01T00:00:00",
          "2020-07-01T00:00:00",
          "2020-07-01T00:00:00",
          "2021-02-01T00:00:00",
          "2021-02-01T00:00:00",
          "2021-03-01T00:00:00",
          "2021-03-01T00:00:00",
          "2021-03-01T00:00:00",
          "2021-03-01T00:00:00",
          "2021-05-01T00:00:00",
          "2021-05-01T00:00:00",
          "2021-01-01T00:00:00",
          "2021-01-01T00:00:00",
          "2020-12-01T00:00:00",
          "2020-12-01T00:00:00",
          "2020-12-01T00:00:00",
          "2021-01-01T00:00:00",
          "2021-01-01T00:00:00",
          "2020-08-01T00:00:00",
          "2020-08-01T00:00:00",
          "2021-06-01T00:00:00",
          "2021-06-01T00:00:00",
          "2020-08-01T00:00:00",
          "2020-08-01T00:00:00",
          "2020-08-01T00:00:00",
          "2020-08-01T00:00:00",
          "2020-12-01T00:00:00",
          "2020-12-01T00:00:00",
          "2020-12-01T00:00:00",
          "2020-12-01T00:00:00",
          "2021-01-01T00:00:00",
          "2021-01-01T00:00:00",
          "2021-01-01T00:00:00",
          "2020-08-01T00:00:00",
          "2020-08-01T00:00:00",
          "2021-03-01T00:00:00",
          "2021-03-01T00:00:00",
          "2020-12-01T00:00:00",
          "2020-12-01T00:00:00",
          "2020-07-01T00:00:00",
          "2020-10-01T00:00:00",
          "2020-10-01T00:00:00",
          "2021-05-01T00:00:00",
          "2021-05-01T00:00:00",
          "2021-01-01T00:00:00",
          "2021-01-01T00:00:00",
          "2020-12-01T00:00:00",
          "2021-02-01T00:00:00",
          "2021-02-01T00:00:00",
          "2021-07-01T00:00:00",
          "2021-07-01T00:00:00",
          "2021-05-01T00:00:00",
          "2021-05-01T00:00:00",
          "2021-02-01T00:00:00",
          "2021-02-01T00:00:00",
          "2021-07-01T00:00:00",
          "2021-07-01T00:00:00",
          "2021-06-01T00:00:00",
          "2021-06-01T00:00:00",
          "2020-06-01T00:00:00",
          "2020-06-01T00:00:00",
          "2021-01-01T00:00:00",
          "2021-01-01T00:00:00",
          "2021-01-01T00:00:00",
          "2021-01-01T00:00:00",
          "2021-02-01T00:00:00",
          "2021-02-01T00:00:00",
          "2021-05-01T00:00:00",
          "2021-05-01T00:00:00",
          "2020-08-01T00:00:00",
          "2020-08-01T00:00:00",
          "2021-01-01T00:00:00",
          "2021-01-01T00:00:00",
          "2020-06-01T00:00:00",
          "2020-06-01T00:00:00",
          "2020-11-01T00:00:00",
          "2020-11-01T00:00:00",
          "2020-11-01T00:00:00",
          "2020-11-01T00:00:00",
          "2021-07-01T00:00:00",
          "2021-07-01T00:00:00",
          "2021-02-01T00:00:00",
          "2021-02-01T00:00:00",
          "2020-06-01T00:00:00",
          "2020-06-01T00:00:00",
          "2020-05-01T00:00:00",
          "2020-05-01T00:00:00",
          "2021-01-01T00:00:00",
          "2021-01-01T00:00:00",
          "2020-10-01T00:00:00",
          "2020-10-01T00:00:00",
          "2020-12-01T00:00:00",
          "2020-12-01T00:00:00",
          "2020-05-01T00:00:00",
          "2020-05-01T00:00:00",
          "2021-01-01T00:00:00",
          "2021-01-01T00:00:00",
          "2020-12-01T00:00:00",
          "2020-12-01T00:00:00",
          "2021-07-01T00:00:00",
          "2021-07-01T00:00:00",
          "2021-01-01T00:00:00",
          "2020-11-01T00:00:00",
          "2020-11-01T00:00:00",
          "2020-12-01T00:00:00",
          "2020-12-01T00:00:00",
          "2021-01-01T00:00:00",
          "2020-12-01T00:00:00",
          "2021-05-01T00:00:00",
          "2021-05-01T00:00:00",
          "2021-05-01T00:00:00",
          "2021-02-01T00:00:00",
          "2021-02-01T00:00:00",
          "2020-11-01T00:00:00",
          "2020-11-01T00:00:00",
          "2020-04-01T00:00:00",
          "2020-04-01T00:00:00",
          "2020-11-01T00:00:00",
          "2020-11-01T00:00:00",
          "2020-11-01T00:00:00",
          "2020-11-01T00:00:00",
          "2021-06-01T00:00:00",
          "2020-08-01T00:00:00",
          "2020-08-01T00:00:00",
          "2020-08-01T00:00:00",
          "2020-08-01T00:00:00",
          "2021-01-01T00:00:00",
          "2020-08-01T00:00:00",
          "2020-08-01T00:00:00",
          "2020-11-01T00:00:00",
          "2020-11-01T00:00:00",
          "2020-12-01T00:00:00",
          "2020-12-01T00:00:00",
          "2020-11-01T00:00:00",
          "2020-11-01T00:00:00",
          "2020-11-01T00:00:00",
          "2020-12-01T00:00:00",
          "2020-12-01T00:00:00",
          "2020-06-01T00:00:00",
          "2020-06-01T00:00:00",
          "2020-09-01T00:00:00",
          "2020-09-01T00:00:00",
          "2021-03-01T00:00:00",
          "2021-03-01T00:00:00",
          "2021-03-01T00:00:00",
          "2021-03-01T00:00:00",
          "2020-11-01T00:00:00",
          "2020-06-01T00:00:00",
          "2020-06-01T00:00:00",
          "2020-07-01T00:00:00",
          "2020-07-01T00:00:00",
          "2020-07-01T00:00:00",
          "2020-07-01T00:00:00",
          "2021-01-01T00:00:00",
          "2021-01-01T00:00:00",
          "2020-07-01T00:00:00",
          "2020-07-01T00:00:00",
          "2020-05-01T00:00:00",
          "2020-05-01T00:00:00",
          "2021-02-01T00:00:00",
          "2021-02-01T00:00:00",
          "2021-02-01T00:00:00",
          "2021-02-01T00:00:00",
          "2020-06-01T00:00:00",
          "2020-06-01T00:00:00",
          "2020-09-01T00:00:00",
          "2020-09-01T00:00:00",
          "2021-03-01T00:00:00",
          "2021-03-01T00:00:00",
          "2021-07-01T00:00:00",
          "2021-07-01T00:00:00",
          "2020-12-01T00:00:00",
          "2020-12-01T00:00:00",
          "2020-09-01T00:00:00",
          "2020-09-01T00:00:00",
          "2020-12-01T00:00:00",
          "2020-12-01T00:00:00",
          "2021-01-01T00:00:00",
          "2021-01-01T00:00:00",
          "2021-07-01T00:00:00",
          "2021-07-01T00:00:00",
          "2021-01-01T00:00:00",
          "2021-01-01T00:00:00",
          "2021-07-01T00:00:00",
          "2021-07-01T00:00:00",
          "2021-03-01T00:00:00",
          "2021-03-01T00:00:00",
          "2020-06-01T00:00:00",
          "2020-06-01T00:00:00",
          "2021-06-01T00:00:00",
          "2021-06-01T00:00:00",
          "2020-12-01T00:00:00",
          "2020-12-01T00:00:00",
          "2020-12-01T00:00:00",
          "2020-12-01T00:00:00",
          "2021-07-01T00:00:00",
          "2021-07-01T00:00:00",
          "2021-01-01T00:00:00",
          "2021-01-01T00:00:00",
          "2020-11-01T00:00:00",
          "2020-11-01T00:00:00",
          "2020-10-01T00:00:00",
          "2020-10-01T00:00:00",
          "2020-07-01T00:00:00",
          "2020-07-01T00:00:00",
          "2021-03-01T00:00:00",
          "2021-03-01T00:00:00",
          "2020-11-01T00:00:00",
          "2020-11-01T00:00:00",
          "2021-01-01T00:00:00",
          "2021-01-01T00:00:00",
          "2020-10-01T00:00:00",
          "2020-10-01T00:00:00",
          "2020-12-01T00:00:00",
          "2020-12-01T00:00:00",
          "2021-03-01T00:00:00",
          "2021-03-01T00:00:00",
          "2020-07-01T00:00:00",
          "2020-07-01T00:00:00",
          "2021-03-01T00:00:00",
          "2021-03-01T00:00:00",
          "2020-06-01T00:00:00",
          "2020-06-01T00:00:00",
          "2020-07-01T00:00:00",
          "2020-07-01T00:00:00",
          "2020-12-01T00:00:00",
          "2020-12-01T00:00:00",
          "2020-11-01T00:00:00",
          "2020-11-01T00:00:00",
          "2020-08-01T00:00:00",
          "2020-08-01T00:00:00",
          "2021-04-01T00:00:00",
          "2021-04-01T00:00:00",
          "2021-02-01T00:00:00",
          "2021-02-01T00:00:00",
          "2020-11-01T00:00:00",
          "2020-11-01T00:00:00",
          "2021-03-01T00:00:00",
          "2021-03-01T00:00:00",
          "2020-10-01T00:00:00",
          "2020-10-01T00:00:00",
          "2021-03-01T00:00:00",
          "2021-03-01T00:00:00",
          "2021-01-01T00:00:00",
          "2021-01-01T00:00:00",
          "2021-02-01T00:00:00",
          "2021-02-01T00:00:00",
          "2020-05-01T00:00:00",
          "2020-05-01T00:00:00",
          "2021-01-01T00:00:00",
          "2021-01-01T00:00:00",
          "2020-07-01T00:00:00",
          "2020-07-01T00:00:00",
          "2020-10-01T00:00:00",
          "2020-10-01T00:00:00",
          "2021-01-01T00:00:00",
          "2021-01-01T00:00:00",
          "2020-04-01T00:00:00",
          "2020-04-01T00:00:00",
          "2021-04-01T00:00:00",
          "2021-04-01T00:00:00",
          "2020-08-01T00:00:00",
          "2020-08-01T00:00:00",
          "2020-10-01T00:00:00",
          "2020-10-01T00:00:00",
          "2020-08-01T00:00:00",
          "2020-08-01T00:00:00",
          "2020-12-01T00:00:00",
          "2020-12-01T00:00:00",
          "2020-08-01T00:00:00",
          "2020-08-01T00:00:00",
          "2021-06-01T00:00:00",
          "2021-06-01T00:00:00",
          "2020-08-01T00:00:00",
          "2020-08-01T00:00:00",
          "2020-12-01T00:00:00",
          "2020-12-01T00:00:00",
          "2021-01-01T00:00:00",
          "2021-01-01T00:00:00",
          "2020-08-01T00:00:00",
          "2020-08-01T00:00:00",
          "2021-02-01T00:00:00",
          "2021-02-01T00:00:00",
          "2021-02-01T00:00:00",
          "2021-02-01T00:00:00",
          "2020-04-01T00:00:00",
          "2020-04-01T00:00:00",
          "2020-09-01T00:00:00",
          "2020-09-01T00:00:00",
          "2021-01-01T00:00:00",
          "2021-01-01T00:00:00",
          "2021-04-01T00:00:00",
          "2020-10-01T00:00:00",
          "2020-10-01T00:00:00",
          "2020-05-01T00:00:00",
          "2020-05-01T00:00:00",
          "2020-09-01T00:00:00",
          "2020-09-01T00:00:00",
          "2021-02-01T00:00:00",
          "2021-02-01T00:00:00",
          "2020-06-01T00:00:00",
          "2020-06-01T00:00:00",
          "2020-12-01T00:00:00",
          "2020-12-01T00:00:00",
          "2021-02-01T00:00:00",
          "2021-02-01T00:00:00",
          "2020-12-01T00:00:00",
          "2020-12-01T00:00:00",
          "2020-10-01T00:00:00",
          "2020-10-01T00:00:00",
          "2020-05-01T00:00:00",
          "2020-05-01T00:00:00",
          "2020-10-01T00:00:00",
          "2020-10-01T00:00:00",
          "2020-07-01T00:00:00",
          "2020-07-01T00:00:00",
          "2020-07-01T00:00:00",
          "2020-07-01T00:00:00",
          "2021-03-01T00:00:00",
          "2021-03-01T00:00:00",
          "2021-01-01T00:00:00",
          "2021-01-01T00:00:00",
          "2021-07-01T00:00:00",
          "2021-07-01T00:00:00",
          "2020-04-01T00:00:00",
          "2020-04-01T00:00:00",
          "2020-12-01T00:00:00",
          "2020-12-01T00:00:00",
          "2020-07-01T00:00:00",
          "2020-07-01T00:00:00",
          "2020-12-01T00:00:00",
          "2020-12-01T00:00:00",
          "2021-03-01T00:00:00",
          "2021-03-01T00:00:00",
          "2020-07-01T00:00:00",
          "2020-07-01T00:00:00",
          "2020-10-01T00:00:00",
          "2020-10-01T00:00:00",
          "2020-10-01T00:00:00",
          "2020-10-01T00:00:00",
          "2020-10-01T00:00:00",
          "2020-10-01T00:00:00",
          "2020-05-01T00:00:00",
          "2020-05-01T00:00:00",
          "2020-10-01T00:00:00",
          "2020-10-01T00:00:00",
          "2021-01-01T00:00:00",
          "2021-01-01T00:00:00",
          "2020-05-01T00:00:00",
          "2020-05-01T00:00:00",
          "2020-06-01T00:00:00",
          "2020-06-01T00:00:00",
          "2021-04-01T00:00:00",
          "2021-04-01T00:00:00",
          "2020-09-01T00:00:00",
          "2020-09-01T00:00:00",
          "2020-05-01T00:00:00",
          "2020-05-01T00:00:00",
          "2021-01-01T00:00:00",
          "2021-01-01T00:00:00",
          "2020-09-01T00:00:00",
          "2020-09-01T00:00:00",
          "2020-05-01T00:00:00",
          "2020-05-01T00:00:00",
          "2020-12-01T00:00:00",
          "2020-12-01T00:00:00",
          "2021-03-01T00:00:00",
          "2021-03-01T00:00:00",
          "2020-12-01T00:00:00",
          "2020-12-01T00:00:00",
          "2021-02-01T00:00:00",
          "2021-02-01T00:00:00",
          "2021-03-01T00:00:00",
          "2021-03-01T00:00:00",
          "2021-05-01T00:00:00",
          "2021-05-01T00:00:00",
          "2020-08-01T00:00:00",
          "2020-08-01T00:00:00",
          "2021-03-01T00:00:00",
          "2021-03-01T00:00:00",
          "2021-07-01T00:00:00",
          "2021-07-01T00:00:00",
          "2021-03-01T00:00:00",
          "2021-03-01T00:00:00",
          "2020-11-01T00:00:00",
          "2020-11-01T00:00:00",
          "2020-11-01T00:00:00",
          "2020-11-01T00:00:00",
          "2021-07-01T00:00:00",
          "2021-07-01T00:00:00",
          "2020-10-01T00:00:00",
          "2020-10-01T00:00:00",
          "2021-05-01T00:00:00",
          "2021-05-01T00:00:00",
          "2020-09-01T00:00:00",
          "2020-09-01T00:00:00",
          "2020-04-01T00:00:00",
          "2020-04-01T00:00:00",
          "2020-11-01T00:00:00",
          "2020-11-01T00:00:00",
          "2020-12-01T00:00:00",
          "2020-12-01T00:00:00",
          "2021-01-01T00:00:00",
          "2021-01-01T00:00:00",
          "2020-11-01T00:00:00",
          "2020-11-01T00:00:00",
          "2020-12-01T00:00:00",
          "2020-12-01T00:00:00",
          "2021-02-01T00:00:00",
          "2021-02-01T00:00:00",
          "2021-05-01T00:00:00",
          "2021-05-01T00:00:00",
          "2020-08-01T00:00:00",
          "2020-08-01T00:00:00",
          "2020-11-01T00:00:00",
          "2020-11-01T00:00:00",
          "2021-01-01T00:00:00",
          "2021-03-01T00:00:00",
          "2021-03-01T00:00:00",
          "2020-10-01T00:00:00",
          "2020-10-01T00:00:00",
          "2021-05-01T00:00:00",
          "2021-05-01T00:00:00",
          "2020-07-01T00:00:00",
          "2020-07-01T00:00:00",
          "2021-06-01T00:00:00",
          "2021-06-01T00:00:00",
          "2020-08-01T00:00:00",
          "2020-08-01T00:00:00",
          "2020-10-01T00:00:00",
          "2020-12-01T00:00:00",
          "2020-12-01T00:00:00",
          "2020-07-01T00:00:00",
          "2020-07-01T00:00:00",
          "2020-07-01T00:00:00",
          "2020-06-01T00:00:00",
          "2020-06-01T00:00:00",
          "2020-06-01T00:00:00",
          "2020-10-01T00:00:00",
          "2020-10-01T00:00:00",
          "2020-07-01T00:00:00",
          "2020-07-01T00:00:00",
          "2020-11-01T00:00:00",
          "2020-11-01T00:00:00",
          "2020-07-01T00:00:00",
          "2020-07-01T00:00:00",
          "2021-01-01T00:00:00",
          "2021-01-01T00:00:00",
          "2020-12-01T00:00:00",
          "2020-12-01T00:00:00",
          "2020-10-01T00:00:00",
          "2020-10-01T00:00:00",
          "2021-01-01T00:00:00",
          "2021-01-01T00:00:00",
          "2020-06-01T00:00:00",
          "2020-06-01T00:00:00",
          "2020-05-01T00:00:00",
          "2020-05-01T00:00:00",
          "2020-12-01T00:00:00",
          "2020-12-01T00:00:00",
          "2020-07-01T00:00:00",
          "2020-12-01T00:00:00",
          "2021-04-01T00:00:00",
          "2021-04-01T00:00:00",
          "2020-11-01T00:00:00",
          "2020-11-01T00:00:00",
          "2020-09-01T00:00:00",
          "2020-08-01T00:00:00",
          "2020-08-01T00:00:00",
          "2020-10-01T00:00:00",
          "2020-10-01T00:00:00",
          "2021-06-01T00:00:00",
          "2021-06-01T00:00:00",
          "2021-01-01T00:00:00",
          "2021-01-01T00:00:00",
          "2020-06-01T00:00:00",
          "2020-06-01T00:00:00",
          "2020-10-01T00:00:00",
          "2020-10-01T00:00:00",
          "2020-12-01T00:00:00",
          "2020-12-01T00:00:00",
          "2021-06-01T00:00:00",
          "2021-06-01T00:00:00",
          "2020-07-01T00:00:00",
          "2020-07-01T00:00:00",
          "2021-01-01T00:00:00",
          "2021-01-01T00:00:00",
          "2021-04-01T00:00:00",
          "2021-04-01T00:00:00",
          "2020-08-01T00:00:00",
          "2020-08-01T00:00:00",
          "2021-06-01T00:00:00",
          "2021-06-01T00:00:00",
          "2021-05-01T00:00:00",
          "2021-05-01T00:00:00",
          "2021-04-01T00:00:00",
          "2021-04-01T00:00:00",
          "2021-01-01T00:00:00",
          "2021-01-01T00:00:00",
          "2021-01-01T00:00:00",
          "2020-09-01T00:00:00",
          "2020-09-01T00:00:00",
          "2020-12-01T00:00:00",
          "2020-12-01T00:00:00",
          "2021-01-01T00:00:00",
          "2021-05-01T00:00:00",
          "2021-05-01T00:00:00",
          "2020-08-01T00:00:00",
          "2020-08-01T00:00:00",
          "2021-01-01T00:00:00",
          "2020-12-01T00:00:00",
          "2020-12-01T00:00:00",
          "2020-07-01T00:00:00",
          "2020-07-01T00:00:00",
          "2021-02-01T00:00:00",
          "2021-02-01T00:00:00",
          "2020-12-01T00:00:00",
          "2021-05-01T00:00:00",
          "2021-05-01T00:00:00",
          "2020-07-01T00:00:00",
          "2021-04-01T00:00:00",
          "2021-04-01T00:00:00",
          "2020-12-01T00:00:00",
          "2020-12-01T00:00:00",
          "2020-08-01T00:00:00",
          "2021-03-01T00:00:00",
          "2021-03-01T00:00:00",
          "2021-01-01T00:00:00",
          "2021-07-01T00:00:00",
          "2021-07-01T00:00:00",
          "2020-05-01T00:00:00",
          "2020-05-01T00:00:00",
          "2020-06-01T00:00:00",
          "2021-03-01T00:00:00",
          "2021-03-01T00:00:00",
          "2020-09-01T00:00:00",
          "2020-09-01T00:00:00",
          "2020-12-01T00:00:00",
          "2020-12-01T00:00:00",
          "2021-04-01T00:00:00",
          "2021-04-01T00:00:00",
          "2020-05-01T00:00:00",
          "2020-05-01T00:00:00",
          "2020-11-01T00:00:00",
          "2020-11-01T00:00:00",
          "2021-03-01T00:00:00",
          "2021-03-01T00:00:00",
          "2021-01-01T00:00:00",
          "2021-01-01T00:00:00",
          "2020-07-01T00:00:00",
          "2020-07-01T00:00:00",
          "2021-01-01T00:00:00",
          "2021-01-01T00:00:00",
          "2021-06-01T00:00:00",
          "2021-06-01T00:00:00",
          "2021-07-01T00:00:00",
          "2021-07-01T00:00:00",
          "2021-02-01T00:00:00",
          "2021-02-01T00:00:00",
          "2021-02-01T00:00:00",
          "2021-07-01T00:00:00",
          "2021-07-01T00:00:00",
          "2021-01-01T00:00:00",
          "2020-12-01T00:00:00",
          "2020-12-01T00:00:00",
          "2021-02-01T00:00:00",
          "2020-06-01T00:00:00",
          "2020-06-01T00:00:00",
          "2021-02-01T00:00:00",
          "2020-06-01T00:00:00",
          "2020-06-01T00:00:00",
          "2021-01-01T00:00:00",
          "2021-01-01T00:00:00",
          "2021-04-01T00:00:00",
          "2021-04-01T00:00:00",
          "2020-10-01T00:00:00",
          "2020-10-01T00:00:00",
          "2020-12-01T00:00:00",
          "2021-01-01T00:00:00",
          "2020-11-01T00:00:00",
          "2021-06-01T00:00:00",
          "2020-06-01T00:00:00",
          "2021-02-01T00:00:00",
          "2021-02-01T00:00:00",
          "2021-02-01T00:00:00",
          "2021-02-01T00:00:00",
          "2021-02-01T00:00:00",
          "2021-02-01T00:00:00",
          "2021-03-01T00:00:00",
          "2021-03-01T00:00:00"
         ],
         "xaxis": "x",
         "yaxis": "y"
        }
       ],
       "layout": {
        "bargap": 0.2,
        "barmode": "relative",
        "legend": {
         "tracegroupgap": 0
        },
        "margin": {
         "t": 60
        },
        "template": {
         "data": {
          "bar": [
           {
            "error_x": {
             "color": "#2a3f5f"
            },
            "error_y": {
             "color": "#2a3f5f"
            },
            "marker": {
             "line": {
              "color": "#E5ECF6",
              "width": 0.5
             },
             "pattern": {
              "fillmode": "overlay",
              "size": 10,
              "solidity": 0.2
             }
            },
            "type": "bar"
           }
          ],
          "barpolar": [
           {
            "marker": {
             "line": {
              "color": "#E5ECF6",
              "width": 0.5
             },
             "pattern": {
              "fillmode": "overlay",
              "size": 10,
              "solidity": 0.2
             }
            },
            "type": "barpolar"
           }
          ],
          "carpet": [
           {
            "aaxis": {
             "endlinecolor": "#2a3f5f",
             "gridcolor": "white",
             "linecolor": "white",
             "minorgridcolor": "white",
             "startlinecolor": "#2a3f5f"
            },
            "baxis": {
             "endlinecolor": "#2a3f5f",
             "gridcolor": "white",
             "linecolor": "white",
             "minorgridcolor": "white",
             "startlinecolor": "#2a3f5f"
            },
            "type": "carpet"
           }
          ],
          "choropleth": [
           {
            "colorbar": {
             "outlinewidth": 0,
             "ticks": ""
            },
            "type": "choropleth"
           }
          ],
          "contour": [
           {
            "colorbar": {
             "outlinewidth": 0,
             "ticks": ""
            },
            "colorscale": [
             [
              0,
              "#0d0887"
             ],
             [
              0.1111111111111111,
              "#46039f"
             ],
             [
              0.2222222222222222,
              "#7201a8"
             ],
             [
              0.3333333333333333,
              "#9c179e"
             ],
             [
              0.4444444444444444,
              "#bd3786"
             ],
             [
              0.5555555555555556,
              "#d8576b"
             ],
             [
              0.6666666666666666,
              "#ed7953"
             ],
             [
              0.7777777777777778,
              "#fb9f3a"
             ],
             [
              0.8888888888888888,
              "#fdca26"
             ],
             [
              1,
              "#f0f921"
             ]
            ],
            "type": "contour"
           }
          ],
          "contourcarpet": [
           {
            "colorbar": {
             "outlinewidth": 0,
             "ticks": ""
            },
            "type": "contourcarpet"
           }
          ],
          "heatmap": [
           {
            "colorbar": {
             "outlinewidth": 0,
             "ticks": ""
            },
            "colorscale": [
             [
              0,
              "#0d0887"
             ],
             [
              0.1111111111111111,
              "#46039f"
             ],
             [
              0.2222222222222222,
              "#7201a8"
             ],
             [
              0.3333333333333333,
              "#9c179e"
             ],
             [
              0.4444444444444444,
              "#bd3786"
             ],
             [
              0.5555555555555556,
              "#d8576b"
             ],
             [
              0.6666666666666666,
              "#ed7953"
             ],
             [
              0.7777777777777778,
              "#fb9f3a"
             ],
             [
              0.8888888888888888,
              "#fdca26"
             ],
             [
              1,
              "#f0f921"
             ]
            ],
            "type": "heatmap"
           }
          ],
          "heatmapgl": [
           {
            "colorbar": {
             "outlinewidth": 0,
             "ticks": ""
            },
            "colorscale": [
             [
              0,
              "#0d0887"
             ],
             [
              0.1111111111111111,
              "#46039f"
             ],
             [
              0.2222222222222222,
              "#7201a8"
             ],
             [
              0.3333333333333333,
              "#9c179e"
             ],
             [
              0.4444444444444444,
              "#bd3786"
             ],
             [
              0.5555555555555556,
              "#d8576b"
             ],
             [
              0.6666666666666666,
              "#ed7953"
             ],
             [
              0.7777777777777778,
              "#fb9f3a"
             ],
             [
              0.8888888888888888,
              "#fdca26"
             ],
             [
              1,
              "#f0f921"
             ]
            ],
            "type": "heatmapgl"
           }
          ],
          "histogram": [
           {
            "marker": {
             "pattern": {
              "fillmode": "overlay",
              "size": 10,
              "solidity": 0.2
             }
            },
            "type": "histogram"
           }
          ],
          "histogram2d": [
           {
            "colorbar": {
             "outlinewidth": 0,
             "ticks": ""
            },
            "colorscale": [
             [
              0,
              "#0d0887"
             ],
             [
              0.1111111111111111,
              "#46039f"
             ],
             [
              0.2222222222222222,
              "#7201a8"
             ],
             [
              0.3333333333333333,
              "#9c179e"
             ],
             [
              0.4444444444444444,
              "#bd3786"
             ],
             [
              0.5555555555555556,
              "#d8576b"
             ],
             [
              0.6666666666666666,
              "#ed7953"
             ],
             [
              0.7777777777777778,
              "#fb9f3a"
             ],
             [
              0.8888888888888888,
              "#fdca26"
             ],
             [
              1,
              "#f0f921"
             ]
            ],
            "type": "histogram2d"
           }
          ],
          "histogram2dcontour": [
           {
            "colorbar": {
             "outlinewidth": 0,
             "ticks": ""
            },
            "colorscale": [
             [
              0,
              "#0d0887"
             ],
             [
              0.1111111111111111,
              "#46039f"
             ],
             [
              0.2222222222222222,
              "#7201a8"
             ],
             [
              0.3333333333333333,
              "#9c179e"
             ],
             [
              0.4444444444444444,
              "#bd3786"
             ],
             [
              0.5555555555555556,
              "#d8576b"
             ],
             [
              0.6666666666666666,
              "#ed7953"
             ],
             [
              0.7777777777777778,
              "#fb9f3a"
             ],
             [
              0.8888888888888888,
              "#fdca26"
             ],
             [
              1,
              "#f0f921"
             ]
            ],
            "type": "histogram2dcontour"
           }
          ],
          "mesh3d": [
           {
            "colorbar": {
             "outlinewidth": 0,
             "ticks": ""
            },
            "type": "mesh3d"
           }
          ],
          "parcoords": [
           {
            "line": {
             "colorbar": {
              "outlinewidth": 0,
              "ticks": ""
             }
            },
            "type": "parcoords"
           }
          ],
          "pie": [
           {
            "automargin": true,
            "type": "pie"
           }
          ],
          "scatter": [
           {
            "fillpattern": {
             "fillmode": "overlay",
             "size": 10,
             "solidity": 0.2
            },
            "type": "scatter"
           }
          ],
          "scatter3d": [
           {
            "line": {
             "colorbar": {
              "outlinewidth": 0,
              "ticks": ""
             }
            },
            "marker": {
             "colorbar": {
              "outlinewidth": 0,
              "ticks": ""
             }
            },
            "type": "scatter3d"
           }
          ],
          "scattercarpet": [
           {
            "marker": {
             "colorbar": {
              "outlinewidth": 0,
              "ticks": ""
             }
            },
            "type": "scattercarpet"
           }
          ],
          "scattergeo": [
           {
            "marker": {
             "colorbar": {
              "outlinewidth": 0,
              "ticks": ""
             }
            },
            "type": "scattergeo"
           }
          ],
          "scattergl": [
           {
            "marker": {
             "colorbar": {
              "outlinewidth": 0,
              "ticks": ""
             }
            },
            "type": "scattergl"
           }
          ],
          "scattermapbox": [
           {
            "marker": {
             "colorbar": {
              "outlinewidth": 0,
              "ticks": ""
             }
            },
            "type": "scattermapbox"
           }
          ],
          "scatterpolar": [
           {
            "marker": {
             "colorbar": {
              "outlinewidth": 0,
              "ticks": ""
             }
            },
            "type": "scatterpolar"
           }
          ],
          "scatterpolargl": [
           {
            "marker": {
             "colorbar": {
              "outlinewidth": 0,
              "ticks": ""
             }
            },
            "type": "scatterpolargl"
           }
          ],
          "scatterternary": [
           {
            "marker": {
             "colorbar": {
              "outlinewidth": 0,
              "ticks": ""
             }
            },
            "type": "scatterternary"
           }
          ],
          "surface": [
           {
            "colorbar": {
             "outlinewidth": 0,
             "ticks": ""
            },
            "colorscale": [
             [
              0,
              "#0d0887"
             ],
             [
              0.1111111111111111,
              "#46039f"
             ],
             [
              0.2222222222222222,
              "#7201a8"
             ],
             [
              0.3333333333333333,
              "#9c179e"
             ],
             [
              0.4444444444444444,
              "#bd3786"
             ],
             [
              0.5555555555555556,
              "#d8576b"
             ],
             [
              0.6666666666666666,
              "#ed7953"
             ],
             [
              0.7777777777777778,
              "#fb9f3a"
             ],
             [
              0.8888888888888888,
              "#fdca26"
             ],
             [
              1,
              "#f0f921"
             ]
            ],
            "type": "surface"
           }
          ],
          "table": [
           {
            "cells": {
             "fill": {
              "color": "#EBF0F8"
             },
             "line": {
              "color": "white"
             }
            },
            "header": {
             "fill": {
              "color": "#C8D4E3"
             },
             "line": {
              "color": "white"
             }
            },
            "type": "table"
           }
          ]
         },
         "layout": {
          "annotationdefaults": {
           "arrowcolor": "#2a3f5f",
           "arrowhead": 0,
           "arrowwidth": 1
          },
          "autotypenumbers": "strict",
          "coloraxis": {
           "colorbar": {
            "outlinewidth": 0,
            "ticks": ""
           }
          },
          "colorscale": {
           "diverging": [
            [
             0,
             "#8e0152"
            ],
            [
             0.1,
             "#c51b7d"
            ],
            [
             0.2,
             "#de77ae"
            ],
            [
             0.3,
             "#f1b6da"
            ],
            [
             0.4,
             "#fde0ef"
            ],
            [
             0.5,
             "#f7f7f7"
            ],
            [
             0.6,
             "#e6f5d0"
            ],
            [
             0.7,
             "#b8e186"
            ],
            [
             0.8,
             "#7fbc41"
            ],
            [
             0.9,
             "#4d9221"
            ],
            [
             1,
             "#276419"
            ]
           ],
           "sequential": [
            [
             0,
             "#0d0887"
            ],
            [
             0.1111111111111111,
             "#46039f"
            ],
            [
             0.2222222222222222,
             "#7201a8"
            ],
            [
             0.3333333333333333,
             "#9c179e"
            ],
            [
             0.4444444444444444,
             "#bd3786"
            ],
            [
             0.5555555555555556,
             "#d8576b"
            ],
            [
             0.6666666666666666,
             "#ed7953"
            ],
            [
             0.7777777777777778,
             "#fb9f3a"
            ],
            [
             0.8888888888888888,
             "#fdca26"
            ],
            [
             1,
             "#f0f921"
            ]
           ],
           "sequentialminus": [
            [
             0,
             "#0d0887"
            ],
            [
             0.1111111111111111,
             "#46039f"
            ],
            [
             0.2222222222222222,
             "#7201a8"
            ],
            [
             0.3333333333333333,
             "#9c179e"
            ],
            [
             0.4444444444444444,
             "#bd3786"
            ],
            [
             0.5555555555555556,
             "#d8576b"
            ],
            [
             0.6666666666666666,
             "#ed7953"
            ],
            [
             0.7777777777777778,
             "#fb9f3a"
            ],
            [
             0.8888888888888888,
             "#fdca26"
            ],
            [
             1,
             "#f0f921"
            ]
           ]
          },
          "colorway": [
           "#636efa",
           "#EF553B",
           "#00cc96",
           "#ab63fa",
           "#FFA15A",
           "#19d3f3",
           "#FF6692",
           "#B6E880",
           "#FF97FF",
           "#FECB52"
          ],
          "font": {
           "color": "#2a3f5f"
          },
          "geo": {
           "bgcolor": "white",
           "lakecolor": "white",
           "landcolor": "#E5ECF6",
           "showlakes": true,
           "showland": true,
           "subunitcolor": "white"
          },
          "hoverlabel": {
           "align": "left"
          },
          "hovermode": "closest",
          "mapbox": {
           "style": "light"
          },
          "paper_bgcolor": "white",
          "plot_bgcolor": "#E5ECF6",
          "polar": {
           "angularaxis": {
            "gridcolor": "white",
            "linecolor": "white",
            "ticks": ""
           },
           "bgcolor": "#E5ECF6",
           "radialaxis": {
            "gridcolor": "white",
            "linecolor": "white",
            "ticks": ""
           }
          },
          "scene": {
           "xaxis": {
            "backgroundcolor": "#E5ECF6",
            "gridcolor": "white",
            "gridwidth": 2,
            "linecolor": "white",
            "showbackground": true,
            "ticks": "",
            "zerolinecolor": "white"
           },
           "yaxis": {
            "backgroundcolor": "#E5ECF6",
            "gridcolor": "white",
            "gridwidth": 2,
            "linecolor": "white",
            "showbackground": true,
            "ticks": "",
            "zerolinecolor": "white"
           },
           "zaxis": {
            "backgroundcolor": "#E5ECF6",
            "gridcolor": "white",
            "gridwidth": 2,
            "linecolor": "white",
            "showbackground": true,
            "ticks": "",
            "zerolinecolor": "white"
           }
          },
          "shapedefaults": {
           "line": {
            "color": "#2a3f5f"
           }
          },
          "ternary": {
           "aaxis": {
            "gridcolor": "white",
            "linecolor": "white",
            "ticks": ""
           },
           "baxis": {
            "gridcolor": "white",
            "linecolor": "white",
            "ticks": ""
           },
           "bgcolor": "#E5ECF6",
           "caxis": {
            "gridcolor": "white",
            "linecolor": "white",
            "ticks": ""
           }
          },
          "title": {
           "x": 0.05
          },
          "xaxis": {
           "automargin": true,
           "gridcolor": "white",
           "linecolor": "white",
           "ticks": "",
           "title": {
            "standoff": 15
           },
           "zerolinecolor": "white",
           "zerolinewidth": 2
          },
          "yaxis": {
           "automargin": true,
           "gridcolor": "white",
           "linecolor": "white",
           "ticks": "",
           "title": {
            "standoff": 15
           },
           "zerolinecolor": "white",
           "zerolinewidth": 2
          }
         }
        },
        "title": {
         "text": "Conteo de Días de Tratamiento 0 en el tiempo"
        },
        "xaxis": {
         "anchor": "y",
         "domain": [
          0,
          1
         ],
         "title": {
          "text": ""
         }
        },
        "yaxis": {
         "anchor": "x",
         "domain": [
          0,
          1
         ],
         "title": {
          "text": ""
         }
        }
       }
      }
     },
     "metadata": {},
     "output_type": "display_data"
    }
   ],
   "source": [
    "zerosDF = patientDF[patientDF[\"Treatment Days\"] == 0]\n",
    "fig = px.histogram(\n",
    "    zerosDF,\n",
    "    x=\"Ingress Month\",\n",
    "    labels={\"Ingress Month\": \"Mes de ingreso\"},\n",
    "    text_auto=True\n",
    ")\n",
    "fig.update_traces(marker_color=CATEGORY_PALETTE[0])\n",
    "fig.update_layout(bargap=0.2, title='Conteo de Días de Tratamiento 0 en el tiempo', yaxis_title='', xaxis_title='')\n",
    "fig.show()\n"
   ]
  },
  {
   "cell_type": "markdown",
   "metadata": {},
   "source": [
    "Aunque hay un incremento notable de casos de Octubre 2020 hasta Marzo 2021, la variable vuelve a normalizarse. Haría falta más datos para poder comprbar si vuelven a aumentar y normalizarse en una cantidad más grande que la media de todos los zeros en el dataset.\n",
    "Pese a esto, es claro que la cantidad de días se fue reduciendo en los útlmos 5 meses.\n",
    "\n",
    "Con esto, un rango para bucketizar la variable de días de tratamiento aceptable es 5 días."
   ]
  },
  {
   "cell_type": "code",
   "execution_count": 55,
   "metadata": {},
   "outputs": [],
   "source": [
    "bins = np.array(range(0, 33, 4))\n",
    "bins = np.append(bins, [np.Infinity])\n",
    "labels = ['0-4', '5-8', '9-12', '13-16', '17-20', '21-24', '25-28', '29-32', '33-Inf']\n",
    "df['TD Bucket'] = pd.cut(df['Treatment Days'], bins=bins, labels=labels)"
   ]
  },
  {
   "cell_type": "code",
   "execution_count": 56,
   "metadata": {},
   "outputs": [
    {
     "data": {
      "application/vnd.plotly.v1+json": {
       "config": {
        "plotlyServerURL": "https://plot.ly"
       },
       "data": [
        {
         "alignmentgroup": "True",
         "bingroup": "x",
         "hovertemplate": "TD Bucket=%{x}<br>count=%{y}<extra></extra>",
         "legendgroup": "",
         "marker": {
          "color": "#3C7A89",
          "pattern": {
           "shape": ""
          }
         },
         "name": "",
         "offsetgroup": "",
         "orientation": "v",
         "showlegend": false,
         "texttemplate": "%{value}",
         "type": "histogram",
         "x": [
          "17-20",
          "29-32",
          "13-16",
          "33-Inf",
          "5-8",
          "5-8",
          "5-8",
          "9-12",
          "0-4",
          "9-12",
          "33-Inf",
          "5-8",
          "25-28",
          "21-24",
          "29-32",
          "9-12",
          "5-8",
          "9-12",
          "0-4",
          "9-12",
          "0-4",
          "0-4",
          "5-8",
          "0-4",
          "5-8",
          "5-8",
          "5-8",
          "25-28",
          null,
          "13-16",
          "25-28",
          "17-20",
          "5-8",
          "13-16",
          "9-12",
          "0-4",
          "5-8",
          "9-12",
          "9-12",
          "5-8",
          "5-8",
          "9-12",
          "33-Inf",
          "5-8",
          "0-4",
          "33-Inf",
          "9-12",
          "5-8",
          "17-20",
          "25-28",
          "5-8",
          null,
          null,
          "5-8",
          "5-8",
          null,
          null,
          "0-4",
          "13-16",
          "9-12",
          "5-8",
          "21-24",
          "25-28",
          "13-16",
          "17-20",
          "5-8",
          "0-4",
          "9-12",
          "0-4",
          "0-4",
          "33-Inf",
          "9-12",
          null,
          "5-8",
          "5-8",
          "5-8",
          "9-12",
          "5-8",
          "13-16",
          "5-8",
          "21-24",
          "5-8",
          "5-8",
          "5-8",
          "33-Inf",
          "17-20",
          "17-20",
          "5-8",
          "17-20",
          "5-8",
          "29-32",
          "5-8",
          null,
          "5-8",
          "0-4",
          "5-8",
          "5-8",
          null,
          "0-4",
          "5-8",
          "21-24",
          "9-12",
          "9-12",
          null,
          "5-8",
          "5-8",
          "5-8",
          "9-12",
          "5-8",
          "13-16",
          "9-12",
          "13-16",
          "9-12",
          "5-8",
          null,
          "5-8",
          "5-8",
          "5-8",
          "9-12",
          "9-12",
          "9-12",
          "5-8",
          "17-20",
          "25-28",
          "13-16",
          "33-Inf",
          "33-Inf",
          "5-8",
          "17-20",
          "5-8",
          "9-12",
          "0-4",
          "0-4",
          "9-12",
          "5-8",
          "13-16",
          "9-12",
          "25-28",
          "5-8",
          "0-4",
          "5-8",
          "9-12",
          null,
          "5-8",
          "21-24",
          "29-32",
          "17-20",
          "13-16",
          "9-12",
          "9-12",
          "0-4",
          "25-28",
          "17-20",
          "0-4",
          "9-12",
          null,
          "5-8",
          "0-4",
          "33-Inf",
          "13-16",
          "9-12",
          "13-16",
          "5-8",
          "17-20",
          "9-12",
          "9-12",
          "17-20",
          "17-20",
          "13-16",
          "13-16",
          "13-16",
          "21-24",
          "5-8",
          null,
          "33-Inf",
          "17-20",
          "17-20",
          "9-12",
          "9-12",
          "13-16",
          "5-8",
          null,
          "21-24",
          "33-Inf",
          "13-16",
          "5-8",
          "5-8",
          "0-4",
          "0-4",
          "17-20",
          "9-12",
          "5-8",
          "9-12",
          "9-12",
          "5-8",
          "33-Inf",
          "25-28",
          null,
          "5-8",
          "9-12",
          null,
          "5-8",
          "5-8",
          "0-4",
          "0-4",
          "0-4",
          "9-12",
          "5-8",
          "9-12",
          "9-12",
          "13-16",
          "5-8",
          "5-8",
          "0-4",
          "0-4",
          "5-8",
          "25-28",
          "5-8",
          "0-4",
          "0-4",
          "0-4",
          "0-4",
          "13-16",
          "9-12",
          "5-8",
          "0-4",
          "5-8",
          "13-16",
          "17-20",
          "0-4",
          "13-16",
          "0-4",
          "5-8",
          "5-8",
          null,
          "17-20",
          "5-8",
          "9-12",
          "21-24",
          "9-12",
          "5-8",
          "5-8",
          "9-12",
          "5-8",
          "5-8",
          "5-8",
          "5-8",
          "0-4",
          "5-8",
          "25-28",
          "0-4",
          "5-8",
          "5-8",
          "13-16",
          "0-4",
          "0-4",
          "0-4",
          null,
          "0-4",
          "5-8",
          "13-16",
          "29-32",
          "9-12",
          "0-4",
          null,
          "5-8",
          "13-16",
          null,
          "17-20",
          "17-20",
          "17-20",
          null,
          "5-8",
          null,
          "5-8",
          "9-12",
          null,
          null,
          "13-16",
          "0-4",
          "5-8",
          "5-8",
          "5-8",
          "5-8",
          "9-12",
          "0-4",
          "0-4",
          null,
          "33-Inf",
          "0-4",
          "5-8",
          "0-4",
          "5-8",
          "0-4",
          "5-8",
          null,
          "9-12",
          "0-4",
          null,
          "5-8",
          "13-16",
          "5-8",
          "5-8",
          "5-8",
          "0-4",
          "5-8",
          null,
          "0-4",
          "25-28",
          "9-12",
          "5-8",
          null,
          "5-8",
          "5-8",
          "5-8",
          "5-8",
          "25-28",
          "5-8",
          "13-16",
          "17-20",
          "17-20",
          null,
          "9-12",
          "21-24",
          "21-24",
          "0-4",
          null,
          "9-12",
          "13-16",
          null,
          "9-12",
          "13-16",
          "5-8",
          "25-28",
          "0-4",
          "17-20",
          "21-24",
          "5-8",
          "9-12",
          "0-4",
          "5-8",
          "5-8",
          "5-8",
          "5-8",
          "5-8",
          "13-16",
          "5-8",
          null,
          "13-16",
          "9-12",
          "9-12",
          "5-8",
          "9-12",
          "0-4",
          "5-8",
          "33-Inf",
          "5-8",
          "33-Inf",
          "9-12",
          "21-24",
          "5-8",
          "9-12",
          "21-24",
          "0-4",
          "17-20",
          "9-12",
          "5-8",
          "5-8",
          "21-24",
          "13-16",
          "9-12",
          null,
          "5-8",
          "5-8",
          "0-4",
          null,
          "5-8",
          "17-20",
          "33-Inf",
          "5-8",
          "0-4",
          "5-8",
          "5-8",
          "17-20",
          "29-32",
          "9-12",
          "5-8",
          "9-12",
          "5-8",
          "5-8",
          "9-12",
          "17-20",
          "9-12",
          "5-8",
          "21-24",
          "21-24",
          "33-Inf",
          "0-4",
          "21-24",
          "9-12",
          "21-24",
          null,
          "5-8",
          null,
          "5-8",
          null,
          "5-8",
          "13-16",
          "0-4",
          "5-8",
          "5-8",
          "5-8",
          "5-8",
          "0-4",
          "0-4",
          "13-16",
          "5-8",
          "9-12",
          "33-Inf",
          "33-Inf",
          "13-16",
          "9-12",
          "9-12",
          "5-8",
          "5-8",
          "21-24",
          "13-16",
          "5-8",
          "5-8",
          "17-20",
          "5-8",
          "0-4",
          "5-8",
          "0-4",
          "0-4",
          "0-4",
          "5-8",
          "0-4",
          "29-32",
          "5-8",
          "9-12",
          "21-24",
          "5-8",
          "9-12",
          "13-16",
          "5-8",
          null,
          "25-28",
          null,
          "0-4",
          "0-4",
          "0-4",
          "9-12",
          "9-12",
          "9-12",
          "13-16",
          "9-12",
          "0-4",
          null,
          "0-4",
          "21-24",
          "5-8",
          "13-16",
          "13-16",
          "0-4",
          "13-16",
          "13-16",
          "9-12",
          "13-16",
          "9-12",
          "5-8",
          "0-4",
          "13-16",
          "33-Inf",
          "25-28",
          "17-20",
          null,
          "13-16",
          "25-28",
          "5-8",
          "0-4",
          "33-Inf",
          "5-8",
          "0-4",
          "5-8",
          "33-Inf",
          "5-8",
          "5-8",
          "13-16",
          null,
          "13-16",
          "5-8",
          "5-8",
          "13-16",
          "21-24",
          "5-8",
          "13-16",
          null,
          "5-8",
          "5-8",
          null,
          "0-4",
          "33-Inf",
          "5-8",
          "5-8",
          "0-4",
          "5-8",
          "13-16",
          "17-20",
          "0-4",
          "0-4",
          "21-24",
          null,
          null,
          "33-Inf",
          null,
          "0-4",
          "5-8",
          null,
          "0-4",
          "0-4",
          null,
          "5-8",
          "13-16",
          "21-24",
          "5-8",
          "21-24",
          "33-Inf",
          null,
          null,
          null,
          "0-4",
          "9-12",
          "13-16",
          null,
          "9-12",
          "5-8",
          "9-12",
          "33-Inf",
          "13-16",
          "9-12",
          "0-4",
          "0-4",
          "9-12",
          "5-8",
          "21-24",
          null,
          "5-8",
          "5-8",
          "33-Inf",
          "9-12",
          "13-16",
          "33-Inf",
          "0-4",
          "5-8",
          "17-20",
          "13-16",
          "25-28",
          "9-12",
          "0-4",
          "13-16",
          "5-8",
          null,
          null,
          "5-8",
          "5-8",
          "13-16",
          "5-8",
          null,
          "5-8",
          "9-12",
          "5-8",
          "5-8",
          "0-4",
          null,
          "33-Inf",
          "0-4",
          "9-12",
          "21-24",
          "5-8",
          "5-8",
          "25-28",
          "0-4",
          "5-8",
          "5-8",
          "5-8",
          "9-12",
          "5-8",
          "0-4",
          "0-4",
          "5-8",
          "9-12",
          "13-16",
          "21-24",
          "13-16",
          "17-20",
          "5-8",
          "5-8",
          "25-28",
          "0-4",
          "5-8",
          "5-8",
          "21-24",
          "25-28",
          "25-28",
          "13-16",
          "33-Inf",
          "33-Inf",
          "25-28",
          "13-16",
          "5-8",
          "5-8",
          "33-Inf",
          "17-20",
          "5-8",
          "33-Inf",
          "9-12",
          "25-28",
          "25-28",
          "21-24",
          "5-8",
          "5-8",
          "5-8",
          "9-12",
          "9-12",
          "29-32",
          "5-8",
          "33-Inf",
          "33-Inf",
          "29-32",
          "13-16",
          "13-16",
          "13-16",
          "33-Inf",
          "5-8",
          "9-12",
          "0-4",
          "5-8",
          "5-8",
          "17-20",
          "25-28",
          "9-12",
          "5-8",
          "33-Inf",
          "0-4",
          "17-20",
          "13-16",
          "9-12",
          "21-24",
          null,
          "5-8",
          "13-16",
          "0-4",
          "21-24",
          "9-12",
          "17-20",
          "9-12",
          "9-12",
          "21-24",
          "9-12",
          "9-12",
          "33-Inf",
          "5-8",
          "5-8",
          null,
          "0-4",
          "25-28",
          "9-12",
          "13-16",
          "33-Inf",
          "21-24",
          "17-20",
          "13-16",
          "13-16",
          "5-8",
          "5-8",
          "29-32",
          "33-Inf",
          "17-20",
          "9-12",
          "5-8",
          "25-28",
          "5-8",
          "29-32",
          "33-Inf",
          "13-16",
          "13-16",
          "29-32",
          "5-8",
          "33-Inf",
          "9-12",
          "0-4",
          "5-8",
          "0-4",
          "33-Inf",
          "25-28",
          "5-8",
          "17-20",
          "5-8",
          "5-8",
          "5-8",
          "9-12",
          "13-16",
          "0-4",
          "5-8",
          "9-12",
          "9-12",
          "0-4",
          "5-8",
          "13-16",
          "5-8",
          "5-8",
          "0-4",
          "5-8",
          "5-8",
          "13-16",
          "5-8",
          "9-12",
          "9-12",
          "5-8",
          "9-12",
          "5-8",
          "13-16",
          "0-4",
          "5-8",
          "5-8",
          "9-12",
          "5-8",
          "9-12",
          "0-4",
          "5-8",
          "9-12",
          "5-8",
          "13-16",
          "21-24",
          "5-8",
          "13-16",
          "9-12",
          "13-16",
          "5-8",
          "13-16",
          "13-16",
          null,
          "5-8",
          null,
          "9-12",
          null,
          "17-20",
          "9-12",
          "5-8",
          "5-8",
          "9-12",
          "5-8",
          "0-4",
          "29-32",
          "5-8",
          "33-Inf",
          "33-Inf",
          "9-12",
          "13-16",
          "13-16",
          "33-Inf",
          "5-8",
          "0-4",
          "5-8",
          "5-8",
          "9-12",
          "5-8",
          "5-8",
          "33-Inf",
          "5-8",
          "13-16",
          "5-8",
          "5-8",
          "29-32",
          "5-8",
          "0-4",
          "0-4",
          "5-8",
          "5-8",
          "5-8",
          "0-4",
          "0-4",
          "0-4",
          "21-24",
          "9-12",
          "13-16",
          "33-Inf",
          "0-4",
          "0-4",
          "0-4",
          "9-12",
          "5-8",
          null,
          null,
          "33-Inf",
          null,
          "17-20",
          "0-4",
          null,
          "9-12",
          "21-24",
          "5-8",
          "5-8",
          "0-4",
          "17-20",
          "0-4",
          "0-4",
          "5-8",
          "0-4",
          "5-8",
          null,
          null,
          "33-Inf",
          "0-4",
          null,
          null,
          "25-28",
          "0-4",
          "0-4",
          "13-16",
          "33-Inf",
          "33-Inf",
          "9-12",
          "33-Inf",
          "5-8",
          "5-8",
          "5-8",
          "9-12",
          "9-12",
          "0-4",
          "9-12",
          "33-Inf",
          "13-16",
          "29-32",
          "0-4",
          "9-12",
          "9-12",
          "13-16",
          "0-4",
          "17-20",
          "0-4",
          "13-16",
          "33-Inf",
          "0-4",
          "33-Inf",
          "0-4",
          "21-24",
          null,
          null,
          null,
          null,
          null,
          "0-4",
          "9-12",
          "5-8",
          null,
          "5-8",
          null,
          "33-Inf",
          "33-Inf",
          "0-4",
          "5-8",
          "0-4",
          "0-4",
          null,
          "5-8",
          "9-12",
          "0-4",
          null,
          "5-8",
          "0-4",
          "5-8",
          "9-12",
          "5-8",
          null,
          "0-4",
          "13-16",
          "9-12",
          "0-4",
          "13-16",
          "29-32",
          "9-12",
          "5-8",
          "5-8",
          "5-8",
          "5-8",
          "5-8",
          "17-20",
          "5-8",
          "13-16",
          "9-12",
          "5-8",
          "5-8",
          "21-24",
          "5-8",
          "5-8",
          "0-4",
          "5-8",
          "13-16",
          "5-8",
          "5-8",
          "9-12",
          "13-16",
          "13-16",
          "5-8",
          "5-8",
          "13-16",
          "17-20",
          "5-8",
          "0-4",
          "5-8",
          "0-4",
          null,
          "13-16",
          "5-8",
          "5-8",
          "25-28",
          "9-12",
          "13-16",
          "17-20",
          "5-8",
          null,
          "21-24",
          "5-8",
          "5-8",
          "0-4",
          "5-8",
          "29-32",
          null,
          "5-8",
          "33-Inf",
          "5-8",
          "33-Inf",
          null,
          "33-Inf",
          null,
          "9-12",
          "0-4",
          null,
          "5-8",
          "21-24",
          "0-4",
          "21-24",
          "5-8",
          "33-Inf",
          "9-12",
          "33-Inf",
          "5-8",
          "5-8",
          "5-8",
          "0-4",
          "9-12",
          "0-4",
          "25-28",
          "9-12",
          "29-32",
          "25-28",
          "17-20",
          "9-12",
          "13-16",
          "0-4",
          null,
          "0-4",
          "33-Inf",
          "5-8",
          "21-24",
          "21-24",
          "33-Inf",
          null,
          "5-8",
          "5-8",
          "0-4",
          "9-12",
          "0-4",
          "21-24",
          "13-16",
          "9-12",
          "21-24",
          "21-24",
          "0-4",
          "5-8",
          "33-Inf",
          "0-4",
          "5-8",
          null,
          "13-16",
          "5-8",
          "29-32",
          "33-Inf",
          "33-Inf",
          "5-8",
          null,
          "0-4",
          "5-8",
          "5-8",
          "9-12",
          "25-28",
          "33-Inf",
          "17-20",
          "0-4",
          "13-16",
          null,
          "21-24",
          "5-8",
          "5-8",
          "5-8",
          null,
          "13-16",
          "13-16",
          "5-8",
          "17-20",
          null,
          null,
          "5-8",
          "5-8",
          "9-12",
          null,
          "5-8",
          "9-12",
          "13-16",
          "21-24",
          "5-8",
          "13-16",
          "0-4",
          "0-4",
          "17-20",
          "0-4",
          "5-8",
          "5-8",
          "0-4",
          "5-8",
          null,
          "9-12",
          "0-4",
          "9-12",
          "0-4",
          "0-4",
          "9-12",
          "5-8",
          "9-12",
          "0-4",
          "33-Inf",
          "9-12",
          "0-4",
          "9-12",
          "9-12",
          "5-8",
          "0-4",
          "0-4",
          "9-12",
          "5-8",
          "5-8",
          "0-4",
          "13-16",
          "5-8",
          "5-8",
          null,
          "0-4",
          null,
          "0-4",
          "5-8",
          null,
          "5-8",
          "5-8",
          "25-28",
          "0-4",
          "5-8",
          "5-8",
          "5-8",
          "25-28",
          "9-12",
          "9-12",
          "5-8",
          "5-8",
          "13-16",
          "5-8",
          "5-8",
          "0-4",
          "13-16",
          "5-8",
          "29-32",
          "0-4",
          "5-8",
          "13-16",
          "9-12",
          "5-8",
          "5-8",
          "0-4",
          "5-8",
          "17-20",
          "17-20",
          "5-8",
          "0-4",
          "21-24",
          "5-8",
          "5-8",
          "9-12",
          "21-24",
          "5-8",
          "0-4",
          "0-4",
          null,
          "5-8",
          "0-4",
          "5-8",
          null,
          null,
          null,
          "13-16",
          null,
          null,
          "21-24",
          "13-16",
          "5-8",
          "13-16",
          "5-8",
          null,
          "13-16",
          "33-Inf",
          "29-32",
          "13-16",
          "25-28",
          "5-8",
          "5-8",
          "33-Inf",
          null,
          "0-4",
          "5-8",
          "13-16",
          "0-4",
          "17-20",
          "5-8",
          null,
          "13-16",
          "9-12",
          "5-8",
          "5-8",
          null,
          null,
          "0-4",
          null,
          "5-8",
          "29-32",
          null,
          "0-4",
          "21-24",
          "9-12",
          "0-4",
          "0-4",
          "0-4",
          "0-4",
          "13-16",
          "5-8",
          "25-28",
          "9-12",
          "9-12",
          "9-12",
          "33-Inf",
          "13-16",
          "5-8",
          "9-12",
          "13-16",
          "0-4",
          "5-8",
          "9-12",
          "9-12",
          "9-12",
          "9-12",
          "17-20",
          "5-8",
          "17-20",
          "17-20",
          "0-4",
          "13-16",
          "5-8",
          "9-12",
          "13-16",
          "13-16",
          "5-8",
          "9-12",
          "5-8",
          "21-24",
          "0-4",
          "5-8",
          "5-8",
          "5-8",
          null,
          "5-8",
          "0-4",
          "5-8",
          "21-24",
          "5-8",
          "5-8",
          "25-28",
          "17-20",
          "5-8",
          "5-8",
          "0-4",
          "5-8",
          "29-32",
          "5-8",
          "9-12",
          "25-28",
          "5-8",
          "5-8",
          "13-16",
          "9-12",
          "21-24",
          "5-8",
          "0-4",
          "5-8",
          "13-16",
          "5-8",
          "5-8",
          "5-8",
          null,
          "5-8",
          "9-12",
          "25-28",
          "9-12",
          "5-8",
          "33-Inf",
          "33-Inf",
          "5-8",
          "5-8",
          "5-8",
          "13-16",
          "21-24",
          "13-16",
          "5-8",
          "13-16",
          "13-16",
          "33-Inf",
          "33-Inf",
          "5-8",
          "29-32",
          "9-12",
          null,
          "0-4",
          "33-Inf",
          "5-8",
          "13-16",
          "0-4",
          "9-12",
          "33-Inf",
          "17-20",
          "5-8",
          "5-8",
          "5-8",
          "5-8",
          "21-24",
          "13-16",
          "9-12",
          "33-Inf",
          "17-20",
          "17-20",
          "5-8",
          "9-12",
          "17-20",
          "25-28",
          "9-12",
          "21-24",
          "9-12",
          "0-4",
          "5-8",
          "13-16",
          "5-8",
          "0-4",
          "5-8",
          "5-8",
          "9-12",
          "9-12",
          "21-24",
          "5-8",
          "0-4",
          "0-4",
          "29-32",
          "13-16",
          "5-8",
          "17-20",
          "0-4",
          "5-8",
          "0-4",
          "25-28",
          "17-20",
          "9-12",
          "5-8",
          "9-12",
          "5-8",
          "5-8",
          "5-8",
          "5-8",
          "5-8",
          "33-Inf",
          "0-4",
          "13-16",
          "0-4",
          "0-4",
          "0-4",
          "25-28",
          "0-4",
          "13-16",
          "25-28",
          "5-8",
          "0-4",
          "0-4",
          "0-4",
          "17-20",
          "0-4",
          "29-32",
          "5-8",
          "0-4",
          "9-12",
          "0-4",
          "13-16",
          "17-20",
          "25-28",
          "5-8",
          "9-12",
          "5-8",
          null,
          "0-4",
          "9-12",
          "5-8",
          "5-8",
          "5-8",
          "17-20",
          "5-8",
          "0-4",
          "17-20",
          "0-4",
          "5-8",
          "0-4",
          "0-4",
          "0-4",
          "5-8",
          "33-Inf",
          "5-8",
          "0-4",
          "5-8",
          "9-12",
          "5-8",
          "9-12",
          "9-12",
          null,
          "5-8",
          "0-4",
          "5-8",
          "5-8",
          "5-8",
          "5-8",
          "21-24",
          null,
          "9-12",
          "5-8",
          "29-32",
          "9-12",
          "5-8",
          "0-4",
          "13-16",
          "9-12",
          "5-8",
          "0-4",
          "5-8",
          "9-12",
          "9-12",
          "0-4",
          "33-Inf",
          "5-8",
          "5-8",
          "25-28",
          "9-12",
          "9-12",
          "5-8",
          "5-8",
          "33-Inf",
          "25-28",
          "25-28",
          "5-8",
          "13-16",
          "17-20",
          "9-12",
          "5-8",
          "5-8",
          null,
          "5-8",
          "5-8",
          "9-12",
          "0-4",
          null,
          "5-8",
          "0-4",
          "29-32",
          "0-4",
          "5-8",
          "5-8",
          "9-12",
          "5-8",
          "9-12",
          "5-8",
          "5-8",
          null,
          null,
          "5-8",
          "13-16",
          "5-8",
          "13-16",
          "25-28",
          "33-Inf",
          "17-20",
          "5-8",
          "0-4",
          null,
          "0-4",
          "5-8",
          "29-32",
          "29-32",
          "13-16",
          "0-4",
          "5-8",
          "33-Inf",
          "9-12",
          "5-8",
          "0-4",
          "5-8",
          null,
          "9-12",
          "5-8",
          "5-8",
          "5-8",
          "33-Inf",
          null,
          "5-8",
          "0-4",
          "0-4",
          "25-28",
          "5-8",
          "0-4",
          null,
          "0-4",
          "9-12",
          "17-20",
          "0-4",
          "5-8",
          "33-Inf",
          "9-12",
          "5-8",
          "5-8",
          "21-24",
          "13-16",
          "9-12",
          "9-12",
          "0-4",
          "9-12",
          "5-8",
          "9-12",
          "5-8",
          "25-28",
          "9-12",
          "21-24",
          "0-4",
          "9-12",
          "9-12",
          "0-4",
          "5-8",
          "5-8",
          "17-20",
          "0-4",
          "5-8",
          "5-8",
          "0-4",
          "9-12",
          "21-24",
          "0-4",
          "5-8",
          "13-16",
          "9-12",
          "33-Inf",
          "9-12",
          "5-8",
          "17-20",
          "9-12",
          "5-8",
          "9-12",
          "29-32",
          "0-4",
          "9-12",
          "5-8",
          "5-8",
          "33-Inf",
          "9-12",
          "17-20",
          "5-8",
          "5-8",
          "5-8",
          "13-16",
          "5-8",
          "5-8",
          "25-28",
          "5-8",
          "5-8",
          "5-8",
          "0-4",
          "5-8",
          "13-16",
          "0-4",
          null,
          "9-12",
          "0-4",
          "5-8",
          "9-12",
          "5-8",
          "13-16",
          "0-4",
          "0-4",
          "25-28",
          "17-20",
          "13-16",
          "9-12",
          "5-8",
          "33-Inf",
          "0-4",
          null,
          "0-4",
          "0-4",
          "5-8",
          "9-12",
          "9-12",
          "5-8",
          "9-12",
          "5-8",
          "0-4",
          "9-12",
          "21-24",
          "9-12",
          "0-4",
          "5-8",
          "5-8",
          null,
          "5-8",
          "13-16",
          "5-8",
          "9-12",
          "9-12",
          "17-20",
          "9-12",
          "0-4",
          "5-8",
          "21-24",
          "5-8",
          "9-12",
          "5-8",
          "5-8",
          "5-8",
          "5-8",
          "9-12",
          "5-8",
          "25-28",
          "5-8",
          "5-8",
          "5-8",
          "5-8",
          "0-4",
          "5-8",
          "0-4",
          "0-4",
          "9-12",
          "5-8",
          "9-12",
          null,
          "33-Inf",
          "25-28",
          "33-Inf",
          "5-8",
          "9-12",
          "13-16",
          "33-Inf",
          "21-24",
          "13-16",
          "5-8",
          "33-Inf",
          null,
          "9-12",
          "5-8",
          "17-20",
          "5-8",
          "9-12",
          "5-8",
          "0-4",
          "0-4",
          "5-8",
          "5-8",
          "0-4",
          "25-28",
          "13-16",
          "17-20",
          "13-16",
          "5-8",
          "5-8",
          "9-12",
          "17-20",
          "5-8",
          "0-4",
          "0-4",
          "5-8",
          "5-8",
          "33-Inf",
          "21-24",
          "0-4",
          "0-4",
          "5-8",
          "5-8",
          "13-16",
          "21-24",
          "0-4",
          "33-Inf",
          "13-16",
          "25-28",
          "0-4",
          "9-12",
          "17-20",
          "21-24",
          "0-4",
          "5-8",
          "33-Inf",
          "0-4",
          "0-4",
          "5-8",
          "5-8",
          "5-8",
          "5-8",
          "5-8",
          "5-8",
          "0-4",
          "13-16",
          "13-16",
          "9-12",
          "9-12",
          "0-4",
          "5-8",
          "33-Inf",
          "5-8",
          "5-8",
          "5-8",
          "0-4",
          "33-Inf",
          "5-8",
          "5-8",
          "5-8",
          "5-8",
          "33-Inf",
          "5-8",
          "5-8",
          "5-8",
          "5-8",
          "25-28",
          "0-4",
          "13-16",
          "5-8",
          "33-Inf",
          "5-8",
          "25-28",
          "5-8",
          "0-4",
          "9-12",
          "0-4",
          "0-4",
          "13-16",
          "13-16",
          "5-8",
          "5-8",
          "5-8",
          "5-8",
          "13-16",
          "33-Inf",
          "5-8",
          "5-8",
          "5-8",
          "0-4",
          "33-Inf",
          "9-12",
          "0-4",
          "5-8",
          null,
          "9-12",
          null,
          "13-16",
          "9-12",
          "5-8",
          "9-12",
          "9-12",
          null,
          "5-8",
          null,
          null,
          "5-8",
          "5-8",
          "5-8",
          "13-16",
          "17-20",
          "0-4",
          "0-4",
          null,
          "5-8",
          "5-8",
          null,
          "9-12",
          null,
          "5-8",
          "33-Inf",
          null,
          "9-12",
          null,
          null,
          "5-8",
          null,
          "5-8",
          "5-8",
          "9-12",
          "9-12",
          "13-16",
          "9-12",
          "13-16",
          null,
          "13-16",
          "9-12",
          "13-16",
          "5-8",
          "5-8",
          "0-4",
          "0-4",
          "25-28",
          "0-4",
          "17-20",
          "9-12",
          "9-12",
          null,
          "0-4",
          null,
          null,
          "17-20",
          "5-8",
          "0-4",
          null,
          null,
          "5-8",
          null,
          "5-8",
          "0-4",
          "5-8",
          "9-12",
          "5-8",
          "5-8",
          "0-4",
          "5-8",
          "5-8",
          "0-4",
          "0-4",
          "17-20",
          "0-4",
          "0-4",
          "9-12",
          "5-8",
          "5-8",
          "25-28",
          "5-8",
          "5-8",
          "9-12",
          "33-Inf",
          "0-4",
          "33-Inf",
          "0-4",
          "5-8",
          "0-4",
          "13-16",
          "21-24",
          "9-12",
          null,
          "13-16",
          "5-8",
          "9-12",
          "9-12",
          "0-4",
          "5-8",
          "9-12",
          "5-8",
          "9-12",
          "25-28",
          "13-16",
          "9-12",
          "9-12",
          "9-12",
          "0-4",
          "5-8",
          "5-8",
          "17-20",
          "5-8",
          "0-4",
          "5-8",
          "5-8",
          "9-12",
          "33-Inf",
          "0-4",
          "9-12",
          "5-8",
          "21-24",
          "21-24",
          "13-16",
          "5-8",
          "25-28",
          "5-8",
          "5-8",
          "9-12",
          "5-8",
          "5-8",
          "5-8",
          "33-Inf",
          "5-8",
          "5-8",
          "9-12",
          "21-24",
          "17-20",
          "5-8",
          "5-8",
          "5-8",
          "5-8",
          "5-8",
          "9-12",
          "13-16",
          "0-4",
          "5-8",
          "5-8",
          "17-20",
          "5-8",
          "9-12",
          "25-28",
          "5-8",
          "5-8",
          "9-12",
          "5-8",
          "29-32",
          "21-24",
          "25-28",
          "0-4",
          "5-8",
          "25-28",
          "21-24",
          "9-12",
          "13-16",
          "5-8",
          null,
          "0-4",
          "9-12",
          "29-32",
          null,
          "5-8",
          "21-24",
          "9-12",
          "25-28",
          "5-8",
          "33-Inf",
          "33-Inf",
          "5-8",
          "17-20",
          "9-12",
          "5-8",
          "9-12",
          "5-8",
          "9-12",
          "5-8",
          null,
          "9-12",
          null,
          "13-16",
          "9-12",
          "9-12",
          "33-Inf",
          null,
          "21-24",
          null,
          "5-8",
          "17-20",
          "5-8",
          "29-32",
          "17-20",
          "13-16",
          "25-28",
          null,
          "13-16",
          "9-12",
          "5-8",
          "33-Inf",
          "13-16",
          "25-28",
          "9-12",
          "17-20",
          "0-4",
          "5-8",
          "5-8",
          "0-4",
          "9-12",
          null,
          null,
          "33-Inf",
          "5-8",
          "9-12",
          "5-8",
          "9-12",
          "9-12",
          "13-16",
          "9-12",
          "17-20",
          "9-12",
          "29-32",
          "0-4",
          "0-4",
          "5-8",
          "29-32",
          "29-32",
          "5-8",
          "17-20",
          "5-8",
          "5-8",
          "13-16",
          "0-4",
          "5-8",
          "13-16",
          "9-12",
          "5-8",
          "21-24",
          "9-12",
          "33-Inf",
          "5-8",
          "9-12",
          "25-28",
          "5-8",
          "33-Inf",
          "33-Inf",
          "33-Inf",
          null,
          "13-16",
          "5-8",
          "9-12",
          "5-8",
          "5-8",
          "33-Inf",
          "9-12",
          "5-8",
          "0-4",
          "5-8",
          "13-16",
          "33-Inf",
          "5-8",
          "5-8",
          "9-12",
          "0-4",
          "13-16",
          "25-28",
          "33-Inf",
          "21-24",
          "29-32",
          "33-Inf",
          "0-4",
          "25-28",
          "21-24",
          "5-8",
          "9-12",
          "21-24",
          "0-4",
          "21-24",
          "21-24",
          null,
          "33-Inf",
          null,
          "17-20",
          "21-24",
          "13-16",
          "17-20",
          "13-16",
          "13-16",
          "5-8",
          "5-8",
          "0-4",
          "0-4",
          "9-12",
          "13-16",
          "5-8",
          "0-4",
          "33-Inf",
          "9-12",
          "13-16",
          "0-4",
          "0-4",
          "13-16",
          null,
          "33-Inf",
          "9-12",
          "33-Inf",
          "17-20",
          "0-4",
          "5-8",
          "5-8",
          "21-24",
          "5-8",
          "33-Inf",
          "9-12",
          "0-4",
          "9-12",
          "13-16",
          "17-20",
          "5-8",
          "9-12",
          "33-Inf",
          "0-4",
          "5-8",
          "33-Inf",
          null,
          "17-20",
          "0-4",
          "5-8",
          null,
          "5-8",
          "0-4",
          null,
          "0-4",
          "0-4",
          "5-8",
          "5-8",
          "9-12",
          "5-8",
          "5-8",
          "13-16",
          "0-4",
          "9-12",
          "5-8",
          "0-4",
          "5-8",
          "0-4",
          null,
          "0-4",
          "0-4",
          "5-8",
          "5-8",
          null,
          null,
          "33-Inf",
          "29-32",
          "33-Inf",
          "0-4",
          "5-8",
          "9-12",
          "17-20",
          "21-24",
          null,
          "0-4",
          "13-16",
          "33-Inf",
          "0-4",
          "5-8",
          "5-8",
          "0-4",
          "9-12",
          "0-4",
          "9-12",
          "33-Inf",
          "33-Inf",
          "17-20",
          "5-8",
          "0-4",
          "17-20",
          "0-4",
          "9-12",
          "33-Inf",
          "5-8",
          "17-20",
          "0-4",
          "9-12",
          "9-12",
          "0-4",
          "0-4",
          "5-8",
          "5-8",
          "0-4",
          "33-Inf",
          "9-12",
          "5-8",
          "25-28",
          "5-8",
          "5-8",
          "5-8",
          "33-Inf",
          "33-Inf",
          null,
          "0-4",
          "0-4",
          "9-12",
          "5-8",
          "0-4",
          "9-12",
          "13-16",
          "5-8",
          "0-4",
          "9-12",
          "5-8",
          null,
          "33-Inf",
          "9-12",
          "0-4",
          null,
          "0-4",
          "5-8",
          null,
          "21-24",
          "0-4",
          "9-12",
          "9-12",
          "5-8",
          "5-8",
          "5-8",
          "5-8",
          "0-4",
          "5-8",
          "13-16",
          "9-12",
          "0-4",
          "33-Inf",
          "5-8",
          "13-16",
          "5-8",
          "0-4",
          "33-Inf",
          "5-8",
          "5-8",
          "5-8",
          "5-8",
          "25-28",
          "9-12",
          "9-12",
          "5-8",
          "21-24",
          "9-12",
          "5-8",
          "25-28",
          null,
          null,
          "13-16",
          null,
          null,
          "13-16",
          "0-4",
          "9-12",
          "21-24",
          "5-8",
          "33-Inf",
          null,
          "5-8",
          "5-8",
          "9-12",
          null,
          "0-4",
          "13-16",
          "0-4",
          null,
          "9-12",
          "13-16",
          "29-32",
          "0-4",
          "5-8",
          "5-8",
          "33-Inf",
          "33-Inf",
          "17-20",
          "0-4",
          "5-8",
          "5-8",
          "33-Inf",
          "17-20",
          "5-8",
          "9-12",
          "0-4",
          "9-12",
          "33-Inf",
          "0-4",
          null,
          "9-12",
          "0-4",
          "33-Inf",
          "0-4",
          "0-4",
          "21-24",
          "5-8",
          "0-4",
          "21-24",
          "5-8",
          null,
          "9-12",
          "0-4",
          "33-Inf",
          "5-8",
          "9-12",
          "9-12",
          "5-8",
          "5-8",
          "5-8",
          "0-4",
          "9-12",
          "5-8",
          "0-4",
          "9-12",
          "17-20",
          "5-8",
          "5-8",
          "21-24",
          "5-8",
          "5-8",
          "0-4",
          "5-8",
          "5-8",
          "5-8",
          "13-16",
          "9-12",
          "9-12",
          "5-8",
          "9-12",
          "13-16",
          "5-8",
          "0-4",
          "9-12",
          "9-12",
          "25-28",
          "9-12",
          "5-8",
          "0-4",
          "33-Inf",
          "5-8",
          "9-12",
          "5-8",
          "5-8",
          "5-8",
          "25-28",
          "0-4",
          "33-Inf",
          "0-4",
          "0-4",
          "13-16",
          "13-16",
          "0-4",
          "5-8",
          "5-8",
          "21-24",
          "5-8",
          "13-16",
          "5-8",
          "0-4",
          "5-8",
          "5-8",
          "25-28",
          "13-16",
          "17-20",
          "5-8",
          "0-4",
          "13-16",
          "13-16",
          "13-16",
          "5-8",
          "0-4",
          "0-4",
          "0-4",
          null,
          null,
          "9-12",
          "5-8",
          "0-4",
          "5-8",
          "0-4",
          "0-4",
          "25-28",
          "0-4",
          "9-12",
          "29-32",
          "5-8",
          "21-24",
          "9-12",
          "0-4",
          "17-20",
          "9-12",
          "0-4",
          "0-4",
          "21-24",
          "5-8",
          "5-8",
          "0-4",
          "33-Inf",
          "25-28",
          "5-8",
          "0-4",
          "5-8",
          "29-32",
          "25-28",
          "9-12",
          "33-Inf",
          "17-20",
          "33-Inf",
          "33-Inf",
          "5-8",
          "21-24",
          "0-4",
          "17-20",
          "17-20",
          "5-8",
          "17-20",
          "9-12",
          "9-12",
          "33-Inf",
          null,
          "33-Inf",
          "21-24",
          null,
          "29-32",
          "33-Inf",
          "33-Inf",
          "25-28",
          "29-32",
          "5-8",
          "13-16",
          "5-8",
          "33-Inf",
          "5-8",
          "5-8",
          "5-8",
          "25-28",
          "9-12",
          "0-4",
          "0-4",
          "5-8",
          "0-4",
          "17-20",
          "13-16",
          "5-8",
          "9-12",
          "33-Inf",
          "5-8",
          "13-16",
          "0-4",
          "9-12",
          "13-16",
          "5-8",
          "17-20",
          "29-32",
          "0-4",
          "25-28",
          "9-12",
          "9-12",
          "0-4",
          "33-Inf",
          "0-4",
          "33-Inf",
          "17-20",
          "13-16",
          "5-8",
          "21-24",
          "5-8",
          "0-4",
          "17-20",
          "21-24",
          "17-20",
          "21-24",
          "13-16",
          "0-4",
          "0-4",
          "9-12",
          "9-12",
          "0-4",
          "13-16",
          "9-12",
          "9-12",
          "5-8",
          "13-16",
          "5-8",
          "5-8",
          "0-4",
          "13-16",
          "0-4",
          "5-8",
          "29-32",
          "0-4",
          null,
          null,
          "5-8",
          "17-20",
          "17-20",
          "9-12",
          "5-8",
          "13-16",
          "21-24",
          "9-12",
          "25-28",
          "17-20",
          "5-8",
          null,
          null,
          "33-Inf",
          "13-16",
          "5-8",
          "13-16",
          null,
          "13-16",
          "21-24",
          "21-24",
          "33-Inf",
          null,
          "29-32",
          "0-4",
          "9-12",
          "5-8",
          "9-12",
          "0-4",
          "33-Inf",
          "5-8",
          "0-4",
          "13-16",
          "5-8",
          "5-8",
          "0-4",
          "17-20",
          "13-16",
          null,
          "17-20",
          "17-20",
          "5-8",
          "0-4",
          null,
          "0-4",
          "25-28",
          "9-12",
          "9-12",
          "29-32",
          "5-8",
          "17-20",
          "17-20",
          "0-4",
          "5-8",
          "5-8",
          "0-4",
          null,
          "5-8",
          "33-Inf",
          "0-4",
          "33-Inf",
          "0-4",
          "0-4",
          null,
          "5-8",
          "0-4",
          "9-12",
          "17-20",
          "33-Inf",
          "17-20",
          "0-4",
          "33-Inf",
          "29-32",
          "5-8",
          "33-Inf",
          "5-8",
          "17-20",
          "0-4",
          "5-8",
          "5-8",
          "21-24",
          "21-24",
          "5-8",
          "29-32",
          "17-20",
          "5-8",
          "5-8",
          "5-8",
          "13-16",
          "5-8",
          "13-16",
          "9-12",
          "9-12",
          "17-20",
          "13-16",
          "5-8",
          "5-8",
          "0-4",
          "5-8",
          "0-4",
          "0-4",
          "13-16",
          "29-32",
          "0-4",
          "0-4",
          "5-8",
          "29-32",
          "9-12",
          null,
          "9-12",
          null,
          "5-8",
          "5-8",
          "13-16",
          "13-16",
          "9-12",
          "13-16",
          "9-12",
          "17-20",
          "9-12",
          "5-8",
          "5-8",
          "5-8",
          "9-12",
          "5-8",
          "0-4",
          "13-16",
          "5-8",
          "13-16",
          "9-12",
          "0-4",
          "0-4",
          "29-32",
          "0-4",
          "13-16",
          "5-8",
          "0-4",
          "13-16",
          "21-24",
          "0-4",
          "9-12",
          "13-16",
          "9-12",
          "9-12",
          "5-8",
          "13-16",
          "9-12",
          "9-12",
          "5-8",
          "9-12",
          "5-8",
          "9-12",
          "0-4",
          "21-24",
          "9-12",
          "0-4",
          "25-28",
          "0-4",
          "0-4",
          null,
          "33-Inf",
          "9-12",
          "5-8",
          "5-8",
          null,
          "33-Inf",
          "25-28",
          "13-16",
          "0-4",
          "21-24",
          "17-20",
          "0-4",
          "5-8",
          "9-12",
          "21-24",
          "0-4",
          "9-12",
          "5-8",
          "21-24",
          null,
          null,
          "0-4",
          "9-12",
          "9-12",
          "9-12",
          "9-12",
          "5-8",
          "0-4",
          "0-4",
          "9-12",
          "5-8",
          "9-12",
          "9-12",
          "5-8",
          "5-8",
          "0-4",
          "9-12",
          "9-12",
          "5-8",
          "5-8",
          "9-12",
          "5-8",
          "25-28",
          "33-Inf",
          "9-12",
          "5-8",
          null,
          "0-4",
          "21-24",
          "9-12",
          "0-4",
          null,
          "0-4",
          "9-12",
          "0-4",
          "5-8",
          "0-4",
          "5-8",
          "5-8",
          "0-4",
          "17-20",
          "21-24",
          "5-8",
          "9-12",
          null,
          "0-4",
          "5-8",
          "13-16",
          "0-4",
          "5-8",
          "9-12",
          null,
          "5-8",
          "0-4",
          "33-Inf",
          null,
          "29-32",
          null,
          "9-12",
          "0-4",
          "0-4",
          "5-8",
          "5-8",
          "9-12",
          "17-20",
          null,
          "5-8",
          null,
          "9-12",
          "0-4",
          "0-4",
          "5-8",
          "5-8",
          "9-12",
          "5-8",
          "21-24",
          "21-24",
          "17-20",
          "33-Inf",
          null,
          "5-8",
          "9-12",
          "0-4",
          "9-12",
          "5-8",
          "9-12",
          "5-8",
          null,
          "13-16",
          "13-16",
          "5-8",
          "9-12",
          "5-8",
          "5-8",
          "33-Inf",
          null,
          "5-8",
          "9-12",
          null,
          "5-8",
          "33-Inf",
          "5-8",
          "33-Inf",
          "5-8",
          "0-4",
          "0-4",
          "29-32",
          "29-32",
          "0-4",
          "5-8",
          "0-4",
          "5-8",
          null,
          "13-16",
          "5-8",
          null,
          "0-4",
          "17-20",
          "5-8",
          "0-4",
          "9-12",
          null,
          "5-8",
          "5-8",
          "9-12",
          null,
          "0-4",
          "5-8",
          null,
          "13-16",
          "9-12",
          "13-16",
          "9-12",
          "5-8",
          null,
          "5-8",
          "33-Inf",
          "9-12",
          "33-Inf",
          "0-4",
          null,
          "0-4",
          null,
          "13-16",
          "9-12",
          "25-28",
          "33-Inf",
          "33-Inf",
          "33-Inf",
          "21-24",
          "29-32",
          "33-Inf",
          null,
          "9-12",
          "17-20",
          "5-8",
          null,
          "29-32",
          "9-12",
          "21-24",
          null,
          "9-12",
          "0-4",
          "13-16",
          "25-28",
          "25-28",
          "13-16",
          "25-28",
          "5-8",
          "5-8",
          "17-20",
          "0-4",
          "29-32",
          "17-20",
          "29-32",
          null,
          "9-12",
          "9-12",
          "9-12",
          "9-12",
          "5-8",
          "5-8",
          "9-12",
          "13-16",
          "5-8",
          "0-4",
          "9-12",
          "9-12",
          "9-12",
          "5-8",
          "17-20",
          "0-4",
          "5-8",
          "9-12",
          "5-8",
          "5-8",
          "0-4",
          "13-16",
          "5-8",
          "9-12",
          "9-12",
          "0-4",
          "5-8",
          "25-28",
          "5-8",
          "13-16",
          "0-4",
          "9-12",
          "5-8",
          "0-4",
          "29-32",
          "33-Inf",
          "13-16",
          "9-12",
          "25-28",
          "9-12",
          "5-8",
          "29-32",
          "9-12",
          "33-Inf",
          "25-28",
          "25-28",
          "17-20",
          "0-4",
          "0-4",
          "25-28",
          null,
          "13-16",
          "13-16",
          null,
          "9-12",
          "13-16",
          "0-4",
          "21-24",
          "13-16",
          "5-8",
          "13-16",
          "5-8",
          "0-4",
          "0-4",
          "33-Inf",
          "33-Inf",
          "17-20",
          "9-12",
          "9-12",
          "9-12",
          "33-Inf",
          "9-12",
          "0-4",
          "5-8",
          "17-20",
          "0-4",
          "9-12",
          "17-20",
          "9-12",
          "5-8",
          "33-Inf",
          "0-4",
          "21-24",
          "0-4",
          "5-8",
          "5-8",
          "5-8",
          null,
          "5-8",
          "9-12",
          "25-28",
          "25-28",
          "13-16",
          null,
          "29-32",
          "0-4",
          "21-24",
          "13-16",
          "9-12",
          null,
          null,
          "13-16",
          "33-Inf",
          "21-24",
          "25-28",
          "33-Inf",
          "9-12",
          "17-20",
          "5-8",
          "0-4",
          null,
          "13-16",
          "5-8",
          "9-12",
          "33-Inf",
          "13-16",
          "25-28",
          "9-12",
          "5-8",
          null,
          null,
          "33-Inf",
          "9-12",
          "17-20",
          "33-Inf",
          "13-16",
          "5-8",
          "33-Inf",
          "9-12",
          "13-16",
          "21-24",
          "25-28",
          "0-4",
          "13-16",
          "21-24",
          "0-4",
          "5-8",
          "21-24",
          "0-4",
          null,
          "33-Inf",
          "13-16",
          "33-Inf",
          "0-4",
          "0-4",
          "33-Inf",
          null,
          "33-Inf",
          "13-16",
          "0-4",
          "13-16",
          "5-8",
          "5-8",
          "5-8",
          "5-8",
          "25-28",
          null,
          "0-4",
          "5-8",
          "9-12",
          "13-16",
          "9-12",
          null,
          "5-8",
          "9-12",
          "5-8",
          "13-16",
          "25-28",
          "25-28",
          null,
          "33-Inf",
          "5-8",
          "9-12",
          "9-12",
          "9-12",
          "0-4",
          "13-16",
          "5-8",
          "0-4",
          "5-8",
          "33-Inf",
          "13-16",
          "33-Inf",
          null,
          "0-4",
          "9-12",
          "9-12",
          "5-8",
          null,
          null,
          "13-16",
          null,
          "5-8",
          "9-12",
          "17-20",
          "9-12",
          "9-12",
          null,
          "0-4",
          "13-16",
          "5-8",
          null,
          null,
          "9-12",
          "25-28",
          "9-12",
          "33-Inf",
          "33-Inf",
          "13-16",
          "5-8",
          null,
          null,
          "0-4",
          "13-16",
          "25-28",
          "17-20",
          "13-16",
          "21-24",
          "17-20",
          "5-8",
          "0-4",
          "21-24",
          null,
          "9-12",
          "9-12",
          "9-12",
          "9-12",
          "9-12",
          "33-Inf",
          "25-28",
          "33-Inf",
          "13-16",
          "29-32",
          "0-4",
          null,
          "9-12",
          null,
          "29-32",
          "0-4",
          "9-12",
          "0-4",
          "0-4",
          null,
          "5-8",
          "5-8",
          "0-4",
          null,
          "17-20",
          "17-20",
          null,
          "5-8",
          "5-8",
          "0-4",
          "9-12",
          "0-4",
          "9-12",
          null,
          "9-12",
          "5-8",
          "0-4",
          "5-8",
          "0-4",
          "5-8",
          "9-12",
          "25-28",
          "17-20",
          "5-8",
          "0-4",
          "9-12",
          "5-8",
          "5-8",
          "5-8",
          "0-4",
          "0-4",
          null,
          "5-8",
          "33-Inf",
          "5-8",
          "0-4",
          "5-8",
          "9-12",
          "5-8",
          "9-12",
          "5-8",
          "5-8",
          "5-8",
          "9-12",
          "0-4",
          "5-8",
          "5-8",
          "13-16",
          "0-4",
          "13-16",
          "25-28",
          "5-8",
          "17-20",
          "9-12",
          "29-32",
          "5-8",
          "5-8",
          "5-8",
          "0-4",
          "0-4",
          "5-8",
          "9-12",
          "9-12",
          "17-20",
          "33-Inf",
          "13-16",
          "5-8",
          "5-8",
          "0-4",
          "21-24",
          "5-8",
          "9-12",
          "0-4",
          "5-8",
          "5-8",
          "5-8",
          "13-16",
          "0-4",
          "5-8",
          "13-16",
          "5-8",
          "5-8",
          "0-4",
          "21-24",
          "13-16",
          "0-4",
          null,
          "9-12",
          "9-12",
          "5-8",
          "5-8",
          "21-24",
          "5-8",
          "21-24",
          "0-4",
          "0-4",
          "0-4",
          "0-4",
          "0-4",
          "17-20",
          "5-8",
          "5-8",
          "0-4",
          "9-12",
          "13-16",
          "0-4",
          "13-16",
          "9-12",
          null,
          "9-12",
          "5-8",
          "9-12",
          "13-16",
          "0-4",
          "33-Inf",
          "5-8",
          "13-16",
          "25-28",
          "0-4",
          "0-4",
          "0-4",
          "0-4",
          "5-8",
          "17-20",
          "33-Inf",
          "5-8",
          "5-8",
          "5-8",
          "0-4",
          "5-8",
          "0-4",
          "5-8",
          "13-16",
          "25-28",
          "5-8",
          "17-20",
          "0-4",
          "0-4",
          "5-8",
          "5-8",
          "9-12",
          "9-12",
          "5-8",
          "0-4",
          "25-28",
          "13-16",
          null,
          "5-8",
          "13-16",
          null,
          "29-32",
          "0-4",
          "17-20",
          "33-Inf",
          "5-8",
          "5-8",
          "13-16",
          "0-4",
          "0-4",
          "5-8",
          "0-4",
          "21-24",
          "0-4",
          "17-20",
          "13-16",
          "0-4",
          "5-8",
          "9-12",
          "13-16",
          "5-8",
          "5-8",
          "5-8",
          null,
          "5-8",
          "5-8",
          "9-12",
          "9-12",
          "5-8",
          "5-8",
          "9-12",
          "21-24",
          "13-16",
          "33-Inf",
          "33-Inf",
          "5-8",
          "5-8",
          "5-8",
          "5-8",
          "21-24",
          "9-12",
          null,
          "0-4",
          "0-4",
          "33-Inf",
          "0-4",
          "9-12",
          "9-12",
          "5-8",
          "5-8",
          "0-4",
          "5-8",
          null,
          null,
          null,
          "9-12",
          "13-16",
          "21-24",
          "5-8",
          "5-8",
          "5-8",
          "9-12",
          null,
          null,
          "9-12",
          "13-16",
          "33-Inf",
          "9-12",
          "13-16",
          "13-16",
          null,
          "9-12",
          "9-12",
          "5-8",
          "5-8",
          "21-24",
          "5-8",
          "33-Inf",
          null,
          "5-8",
          "25-28",
          "0-4",
          null,
          "5-8",
          "5-8",
          "5-8",
          "5-8",
          "5-8",
          "5-8",
          "0-4",
          "5-8",
          "5-8",
          null,
          "13-16",
          "5-8",
          "5-8",
          "5-8",
          "5-8",
          "21-24",
          "0-4",
          "33-Inf",
          "21-24",
          "33-Inf",
          "17-20",
          "0-4",
          "0-4",
          "21-24",
          "21-24",
          "5-8",
          "5-8",
          null,
          "33-Inf",
          null,
          null,
          "33-Inf",
          "33-Inf",
          "5-8",
          null,
          null,
          "33-Inf",
          "33-Inf",
          "5-8",
          "5-8",
          "9-12",
          null,
          null,
          "5-8",
          null,
          null,
          "5-8",
          "33-Inf",
          "5-8",
          "5-8",
          "13-16",
          null,
          "5-8",
          "0-4",
          "0-4",
          "9-12",
          "33-Inf",
          "33-Inf",
          null,
          "13-16",
          "21-24",
          null,
          "5-8",
          null,
          "5-8",
          "0-4",
          "21-24",
          "0-4",
          "5-8",
          "21-24",
          "0-4",
          "25-28",
          null,
          "0-4",
          "25-28",
          null,
          "33-Inf",
          "5-8",
          "0-4",
          "5-8",
          "33-Inf",
          "9-12",
          "9-12",
          "9-12",
          "5-8",
          "5-8",
          "33-Inf",
          "9-12",
          "9-12",
          "0-4",
          "5-8",
          "5-8",
          "25-28",
          "5-8",
          "9-12",
          "5-8",
          "5-8",
          "5-8",
          "21-24",
          "21-24",
          "21-24",
          "5-8",
          "9-12",
          "5-8",
          "21-24",
          "5-8",
          "17-20",
          "5-8",
          "13-16",
          "9-12",
          "9-12",
          "13-16",
          "17-20",
          "9-12",
          "13-16",
          null,
          "21-24",
          "0-4",
          "5-8",
          "5-8",
          "33-Inf",
          "9-12",
          "33-Inf",
          "0-4",
          "5-8",
          "5-8",
          "5-8",
          null,
          "9-12",
          "5-8",
          "21-24",
          "5-8",
          "5-8",
          "5-8",
          "5-8",
          "9-12",
          "5-8",
          "17-20",
          "5-8",
          "29-32",
          null,
          "25-28",
          "13-16",
          "0-4",
          "13-16",
          "9-12",
          "33-Inf",
          "5-8",
          "0-4",
          null,
          "5-8",
          "9-12",
          "5-8",
          "13-16",
          "21-24",
          null,
          "33-Inf",
          "9-12",
          "5-8",
          "9-12",
          "33-Inf",
          "25-28",
          "25-28",
          "33-Inf",
          "29-32",
          "0-4",
          "0-4",
          "5-8",
          null,
          "21-24",
          "0-4",
          "9-12",
          "5-8",
          "33-Inf",
          "21-24",
          "5-8",
          "33-Inf",
          "13-16",
          "25-28",
          "17-20",
          null,
          "5-8",
          "33-Inf",
          "17-20",
          null,
          "33-Inf",
          "17-20",
          "0-4",
          "5-8",
          "13-16",
          "9-12",
          "5-8",
          "5-8",
          null,
          "5-8",
          "5-8",
          "21-24",
          "5-8",
          "0-4",
          "5-8",
          "9-12",
          "33-Inf",
          null,
          "13-16",
          "9-12",
          "25-28",
          null,
          "9-12",
          "5-8",
          null,
          null,
          "0-4",
          "13-16",
          "0-4",
          "0-4",
          null,
          null,
          "5-8",
          null,
          "0-4",
          "9-12",
          "13-16",
          "21-24",
          null,
          "5-8",
          "0-4",
          "13-16",
          "9-12",
          "0-4",
          "17-20",
          "5-8",
          "33-Inf",
          "0-4",
          "5-8",
          "9-12",
          "5-8",
          "9-12",
          "33-Inf",
          "9-12",
          "5-8",
          "21-24",
          "9-12",
          "9-12",
          "9-12",
          "5-8",
          "5-8",
          "9-12",
          "21-24",
          "17-20",
          "21-24",
          "13-16",
          "9-12",
          "13-16",
          "5-8",
          "5-8",
          "9-12",
          "0-4",
          "5-8",
          "5-8",
          "0-4",
          "33-Inf",
          "0-4",
          "5-8",
          null,
          "9-12",
          "33-Inf",
          "13-16",
          "17-20",
          "5-8",
          "9-12",
          "5-8",
          "13-16",
          "0-4",
          "9-12",
          "0-4",
          "5-8",
          "5-8",
          "13-16",
          "13-16",
          "21-24",
          "13-16",
          "21-24",
          "0-4",
          "5-8",
          "5-8",
          "0-4",
          "13-16",
          "5-8",
          "0-4",
          "33-Inf",
          "9-12",
          "0-4",
          "17-20",
          "5-8",
          "33-Inf",
          "9-12",
          "5-8",
          "21-24",
          null,
          "5-8",
          "5-8",
          null,
          "5-8",
          "9-12",
          "0-4",
          "5-8",
          "33-Inf",
          "9-12",
          "25-28",
          "5-8",
          "13-16",
          "5-8",
          "9-12",
          "9-12",
          "13-16",
          "33-Inf",
          "33-Inf",
          "0-4",
          "17-20",
          "5-8",
          "21-24",
          "33-Inf",
          "5-8",
          "33-Inf",
          "5-8",
          "0-4",
          "5-8",
          "17-20",
          "25-28",
          "29-32",
          "9-12",
          "0-4",
          "17-20",
          "17-20",
          "0-4",
          "13-16",
          "9-12",
          "13-16",
          "0-4",
          "9-12",
          "0-4",
          "5-8",
          "9-12",
          "33-Inf",
          "25-28",
          "5-8",
          null,
          "33-Inf",
          null,
          "13-16",
          "17-20",
          "17-20",
          "13-16",
          "5-8",
          null,
          null,
          "5-8",
          null,
          null,
          "9-12",
          "21-24",
          "5-8",
          "17-20",
          "5-8",
          null,
          "0-4",
          "21-24",
          "9-12",
          "13-16",
          "13-16",
          "9-12",
          null,
          "5-8",
          "13-16",
          "17-20",
          "9-12",
          "17-20",
          "33-Inf",
          "33-Inf",
          "33-Inf",
          "21-24",
          "17-20",
          "33-Inf",
          "25-28",
          "33-Inf",
          "25-28",
          "5-8",
          "5-8",
          "17-20",
          "5-8",
          null,
          "33-Inf",
          "0-4",
          "33-Inf",
          "33-Inf",
          "0-4",
          "33-Inf",
          "0-4",
          "0-4",
          "5-8",
          "13-16",
          "0-4",
          "0-4",
          "5-8",
          "17-20",
          "17-20",
          "17-20",
          "0-4",
          "0-4",
          "0-4",
          null,
          null,
          "17-20",
          "21-24",
          null,
          "9-12",
          null,
          "33-Inf",
          "13-16",
          "21-24",
          "29-32",
          "5-8",
          "9-12",
          "29-32",
          "17-20",
          "33-Inf",
          "5-8",
          "17-20",
          "5-8",
          "5-8",
          "5-8",
          "0-4",
          "0-4",
          "17-20",
          "5-8",
          "9-12",
          "5-8",
          "0-4",
          "5-8",
          "9-12",
          "9-12",
          "21-24",
          "5-8",
          "5-8",
          "9-12",
          "9-12",
          "9-12",
          "33-Inf",
          null,
          null,
          null,
          null,
          "17-20",
          "0-4",
          "9-12",
          "9-12",
          "9-12",
          "5-8",
          "13-16",
          "9-12",
          "33-Inf",
          "0-4",
          "21-24",
          "5-8",
          "5-8",
          "17-20",
          "9-12",
          "13-16",
          "33-Inf",
          "5-8",
          null,
          "25-28",
          "0-4",
          "0-4",
          "9-12",
          "25-28",
          "5-8",
          "17-20",
          "33-Inf",
          "13-16",
          "13-16",
          "0-4",
          "29-32",
          null,
          "25-28",
          "9-12",
          "17-20",
          "9-12",
          "33-Inf",
          "21-24",
          "13-16",
          null,
          "0-4",
          "9-12",
          "0-4",
          "9-12",
          "0-4",
          "5-8",
          "0-4",
          "5-8",
          "5-8",
          "17-20",
          "25-28",
          "5-8",
          "9-12",
          "0-4",
          "0-4",
          null,
          null,
          "13-16",
          "9-12",
          "5-8",
          "9-12",
          "0-4",
          "33-Inf",
          "5-8",
          "17-20",
          "5-8",
          "9-12",
          "0-4",
          "9-12",
          "33-Inf",
          "33-Inf",
          null,
          "0-4",
          "5-8",
          "9-12",
          null,
          null,
          "33-Inf",
          "5-8",
          "5-8",
          "13-16",
          null,
          "5-8",
          "25-28",
          "0-4",
          "9-12",
          "17-20",
          "0-4",
          "9-12",
          "0-4",
          "0-4",
          "5-8",
          "5-8",
          "5-8",
          "0-4",
          "21-24",
          "13-16",
          "5-8",
          "9-12",
          "5-8",
          "5-8",
          "5-8",
          "33-Inf",
          "9-12",
          "13-16",
          "17-20",
          "9-12",
          "0-4",
          "5-8",
          "25-28",
          "9-12",
          "5-8",
          "13-16",
          "0-4",
          "25-28",
          "9-12",
          "5-8",
          "13-16",
          "0-4",
          "5-8",
          "9-12",
          "5-8",
          "29-32",
          null,
          "17-20",
          "17-20",
          null,
          "5-8",
          "17-20",
          "9-12",
          "9-12",
          null,
          "13-16",
          "29-32",
          "0-4",
          "21-24",
          "5-8",
          "33-Inf",
          "5-8",
          "9-12",
          "9-12",
          "0-4",
          "13-16",
          "5-8",
          null,
          "5-8",
          "17-20",
          "5-8",
          "9-12",
          "9-12",
          "17-20",
          "25-28",
          "13-16",
          "5-8",
          "5-8",
          "29-32",
          "17-20",
          "9-12",
          "5-8",
          "5-8",
          "5-8",
          "33-Inf",
          "13-16",
          "13-16",
          null,
          "9-12",
          null,
          null,
          "0-4",
          "13-16",
          "0-4",
          null,
          "5-8",
          null,
          "5-8",
          "9-12",
          "33-Inf",
          "0-4",
          "5-8",
          "9-12",
          "9-12",
          null,
          "0-4",
          null,
          "13-16",
          "13-16",
          "0-4",
          "9-12",
          null,
          null,
          null,
          "5-8",
          null,
          "9-12",
          "5-8",
          "13-16",
          "9-12",
          "5-8",
          "29-32",
          "0-4",
          "5-8",
          null,
          "17-20",
          "9-12",
          "33-Inf",
          "21-24",
          "33-Inf",
          "5-8",
          "13-16",
          "17-20",
          "5-8",
          "5-8",
          "9-12",
          "5-8",
          "5-8",
          "9-12",
          "5-8",
          "5-8",
          "29-32",
          "5-8",
          "5-8",
          "5-8",
          "5-8",
          "0-4",
          null,
          "5-8",
          null,
          "0-4",
          "5-8",
          null,
          "33-Inf",
          "0-4",
          "17-20",
          "17-20",
          "0-4",
          "33-Inf",
          "0-4",
          "13-16",
          "9-12",
          "21-24",
          "29-32",
          "33-Inf",
          "0-4",
          "5-8",
          "5-8",
          "13-16",
          "9-12",
          "13-16",
          "9-12",
          "5-8",
          "17-20",
          "0-4",
          "33-Inf",
          "9-12",
          "5-8",
          "5-8",
          "5-8",
          "5-8",
          "5-8",
          "5-8",
          null,
          "5-8",
          "9-12",
          "9-12",
          "33-Inf",
          null,
          "9-12",
          "9-12",
          "13-16",
          "5-8",
          "33-Inf",
          "13-16",
          "33-Inf",
          null,
          "9-12",
          null,
          null,
          "9-12",
          "9-12",
          "21-24",
          "13-16",
          "33-Inf",
          "0-4",
          "9-12",
          "21-24",
          null,
          "33-Inf",
          "9-12",
          "13-16",
          "29-32",
          "5-8",
          null,
          "0-4",
          "5-8",
          "9-12",
          "0-4",
          "9-12",
          "17-20",
          "0-4",
          "5-8",
          "5-8",
          "5-8",
          "9-12",
          "17-20",
          "9-12",
          "5-8",
          "0-4",
          "9-12",
          "9-12",
          "0-4",
          "17-20",
          "5-8",
          "5-8",
          "9-12",
          "5-8",
          "5-8",
          "0-4",
          "5-8",
          "17-20",
          "5-8",
          "0-4",
          "5-8",
          "0-4",
          "33-Inf",
          "5-8",
          "5-8",
          "13-16",
          "9-12",
          "13-16",
          "9-12",
          "9-12",
          "0-4",
          "5-8",
          "13-16",
          "0-4",
          "9-12",
          "5-8",
          "5-8",
          "9-12",
          "9-12",
          "5-8",
          "17-20",
          "5-8",
          "13-16",
          "21-24",
          "17-20",
          "5-8",
          "25-28",
          "0-4",
          "25-28",
          "17-20",
          "0-4",
          "5-8",
          "9-12",
          "13-16",
          "13-16",
          null,
          null,
          "13-16",
          "5-8",
          "9-12",
          "5-8",
          "5-8",
          null,
          "33-Inf",
          "13-16",
          "9-12",
          "0-4",
          null,
          "5-8",
          "17-20",
          "13-16",
          "5-8",
          "33-Inf",
          "5-8",
          "33-Inf",
          "5-8",
          "21-24",
          "9-12",
          "5-8",
          "29-32",
          "13-16",
          "33-Inf",
          "9-12",
          "9-12",
          "9-12",
          "9-12",
          "9-12",
          "33-Inf",
          "5-8",
          "21-24",
          "13-16",
          "5-8",
          "5-8",
          "9-12",
          "9-12",
          null,
          "21-24",
          null,
          null,
          "9-12",
          "13-16",
          "0-4",
          "0-4",
          "0-4",
          "0-4",
          null,
          "5-8",
          "0-4",
          null,
          "0-4",
          "0-4",
          "0-4",
          null,
          "13-16",
          "17-20",
          "13-16",
          "5-8",
          "17-20",
          "21-24",
          "9-12",
          "9-12",
          "13-16",
          "9-12",
          "5-8",
          "5-8",
          "0-4",
          "0-4",
          "5-8",
          "5-8",
          "9-12",
          "17-20",
          "9-12",
          "0-4",
          "13-16",
          "0-4",
          "0-4",
          "0-4",
          "9-12",
          "5-8",
          "5-8",
          "33-Inf",
          "0-4",
          "0-4",
          "13-16",
          "13-16",
          "5-8",
          "25-28",
          "17-20",
          "5-8",
          "9-12",
          "13-16",
          "5-8",
          "33-Inf",
          "5-8",
          "33-Inf",
          "5-8",
          "17-20",
          "17-20",
          "17-20",
          null,
          "9-12",
          "17-20",
          "5-8",
          "9-12",
          null,
          "9-12",
          "9-12",
          null,
          "0-4",
          "17-20",
          null,
          "5-8",
          "17-20",
          null,
          "5-8",
          "17-20",
          null,
          "33-Inf",
          "13-16",
          "13-16",
          "0-4",
          "0-4",
          null,
          "5-8",
          "9-12",
          "33-Inf",
          null,
          null,
          "29-32",
          "13-16",
          "9-12",
          null,
          "9-12",
          "5-8",
          "5-8",
          null,
          null,
          "21-24",
          null,
          "0-4",
          "5-8",
          "33-Inf",
          "9-12",
          "5-8",
          "9-12",
          "5-8",
          "0-4",
          "9-12",
          "13-16",
          "13-16",
          "5-8",
          "9-12",
          "5-8",
          "25-28",
          "5-8",
          "5-8",
          null,
          null,
          "21-24",
          "33-Inf",
          "13-16",
          "9-12",
          "0-4",
          "0-4",
          "17-20",
          "0-4",
          "13-16",
          "5-8",
          "5-8",
          "0-4",
          "17-20",
          "5-8",
          "0-4",
          "9-12",
          "9-12",
          "13-16",
          "5-8",
          "13-16",
          "0-4",
          "13-16",
          "21-24",
          "0-4",
          "5-8",
          "5-8",
          "5-8",
          "13-16",
          "5-8",
          "0-4",
          "5-8",
          "5-8",
          "5-8",
          "0-4",
          "0-4",
          null,
          null,
          "0-4",
          null,
          "17-20",
          null,
          "13-16",
          "29-32",
          "13-16",
          null,
          "5-8",
          "0-4",
          null,
          "5-8",
          "9-12",
          null,
          "0-4",
          "9-12",
          "13-16",
          "33-Inf",
          "5-8",
          "21-24",
          "13-16",
          "21-24",
          "29-32",
          "25-28",
          "9-12",
          "25-28",
          "21-24",
          "5-8",
          "5-8",
          "13-16",
          "5-8",
          "5-8",
          "0-4",
          "0-4",
          "0-4",
          "5-8",
          "9-12",
          "9-12",
          "5-8",
          "9-12",
          null,
          "5-8",
          "5-8",
          "0-4",
          "0-4",
          "21-24",
          "9-12",
          "5-8",
          "5-8",
          "13-16",
          "0-4",
          "9-12",
          null,
          "0-4",
          "21-24",
          "5-8",
          "13-16",
          "21-24",
          "25-28",
          "5-8",
          "21-24",
          "13-16",
          "9-12",
          "5-8",
          "13-16",
          "5-8",
          "5-8",
          "9-12",
          null,
          "5-8",
          "13-16",
          "13-16",
          "0-4",
          "5-8",
          "17-20",
          null,
          "21-24",
          null,
          "5-8",
          "25-28",
          "9-12",
          "5-8",
          "21-24",
          "5-8",
          null,
          "5-8",
          "0-4",
          "9-12",
          "0-4",
          "5-8",
          "17-20",
          null,
          "0-4",
          "9-12",
          "5-8",
          "5-8",
          "5-8",
          "13-16",
          "5-8",
          "9-12",
          "9-12",
          "9-12",
          "5-8",
          "17-20",
          "5-8",
          "5-8",
          "5-8",
          "9-12",
          "5-8",
          "9-12",
          "5-8",
          "17-20",
          null,
          "5-8",
          "17-20",
          "0-4",
          "13-16",
          "13-16",
          "5-8",
          "9-12",
          "33-Inf",
          "29-32",
          "9-12",
          "5-8",
          "0-4",
          "33-Inf",
          "0-4",
          "5-8",
          "5-8",
          "13-16",
          "5-8",
          "5-8",
          "0-4",
          "25-28",
          "13-16",
          null,
          "9-12",
          "13-16",
          "25-28",
          "17-20",
          "5-8",
          "0-4",
          "33-Inf",
          "13-16",
          "25-28",
          "0-4",
          "5-8",
          null,
          "0-4",
          "21-24",
          "5-8",
          "0-4",
          "9-12",
          "5-8",
          "0-4",
          null,
          "5-8",
          "21-24",
          "0-4",
          null,
          "5-8",
          null,
          null,
          "9-12",
          "0-4",
          "5-8",
          "0-4",
          "0-4",
          "5-8",
          "9-12",
          "0-4",
          "0-4",
          "21-24",
          null,
          "29-32",
          null,
          "13-16",
          "9-12",
          "5-8",
          "5-8",
          "13-16",
          "5-8",
          "13-16",
          "9-12",
          "5-8",
          "9-12",
          "5-8",
          "13-16",
          "5-8",
          "5-8",
          "9-12",
          "0-4",
          "0-4",
          "5-8",
          "13-16",
          "13-16",
          "0-4",
          "25-28",
          "9-12",
          "5-8",
          "5-8",
          "5-8",
          "5-8",
          "0-4",
          "5-8",
          "13-16",
          "5-8",
          "9-12",
          "9-12",
          "5-8",
          "5-8",
          "5-8",
          "5-8",
          "13-16",
          "5-8",
          "5-8",
          "5-8",
          "5-8",
          "5-8",
          "21-24",
          "0-4",
          "17-20",
          "17-20",
          "9-12",
          "0-4",
          "17-20",
          "5-8",
          "5-8",
          "13-16",
          null,
          "9-12",
          "13-16",
          "0-4",
          "13-16",
          "5-8",
          "0-4",
          "17-20",
          null,
          "21-24",
          null,
          "5-8",
          null,
          "17-20",
          "5-8",
          "5-8",
          "17-20",
          "5-8",
          null,
          "5-8",
          null,
          "0-4",
          "13-16",
          "0-4",
          "5-8",
          "0-4",
          "17-20",
          "9-12",
          "13-16",
          "5-8",
          "0-4",
          "5-8",
          "0-4",
          "9-12",
          "5-8",
          null,
          null,
          "13-16",
          "0-4",
          "13-16",
          null,
          "0-4",
          "5-8",
          "9-12",
          "9-12",
          "9-12",
          null,
          "0-4",
          "5-8",
          "13-16",
          "0-4",
          "0-4",
          "5-8",
          "17-20",
          "9-12",
          "5-8",
          "0-4",
          "0-4",
          "5-8",
          "13-16",
          "5-8",
          "5-8",
          "0-4",
          "5-8",
          "5-8",
          "5-8",
          "9-12",
          "21-24",
          "9-12",
          "9-12",
          "9-12",
          "9-12",
          "0-4",
          "9-12",
          "9-12",
          "5-8",
          "0-4",
          "5-8",
          "9-12",
          "5-8",
          "5-8",
          "0-4",
          "0-4",
          "5-8",
          "0-4",
          "9-12",
          "5-8",
          null,
          "0-4",
          "9-12",
          "0-4",
          "0-4",
          "21-24",
          "5-8",
          null,
          "0-4",
          null,
          "0-4",
          "9-12",
          "5-8",
          "5-8",
          "5-8",
          null,
          "0-4",
          "9-12",
          "5-8",
          "0-4",
          "13-16",
          "5-8",
          "5-8",
          "5-8",
          "9-12",
          "9-12",
          "9-12",
          "0-4",
          "9-12",
          "9-12",
          "5-8",
          "13-16",
          null,
          "5-8",
          "17-20",
          null,
          "0-4",
          "0-4",
          null,
          "5-8",
          "0-4",
          "0-4",
          "9-12",
          "9-12",
          "0-4",
          "0-4",
          "5-8",
          "9-12",
          "5-8",
          "5-8",
          "0-4",
          "9-12",
          "5-8",
          "9-12",
          "0-4",
          "17-20",
          "5-8",
          null,
          "0-4",
          "0-4",
          null,
          null,
          "0-4",
          "0-4",
          "9-12",
          "9-12",
          "0-4",
          "0-4",
          "13-16",
          "0-4",
          "5-8",
          "9-12",
          "13-16",
          "0-4",
          "0-4",
          "9-12",
          "5-8",
          "0-4",
          "9-12",
          "0-4",
          "13-16",
          "5-8",
          "9-12",
          "5-8",
          "9-12",
          "5-8",
          "5-8",
          "21-24",
          "13-16",
          "9-12",
          "9-12",
          "5-8",
          "0-4",
          "5-8",
          "0-4",
          "9-12",
          "0-4",
          "5-8",
          "0-4",
          "13-16",
          "13-16"
         ],
         "xaxis": "x",
         "yaxis": "y"
        }
       ],
       "layout": {
        "barmode": "relative",
        "legend": {
         "tracegroupgap": 0
        },
        "margin": {
         "t": 60
        },
        "template": {
         "data": {
          "bar": [
           {
            "error_x": {
             "color": "#2a3f5f"
            },
            "error_y": {
             "color": "#2a3f5f"
            },
            "marker": {
             "line": {
              "color": "#E5ECF6",
              "width": 0.5
             },
             "pattern": {
              "fillmode": "overlay",
              "size": 10,
              "solidity": 0.2
             }
            },
            "type": "bar"
           }
          ],
          "barpolar": [
           {
            "marker": {
             "line": {
              "color": "#E5ECF6",
              "width": 0.5
             },
             "pattern": {
              "fillmode": "overlay",
              "size": 10,
              "solidity": 0.2
             }
            },
            "type": "barpolar"
           }
          ],
          "carpet": [
           {
            "aaxis": {
             "endlinecolor": "#2a3f5f",
             "gridcolor": "white",
             "linecolor": "white",
             "minorgridcolor": "white",
             "startlinecolor": "#2a3f5f"
            },
            "baxis": {
             "endlinecolor": "#2a3f5f",
             "gridcolor": "white",
             "linecolor": "white",
             "minorgridcolor": "white",
             "startlinecolor": "#2a3f5f"
            },
            "type": "carpet"
           }
          ],
          "choropleth": [
           {
            "colorbar": {
             "outlinewidth": 0,
             "ticks": ""
            },
            "type": "choropleth"
           }
          ],
          "contour": [
           {
            "colorbar": {
             "outlinewidth": 0,
             "ticks": ""
            },
            "colorscale": [
             [
              0,
              "#0d0887"
             ],
             [
              0.1111111111111111,
              "#46039f"
             ],
             [
              0.2222222222222222,
              "#7201a8"
             ],
             [
              0.3333333333333333,
              "#9c179e"
             ],
             [
              0.4444444444444444,
              "#bd3786"
             ],
             [
              0.5555555555555556,
              "#d8576b"
             ],
             [
              0.6666666666666666,
              "#ed7953"
             ],
             [
              0.7777777777777778,
              "#fb9f3a"
             ],
             [
              0.8888888888888888,
              "#fdca26"
             ],
             [
              1,
              "#f0f921"
             ]
            ],
            "type": "contour"
           }
          ],
          "contourcarpet": [
           {
            "colorbar": {
             "outlinewidth": 0,
             "ticks": ""
            },
            "type": "contourcarpet"
           }
          ],
          "heatmap": [
           {
            "colorbar": {
             "outlinewidth": 0,
             "ticks": ""
            },
            "colorscale": [
             [
              0,
              "#0d0887"
             ],
             [
              0.1111111111111111,
              "#46039f"
             ],
             [
              0.2222222222222222,
              "#7201a8"
             ],
             [
              0.3333333333333333,
              "#9c179e"
             ],
             [
              0.4444444444444444,
              "#bd3786"
             ],
             [
              0.5555555555555556,
              "#d8576b"
             ],
             [
              0.6666666666666666,
              "#ed7953"
             ],
             [
              0.7777777777777778,
              "#fb9f3a"
             ],
             [
              0.8888888888888888,
              "#fdca26"
             ],
             [
              1,
              "#f0f921"
             ]
            ],
            "type": "heatmap"
           }
          ],
          "heatmapgl": [
           {
            "colorbar": {
             "outlinewidth": 0,
             "ticks": ""
            },
            "colorscale": [
             [
              0,
              "#0d0887"
             ],
             [
              0.1111111111111111,
              "#46039f"
             ],
             [
              0.2222222222222222,
              "#7201a8"
             ],
             [
              0.3333333333333333,
              "#9c179e"
             ],
             [
              0.4444444444444444,
              "#bd3786"
             ],
             [
              0.5555555555555556,
              "#d8576b"
             ],
             [
              0.6666666666666666,
              "#ed7953"
             ],
             [
              0.7777777777777778,
              "#fb9f3a"
             ],
             [
              0.8888888888888888,
              "#fdca26"
             ],
             [
              1,
              "#f0f921"
             ]
            ],
            "type": "heatmapgl"
           }
          ],
          "histogram": [
           {
            "marker": {
             "pattern": {
              "fillmode": "overlay",
              "size": 10,
              "solidity": 0.2
             }
            },
            "type": "histogram"
           }
          ],
          "histogram2d": [
           {
            "colorbar": {
             "outlinewidth": 0,
             "ticks": ""
            },
            "colorscale": [
             [
              0,
              "#0d0887"
             ],
             [
              0.1111111111111111,
              "#46039f"
             ],
             [
              0.2222222222222222,
              "#7201a8"
             ],
             [
              0.3333333333333333,
              "#9c179e"
             ],
             [
              0.4444444444444444,
              "#bd3786"
             ],
             [
              0.5555555555555556,
              "#d8576b"
             ],
             [
              0.6666666666666666,
              "#ed7953"
             ],
             [
              0.7777777777777778,
              "#fb9f3a"
             ],
             [
              0.8888888888888888,
              "#fdca26"
             ],
             [
              1,
              "#f0f921"
             ]
            ],
            "type": "histogram2d"
           }
          ],
          "histogram2dcontour": [
           {
            "colorbar": {
             "outlinewidth": 0,
             "ticks": ""
            },
            "colorscale": [
             [
              0,
              "#0d0887"
             ],
             [
              0.1111111111111111,
              "#46039f"
             ],
             [
              0.2222222222222222,
              "#7201a8"
             ],
             [
              0.3333333333333333,
              "#9c179e"
             ],
             [
              0.4444444444444444,
              "#bd3786"
             ],
             [
              0.5555555555555556,
              "#d8576b"
             ],
             [
              0.6666666666666666,
              "#ed7953"
             ],
             [
              0.7777777777777778,
              "#fb9f3a"
             ],
             [
              0.8888888888888888,
              "#fdca26"
             ],
             [
              1,
              "#f0f921"
             ]
            ],
            "type": "histogram2dcontour"
           }
          ],
          "mesh3d": [
           {
            "colorbar": {
             "outlinewidth": 0,
             "ticks": ""
            },
            "type": "mesh3d"
           }
          ],
          "parcoords": [
           {
            "line": {
             "colorbar": {
              "outlinewidth": 0,
              "ticks": ""
             }
            },
            "type": "parcoords"
           }
          ],
          "pie": [
           {
            "automargin": true,
            "type": "pie"
           }
          ],
          "scatter": [
           {
            "fillpattern": {
             "fillmode": "overlay",
             "size": 10,
             "solidity": 0.2
            },
            "type": "scatter"
           }
          ],
          "scatter3d": [
           {
            "line": {
             "colorbar": {
              "outlinewidth": 0,
              "ticks": ""
             }
            },
            "marker": {
             "colorbar": {
              "outlinewidth": 0,
              "ticks": ""
             }
            },
            "type": "scatter3d"
           }
          ],
          "scattercarpet": [
           {
            "marker": {
             "colorbar": {
              "outlinewidth": 0,
              "ticks": ""
             }
            },
            "type": "scattercarpet"
           }
          ],
          "scattergeo": [
           {
            "marker": {
             "colorbar": {
              "outlinewidth": 0,
              "ticks": ""
             }
            },
            "type": "scattergeo"
           }
          ],
          "scattergl": [
           {
            "marker": {
             "colorbar": {
              "outlinewidth": 0,
              "ticks": ""
             }
            },
            "type": "scattergl"
           }
          ],
          "scattermapbox": [
           {
            "marker": {
             "colorbar": {
              "outlinewidth": 0,
              "ticks": ""
             }
            },
            "type": "scattermapbox"
           }
          ],
          "scatterpolar": [
           {
            "marker": {
             "colorbar": {
              "outlinewidth": 0,
              "ticks": ""
             }
            },
            "type": "scatterpolar"
           }
          ],
          "scatterpolargl": [
           {
            "marker": {
             "colorbar": {
              "outlinewidth": 0,
              "ticks": ""
             }
            },
            "type": "scatterpolargl"
           }
          ],
          "scatterternary": [
           {
            "marker": {
             "colorbar": {
              "outlinewidth": 0,
              "ticks": ""
             }
            },
            "type": "scatterternary"
           }
          ],
          "surface": [
           {
            "colorbar": {
             "outlinewidth": 0,
             "ticks": ""
            },
            "colorscale": [
             [
              0,
              "#0d0887"
             ],
             [
              0.1111111111111111,
              "#46039f"
             ],
             [
              0.2222222222222222,
              "#7201a8"
             ],
             [
              0.3333333333333333,
              "#9c179e"
             ],
             [
              0.4444444444444444,
              "#bd3786"
             ],
             [
              0.5555555555555556,
              "#d8576b"
             ],
             [
              0.6666666666666666,
              "#ed7953"
             ],
             [
              0.7777777777777778,
              "#fb9f3a"
             ],
             [
              0.8888888888888888,
              "#fdca26"
             ],
             [
              1,
              "#f0f921"
             ]
            ],
            "type": "surface"
           }
          ],
          "table": [
           {
            "cells": {
             "fill": {
              "color": "#EBF0F8"
             },
             "line": {
              "color": "white"
             }
            },
            "header": {
             "fill": {
              "color": "#C8D4E3"
             },
             "line": {
              "color": "white"
             }
            },
            "type": "table"
           }
          ]
         },
         "layout": {
          "annotationdefaults": {
           "arrowcolor": "#2a3f5f",
           "arrowhead": 0,
           "arrowwidth": 1
          },
          "autotypenumbers": "strict",
          "coloraxis": {
           "colorbar": {
            "outlinewidth": 0,
            "ticks": ""
           }
          },
          "colorscale": {
           "diverging": [
            [
             0,
             "#8e0152"
            ],
            [
             0.1,
             "#c51b7d"
            ],
            [
             0.2,
             "#de77ae"
            ],
            [
             0.3,
             "#f1b6da"
            ],
            [
             0.4,
             "#fde0ef"
            ],
            [
             0.5,
             "#f7f7f7"
            ],
            [
             0.6,
             "#e6f5d0"
            ],
            [
             0.7,
             "#b8e186"
            ],
            [
             0.8,
             "#7fbc41"
            ],
            [
             0.9,
             "#4d9221"
            ],
            [
             1,
             "#276419"
            ]
           ],
           "sequential": [
            [
             0,
             "#0d0887"
            ],
            [
             0.1111111111111111,
             "#46039f"
            ],
            [
             0.2222222222222222,
             "#7201a8"
            ],
            [
             0.3333333333333333,
             "#9c179e"
            ],
            [
             0.4444444444444444,
             "#bd3786"
            ],
            [
             0.5555555555555556,
             "#d8576b"
            ],
            [
             0.6666666666666666,
             "#ed7953"
            ],
            [
             0.7777777777777778,
             "#fb9f3a"
            ],
            [
             0.8888888888888888,
             "#fdca26"
            ],
            [
             1,
             "#f0f921"
            ]
           ],
           "sequentialminus": [
            [
             0,
             "#0d0887"
            ],
            [
             0.1111111111111111,
             "#46039f"
            ],
            [
             0.2222222222222222,
             "#7201a8"
            ],
            [
             0.3333333333333333,
             "#9c179e"
            ],
            [
             0.4444444444444444,
             "#bd3786"
            ],
            [
             0.5555555555555556,
             "#d8576b"
            ],
            [
             0.6666666666666666,
             "#ed7953"
            ],
            [
             0.7777777777777778,
             "#fb9f3a"
            ],
            [
             0.8888888888888888,
             "#fdca26"
            ],
            [
             1,
             "#f0f921"
            ]
           ]
          },
          "colorway": [
           "#636efa",
           "#EF553B",
           "#00cc96",
           "#ab63fa",
           "#FFA15A",
           "#19d3f3",
           "#FF6692",
           "#B6E880",
           "#FF97FF",
           "#FECB52"
          ],
          "font": {
           "color": "#2a3f5f"
          },
          "geo": {
           "bgcolor": "white",
           "lakecolor": "white",
           "landcolor": "#E5ECF6",
           "showlakes": true,
           "showland": true,
           "subunitcolor": "white"
          },
          "hoverlabel": {
           "align": "left"
          },
          "hovermode": "closest",
          "mapbox": {
           "style": "light"
          },
          "paper_bgcolor": "white",
          "plot_bgcolor": "#E5ECF6",
          "polar": {
           "angularaxis": {
            "gridcolor": "white",
            "linecolor": "white",
            "ticks": ""
           },
           "bgcolor": "#E5ECF6",
           "radialaxis": {
            "gridcolor": "white",
            "linecolor": "white",
            "ticks": ""
           }
          },
          "scene": {
           "xaxis": {
            "backgroundcolor": "#E5ECF6",
            "gridcolor": "white",
            "gridwidth": 2,
            "linecolor": "white",
            "showbackground": true,
            "ticks": "",
            "zerolinecolor": "white"
           },
           "yaxis": {
            "backgroundcolor": "#E5ECF6",
            "gridcolor": "white",
            "gridwidth": 2,
            "linecolor": "white",
            "showbackground": true,
            "ticks": "",
            "zerolinecolor": "white"
           },
           "zaxis": {
            "backgroundcolor": "#E5ECF6",
            "gridcolor": "white",
            "gridwidth": 2,
            "linecolor": "white",
            "showbackground": true,
            "ticks": "",
            "zerolinecolor": "white"
           }
          },
          "shapedefaults": {
           "line": {
            "color": "#2a3f5f"
           }
          },
          "ternary": {
           "aaxis": {
            "gridcolor": "white",
            "linecolor": "white",
            "ticks": ""
           },
           "baxis": {
            "gridcolor": "white",
            "linecolor": "white",
            "ticks": ""
           },
           "bgcolor": "#E5ECF6",
           "caxis": {
            "gridcolor": "white",
            "linecolor": "white",
            "ticks": ""
           }
          },
          "title": {
           "x": 0.05
          },
          "xaxis": {
           "automargin": true,
           "gridcolor": "white",
           "linecolor": "white",
           "ticks": "",
           "title": {
            "standoff": 15
           },
           "zerolinecolor": "white",
           "zerolinewidth": 2
          },
          "yaxis": {
           "automargin": true,
           "gridcolor": "white",
           "linecolor": "white",
           "ticks": "",
           "title": {
            "standoff": 15
           },
           "zerolinecolor": "white",
           "zerolinewidth": 2
          }
         }
        },
        "title": {
         "text": "Conteo por Grupos de Días de Tratamiento"
        },
        "xaxis": {
         "anchor": "y",
         "categoryarray": [
          "0-4",
          "5-8",
          "9-12",
          "13-16",
          "17-20",
          "21-24",
          "25-28",
          "29-32",
          "33-Inf"
         ],
         "categoryorder": "array",
         "domain": [
          0,
          1
         ],
         "title": {
          "text": ""
         }
        },
        "yaxis": {
         "anchor": "x",
         "domain": [
          0,
          1
         ],
         "title": {
          "text": ""
         }
        }
       }
      }
     },
     "metadata": {},
     "output_type": "display_data"
    }
   ],
   "source": [
    "ptDF = df[['Patient ID', 'TD Bucket']].drop_duplicates()\n",
    "fig = px.histogram(ptDF, x='TD Bucket', text_auto=True)\n",
    "fig.update_traces(marker_color=CATEGORY_PALETTE[0])\n",
    "fig.update_xaxes(categoryorder='array', categoryarray=labels)\n",
    "fig.update_layout(title='Conteo por Grupos de Días de Tratamiento', yaxis_title='', xaxis_title='')\n",
    "fig.show()"
   ]
  },
  {
   "cell_type": "markdown",
   "metadata": {},
   "source": [
    "Comportamiento de los artículos de interés contra no interés en el tiempo"
   ]
  },
  {
   "cell_type": "code",
   "execution_count": 57,
   "metadata": {},
   "outputs": [],
   "source": [
    "patientDF2 = df.groupby(['Patient ID', 'Ingress Month', 'Interest Supplies'])\n",
    "tpDF = patientDF2['Treatment Cost'].sum()\n",
    "tpDF = tpDF.reset_index()\n",
    "gDF = tpDF.groupby(['Ingress Month', 'Interest Supplies']).mean()\n",
    "gDF = gDF.reset_index()"
   ]
  },
  {
   "cell_type": "code",
   "execution_count": 58,
   "metadata": {},
   "outputs": [
    {
     "data": {
      "application/vnd.plotly.v1+json": {
       "config": {
        "plotlyServerURL": "https://plot.ly"
       },
       "data": [
        {
         "hovertemplate": "Interest Supplies=Insumo de Interes<br>Ingress Month=%{x}<br>Treatment Cost=%{y}<extra></extra>",
         "legendgroup": "Insumo de Interes",
         "line": {
          "color": "#636efa",
          "dash": "solid"
         },
         "marker": {
          "symbol": "circle"
         },
         "mode": "lines",
         "name": "Insumo de Interes",
         "orientation": "v",
         "showlegend": true,
         "type": "scatter",
         "x": [
          "2020-03-01T00:00:00",
          "2020-04-01T00:00:00",
          "2020-05-01T00:00:00",
          "2020-06-01T00:00:00",
          "2020-07-01T00:00:00",
          "2020-08-01T00:00:00",
          "2020-09-01T00:00:00",
          "2020-10-01T00:00:00",
          "2020-11-01T00:00:00",
          "2020-12-01T00:00:00",
          "2021-01-01T00:00:00",
          "2021-02-01T00:00:00",
          "2021-03-01T00:00:00",
          "2021-04-01T00:00:00",
          "2021-05-01T00:00:00",
          "2021-06-01T00:00:00",
          "2021-07-01T00:00:00"
         ],
         "xaxis": "x",
         "y": [
          54719,
          26997.575757575756,
          42709.6,
          40955.66820276498,
          32093.251533742332,
          27816.17391304348,
          28631.91056910569,
          24500.282685512368,
          27517.528409090908,
          24024.315789473683,
          20813.82978723404,
          20441.25,
          22916.36815920398,
          20885.35714285714,
          17809.68992248062,
          19059.590163934427,
          15133.72340425532
         ],
         "yaxis": "y"
        },
        {
         "hovertemplate": "Interest Supplies=Insumo de no Interes<br>Ingress Month=%{x}<br>Treatment Cost=%{y}<extra></extra>",
         "legendgroup": "Insumo de no Interes",
         "line": {
          "color": "#EF553B",
          "dash": "solid"
         },
         "marker": {
          "symbol": "circle"
         },
         "mode": "lines",
         "name": "Insumo de no Interes",
         "orientation": "v",
         "showlegend": true,
         "type": "scatter",
         "x": [
          "2020-03-01T00:00:00",
          "2020-04-01T00:00:00",
          "2020-05-01T00:00:00",
          "2020-06-01T00:00:00",
          "2020-07-01T00:00:00",
          "2020-08-01T00:00:00",
          "2020-09-01T00:00:00",
          "2020-10-01T00:00:00",
          "2020-11-01T00:00:00",
          "2020-12-01T00:00:00",
          "2021-01-01T00:00:00",
          "2021-02-01T00:00:00",
          "2021-03-01T00:00:00",
          "2021-04-01T00:00:00",
          "2021-05-01T00:00:00",
          "2021-06-01T00:00:00",
          "2021-07-01T00:00:00"
         ],
         "xaxis": "x",
         "y": [
          828900.4761904762,
          563950.1,
          611048.6187845304,
          710186.1965811966,
          670286.256684492,
          611033.3703703703,
          616024.4561403509,
          433639.8245614035,
          539323.5781990521,
          584124.7111913357,
          615375.6727272727,
          771838.226744186,
          714991.4785992218,
          602802.8248587571,
          699500.9615384615,
          753660.6666666666,
          342883.3039647577
         ],
         "yaxis": "y"
        }
       ],
       "layout": {
        "legend": {
         "orientation": "h",
         "title": {
          "text": "Interest Supplies"
         },
         "tracegroupgap": 0
        },
        "margin": {
         "t": 60
        },
        "template": {
         "data": {
          "bar": [
           {
            "error_x": {
             "color": "#2a3f5f"
            },
            "error_y": {
             "color": "#2a3f5f"
            },
            "marker": {
             "line": {
              "color": "#E5ECF6",
              "width": 0.5
             },
             "pattern": {
              "fillmode": "overlay",
              "size": 10,
              "solidity": 0.2
             }
            },
            "type": "bar"
           }
          ],
          "barpolar": [
           {
            "marker": {
             "line": {
              "color": "#E5ECF6",
              "width": 0.5
             },
             "pattern": {
              "fillmode": "overlay",
              "size": 10,
              "solidity": 0.2
             }
            },
            "type": "barpolar"
           }
          ],
          "carpet": [
           {
            "aaxis": {
             "endlinecolor": "#2a3f5f",
             "gridcolor": "white",
             "linecolor": "white",
             "minorgridcolor": "white",
             "startlinecolor": "#2a3f5f"
            },
            "baxis": {
             "endlinecolor": "#2a3f5f",
             "gridcolor": "white",
             "linecolor": "white",
             "minorgridcolor": "white",
             "startlinecolor": "#2a3f5f"
            },
            "type": "carpet"
           }
          ],
          "choropleth": [
           {
            "colorbar": {
             "outlinewidth": 0,
             "ticks": ""
            },
            "type": "choropleth"
           }
          ],
          "contour": [
           {
            "colorbar": {
             "outlinewidth": 0,
             "ticks": ""
            },
            "colorscale": [
             [
              0,
              "#0d0887"
             ],
             [
              0.1111111111111111,
              "#46039f"
             ],
             [
              0.2222222222222222,
              "#7201a8"
             ],
             [
              0.3333333333333333,
              "#9c179e"
             ],
             [
              0.4444444444444444,
              "#bd3786"
             ],
             [
              0.5555555555555556,
              "#d8576b"
             ],
             [
              0.6666666666666666,
              "#ed7953"
             ],
             [
              0.7777777777777778,
              "#fb9f3a"
             ],
             [
              0.8888888888888888,
              "#fdca26"
             ],
             [
              1,
              "#f0f921"
             ]
            ],
            "type": "contour"
           }
          ],
          "contourcarpet": [
           {
            "colorbar": {
             "outlinewidth": 0,
             "ticks": ""
            },
            "type": "contourcarpet"
           }
          ],
          "heatmap": [
           {
            "colorbar": {
             "outlinewidth": 0,
             "ticks": ""
            },
            "colorscale": [
             [
              0,
              "#0d0887"
             ],
             [
              0.1111111111111111,
              "#46039f"
             ],
             [
              0.2222222222222222,
              "#7201a8"
             ],
             [
              0.3333333333333333,
              "#9c179e"
             ],
             [
              0.4444444444444444,
              "#bd3786"
             ],
             [
              0.5555555555555556,
              "#d8576b"
             ],
             [
              0.6666666666666666,
              "#ed7953"
             ],
             [
              0.7777777777777778,
              "#fb9f3a"
             ],
             [
              0.8888888888888888,
              "#fdca26"
             ],
             [
              1,
              "#f0f921"
             ]
            ],
            "type": "heatmap"
           }
          ],
          "heatmapgl": [
           {
            "colorbar": {
             "outlinewidth": 0,
             "ticks": ""
            },
            "colorscale": [
             [
              0,
              "#0d0887"
             ],
             [
              0.1111111111111111,
              "#46039f"
             ],
             [
              0.2222222222222222,
              "#7201a8"
             ],
             [
              0.3333333333333333,
              "#9c179e"
             ],
             [
              0.4444444444444444,
              "#bd3786"
             ],
             [
              0.5555555555555556,
              "#d8576b"
             ],
             [
              0.6666666666666666,
              "#ed7953"
             ],
             [
              0.7777777777777778,
              "#fb9f3a"
             ],
             [
              0.8888888888888888,
              "#fdca26"
             ],
             [
              1,
              "#f0f921"
             ]
            ],
            "type": "heatmapgl"
           }
          ],
          "histogram": [
           {
            "marker": {
             "pattern": {
              "fillmode": "overlay",
              "size": 10,
              "solidity": 0.2
             }
            },
            "type": "histogram"
           }
          ],
          "histogram2d": [
           {
            "colorbar": {
             "outlinewidth": 0,
             "ticks": ""
            },
            "colorscale": [
             [
              0,
              "#0d0887"
             ],
             [
              0.1111111111111111,
              "#46039f"
             ],
             [
              0.2222222222222222,
              "#7201a8"
             ],
             [
              0.3333333333333333,
              "#9c179e"
             ],
             [
              0.4444444444444444,
              "#bd3786"
             ],
             [
              0.5555555555555556,
              "#d8576b"
             ],
             [
              0.6666666666666666,
              "#ed7953"
             ],
             [
              0.7777777777777778,
              "#fb9f3a"
             ],
             [
              0.8888888888888888,
              "#fdca26"
             ],
             [
              1,
              "#f0f921"
             ]
            ],
            "type": "histogram2d"
           }
          ],
          "histogram2dcontour": [
           {
            "colorbar": {
             "outlinewidth": 0,
             "ticks": ""
            },
            "colorscale": [
             [
              0,
              "#0d0887"
             ],
             [
              0.1111111111111111,
              "#46039f"
             ],
             [
              0.2222222222222222,
              "#7201a8"
             ],
             [
              0.3333333333333333,
              "#9c179e"
             ],
             [
              0.4444444444444444,
              "#bd3786"
             ],
             [
              0.5555555555555556,
              "#d8576b"
             ],
             [
              0.6666666666666666,
              "#ed7953"
             ],
             [
              0.7777777777777778,
              "#fb9f3a"
             ],
             [
              0.8888888888888888,
              "#fdca26"
             ],
             [
              1,
              "#f0f921"
             ]
            ],
            "type": "histogram2dcontour"
           }
          ],
          "mesh3d": [
           {
            "colorbar": {
             "outlinewidth": 0,
             "ticks": ""
            },
            "type": "mesh3d"
           }
          ],
          "parcoords": [
           {
            "line": {
             "colorbar": {
              "outlinewidth": 0,
              "ticks": ""
             }
            },
            "type": "parcoords"
           }
          ],
          "pie": [
           {
            "automargin": true,
            "type": "pie"
           }
          ],
          "scatter": [
           {
            "fillpattern": {
             "fillmode": "overlay",
             "size": 10,
             "solidity": 0.2
            },
            "type": "scatter"
           }
          ],
          "scatter3d": [
           {
            "line": {
             "colorbar": {
              "outlinewidth": 0,
              "ticks": ""
             }
            },
            "marker": {
             "colorbar": {
              "outlinewidth": 0,
              "ticks": ""
             }
            },
            "type": "scatter3d"
           }
          ],
          "scattercarpet": [
           {
            "marker": {
             "colorbar": {
              "outlinewidth": 0,
              "ticks": ""
             }
            },
            "type": "scattercarpet"
           }
          ],
          "scattergeo": [
           {
            "marker": {
             "colorbar": {
              "outlinewidth": 0,
              "ticks": ""
             }
            },
            "type": "scattergeo"
           }
          ],
          "scattergl": [
           {
            "marker": {
             "colorbar": {
              "outlinewidth": 0,
              "ticks": ""
             }
            },
            "type": "scattergl"
           }
          ],
          "scattermapbox": [
           {
            "marker": {
             "colorbar": {
              "outlinewidth": 0,
              "ticks": ""
             }
            },
            "type": "scattermapbox"
           }
          ],
          "scatterpolar": [
           {
            "marker": {
             "colorbar": {
              "outlinewidth": 0,
              "ticks": ""
             }
            },
            "type": "scatterpolar"
           }
          ],
          "scatterpolargl": [
           {
            "marker": {
             "colorbar": {
              "outlinewidth": 0,
              "ticks": ""
             }
            },
            "type": "scatterpolargl"
           }
          ],
          "scatterternary": [
           {
            "marker": {
             "colorbar": {
              "outlinewidth": 0,
              "ticks": ""
             }
            },
            "type": "scatterternary"
           }
          ],
          "surface": [
           {
            "colorbar": {
             "outlinewidth": 0,
             "ticks": ""
            },
            "colorscale": [
             [
              0,
              "#0d0887"
             ],
             [
              0.1111111111111111,
              "#46039f"
             ],
             [
              0.2222222222222222,
              "#7201a8"
             ],
             [
              0.3333333333333333,
              "#9c179e"
             ],
             [
              0.4444444444444444,
              "#bd3786"
             ],
             [
              0.5555555555555556,
              "#d8576b"
             ],
             [
              0.6666666666666666,
              "#ed7953"
             ],
             [
              0.7777777777777778,
              "#fb9f3a"
             ],
             [
              0.8888888888888888,
              "#fdca26"
             ],
             [
              1,
              "#f0f921"
             ]
            ],
            "type": "surface"
           }
          ],
          "table": [
           {
            "cells": {
             "fill": {
              "color": "#EBF0F8"
             },
             "line": {
              "color": "white"
             }
            },
            "header": {
             "fill": {
              "color": "#C8D4E3"
             },
             "line": {
              "color": "white"
             }
            },
            "type": "table"
           }
          ]
         },
         "layout": {
          "annotationdefaults": {
           "arrowcolor": "#2a3f5f",
           "arrowhead": 0,
           "arrowwidth": 1
          },
          "autotypenumbers": "strict",
          "coloraxis": {
           "colorbar": {
            "outlinewidth": 0,
            "ticks": ""
           }
          },
          "colorscale": {
           "diverging": [
            [
             0,
             "#8e0152"
            ],
            [
             0.1,
             "#c51b7d"
            ],
            [
             0.2,
             "#de77ae"
            ],
            [
             0.3,
             "#f1b6da"
            ],
            [
             0.4,
             "#fde0ef"
            ],
            [
             0.5,
             "#f7f7f7"
            ],
            [
             0.6,
             "#e6f5d0"
            ],
            [
             0.7,
             "#b8e186"
            ],
            [
             0.8,
             "#7fbc41"
            ],
            [
             0.9,
             "#4d9221"
            ],
            [
             1,
             "#276419"
            ]
           ],
           "sequential": [
            [
             0,
             "#0d0887"
            ],
            [
             0.1111111111111111,
             "#46039f"
            ],
            [
             0.2222222222222222,
             "#7201a8"
            ],
            [
             0.3333333333333333,
             "#9c179e"
            ],
            [
             0.4444444444444444,
             "#bd3786"
            ],
            [
             0.5555555555555556,
             "#d8576b"
            ],
            [
             0.6666666666666666,
             "#ed7953"
            ],
            [
             0.7777777777777778,
             "#fb9f3a"
            ],
            [
             0.8888888888888888,
             "#fdca26"
            ],
            [
             1,
             "#f0f921"
            ]
           ],
           "sequentialminus": [
            [
             0,
             "#0d0887"
            ],
            [
             0.1111111111111111,
             "#46039f"
            ],
            [
             0.2222222222222222,
             "#7201a8"
            ],
            [
             0.3333333333333333,
             "#9c179e"
            ],
            [
             0.4444444444444444,
             "#bd3786"
            ],
            [
             0.5555555555555556,
             "#d8576b"
            ],
            [
             0.6666666666666666,
             "#ed7953"
            ],
            [
             0.7777777777777778,
             "#fb9f3a"
            ],
            [
             0.8888888888888888,
             "#fdca26"
            ],
            [
             1,
             "#f0f921"
            ]
           ]
          },
          "colorway": [
           "#636efa",
           "#EF553B",
           "#00cc96",
           "#ab63fa",
           "#FFA15A",
           "#19d3f3",
           "#FF6692",
           "#B6E880",
           "#FF97FF",
           "#FECB52"
          ],
          "font": {
           "color": "#2a3f5f"
          },
          "geo": {
           "bgcolor": "white",
           "lakecolor": "white",
           "landcolor": "#E5ECF6",
           "showlakes": true,
           "showland": true,
           "subunitcolor": "white"
          },
          "hoverlabel": {
           "align": "left"
          },
          "hovermode": "closest",
          "mapbox": {
           "style": "light"
          },
          "paper_bgcolor": "white",
          "plot_bgcolor": "#E5ECF6",
          "polar": {
           "angularaxis": {
            "gridcolor": "white",
            "linecolor": "white",
            "ticks": ""
           },
           "bgcolor": "#E5ECF6",
           "radialaxis": {
            "gridcolor": "white",
            "linecolor": "white",
            "ticks": ""
           }
          },
          "scene": {
           "xaxis": {
            "backgroundcolor": "#E5ECF6",
            "gridcolor": "white",
            "gridwidth": 2,
            "linecolor": "white",
            "showbackground": true,
            "ticks": "",
            "zerolinecolor": "white"
           },
           "yaxis": {
            "backgroundcolor": "#E5ECF6",
            "gridcolor": "white",
            "gridwidth": 2,
            "linecolor": "white",
            "showbackground": true,
            "ticks": "",
            "zerolinecolor": "white"
           },
           "zaxis": {
            "backgroundcolor": "#E5ECF6",
            "gridcolor": "white",
            "gridwidth": 2,
            "linecolor": "white",
            "showbackground": true,
            "ticks": "",
            "zerolinecolor": "white"
           }
          },
          "shapedefaults": {
           "line": {
            "color": "#2a3f5f"
           }
          },
          "ternary": {
           "aaxis": {
            "gridcolor": "white",
            "linecolor": "white",
            "ticks": ""
           },
           "baxis": {
            "gridcolor": "white",
            "linecolor": "white",
            "ticks": ""
           },
           "bgcolor": "#E5ECF6",
           "caxis": {
            "gridcolor": "white",
            "linecolor": "white",
            "ticks": ""
           }
          },
          "title": {
           "x": 0.05
          },
          "xaxis": {
           "automargin": true,
           "gridcolor": "white",
           "linecolor": "white",
           "ticks": "",
           "title": {
            "standoff": 15
           },
           "zerolinecolor": "white",
           "zerolinewidth": 2
          },
          "yaxis": {
           "automargin": true,
           "gridcolor": "white",
           "linecolor": "white",
           "ticks": "",
           "title": {
            "standoff": 15
           },
           "zerolinecolor": "white",
           "zerolinewidth": 2
          }
         }
        },
        "xaxis": {
         "anchor": "y",
         "domain": [
          0,
          1
         ],
         "title": {
          "text": ""
         }
        },
        "yaxis": {
         "anchor": "x",
         "domain": [
          0,
          1
         ],
         "title": {
          "text": "Costo del Tratamiento"
         }
        }
       }
      }
     },
     "metadata": {},
     "output_type": "display_data"
    }
   ],
   "source": [
    "fig = px.line(gDF, x='Ingress Month', y='Treatment Cost', color='Interest Supplies')\n",
    "fig.update_layout(legend=dict(orientation='h'), xaxis_title='', yaxis_title='Costo del Tratamiento')\n",
    "fig.show()"
   ]
  },
  {
   "cell_type": "markdown",
   "metadata": {},
   "source": [
    "La imagen arriba muestra el promedio de gastos general de insumos de interés y de no interés. Aunque las escalas para ambas categorías son distintas, se nota un comportamiento similar en cómo va decayendo los costos durante el tiempo, especialmente en los últimos 5 meses.\n",
    "Ahora se hará un revisión del comportamiento de Costos de tratamiento por cada bucket de días de tratamiento."
   ]
  },
  {
   "cell_type": "code",
   "execution_count": 59,
   "metadata": {},
   "outputs": [
    {
     "data": {
      "text/plain": [
       "29741.465125877014"
      ]
     },
     "execution_count": 59,
     "metadata": {},
     "output_type": "execute_result"
    }
   ],
   "source": [
    "patientDF[(patientDF['Ingress Month'].dt.year == 2020) & (patientDF['Interest Supplies'] == 'Insumo de Interes')]['Treatment Cost'].mean()"
   ]
  },
  {
   "cell_type": "code",
   "execution_count": 60,
   "metadata": {},
   "outputs": [
    {
     "data": {
      "text/plain": [
       "329117.6258163657"
      ]
     },
     "execution_count": 60,
     "metadata": {},
     "output_type": "execute_result"
    }
   ],
   "source": [
    "patientDF[(patientDF['Ingress Month'].dt.year == 2020)]['Treatment Cost'].mean()"
   ]
  },
  {
   "cell_type": "code",
   "execution_count": 61,
   "metadata": {},
   "outputs": [],
   "source": [
    "tpDF = aggregate_patient(df, ['TD Bucket'])\n",
    "gDF = mean_treatment(tpDF, ['TD Bucket'])"
   ]
  },
  {
   "cell_type": "code",
   "execution_count": 62,
   "metadata": {},
   "outputs": [],
   "source": [
    "fig = px.line(gDF[gDF['Interest Supplies'] == 'Insumo de Interes'], x='Ingress Month', \n",
    "              y='Treatment Cost', color='Interest Supplies', facet_row='TD Bucket')\n",
    "fig.update_layout(showlegend=False, xaxis_title='')\n",
    "fig.update_yaxes(matches=None)\n",
    "fig.for_each_annotation(lambda x: x.update(text=x.text.split('=')[-1]))\n",
    "fig.write_image('images/buckets/facet_plot_interes.png', height=1200, width=1200)\n",
    "\n",
    "fig = px.line(gDF[gDF['Interest Supplies'] == 'Insumo de no Interes'], x='Ingress Month', y='Treatment Cost', color='Interest Supplies', facet_row='TD Bucket')\n",
    "fig.update_layout(showlegend=False, xaxis_title='')\n",
    "fig.update_yaxes(matches=None)\n",
    "fig.for_each_annotation(lambda x: x.update(text=x.text.split('=')[-1]))\n",
    "fig.write_image('images/buckets/facet_plot_NOinteres.png', height=1200, width=1200)"
   ]
  },
  {
   "cell_type": "markdown",
   "metadata": {},
   "source": [
    "![Promedio de Costos, por Buckets de Días de tratamiento](images/buckets/facet_plot_interes.png)"
   ]
  },
  {
   "cell_type": "markdown",
   "metadata": {},
   "source": [
    "![](images/buckets/facet_plot_NOinteres.png)"
   ]
  },
  {
   "cell_type": "markdown",
   "metadata": {},
   "source": [
    "Las imágenes de arriba muestra como se comporta la media de costo de tratamiento por cada bucket de días de tratamiento. Tiene sentido observar que mientras más días de tratamiento hay, más caro es el costo del tratamiento. Pero lo que es extraño es ver que los precios no "
   ]
  },
  {
   "cell_type": "code",
   "execution_count": 63,
   "metadata": {},
   "outputs": [],
   "source": [
    "for bucket in gDF[\"TD Bucket\"].unique():\n",
    "    iDF = gDF[gDF[\"TD Bucket\"] == bucket]\n",
    "    fig = make_subplots(rows=2, cols=1)\n",
    "    isDF = iDF[iDF[\"Interest Supplies\"] == \"Insumo de Interes\"]\n",
    "    noDF = iDF[iDF[\"Interest Supplies\"] == \"Insumo de no Interes\"]\n",
    "    fig = fig.add_trace(\n",
    "        go.Scatter(x=isDF[\"Ingress Month\"], y=isDF[\"Treatment Cost\"], name='Insumos de Interés'), \n",
    "        row=1, col=1,\n",
    "        \n",
    "    )\n",
    "    fig = fig.add_trace(\n",
    "        go.Scatter(x=noDF[\"Ingress Month\"], y=noDF[\"Treatment Cost\"], name='Insumos de no interés'), \n",
    "        row=2, col=1\n",
    "    )\n",
    "    fig.update_layout(\n",
    "        height=800, width=1200, title_text=f\"Mean Treatment Cost for Bucket {bucket}\"\n",
    "    )\n",
    "    fig.write_image(f\"./images/buckets/facet_plot_{bucket}.png\", format=\"png\", height=800, width=1200)\n"
   ]
  },
  {
   "cell_type": "markdown",
   "metadata": {},
   "source": [
    "El código de arriba genera imágenes separadas para cada bucket de días de tratamiento. mostrando el promedio de costos de tratamiento a lo largo de la historia."
   ]
  },
  {
   "cell_type": "code",
   "execution_count": 64,
   "metadata": {},
   "outputs": [],
   "source": [
    "tpDF = aggregate_patient(df, ['TD Bucket', 'State'])\n",
    "gDF = mean_treatment(tpDF, ['TD Bucket', 'State'])"
   ]
  },
  {
   "cell_type": "markdown",
   "metadata": {},
   "source": [
    "El resultado muestra para el dataframe resultante que no hay información suficiente por estado para hacer una división por bucket de días. Es mejor sólo observar por estado sin buckets."
   ]
  },
  {
   "cell_type": "code",
   "execution_count": 65,
   "metadata": {},
   "outputs": [],
   "source": [
    "tpDF = aggregate_patient(df, ['State'])\n",
    "gDF = mean_treatment(tpDF, ['State'])"
   ]
  },
  {
   "cell_type": "code",
   "execution_count": 66,
   "metadata": {},
   "outputs": [],
   "source": [
    "for state in gDF[\"State\"].unique():\n",
    "    iDF = gDF[gDF[\"State\"] == state]\n",
    "    fig = make_subplots(rows=2, cols=1)\n",
    "    isDF = iDF[iDF[\"Interest Supplies\"] == \"Insumo de Interes\"]\n",
    "    noDF = iDF[iDF[\"Interest Supplies\"] == \"Insumo de no Interes\"]\n",
    "    fig = fig.add_trace(\n",
    "        go.Scatter(x=isDF[\"Ingress Month\"], y=isDF[\"Treatment Cost\"], name='Insumos de Interés'), \n",
    "        row=1, col=1,\n",
    "        \n",
    "    )\n",
    "    fig = fig.add_trace(\n",
    "        go.Scatter(x=noDF[\"Ingress Month\"], y=noDF[\"Treatment Cost\"], name='Insumos de no interés'), \n",
    "        row=2, col=1\n",
    "    )\n",
    "    fig.update_layout(\n",
    "        height=800, width=1200, title_text=f\"Mean Treatment Cost for {state}\"\n",
    "    )\n",
    "    fig.write_image(f\"./images/states/facet_plot_{state}.png\", format=\"png\", height=800, width=1200)"
   ]
  },
  {
   "cell_type": "code",
   "execution_count": 67,
   "metadata": {},
   "outputs": [],
   "source": [
    "tpDF = aggregate_patient(df, ['Hospital Group'])\n",
    "gDF = mean_treatment(tpDF, ['Hospital Group'])"
   ]
  },
  {
   "cell_type": "code",
   "execution_count": 68,
   "metadata": {},
   "outputs": [
    {
     "data": {
      "application/vnd.plotly.v1+json": {
       "config": {
        "plotlyServerURL": "https://plot.ly"
       },
       "data": [
        {
         "hovertemplate": "Interest Supplies=Insumo de Interes<br>Hospital Group=High<br>Ingress Month=%{x}<br>Treatment Cost=%{y}<extra></extra>",
         "legendgroup": "Insumo de Interes",
         "line": {
          "color": "#636efa",
          "dash": "solid"
         },
         "marker": {
          "symbol": "circle"
         },
         "mode": "lines",
         "name": "Insumo de Interes",
         "orientation": "v",
         "showlegend": true,
         "type": "scatter",
         "x": [
          "2020-03-01T00:00:00",
          "2020-04-01T00:00:00",
          "2020-05-01T00:00:00",
          "2020-06-01T00:00:00",
          "2020-07-01T00:00:00",
          "2020-08-01T00:00:00",
          "2020-09-01T00:00:00",
          "2020-10-01T00:00:00",
          "2020-11-01T00:00:00",
          "2020-12-01T00:00:00",
          "2021-01-01T00:00:00",
          "2021-02-01T00:00:00",
          "2021-03-01T00:00:00",
          "2021-04-01T00:00:00",
          "2021-05-01T00:00:00",
          "2021-06-01T00:00:00",
          "2021-07-01T00:00:00"
         ],
         "xaxis": "x3",
         "y": [
          60212.142857142855,
          29155.238095238095,
          43011.35593220339,
          44319.166666666664,
          44455.1724137931,
          25215.3488372093,
          32235.51020408163,
          26470.689655172413,
          26664.56140350877,
          24401.666666666668,
          24815.60975609756,
          23295,
          18676.22641509434,
          19700,
          26354.5,
          31027.58620689655,
          13699.62962962963
         ],
         "yaxis": "y3"
        },
        {
         "hovertemplate": "Interest Supplies=Insumo de Interes<br>Hospital Group=Low<br>Ingress Month=%{x}<br>Treatment Cost=%{y}<extra></extra>",
         "legendgroup": "Insumo de Interes",
         "line": {
          "color": "#636efa",
          "dash": "solid"
         },
         "marker": {
          "symbol": "circle"
         },
         "mode": "lines",
         "name": "Insumo de Interes",
         "orientation": "v",
         "showlegend": false,
         "type": "scatter",
         "x": [
          "2020-03-01T00:00:00",
          "2020-04-01T00:00:00",
          "2020-05-01T00:00:00",
          "2020-06-01T00:00:00",
          "2020-07-01T00:00:00",
          "2020-08-01T00:00:00",
          "2020-09-01T00:00:00",
          "2020-10-01T00:00:00",
          "2020-11-01T00:00:00",
          "2020-12-01T00:00:00",
          "2021-01-01T00:00:00",
          "2021-02-01T00:00:00",
          "2021-03-01T00:00:00",
          "2021-04-01T00:00:00",
          "2021-05-01T00:00:00",
          "2021-06-01T00:00:00",
          "2021-07-01T00:00:00"
         ],
         "xaxis": "x2",
         "y": [
          530,
          30983.75,
          46856.09756097561,
          42392.92682926829,
          29167.176470588234,
          34597.02127659575,
          41237.40740740741,
          23092.69230769231,
          27687.222222222223,
          28422.830188679247,
          21106.6935483871,
          18605.060240963856,
          21123.584905660377,
          22145.714285714286,
          16842.619047619046,
          15408.620689655172,
          10888.805970149253
         ],
         "yaxis": "y2"
        },
        {
         "hovertemplate": "Interest Supplies=Insumo de Interes<br>Hospital Group=Medium<br>Ingress Month=%{x}<br>Treatment Cost=%{y}<extra></extra>",
         "legendgroup": "Insumo de Interes",
         "line": {
          "color": "#636efa",
          "dash": "solid"
         },
         "marker": {
          "symbol": "circle"
         },
         "mode": "lines",
         "name": "Insumo de Interes",
         "orientation": "v",
         "showlegend": false,
         "type": "scatter",
         "x": [
          "2020-03-01T00:00:00",
          "2020-04-01T00:00:00",
          "2020-05-01T00:00:00",
          "2020-06-01T00:00:00",
          "2020-07-01T00:00:00",
          "2020-08-01T00:00:00",
          "2020-09-01T00:00:00",
          "2020-10-01T00:00:00",
          "2020-11-01T00:00:00",
          "2020-12-01T00:00:00",
          "2021-01-01T00:00:00",
          "2021-02-01T00:00:00",
          "2021-03-01T00:00:00",
          "2021-04-01T00:00:00",
          "2021-05-01T00:00:00",
          "2021-06-01T00:00:00",
          "2021-07-01T00:00:00"
         ],
         "xaxis": "x",
         "y": [
          50176,
          23231.70731707317,
          40205.46666666667,
          38707.93103448276,
          29534.371584699453,
          26338.571428571428,
          22636.99300699301,
          24469.72789115646,
          27680.762331838567,
          21909.958847736627,
          18443.72197309417,
          19930.17391304348,
          26282.105263157893,
          20523.39285714286,
          15865.223880597016,
          15290.9375,
          18571.27659574468
         ],
         "yaxis": "y"
        },
        {
         "hovertemplate": "Interest Supplies=Insumo de no Interes<br>Hospital Group=High<br>Ingress Month=%{x}<br>Treatment Cost=%{y}<extra></extra>",
         "legendgroup": "Insumo de no Interes",
         "line": {
          "color": "#EF553B",
          "dash": "solid"
         },
         "marker": {
          "symbol": "circle"
         },
         "mode": "lines",
         "name": "Insumo de no Interes",
         "orientation": "v",
         "showlegend": true,
         "type": "scatter",
         "x": [
          "2020-03-01T00:00:00",
          "2020-04-01T00:00:00",
          "2020-05-01T00:00:00",
          "2020-06-01T00:00:00",
          "2020-07-01T00:00:00",
          "2020-08-01T00:00:00",
          "2020-09-01T00:00:00",
          "2020-10-01T00:00:00",
          "2020-11-01T00:00:00",
          "2020-12-01T00:00:00",
          "2021-01-01T00:00:00",
          "2021-02-01T00:00:00",
          "2021-03-01T00:00:00",
          "2021-04-01T00:00:00",
          "2021-05-01T00:00:00",
          "2021-06-01T00:00:00",
          "2021-07-01T00:00:00"
         ],
         "xaxis": "x3",
         "y": [
          1027075.7142857143,
          573120,
          644871.6949152543,
          617177.2307692308,
          727000.4761904762,
          373494.22222222225,
          448675.306122449,
          390168.09523809527,
          633215.5172413794,
          607587.4242424242,
          847648.1538461539,
          952864,
          856657.5438596491,
          954617.2222222222,
          920439,
          649735.3125,
          414434.51612903224
         ],
         "yaxis": "y3"
        },
        {
         "hovertemplate": "Interest Supplies=Insumo de no Interes<br>Hospital Group=Low<br>Ingress Month=%{x}<br>Treatment Cost=%{y}<extra></extra>",
         "legendgroup": "Insumo de no Interes",
         "line": {
          "color": "#EF553B",
          "dash": "solid"
         },
         "marker": {
          "symbol": "circle"
         },
         "mode": "lines",
         "name": "Insumo de no Interes",
         "orientation": "v",
         "showlegend": false,
         "type": "scatter",
         "x": [
          "2020-03-01T00:00:00",
          "2020-04-01T00:00:00",
          "2020-05-01T00:00:00",
          "2020-06-01T00:00:00",
          "2020-07-01T00:00:00",
          "2020-08-01T00:00:00",
          "2020-09-01T00:00:00",
          "2020-10-01T00:00:00",
          "2020-11-01T00:00:00",
          "2020-12-01T00:00:00",
          "2021-01-01T00:00:00",
          "2021-02-01T00:00:00",
          "2021-03-01T00:00:00",
          "2021-04-01T00:00:00",
          "2021-05-01T00:00:00",
          "2021-06-01T00:00:00",
          "2021-07-01T00:00:00"
         ],
         "xaxis": "x2",
         "y": [
          44770,
          565879.375,
          760989.5238095238,
          536428.4090909091,
          455034.9438202247,
          543112.2448979592,
          591475.9322033898,
          431272.13483146066,
          352941.724137931,
          439149.10569105693,
          558892.1428571428,
          569363.0208333334,
          648123.1147540984,
          568261.1538461539,
          818880.9302325582,
          450158.9655172414,
          261917.39726027398
         ],
         "yaxis": "y2"
        },
        {
         "hovertemplate": "Interest Supplies=Insumo de no Interes<br>Hospital Group=Medium<br>Ingress Month=%{x}<br>Treatment Cost=%{y}<extra></extra>",
         "legendgroup": "Insumo de no Interes",
         "line": {
          "color": "#EF553B",
          "dash": "solid"
         },
         "marker": {
          "symbol": "circle"
         },
         "mode": "lines",
         "name": "Insumo de no Interes",
         "orientation": "v",
         "showlegend": false,
         "type": "scatter",
         "x": [
          "2020-03-01T00:00:00",
          "2020-04-01T00:00:00",
          "2020-05-01T00:00:00",
          "2020-06-01T00:00:00",
          "2020-07-01T00:00:00",
          "2020-08-01T00:00:00",
          "2020-09-01T00:00:00",
          "2020-10-01T00:00:00",
          "2020-11-01T00:00:00",
          "2020-12-01T00:00:00",
          "2021-01-01T00:00:00",
          "2021-02-01T00:00:00",
          "2021-03-01T00:00:00",
          "2021-04-01T00:00:00",
          "2021-05-01T00:00:00",
          "2021-06-01T00:00:00",
          "2021-07-01T00:00:00"
         ],
         "xaxis": "x",
         "y": [
          497180,
          554045.2380952381,
          507385.125,
          819713.6,
          740486.1261261262,
          690677.6704545454,
          670535.593220339,
          449163.2105263158,
          578202.5992779783,
          633405.3846153846,
          535776.6428571428,
          801335.5952380953,
          686243.309352518,
          480677.52808988764,
          596790.2150537635,
          889920.8988764045,
          372903.0081300813
         ],
         "yaxis": "y"
        }
       ],
       "layout": {
        "annotations": [
         {
          "font": {},
          "showarrow": false,
          "text": "Hospital Group=Medium",
          "textangle": 90,
          "x": 0.98,
          "xanchor": "left",
          "xref": "paper",
          "y": 0.15666666666666665,
          "yanchor": "middle",
          "yref": "paper"
         },
         {
          "font": {},
          "showarrow": false,
          "text": "Hospital Group=Low",
          "textangle": 90,
          "x": 0.98,
          "xanchor": "left",
          "xref": "paper",
          "y": 0.4999999999999999,
          "yanchor": "middle",
          "yref": "paper"
         },
         {
          "font": {},
          "showarrow": false,
          "text": "Hospital Group=High",
          "textangle": 90,
          "x": 0.98,
          "xanchor": "left",
          "xref": "paper",
          "y": 0.8433333333333332,
          "yanchor": "middle",
          "yref": "paper"
         }
        ],
        "legend": {
         "title": {
          "text": "Interest Supplies"
         },
         "tracegroupgap": 0
        },
        "margin": {
         "t": 60
        },
        "template": {
         "data": {
          "bar": [
           {
            "error_x": {
             "color": "#2a3f5f"
            },
            "error_y": {
             "color": "#2a3f5f"
            },
            "marker": {
             "line": {
              "color": "#E5ECF6",
              "width": 0.5
             },
             "pattern": {
              "fillmode": "overlay",
              "size": 10,
              "solidity": 0.2
             }
            },
            "type": "bar"
           }
          ],
          "barpolar": [
           {
            "marker": {
             "line": {
              "color": "#E5ECF6",
              "width": 0.5
             },
             "pattern": {
              "fillmode": "overlay",
              "size": 10,
              "solidity": 0.2
             }
            },
            "type": "barpolar"
           }
          ],
          "carpet": [
           {
            "aaxis": {
             "endlinecolor": "#2a3f5f",
             "gridcolor": "white",
             "linecolor": "white",
             "minorgridcolor": "white",
             "startlinecolor": "#2a3f5f"
            },
            "baxis": {
             "endlinecolor": "#2a3f5f",
             "gridcolor": "white",
             "linecolor": "white",
             "minorgridcolor": "white",
             "startlinecolor": "#2a3f5f"
            },
            "type": "carpet"
           }
          ],
          "choropleth": [
           {
            "colorbar": {
             "outlinewidth": 0,
             "ticks": ""
            },
            "type": "choropleth"
           }
          ],
          "contour": [
           {
            "colorbar": {
             "outlinewidth": 0,
             "ticks": ""
            },
            "colorscale": [
             [
              0,
              "#0d0887"
             ],
             [
              0.1111111111111111,
              "#46039f"
             ],
             [
              0.2222222222222222,
              "#7201a8"
             ],
             [
              0.3333333333333333,
              "#9c179e"
             ],
             [
              0.4444444444444444,
              "#bd3786"
             ],
             [
              0.5555555555555556,
              "#d8576b"
             ],
             [
              0.6666666666666666,
              "#ed7953"
             ],
             [
              0.7777777777777778,
              "#fb9f3a"
             ],
             [
              0.8888888888888888,
              "#fdca26"
             ],
             [
              1,
              "#f0f921"
             ]
            ],
            "type": "contour"
           }
          ],
          "contourcarpet": [
           {
            "colorbar": {
             "outlinewidth": 0,
             "ticks": ""
            },
            "type": "contourcarpet"
           }
          ],
          "heatmap": [
           {
            "colorbar": {
             "outlinewidth": 0,
             "ticks": ""
            },
            "colorscale": [
             [
              0,
              "#0d0887"
             ],
             [
              0.1111111111111111,
              "#46039f"
             ],
             [
              0.2222222222222222,
              "#7201a8"
             ],
             [
              0.3333333333333333,
              "#9c179e"
             ],
             [
              0.4444444444444444,
              "#bd3786"
             ],
             [
              0.5555555555555556,
              "#d8576b"
             ],
             [
              0.6666666666666666,
              "#ed7953"
             ],
             [
              0.7777777777777778,
              "#fb9f3a"
             ],
             [
              0.8888888888888888,
              "#fdca26"
             ],
             [
              1,
              "#f0f921"
             ]
            ],
            "type": "heatmap"
           }
          ],
          "heatmapgl": [
           {
            "colorbar": {
             "outlinewidth": 0,
             "ticks": ""
            },
            "colorscale": [
             [
              0,
              "#0d0887"
             ],
             [
              0.1111111111111111,
              "#46039f"
             ],
             [
              0.2222222222222222,
              "#7201a8"
             ],
             [
              0.3333333333333333,
              "#9c179e"
             ],
             [
              0.4444444444444444,
              "#bd3786"
             ],
             [
              0.5555555555555556,
              "#d8576b"
             ],
             [
              0.6666666666666666,
              "#ed7953"
             ],
             [
              0.7777777777777778,
              "#fb9f3a"
             ],
             [
              0.8888888888888888,
              "#fdca26"
             ],
             [
              1,
              "#f0f921"
             ]
            ],
            "type": "heatmapgl"
           }
          ],
          "histogram": [
           {
            "marker": {
             "pattern": {
              "fillmode": "overlay",
              "size": 10,
              "solidity": 0.2
             }
            },
            "type": "histogram"
           }
          ],
          "histogram2d": [
           {
            "colorbar": {
             "outlinewidth": 0,
             "ticks": ""
            },
            "colorscale": [
             [
              0,
              "#0d0887"
             ],
             [
              0.1111111111111111,
              "#46039f"
             ],
             [
              0.2222222222222222,
              "#7201a8"
             ],
             [
              0.3333333333333333,
              "#9c179e"
             ],
             [
              0.4444444444444444,
              "#bd3786"
             ],
             [
              0.5555555555555556,
              "#d8576b"
             ],
             [
              0.6666666666666666,
              "#ed7953"
             ],
             [
              0.7777777777777778,
              "#fb9f3a"
             ],
             [
              0.8888888888888888,
              "#fdca26"
             ],
             [
              1,
              "#f0f921"
             ]
            ],
            "type": "histogram2d"
           }
          ],
          "histogram2dcontour": [
           {
            "colorbar": {
             "outlinewidth": 0,
             "ticks": ""
            },
            "colorscale": [
             [
              0,
              "#0d0887"
             ],
             [
              0.1111111111111111,
              "#46039f"
             ],
             [
              0.2222222222222222,
              "#7201a8"
             ],
             [
              0.3333333333333333,
              "#9c179e"
             ],
             [
              0.4444444444444444,
              "#bd3786"
             ],
             [
              0.5555555555555556,
              "#d8576b"
             ],
             [
              0.6666666666666666,
              "#ed7953"
             ],
             [
              0.7777777777777778,
              "#fb9f3a"
             ],
             [
              0.8888888888888888,
              "#fdca26"
             ],
             [
              1,
              "#f0f921"
             ]
            ],
            "type": "histogram2dcontour"
           }
          ],
          "mesh3d": [
           {
            "colorbar": {
             "outlinewidth": 0,
             "ticks": ""
            },
            "type": "mesh3d"
           }
          ],
          "parcoords": [
           {
            "line": {
             "colorbar": {
              "outlinewidth": 0,
              "ticks": ""
             }
            },
            "type": "parcoords"
           }
          ],
          "pie": [
           {
            "automargin": true,
            "type": "pie"
           }
          ],
          "scatter": [
           {
            "fillpattern": {
             "fillmode": "overlay",
             "size": 10,
             "solidity": 0.2
            },
            "type": "scatter"
           }
          ],
          "scatter3d": [
           {
            "line": {
             "colorbar": {
              "outlinewidth": 0,
              "ticks": ""
             }
            },
            "marker": {
             "colorbar": {
              "outlinewidth": 0,
              "ticks": ""
             }
            },
            "type": "scatter3d"
           }
          ],
          "scattercarpet": [
           {
            "marker": {
             "colorbar": {
              "outlinewidth": 0,
              "ticks": ""
             }
            },
            "type": "scattercarpet"
           }
          ],
          "scattergeo": [
           {
            "marker": {
             "colorbar": {
              "outlinewidth": 0,
              "ticks": ""
             }
            },
            "type": "scattergeo"
           }
          ],
          "scattergl": [
           {
            "marker": {
             "colorbar": {
              "outlinewidth": 0,
              "ticks": ""
             }
            },
            "type": "scattergl"
           }
          ],
          "scattermapbox": [
           {
            "marker": {
             "colorbar": {
              "outlinewidth": 0,
              "ticks": ""
             }
            },
            "type": "scattermapbox"
           }
          ],
          "scatterpolar": [
           {
            "marker": {
             "colorbar": {
              "outlinewidth": 0,
              "ticks": ""
             }
            },
            "type": "scatterpolar"
           }
          ],
          "scatterpolargl": [
           {
            "marker": {
             "colorbar": {
              "outlinewidth": 0,
              "ticks": ""
             }
            },
            "type": "scatterpolargl"
           }
          ],
          "scatterternary": [
           {
            "marker": {
             "colorbar": {
              "outlinewidth": 0,
              "ticks": ""
             }
            },
            "type": "scatterternary"
           }
          ],
          "surface": [
           {
            "colorbar": {
             "outlinewidth": 0,
             "ticks": ""
            },
            "colorscale": [
             [
              0,
              "#0d0887"
             ],
             [
              0.1111111111111111,
              "#46039f"
             ],
             [
              0.2222222222222222,
              "#7201a8"
             ],
             [
              0.3333333333333333,
              "#9c179e"
             ],
             [
              0.4444444444444444,
              "#bd3786"
             ],
             [
              0.5555555555555556,
              "#d8576b"
             ],
             [
              0.6666666666666666,
              "#ed7953"
             ],
             [
              0.7777777777777778,
              "#fb9f3a"
             ],
             [
              0.8888888888888888,
              "#fdca26"
             ],
             [
              1,
              "#f0f921"
             ]
            ],
            "type": "surface"
           }
          ],
          "table": [
           {
            "cells": {
             "fill": {
              "color": "#EBF0F8"
             },
             "line": {
              "color": "white"
             }
            },
            "header": {
             "fill": {
              "color": "#C8D4E3"
             },
             "line": {
              "color": "white"
             }
            },
            "type": "table"
           }
          ]
         },
         "layout": {
          "annotationdefaults": {
           "arrowcolor": "#2a3f5f",
           "arrowhead": 0,
           "arrowwidth": 1
          },
          "autotypenumbers": "strict",
          "coloraxis": {
           "colorbar": {
            "outlinewidth": 0,
            "ticks": ""
           }
          },
          "colorscale": {
           "diverging": [
            [
             0,
             "#8e0152"
            ],
            [
             0.1,
             "#c51b7d"
            ],
            [
             0.2,
             "#de77ae"
            ],
            [
             0.3,
             "#f1b6da"
            ],
            [
             0.4,
             "#fde0ef"
            ],
            [
             0.5,
             "#f7f7f7"
            ],
            [
             0.6,
             "#e6f5d0"
            ],
            [
             0.7,
             "#b8e186"
            ],
            [
             0.8,
             "#7fbc41"
            ],
            [
             0.9,
             "#4d9221"
            ],
            [
             1,
             "#276419"
            ]
           ],
           "sequential": [
            [
             0,
             "#0d0887"
            ],
            [
             0.1111111111111111,
             "#46039f"
            ],
            [
             0.2222222222222222,
             "#7201a8"
            ],
            [
             0.3333333333333333,
             "#9c179e"
            ],
            [
             0.4444444444444444,
             "#bd3786"
            ],
            [
             0.5555555555555556,
             "#d8576b"
            ],
            [
             0.6666666666666666,
             "#ed7953"
            ],
            [
             0.7777777777777778,
             "#fb9f3a"
            ],
            [
             0.8888888888888888,
             "#fdca26"
            ],
            [
             1,
             "#f0f921"
            ]
           ],
           "sequentialminus": [
            [
             0,
             "#0d0887"
            ],
            [
             0.1111111111111111,
             "#46039f"
            ],
            [
             0.2222222222222222,
             "#7201a8"
            ],
            [
             0.3333333333333333,
             "#9c179e"
            ],
            [
             0.4444444444444444,
             "#bd3786"
            ],
            [
             0.5555555555555556,
             "#d8576b"
            ],
            [
             0.6666666666666666,
             "#ed7953"
            ],
            [
             0.7777777777777778,
             "#fb9f3a"
            ],
            [
             0.8888888888888888,
             "#fdca26"
            ],
            [
             1,
             "#f0f921"
            ]
           ]
          },
          "colorway": [
           "#636efa",
           "#EF553B",
           "#00cc96",
           "#ab63fa",
           "#FFA15A",
           "#19d3f3",
           "#FF6692",
           "#B6E880",
           "#FF97FF",
           "#FECB52"
          ],
          "font": {
           "color": "#2a3f5f"
          },
          "geo": {
           "bgcolor": "white",
           "lakecolor": "white",
           "landcolor": "#E5ECF6",
           "showlakes": true,
           "showland": true,
           "subunitcolor": "white"
          },
          "hoverlabel": {
           "align": "left"
          },
          "hovermode": "closest",
          "mapbox": {
           "style": "light"
          },
          "paper_bgcolor": "white",
          "plot_bgcolor": "#E5ECF6",
          "polar": {
           "angularaxis": {
            "gridcolor": "white",
            "linecolor": "white",
            "ticks": ""
           },
           "bgcolor": "#E5ECF6",
           "radialaxis": {
            "gridcolor": "white",
            "linecolor": "white",
            "ticks": ""
           }
          },
          "scene": {
           "xaxis": {
            "backgroundcolor": "#E5ECF6",
            "gridcolor": "white",
            "gridwidth": 2,
            "linecolor": "white",
            "showbackground": true,
            "ticks": "",
            "zerolinecolor": "white"
           },
           "yaxis": {
            "backgroundcolor": "#E5ECF6",
            "gridcolor": "white",
            "gridwidth": 2,
            "linecolor": "white",
            "showbackground": true,
            "ticks": "",
            "zerolinecolor": "white"
           },
           "zaxis": {
            "backgroundcolor": "#E5ECF6",
            "gridcolor": "white",
            "gridwidth": 2,
            "linecolor": "white",
            "showbackground": true,
            "ticks": "",
            "zerolinecolor": "white"
           }
          },
          "shapedefaults": {
           "line": {
            "color": "#2a3f5f"
           }
          },
          "ternary": {
           "aaxis": {
            "gridcolor": "white",
            "linecolor": "white",
            "ticks": ""
           },
           "baxis": {
            "gridcolor": "white",
            "linecolor": "white",
            "ticks": ""
           },
           "bgcolor": "#E5ECF6",
           "caxis": {
            "gridcolor": "white",
            "linecolor": "white",
            "ticks": ""
           }
          },
          "title": {
           "x": 0.05
          },
          "xaxis": {
           "automargin": true,
           "gridcolor": "white",
           "linecolor": "white",
           "ticks": "",
           "title": {
            "standoff": 15
           },
           "zerolinecolor": "white",
           "zerolinewidth": 2
          },
          "yaxis": {
           "automargin": true,
           "gridcolor": "white",
           "linecolor": "white",
           "ticks": "",
           "title": {
            "standoff": 15
           },
           "zerolinecolor": "white",
           "zerolinewidth": 2
          }
         }
        },
        "xaxis": {
         "anchor": "y",
         "domain": [
          0,
          0.98
         ],
         "title": {
          "text": "Ingress Month"
         }
        },
        "xaxis2": {
         "anchor": "y2",
         "domain": [
          0,
          0.98
         ],
         "matches": "x",
         "showticklabels": false
        },
        "xaxis3": {
         "anchor": "y3",
         "domain": [
          0,
          0.98
         ],
         "matches": "x",
         "showticklabels": false
        },
        "yaxis": {
         "anchor": "x",
         "domain": [
          0,
          0.3133333333333333
         ],
         "title": {
          "text": "Treatment Cost"
         }
        },
        "yaxis2": {
         "anchor": "x2",
         "domain": [
          0.34333333333333327,
          0.6566666666666665
         ],
         "matches": "y",
         "title": {
          "text": "Treatment Cost"
         }
        },
        "yaxis3": {
         "anchor": "x3",
         "domain": [
          0.6866666666666665,
          0.9999999999999998
         ],
         "matches": "y",
         "title": {
          "text": "Treatment Cost"
         }
        }
       }
      }
     },
     "metadata": {},
     "output_type": "display_data"
    }
   ],
   "source": [
    "fig = px.line(gDF, x='Ingress Month', y='Treatment Cost', color='Interest Supplies',\n",
    "              facet_row='Hospital Group')\n",
    "fig.show()"
   ]
  },
  {
   "cell_type": "markdown",
   "metadata": {},
   "source": [
    "Las revisiones"
   ]
  },
  {
   "cell_type": "code",
   "execution_count": 69,
   "metadata": {},
   "outputs": [
    {
     "data": {
      "text/plain": [
       "Interest Supplies     Hospital Group\n",
       "Insumo de Interes     High               29006.008630\n",
       "                      Low                25855.293522\n",
       "                      Medium             24616.004926\n",
       "Insumo de no Interes  High              680720.184426\n",
       "                      Low               511574.318390\n",
       "                      Medium            626102.058252\n",
       "Name: Treatment Cost, dtype: float64"
      ]
     },
     "execution_count": 69,
     "metadata": {},
     "output_type": "execute_result"
    }
   ],
   "source": [
    "tpDF = aggregate_patient(df, ['Hospital Group'])\n",
    "tpDF.groupby(['Interest Supplies', 'Hospital Group'])['Treatment Cost'].mean()"
   ]
  },
  {
   "cell_type": "code",
   "execution_count": 70,
   "metadata": {},
   "outputs": [
    {
     "data": {
      "text/plain": [
       "Hospital Group  Ingress Month\n",
       "High            2020             312588.529412\n",
       "                2021             441658.808568\n",
       "Low             2020             269360.114035\n",
       "                2021             295032.125399\n",
       "Medium          2020             359093.982818\n",
       "                2021             364141.474926\n",
       "Name: Treatment Cost, dtype: float64"
      ]
     },
     "execution_count": 70,
     "metadata": {},
     "output_type": "execute_result"
    }
   ],
   "source": [
    "tpDF.groupby(['Hospital Group', tpDF['Ingress Month'].dt.year])['Treatment Cost'].mean()"
   ]
  },
  {
   "cell_type": "code",
   "execution_count": 71,
   "metadata": {},
   "outputs": [],
   "source": [
    "intDF = df[df['Interest Supplies'] == 'Insumo de Interes']\n",
    "intDF = intDF[['Interest Supplies', 'Ingress Month', 'Treatment Cost', 'Medical Supply', 'Cost per Unit']].drop_duplicates()\n",
    "pricesDF = intDF.groupby(['Ingress Month', 'Medical Supply'])\n",
    "pricesDF = pricesDF['Cost per Unit'].mean()\n",
    "pricesDF = pricesDF.reset_index()"
   ]
  },
  {
   "cell_type": "code",
   "execution_count": 72,
   "metadata": {},
   "outputs": [
    {
     "data": {
      "text/plain": [
       "Ingress Month\n",
       "2020    29741.465126\n",
       "2021    19934.638633\n",
       "Name: Treatment Cost, dtype: float64"
      ]
     },
     "execution_count": 72,
     "metadata": {},
     "output_type": "execute_result"
    }
   ],
   "source": [
    "patientDF[patientDF['Interest Supplies'] == 'Insumo de Interes'].groupby(patientDF['Ingress Month'].dt.year)['Treatment Cost'].mean()"
   ]
  },
  {
   "cell_type": "markdown",
   "metadata": {},
   "source": [
    "Los precios fueron variando durante el tiempo"
   ]
  },
  {
   "cell_type": "markdown",
   "metadata": {},
   "source": [
    "## Pruebas de Hipótesis"
   ]
  },
  {
   "cell_type": "markdown",
   "metadata": {},
   "source": [
    "### Diferencia de Medias de costos de Tratamientos por paciente 2020 vs 2021\n",
    "\n",
    "Se revisa los promedios de costo de tratamiento por paciente entre 2020 y 2021. \n",
    "La primera prueba es si los promedios entre 2020 (Marzo-Julio) es diferente a 2021 (Marzo-Julio) para los insumos de interés.\n",
    "\n",
    "$H_0$: El promedio de costo de tratamiento en 2020 es igual que en 2021\n",
    "\n",
    "$H_1$: El promedio de costo de tratamiento en 2020 es diferente que en 2021"
   ]
  },
  {
   "cell_type": "code",
   "execution_count": 73,
   "metadata": {},
   "outputs": [
    {
     "data": {
      "text/plain": [
       "Ingress Month\n",
       "2020    36548.506571\n",
       "2021    19228.205128\n",
       "Name: Treatment Cost, dtype: float64"
      ]
     },
     "execution_count": 73,
     "metadata": {},
     "output_type": "execute_result"
    }
   ],
   "source": [
    "patientDF2020 = patientDF[\n",
    "    (patientDF[\"Ingress Month\"] >= \"2020-03-01\")\n",
    "    & (patientDF[\"Ingress Month\"] <= \"2020-07-31\")\n",
    "    & (patientDF[\"Interest Supplies\"] == \"Insumo de Interes\")\n",
    "]\n",
    "patientDF2021 = patientDF[\n",
    "    (patientDF[\"Ingress Month\"] >= \"2021-03-01\")\n",
    "    & (patientDF[\"Interest Supplies\"] == \"Insumo de Interes\")\n",
    "]\n",
    "newpDF = pd.concat([patientDF2020, patientDF2021])\n",
    "\n",
    "newpDF.groupby(newpDF[\"Ingress Month\"].dt.year)[\"Treatment Cost\"].mean()\n"
   ]
  },
  {
   "cell_type": "code",
   "execution_count": 74,
   "metadata": {},
   "outputs": [
    {
     "data": {
      "text/plain": [
       "Ingress Month\n",
       "2020    837\n",
       "2021    780\n",
       "Name: Patient ID, dtype: int64"
      ]
     },
     "execution_count": 74,
     "metadata": {},
     "output_type": "execute_result"
    }
   ],
   "source": [
    "newpDF.groupby(newpDF[\"Ingress Month\"].dt.year)['Patient ID'].count()"
   ]
  },
  {
   "cell_type": "code",
   "execution_count": 75,
   "metadata": {},
   "outputs": [
    {
     "data": {
      "text/html": [
       "<div>\n",
       "<style scoped>\n",
       "    .dataframe tbody tr th:only-of-type {\n",
       "        vertical-align: middle;\n",
       "    }\n",
       "\n",
       "    .dataframe tbody tr th {\n",
       "        vertical-align: top;\n",
       "    }\n",
       "\n",
       "    .dataframe thead th {\n",
       "        text-align: right;\n",
       "    }\n",
       "</style>\n",
       "<table border=\"1\" class=\"dataframe\">\n",
       "  <thead>\n",
       "    <tr style=\"text-align: right;\">\n",
       "      <th></th>\n",
       "      <th>T</th>\n",
       "      <th>dof</th>\n",
       "      <th>alternative</th>\n",
       "      <th>p-val</th>\n",
       "      <th>CI95%</th>\n",
       "      <th>cohen-d</th>\n",
       "      <th>BF10</th>\n",
       "      <th>power</th>\n",
       "    </tr>\n",
       "  </thead>\n",
       "  <tbody>\n",
       "    <tr>\n",
       "      <th>T-test</th>\n",
       "      <td>7.713118</td>\n",
       "      <td>1595.154452</td>\n",
       "      <td>two-sided</td>\n",
       "      <td>2.148301e-14</td>\n",
       "      <td>[12915.73, 21724.87]</td>\n",
       "      <td>0.381418</td>\n",
       "      <td>2.144e+11</td>\n",
       "      <td>1.0</td>\n",
       "    </tr>\n",
       "  </tbody>\n",
       "</table>\n",
       "</div>"
      ],
      "text/plain": [
       "               T          dof alternative         p-val                 CI95%  \\\n",
       "T-test  7.713118  1595.154452   two-sided  2.148301e-14  [12915.73, 21724.87]   \n",
       "\n",
       "         cohen-d       BF10  power  \n",
       "T-test  0.381418  2.144e+11    1.0  "
      ]
     },
     "execution_count": 75,
     "metadata": {},
     "output_type": "execute_result"
    }
   ],
   "source": [
    "import matplotlib.pyplot as plt\n",
    "from scipy.stats import t\n",
    "# Prueba de hipotesis\n",
    "# alpha = 0.05\n",
    "# H0: El promedio de gasto en 2020 es igual a 2021\n",
    "# H1: El promedio de gasto en 2020 es diferente a 2021\n",
    "\n",
    "m2021 = patientDF2021['Treatment Cost'].mean()\n",
    "m2020 = patientDF2020['Treatment Cost'].mean()\n",
    "s2021 = patientDF2021['Treatment Cost'].std()\n",
    "s2020 = patientDF2020['Treatment Cost'].std()\n",
    "n2021 = len(patientDF2021)\n",
    "n2020 = len(patientDF2020)\n",
    "\n",
    "numerator = (m2021 - m2020)\n",
    "denominator = np.sqrt((s2021**2/n2021)+(s2020**2/n2020))\n",
    "t_stat = numerator/denominator\n",
    "t_stat\n",
    "degf = n2021 + n2020 - 2\n",
    "p_value = t.cdf(t_stat, degf)\n",
    "p_value # El resultado es estadísticamente significativo\n",
    "\n",
    "\n",
    "# El resultado es estadísticamente significativo\n",
    "pg.ttest(patientDF2020['Treatment Cost'], patientDF2021['Treatment Cost'], alternative='two-sided')"
   ]
  },
  {
   "cell_type": "markdown",
   "metadata": {},
   "source": [
    "El resultado muestra que la diferencia entre promedio es estadísticamente significativo."
   ]
  },
  {
   "cell_type": "markdown",
   "metadata": {},
   "source": [
    "### Diferencia de Medias en Costo de tratamiento por Grupos Hospitalarios \n",
    "\n",
    "La siguiente prueba es para determinar si los promedios de costo de tratamiento son diferentes entre Grupos Hospitlarios para todo el conjunto de datos.\n",
    "\n",
    "$H_0$: El promedio de costo de tratamiento es igual para todos los grupos hospitalarios\n",
    "\n",
    "$H_1$: El promedio de costo de tratamiento es diferente para todos los grupos hospitalarios"
   ]
  },
  {
   "cell_type": "code",
   "execution_count": 76,
   "metadata": {},
   "outputs": [
    {
     "data": {
      "text/html": [
       "<div>\n",
       "<style scoped>\n",
       "    .dataframe tbody tr th:only-of-type {\n",
       "        vertical-align: middle;\n",
       "    }\n",
       "\n",
       "    .dataframe tbody tr th {\n",
       "        vertical-align: top;\n",
       "    }\n",
       "\n",
       "    .dataframe thead th {\n",
       "        text-align: right;\n",
       "    }\n",
       "</style>\n",
       "<table border=\"1\" class=\"dataframe\">\n",
       "  <thead>\n",
       "    <tr style=\"text-align: right;\">\n",
       "      <th></th>\n",
       "      <th>Source</th>\n",
       "      <th>ddof1</th>\n",
       "      <th>ddof2</th>\n",
       "      <th>F</th>\n",
       "      <th>p-unc</th>\n",
       "      <th>np2</th>\n",
       "    </tr>\n",
       "  </thead>\n",
       "  <tbody>\n",
       "    <tr>\n",
       "      <th>0</th>\n",
       "      <td>Hospital Group</td>\n",
       "      <td>2</td>\n",
       "      <td>3942</td>\n",
       "      <td>3.319554</td>\n",
       "      <td>0.03627</td>\n",
       "      <td>0.001681</td>\n",
       "    </tr>\n",
       "  </tbody>\n",
       "</table>\n",
       "</div>"
      ],
      "text/plain": [
       "           Source  ddof1  ddof2         F    p-unc       np2\n",
       "0  Hospital Group      2   3942  3.319554  0.03627  0.001681"
      ]
     },
     "execution_count": 76,
     "metadata": {},
     "output_type": "execute_result"
    }
   ],
   "source": [
    "results = pg.anova(patientDF[patientDF['Interest Supplies'] == 'Insumo de Interes'], dv = 'Treatment Cost', between='Hospital Group')\n",
    "results"
   ]
  },
  {
   "cell_type": "code",
   "execution_count": 77,
   "metadata": {},
   "outputs": [
    {
     "data": {
      "text/html": [
       "<div>\n",
       "<style scoped>\n",
       "    .dataframe tbody tr th:only-of-type {\n",
       "        vertical-align: middle;\n",
       "    }\n",
       "\n",
       "    .dataframe tbody tr th {\n",
       "        vertical-align: top;\n",
       "    }\n",
       "\n",
       "    .dataframe thead th {\n",
       "        text-align: right;\n",
       "    }\n",
       "</style>\n",
       "<table border=\"1\" class=\"dataframe\">\n",
       "  <thead>\n",
       "    <tr style=\"text-align: right;\">\n",
       "      <th></th>\n",
       "      <th>Contrast</th>\n",
       "      <th>A</th>\n",
       "      <th>B</th>\n",
       "      <th>Paired</th>\n",
       "      <th>Parametric</th>\n",
       "      <th>T</th>\n",
       "      <th>dof</th>\n",
       "      <th>alternative</th>\n",
       "      <th>p-unc</th>\n",
       "      <th>p-corr</th>\n",
       "      <th>p-adjust</th>\n",
       "      <th>BF10</th>\n",
       "      <th>hedges</th>\n",
       "    </tr>\n",
       "  </thead>\n",
       "  <tbody>\n",
       "    <tr>\n",
       "      <th>0</th>\n",
       "      <td>Hospital Group</td>\n",
       "      <td>High</td>\n",
       "      <td>Low</td>\n",
       "      <td>False</td>\n",
       "      <td>True</td>\n",
       "      <td>1.581718</td>\n",
       "      <td>1902.478586</td>\n",
       "      <td>two-sided</td>\n",
       "      <td>0.113880</td>\n",
       "      <td>0.341641</td>\n",
       "      <td>bonf</td>\n",
       "      <td>0.178</td>\n",
       "      <td>0.071981</td>\n",
       "    </tr>\n",
       "    <tr>\n",
       "      <th>1</th>\n",
       "      <td>Hospital Group</td>\n",
       "      <td>High</td>\n",
       "      <td>Medium</td>\n",
       "      <td>False</td>\n",
       "      <td>True</td>\n",
       "      <td>2.694685</td>\n",
       "      <td>1864.514775</td>\n",
       "      <td>two-sided</td>\n",
       "      <td>0.007109</td>\n",
       "      <td>0.021326</td>\n",
       "      <td>bonf</td>\n",
       "      <td>1.641</td>\n",
       "      <td>0.105128</td>\n",
       "    </tr>\n",
       "    <tr>\n",
       "      <th>2</th>\n",
       "      <td>Hospital Group</td>\n",
       "      <td>Low</td>\n",
       "      <td>Medium</td>\n",
       "      <td>False</td>\n",
       "      <td>True</td>\n",
       "      <td>0.706663</td>\n",
       "      <td>1797.432814</td>\n",
       "      <td>two-sided</td>\n",
       "      <td>0.479868</td>\n",
       "      <td>1.000000</td>\n",
       "      <td>bonf</td>\n",
       "      <td>0.056</td>\n",
       "      <td>0.028331</td>\n",
       "    </tr>\n",
       "  </tbody>\n",
       "</table>\n",
       "</div>"
      ],
      "text/plain": [
       "         Contrast     A       B  Paired  Parametric         T          dof  \\\n",
       "0  Hospital Group  High     Low   False        True  1.581718  1902.478586   \n",
       "1  Hospital Group  High  Medium   False        True  2.694685  1864.514775   \n",
       "2  Hospital Group   Low  Medium   False        True  0.706663  1797.432814   \n",
       "\n",
       "  alternative     p-unc    p-corr p-adjust   BF10    hedges  \n",
       "0   two-sided  0.113880  0.341641     bonf  0.178  0.071981  \n",
       "1   two-sided  0.007109  0.021326     bonf  1.641  0.105128  \n",
       "2   two-sided  0.479868  1.000000     bonf  0.056  0.028331  "
      ]
     },
     "execution_count": 77,
     "metadata": {},
     "output_type": "execute_result"
    }
   ],
   "source": [
    "pg.pairwise_tests(patientDF[patientDF['Interest Supplies'] == 'Insumo de Interes'], dv = 'Treatment Cost', between='Hospital Group', padjust='bonf')"
   ]
  },
  {
   "cell_type": "markdown",
   "metadata": {},
   "source": [
    "Los resultados muestran que las diferencias entre High-Medium son significativas"
   ]
  },
  {
   "cell_type": "code",
   "execution_count": 78,
   "metadata": {},
   "outputs": [
    {
     "data": {
      "application/vnd.plotly.v1+json": {
       "config": {
        "plotlyServerURL": "https://plot.ly"
       },
       "data": [
        {
         "boxpoints": "all",
         "marker": {
          "color": "#AA78A6"
         },
         "name": "Medium",
         "type": "box",
         "y": [
          1590,
          10960,
          15450,
          1910,
          14860,
          42230,
          14370,
          17590,
          9770,
          2720,
          15620,
          14120,
          6350,
          10790,
          12180,
          33380,
          59230,
          8430,
          14370,
          4510,
          5960,
          5720,
          18220,
          17540,
          24430,
          13540,
          20000,
          8150,
          4250,
          18000,
          15500,
          36480,
          16960,
          6250,
          5710,
          15490,
          271700,
          9010,
          15110,
          5930,
          2510,
          11700,
          23270,
          4740,
          20960,
          13710,
          10950,
          39000,
          10110,
          44670,
          6870,
          8720,
          12860,
          5280,
          13220,
          8270,
          9580,
          13930,
          13000,
          167230,
          10290,
          20370,
          6450,
          20000,
          930,
          1000,
          13340,
          12560,
          7570,
          42560,
          3220,
          10170,
          4210,
          4080,
          13520,
          1800,
          9300,
          3000,
          8500,
          5190,
          8840,
          27180,
          16470,
          29960,
          19910,
          15590,
          19400,
          12700,
          6370,
          7410,
          47430,
          3330,
          7000,
          13570,
          12000,
          7570,
          153970,
          6560,
          9650,
          11840,
          17650,
          3970,
          5650,
          9120,
          10040,
          4000,
          10810,
          33500,
          14300,
          22260,
          11210,
          13430,
          26170,
          17000,
          6940,
          6480,
          60030,
          7110,
          11000,
          11280,
          3000,
          40480,
          8510,
          9410,
          15620,
          7040,
          5310,
          49280,
          3810,
          144480,
          16000,
          103170,
          6260,
          20360,
          27650,
          15310,
          13920,
          13480,
          18410,
          13350,
          3700,
          131500,
          6730,
          1470,
          18130,
          7650,
          7700,
          63150,
          1040,
          3720,
          5920,
          12860,
          12060,
          16520,
          7690,
          14650,
          7570,
          6430,
          8790,
          1480,
          2690,
          8350,
          8770,
          9000,
          6350,
          2160,
          23860,
          15520,
          39170,
          14410,
          9760,
          16650,
          17480,
          5210,
          11700,
          2450,
          23390,
          14740,
          680,
          10110,
          23650,
          3960,
          8500,
          13310,
          11410,
          18810,
          21550,
          9220,
          5300,
          11170,
          7020,
          10560,
          3790,
          12680,
          5720,
          16000,
          19070,
          4150,
          5560,
          12110,
          8290,
          860,
          33980,
          16750,
          10390,
          18700,
          16000,
          25140,
          420,
          5430,
          27410,
          29000,
          19900,
          14690,
          21500,
          3930,
          20590,
          10410,
          4250,
          12640,
          9730,
          6240,
          322420,
          10330,
          560,
          1000,
          2510,
          39000,
          76800,
          8620,
          2570,
          76840,
          5150,
          6280,
          14490,
          21310,
          3280,
          11440,
          8130,
          48110,
          7800,
          15440,
          6360,
          22420,
          11020,
          6040,
          7000,
          22020,
          107590,
          15460,
          29000,
          13700,
          285460,
          13730,
          6000,
          137280,
          8590,
          8230,
          11570,
          5650,
          38920,
          109610,
          22910,
          48000,
          12840,
          25840,
          7000,
          12220,
          4440,
          17120,
          5120,
          12130,
          9290,
          12030,
          8940,
          34340,
          11650,
          181410,
          15670,
          34860,
          10760,
          78000,
          16400,
          6210,
          11040,
          11570,
          35350,
          7480,
          9540,
          18050,
          24730,
          6410,
          5700,
          9300,
          22650,
          7770,
          9860,
          57510,
          5860,
          7310,
          16170,
          10800,
          31850,
          8500,
          4000,
          41360,
          8000,
          7510,
          8080,
          7270,
          24510,
          19020,
          220,
          12690,
          21960,
          17700,
          90850,
          12370,
          18640,
          8190,
          26550,
          5000,
          103210,
          9840,
          6980,
          9280,
          29280,
          5810,
          6500,
          21000,
          12130,
          23170,
          5750,
          4000,
          16450,
          382000,
          6430,
          7000,
          4800,
          3220,
          7750,
          767870,
          11560,
          18510,
          6000,
          4710,
          15590,
          16930,
          4930,
          5860,
          7420,
          14300,
          4000,
          23160,
          3930,
          102190,
          12030,
          14940,
          13580,
          6620,
          12000,
          11380,
          4210,
          35230,
          4430,
          9770,
          14420,
          28020,
          15730,
          12280,
          48470,
          4110,
          10510,
          25020,
          40990,
          7170,
          5430,
          8000,
          4700,
          53790,
          15380,
          29840,
          14320,
          6960,
          14430,
          15770,
          28000,
          9180,
          18590,
          4650,
          12030,
          6810,
          7340,
          8720,
          13930,
          10160,
          11000,
          17530,
          9570,
          8860,
          2950,
          12690,
          11620,
          23000,
          54810,
          4460,
          65860,
          10170,
          3200,
          14520,
          5430,
          17730,
          23800,
          9750,
          65220,
          5390,
          55000,
          13630,
          4450,
          31400,
          4220,
          20270,
          10310,
          11290,
          35000,
          5360,
          57020,
          7300,
          4080,
          18800,
          10000,
          10110,
          16540,
          11960,
          8890,
          50000,
          7700,
          10510,
          5960,
          13090,
          7360,
          87840,
          31670,
          4650,
          193300,
          23290,
          20920,
          13000,
          33430,
          142180,
          18230,
          17160,
          10540,
          6110,
          5020,
          15960,
          9180,
          9790,
          7300,
          19410,
          89640,
          15010,
          73200,
          24930,
          16370,
          6920,
          22920,
          5570,
          55000,
          4610,
          37000,
          17540,
          10040,
          15890,
          8560,
          4000,
          34290,
          10330,
          6000,
          14980,
          14710,
          26320,
          11760,
          39000,
          72100,
          17330,
          54000,
          2250,
          2570,
          36870,
          18790,
          39000,
          31350,
          24000,
          16000,
          66840,
          21300,
          8550,
          12510,
          30000,
          46170,
          154000,
          15000,
          22280,
          15000,
          7160,
          3100,
          256000,
          187000,
          5370,
          12490,
          18000,
          7590,
          42000,
          20680,
          16400,
          35180,
          14440,
          14110,
          110820,
          106980,
          13000,
          2460,
          111000,
          2000,
          580,
          201000,
          2810,
          950,
          21170,
          30840,
          148150,
          25900,
          1000,
          26000,
          6150,
          1380,
          96630,
          25620,
          8000,
          24500,
          79460,
          10000,
          3000,
          40920,
          46950,
          42000,
          7300,
          12220,
          20000,
          70360,
          72000,
          5000,
          3170,
          19000,
          8320,
          102920,
          11250,
          28110,
          53000,
          4040,
          8680,
          18150,
          8000,
          81820,
          45220,
          22440,
          1760,
          16000,
          2000,
          21000,
          6000,
          2000,
          9780,
          42000,
          39010,
          32000,
          2000,
          12770,
          5750,
          7550,
          5050,
          5790,
          2370,
          50040,
          16660,
          6000,
          4010,
          21610,
          20000,
          14000,
          14520,
          7910,
          11430,
          4740,
          60000,
          35200,
          38000,
          41270,
          8310,
          32510,
          4000,
          26000,
          102400,
          6180,
          5000,
          4670,
          4480,
          12000,
          10140,
          10000,
          60340,
          6000,
          16000,
          1100,
          51160,
          2000,
          16220,
          7320,
          16470,
          3910,
          150130,
          37890,
          11400,
          1000,
          60000,
          1510,
          3870,
          11080,
          7000,
          13680,
          4440,
          14000,
          14000,
          6860,
          1440,
          33000,
          1000,
          3420,
          16950,
          15000,
          4840,
          13670,
          1220,
          7490,
          14000,
          19290,
          6290,
          52250,
          720,
          4000,
          14150,
          4000,
          15040,
          5340,
          47150,
          15430,
          10030,
          15220,
          9470,
          1310,
          10310,
          85300,
          4000,
          6000,
          27500,
          16000,
          12930,
          8760,
          29820,
          12310,
          220,
          101330,
          58000,
          5650,
          510,
          3060,
          3770,
          56700,
          44000,
          6000,
          12180,
          5000,
          31820,
          75420,
          4540,
          8660,
          68000,
          10990,
          19000,
          7000,
          23760,
          90220,
          5570,
          12840,
          11580,
          22280,
          520,
          61000,
          7000,
          50430,
          15140,
          8250,
          43940,
          40000,
          82440,
          6030,
          5860,
          35220,
          51460,
          19250,
          245000,
          6400,
          22220,
          96620,
          41000,
          58480,
          81440,
          13640,
          7670,
          23710,
          12150,
          42050,
          6000,
          4000,
          151000,
          6630,
          183750,
          242960,
          35000,
          13070,
          9000,
          17300,
          5000,
          9110,
          12280,
          55340,
          63800,
          34340,
          10710,
          12110,
          7000,
          30000,
          6710,
          39110,
          49530,
          13430,
          12630,
          30720,
          27430,
          4000,
          4150,
          5800,
          4240,
          13290,
          7220,
          18670,
          61010,
          2370,
          9000,
          10000,
          58440,
          43000,
          3940,
          3000,
          9970,
          9000,
          9940,
          4450,
          96100,
          5410,
          1220,
          41610,
          61000,
          17750,
          2000,
          48040,
          25000,
          8000,
          91350,
          17610,
          84000,
          123000,
          260,
          58270,
          8400,
          24960,
          15000,
          21000,
          2250,
          47000,
          5110,
          43730,
          39400,
          4770,
          19000,
          5000,
          17600,
          1040,
          74990,
          6000,
          5850,
          8000,
          2890,
          4400,
          15240,
          22000,
          24300,
          25260,
          10780,
          28480,
          28000,
          7750,
          3290,
          13150,
          14900,
          70380,
          50920,
          6660,
          23000,
          79000,
          31000,
          56000,
          16110,
          13000,
          12960,
          8380,
          4380,
          12380,
          10330,
          9000,
          24000,
          11850,
          6940,
          4000,
          11430,
          12250,
          11000,
          6400,
          26000,
          10960,
          12430,
          111000,
          5000,
          25240,
          17420,
          17850,
          24850,
          10000,
          5150,
          9000,
          16180,
          7400,
          9850,
          28000,
          3400,
          42080,
          5000,
          15650,
          66750,
          14000,
          22460,
          269610,
          6000,
          20460,
          8050,
          10940,
          56000,
          13270,
          7000,
          177000,
          12350,
          18240,
          5770,
          220,
          6000,
          11000,
          23000,
          8400,
          3330,
          18000,
          17000,
          14000,
          14800,
          8610,
          930,
          8000,
          11000,
          60000,
          12950,
          750,
          14940,
          12290,
          10740,
          28100,
          10960,
          11940,
          53000,
          5000,
          26830,
          28670,
          26630,
          11420,
          18770,
          11000,
          27050,
          22000,
          97000,
          7490,
          65000,
          1820,
          21450,
          13380,
          8340,
          40310,
          1240,
          12830,
          1000,
          14790,
          12800,
          14780,
          49510,
          14480,
          10120,
          78190,
          17330,
          1370,
          78000,
          11610,
          5650,
          65210,
          7400,
          30010,
          15520,
          13660,
          73000,
          11610,
          4380,
          35000,
          19610,
          19980,
          32800,
          16250,
          17000,
          1180,
          15000,
          650,
          76000,
          22900,
          15000,
          35390,
          48870,
          12000,
          15990,
          55790,
          9330,
          380,
          35400,
          18000,
          11000,
          49000,
          21000,
          11160,
          27000,
          8570,
          6290,
          103100,
          4000,
          11000,
          2000,
          119960,
          6000,
          2000,
          31100,
          44380,
          36670,
          4700,
          32950,
          85000,
          17660,
          49990,
          870,
          2000,
          25290,
          122700,
          55190,
          42990,
          13570,
          7380,
          25270,
          1480,
          344000,
          58000,
          6400,
          13150,
          10410,
          8000,
          42000,
          1000,
          28000,
          11790,
          8070,
          7000,
          5660,
          1000,
          7270,
          99500,
          26880,
          6220,
          3870,
          1140,
          7810,
          680,
          47000,
          8170,
          10000,
          26000,
          5870,
          278160,
          20530,
          12240,
          5000,
          21000,
          5730,
          24000,
          17610,
          11390,
          3370,
          10430,
          56000,
          16920,
          960,
          58000,
          1000,
          16130,
          177000,
          7570,
          23480,
          960,
          27360,
          7820,
          1860,
          13750,
          630,
          3380,
          3000,
          45220,
          17000,
          8680,
          2160,
          6000,
          33070,
          6520,
          23380,
          5700,
          49440,
          77670,
          6380,
          3000,
          10680,
          7930,
          4000,
          98840,
          540,
          3000,
          25000,
          37000,
          670,
          1000,
          19000,
          10000,
          7000,
          73900,
          212940,
          910,
          62380,
          15000,
          6500,
          4520,
          14000,
          28660,
          24740,
          170550,
          710,
          100000,
          12000,
          14000,
          4350,
          2370,
          29830,
          3550,
          9640,
          2000,
          53550,
          12950,
          9000,
          4000,
          191430,
          58510,
          115000,
          93000,
          8340,
          26000,
          3510,
          190,
          23750,
          930,
          190830,
          18420,
          12870,
          2280,
          4000,
          17030,
          8480,
          2380,
          13530,
          10000,
          29000,
          55180,
          39000,
          5170,
          83740,
          29000,
          75000,
          32000,
          4000,
          6000,
          55250,
          11820,
          14040,
          4150,
          48000,
          350880,
          39770,
          430,
          25880,
          161000,
          7040,
          2000,
          46260,
          4000,
          33550,
          108990,
          6000,
          9000,
          88000,
          14550,
          4710,
          580,
          29000,
          1340,
          32000,
          7280,
          13000,
          2000,
          6030,
          6780,
          1340,
          15000,
          79980,
          1740,
          24730,
          4550,
          32000,
          35000,
          15170,
          2590,
          380,
          8520,
          13000,
          5650,
          11390,
          1920,
          44500,
          430,
          1090,
          5810,
          2000,
          4000,
          87030,
          11390,
          13410,
          9680,
          11160,
          2000,
          14350,
          65870,
          8000,
          24000,
          17500,
          18000,
          3370,
          5000,
          7000,
          6410,
          57150,
          1630,
          62000,
          5690,
          96000,
          15000,
          430,
          8000,
          4290,
          9430,
          40000,
          8000,
          70210,
          1590,
          12000,
          8160,
          74300,
          13000,
          5000,
          17000,
          62000,
          4670,
          3000,
          57550,
          7670,
          31300,
          6000,
          21300,
          23700,
          13270,
          100000,
          10970,
          800,
          23750,
          60190,
          2390,
          35000,
          118000,
          7000,
          5270,
          2570,
          26300,
          2890,
          5180,
          22600,
          14340,
          75000,
          13180,
          2000,
          17760,
          40350,
          1000,
          2000,
          66220,
          58000,
          9000,
          67000,
          81300,
          2020,
          7040,
          11950,
          20550,
          4000,
          11000,
          8530,
          5450,
          143000,
          9800,
          5000,
          48320,
          5000,
          13830,
          580,
          5620,
          1500,
          5860,
          380,
          73940,
          6090,
          15670,
          9330,
          3860,
          16000,
          500,
          129380,
          15450,
          30310,
          15000,
          4130,
          30210,
          101090,
          3810,
          1180,
          3040,
          15300,
          201490,
          18020,
          91000,
          13340,
          13280,
          6650,
          3000,
          2990,
          8000,
          26200,
          4000,
          14350,
          23750,
          62670,
          3550,
          12020,
          14110,
          2000,
          110870,
          220,
          4000,
          3430,
          16260,
          10490,
          46860,
          10010,
          5250,
          10000,
          620,
          216180,
          10550,
          8000,
          6000,
          8590,
          10000,
          6420,
          17680,
          4820,
          3920,
          6110,
          33000,
          430,
          6460,
          26010,
          15730,
          19270,
          6930,
          9000,
          8180,
          1620,
          130010,
          9170,
          35000,
          2000,
          10800,
          7350,
          5410,
          4650,
          139250,
          125870,
          11660,
          3380,
          2000,
          8200,
          42470,
          1990,
          45180,
          4000,
          10000,
          6840,
          8000,
          8610,
          10490,
          40520,
          7000,
          3280,
          4510,
          29060,
          81160,
          3000,
          13000,
          125400,
          17170,
          7790,
          4000,
          57000,
          780,
          59000,
          255000,
          18140,
          3000,
          1340,
          80000,
          2000,
          34000,
          1400,
          21000,
          2250,
          10050,
          22550,
          11000,
          66840,
          3860,
          3000,
          15000,
          3740,
          4350,
          18000,
          2000,
          4660,
          10000,
          3000,
          6000,
          30000,
          14150,
          850,
          11260,
          8300,
          9330,
          4370,
          12250,
          860,
          4000,
          3290,
          8600,
          6290,
          8550,
          61540,
          24710,
          1000,
          2000,
          3000,
          16000,
          9000,
          4750,
          9000,
          4000,
          3000,
          5000,
          8730,
          7630,
          15000,
          23350,
          3640,
          650,
          16000,
          5170,
          3430,
          21400,
          45000,
          18410,
          23350,
          8380,
          8860,
          20000,
          21000,
          5000,
          54140,
          124000,
          53150,
          11250,
          9110,
          17430,
          19630,
          17960,
          4840,
          14820,
          9680,
          46100,
          117340,
          9000,
          4700,
          4270,
          9000,
          10000,
          27590,
          4980,
          270,
          27150,
          4650,
          19070,
          9860,
          8000,
          12510,
          28660,
          22000,
          2450,
          18140,
          12950,
          13000,
          71260,
          7960,
          333100,
          21000,
          5000,
          122870,
          8040,
          4320,
          9000,
          27390,
          5000,
          15250,
          5540,
          18000,
          103420,
          13000,
          2310,
          15230,
          11150,
          68000,
          19000,
          2000,
          151540,
          9670,
          24830,
          17420,
          5800,
          177430,
          55480,
          11150,
          17000,
          5000,
          3160,
          21190,
          4410,
          38000,
          10860,
          1520,
          28000,
          8340,
          3000,
          3400,
          6340,
          28000,
          86660,
          5000,
          4920,
          19000,
          5190,
          47000,
          570,
          9080,
          20290,
          14270,
          186000,
          21000,
          215890,
          56000,
          7640,
          14000,
          2050,
          7190,
          14000,
          51000,
          11930,
          5810,
          3590,
          680,
          42570,
          3350,
          3410,
          78000,
          14330,
          3880,
          116930,
          39460,
          3280,
          3800,
          7910,
          350,
          590,
          2380,
          21000,
          6650,
          65410,
          17270,
          27000,
          6000,
          2000,
          8820,
          37000,
          530,
          5470,
          3000,
          7880,
          16000,
          66000,
          106460,
          11760,
          13000,
          15520,
          18740,
          3000,
          5680,
          1000,
          65000,
          10000,
          1320,
          24900,
          12000,
          1970,
          9980,
          10700,
          7350,
          19000,
          7000,
          29430,
          3000,
          16440,
          13380,
          9060,
          152580,
          5000,
          12470,
          12330,
          4430,
          7000,
          19630,
          68000,
          11000,
          8220,
          29320,
          4550,
          9000,
          14000,
          58360,
          4430,
          28010,
          5320,
          183500,
          2170,
          4000,
          9570,
          100030,
          69530,
          4150,
          71000,
          75200,
          19670,
          76720,
          19720,
          41340,
          10630,
          17620,
          20480,
          26000,
          14860,
          75200,
          20350,
          31000,
          45740,
          6000,
          68160,
          31000,
          32000,
          45660,
          46550,
          2000,
          1370,
          14840,
          5000,
          8910,
          220,
          7580,
          11000,
          4520,
          33000,
          13200,
          9910,
          18000,
          10000,
          2000,
          11850,
          9000,
          18100,
          52150,
          7040,
          7000,
          11000,
          3100,
          6000,
          19000,
          9000,
          14490,
          630,
          8000,
          9460,
          7470,
          7000,
          6000,
          7000,
          3690,
          36100,
          6730,
          300,
          29000,
          18000,
          11420,
          4080,
          5000,
          4820,
          5420,
          17530,
          82250,
          26000,
          4000,
          3430,
          81530,
          81000,
          1220,
          13040,
          11000,
          3210,
          5280,
          25000,
          110430,
          73000,
          2990,
          197000,
          19150,
          53770,
          13450,
          64010,
          1000,
          12290,
          11000,
          7000,
          7780,
          25000,
          9250,
          4550,
          10000,
          10000,
          6000,
          4480,
          11430,
          6000,
          8000,
          43000,
          5000,
          3400,
          82750,
          15430,
          17000,
          5380,
          2230,
          6000,
          1580,
          2530,
          14610,
          19340,
          2000,
          14350,
          10030,
          9380,
          24820,
          4000,
          22700,
          16000,
          15210,
          3000,
          69590,
          20330,
          15760,
          10780,
          96970,
          15000,
          20000,
          1580,
          10130,
          43680,
          21940,
          24000,
          80340,
          2870,
          12260,
          17540,
          44520,
          23660,
          6000,
          41000,
          31000,
          11000,
          39580,
          5070,
          34000,
          34380,
          28000,
          4000,
          13070,
          3000,
          4000,
          92790,
          8900,
          20000,
          50410,
          7050,
          3140,
          6650,
          11870,
          3000,
          11690,
          2890,
          19150,
          250,
          18590,
          22790,
          49000,
          5000,
          1000,
          960,
          4130,
          10300,
          6980,
          4000,
          4570,
          10770,
          4490,
          29950,
          2000,
          22860,
          47420,
          5090,
          4020,
          1060,
          7860,
          11000,
          49150,
          1950,
          3680,
          1270,
          2000,
          1610,
          12570,
          19000,
          3000,
          3000,
          18000,
          3000,
          310780,
          69390,
          12420,
          9000,
          2000,
          47710,
          32000,
          55000,
          1250,
          490,
          1000,
          1940,
          5010,
          9000,
          41200,
          440,
          4260,
          14500,
          6390,
          7380,
          1730,
          22000,
          26000,
          23000,
          18730,
          39000,
          2000,
          3460,
          3000,
          324000,
          4000,
          5000,
          3060,
          2000,
          13980,
          35820,
          16120,
          5000,
          4000,
          9000,
          20000,
          6570,
          4430,
          16250,
          17000,
          430,
          7000,
          7000,
          38000,
          58000,
          57170,
          59850,
          80970,
          4000,
          810,
          4820,
          3000,
          56000,
          5000,
          3000,
          7910,
          72820,
          84360,
          7340,
          1000,
          17000,
          17410,
          13000,
          2000,
          36000,
          9430,
          103340,
          790,
          3430,
          49000,
          7610,
          790,
          35010,
          64000,
          3340,
          3000,
          1000,
          810,
          6860,
          19380,
          13000,
          7410,
          8610,
          6000,
          4750,
          430,
          4000,
          9000,
          9000,
          4460,
          430,
          3000,
          2880,
          14850,
          60600,
          23000,
          2000,
          5350,
          9650,
          7430,
          5000,
          3000,
          88000,
          750,
          3550,
          67630,
          23800,
          2150,
          9000,
          470,
          4420,
          7330,
          8270,
          154980,
          2000,
          950,
          60260,
          440,
          890,
          206400,
          5820,
          11920,
          8000,
          3000,
          140,
          11590,
          18560,
          14000,
          970,
          7980,
          81400,
          45600,
          134020,
          7000,
          13000,
          1000,
          20650,
          8220,
          2000,
          10000,
          100520,
          36000,
          15000,
          5000,
          3000,
          15000,
          10000,
          660,
          11000,
          8570,
          36000,
          1320,
          16670,
          23570,
          9360,
          135000,
          15000,
          24000,
          25000,
          1650,
          1000,
          12010,
          10570,
          430,
          1460,
          6080,
          3290,
          2370,
          17000,
          3850,
          590,
          3350,
          18190,
          27000,
          7460,
          26310,
          6000,
          8000,
          640,
          1920,
          10280,
          6460,
          9220,
          32230,
          15600,
          14560,
          1580,
          30340,
          16340,
          5780,
          10140,
          660,
          2000,
          220,
          112000,
          180000
         ]
        },
        {
         "boxpoints": "all",
         "marker": {
          "color": "#2E4756"
         },
         "name": "High",
         "type": "box",
         "y": [
          99680,
          7940,
          19000,
          2000,
          3420,
          128100,
          7420,
          34000,
          13000,
          113030,
          21000,
          23000,
          15000,
          28000,
          5280,
          16000,
          32000,
          118000,
          4260,
          6000,
          2000,
          59000,
          32000,
          5000,
          258660,
          22710,
          5260,
          17000,
          64520,
          12000,
          11000,
          9000,
          29000,
          54000,
          39000,
          18430,
          16000,
          35520,
          7000,
          59780,
          11150,
          13260,
          57520,
          271000,
          23000,
          58340,
          13040,
          5000,
          58000,
          56000,
          56000,
          29000,
          18000,
          109000,
          25780,
          4000,
          52000,
          59710,
          23000,
          34000,
          65000,
          73120,
          11000,
          113000,
          19000,
          12000,
          124710,
          11000,
          49000,
          16000,
          56000,
          4000,
          12000,
          75000,
          92300,
          48000,
          17340,
          51000,
          35000,
          21500,
          900,
          22000,
          7000,
          98000,
          45120,
          27190,
          14000,
          39000,
          12000,
          5000,
          40730,
          23500,
          9190,
          29890,
          29790,
          47430,
          2130,
          10610,
          98000,
          47750,
          10050,
          15950,
          37760,
          159240,
          57830,
          13000,
          29330,
          2000,
          45390,
          27820,
          32020,
          6000,
          115000,
          112970,
          2190,
          22440,
          17010,
          53780,
          10,
          69230,
          760,
          5000,
          660,
          26430,
          660,
          16580,
          18090,
          54260,
          15000,
          35000,
          1000,
          5000,
          23000,
          27170,
          13000,
          43860,
          7390,
          26230,
          98000,
          79710,
          17450,
          42000,
          58000,
          9700,
          28680,
          47030,
          91000,
          467990,
          190000,
          2000,
          31010,
          27000,
          7740,
          34000,
          76740,
          11000,
          54000,
          44830,
          8000,
          65760,
          75530,
          74000,
          137000,
          25230,
          10890,
          14000,
          7000,
          13000,
          23000,
          23000,
          3520,
          58000,
          14850,
          15190,
          65250,
          10000,
          18000,
          13430,
          144280,
          39000,
          21020,
          47390,
          11760,
          77000,
          53940,
          6000,
          23000,
          74310,
          20420,
          8160,
          16020,
          19000,
          11460,
          5000,
          21000,
          14680,
          139660,
          9000,
          17500,
          16010,
          8000,
          24000,
          7480,
          7000,
          3390,
          8800,
          15010,
          3260,
          19000,
          50770,
          65360,
          11970,
          118000,
          27000,
          16830,
          109800,
          18000,
          150000,
          10110,
          13000,
          53070,
          52000,
          3520,
          53910,
          27000,
          13000,
          50450,
          5000,
          23390,
          139000,
          1000,
          9390,
          16000,
          29990,
          7000,
          5000,
          137180,
          5370,
          240,
          19930,
          26350,
          1000,
          13620,
          6250,
          99000,
          18200,
          5000,
          550,
          18760,
          92000,
          37260,
          23760,
          12000,
          7970,
          115000,
          20190,
          3000,
          4530,
          5760,
          9000,
          24970,
          15250,
          8690,
          15390,
          7000,
          15940,
          87000,
          2000,
          5000,
          10000,
          19250,
          70370,
          52000,
          54690,
          50580,
          13430,
          3000,
          4000,
          18580,
          1220,
          760,
          7000,
          10730,
          16380,
          7250,
          28490,
          2690,
          144980,
          17370,
          15350,
          198000,
          11000,
          22180,
          15440,
          25410,
          5190,
          116000,
          17390,
          39190,
          29970,
          8620,
          8000,
          29280,
          87390,
          12620,
          30490,
          27580,
          30000,
          148000,
          14190,
          14600,
          63000,
          6620,
          8000,
          10200,
          28870,
          25000,
          4410,
          102600,
          4750,
          35440,
          141820,
          83040,
          28770,
          16000,
          4000,
          27410,
          9610,
          14810,
          3000,
          68000,
          124080,
          52820,
          6190,
          14620,
          16000,
          1720,
          13430,
          55390,
          36000,
          6470,
          31000,
          20000,
          39000,
          15000,
          17280,
          10000,
          4570,
          61000,
          129390,
          94670,
          27330,
          6440,
          207970,
          155940,
          51000,
          10000,
          23000,
          5230,
          65490,
          12150,
          12190,
          13000,
          17460,
          8000,
          5490,
          45370,
          51140,
          10190,
          57680,
          76430,
          14930,
          34000,
          16170,
          26590,
          28060,
          17480,
          14070,
          36690,
          35870,
          17170,
          2410,
          8150,
          14250,
          21000,
          12440,
          5000,
          32000,
          7650,
          6000,
          119600,
          24020,
          26120,
          190,
          11390,
          1150,
          10860,
          19220,
          5890,
          16000,
          4790,
          8000,
          44000,
          53090,
          9200,
          6690,
          9990,
          7000,
          151640,
          8000,
          4000,
          4000,
          7110,
          7850,
          3410,
          7000,
          22180,
          6840,
          18040,
          9000,
          62000,
          5000,
          20370,
          21740,
          19760,
          9460,
          67390,
          6480,
          37000,
          17000,
          33000,
          17000,
          80360,
          12190,
          64430,
          36000,
          23390,
          5000,
          5000,
          68760,
          38000,
          700,
          4460,
          3000,
          17570,
          15000,
          1550,
          7880,
          1400,
          237150,
          6510,
          2000,
          1000,
          1530,
          3580,
          12800,
          9040,
          8030,
          9270,
          6000,
          331600,
          22420,
          4000,
          25000,
          39000,
          23000,
          9000,
          7000,
          10000,
          51000,
          79630,
          4050,
          44690,
          610,
          6000,
          2000,
          91400,
          45110,
          5000,
          7450,
          1670,
          6870,
          22560,
          3000,
          5450,
          2000,
          14820,
          2270,
          180000,
          87290,
          48820,
          12000,
          480,
          2000,
          14480,
          690,
          58000,
          46000,
          5000,
          8710,
          5480,
          3000,
          11500,
          12660,
          7000,
          1230,
          8000,
          5810,
          45000,
          1000,
          4000,
          2700,
          21890,
          4580,
          1600,
          9820,
          99220,
          12000,
          4000,
          54580,
          9180,
          18000,
          10000,
          6800,
          4220,
          6000,
          4640,
          6440,
          23000,
          5440,
          5800,
          13840,
          27000,
          10820,
          67360,
          6240,
          7000,
          15190,
          24000,
          5530,
          6000,
          3840,
          4470,
          22310,
          11000,
          5000,
          36180,
          132730,
          31000,
          5000,
          23420,
          12000,
          6940,
          9000,
          234000,
          7000,
          1000,
          9000,
          13240,
          6000,
          2000,
          250,
          42370,
          7430,
          22280,
          9000,
          3730,
          4000,
          84030,
          25000,
          8000,
          5160,
          79430,
          2000,
          5100,
          5000,
          3000,
          74000,
          47660,
          79810,
          4440,
          18000,
          39140,
          19790,
          13000,
          34240,
          10000,
          13000,
          23000,
          6000,
          23880,
          2190,
          11410,
          4700,
          16000,
          5850,
          20000,
          1050,
          4000,
          5000,
          2000,
          43000,
          21000,
          3000,
          4000,
          3650,
          63000,
          20000,
          4190,
          12000,
          5000,
          16000,
          13190,
          3680,
          31000,
          24000,
          17000,
          18700,
          15800,
          6000,
          3000,
          49530,
          9660,
          5480,
          34560,
          164000,
          21160,
          105590,
          53880,
          9000,
          2960,
          37950,
          34560,
          34500,
          18630,
          3000,
          9900,
          14130,
          8000,
          110,
          16260,
          26360,
          38110,
          13840,
          9350,
          3000,
          42000,
          8000,
          10000,
          23000,
          6000,
          2330,
          2000,
          11960,
          163420,
          71990,
          9730,
          89630,
          19320,
          8280,
          19000,
          51990,
          43900,
          58000,
          14000,
          123200,
          51950,
          9550,
          9000,
          66780,
          6000,
          22990,
          33940,
          36000,
          13000,
          28070,
          32000,
          54610,
          31530,
          23130,
          17000,
          20000,
          97880,
          11770,
          6480,
          15140,
          19170,
          69000,
          36000,
          84410,
          17720,
          33000,
          18000,
          19830,
          10000,
          49750,
          8000,
          9850,
          2000,
          440,
          29340,
          12000,
          22710,
          6000,
          40000,
          7110,
          4550,
          2720,
          13000,
          23260,
          34640,
          17770,
          83400,
          12010,
          8000,
          2000,
          20040,
          20000,
          19630,
          4350,
          16000,
          18860,
          11380,
          15720,
          220,
          6000,
          40950,
          21000,
          21420,
          98000,
          24740,
          9880,
          14950,
          16480,
          18640,
          20670,
          90630,
          13000,
          27410,
          26910,
          19140,
          83920,
          25600,
          144640,
          14420,
          40000,
          21990,
          6000,
          15000,
          8000,
          9390,
          18000,
          71000,
          12110,
          132660,
          8000,
          6900,
          85820,
          18890,
          9720,
          6000,
          2530,
          6640,
          3080,
          36000,
          64000,
          21840,
          9040,
          19000,
          17780,
          82710,
          14000,
          27270,
          120920,
          12000,
          4410,
          8650,
          19620,
          13840,
          110950,
          6210,
          15950,
          15260,
          22000,
          20120,
          39390,
          39370,
          19480,
          91010,
          4230,
          88510,
          15000,
          15650,
          2000,
          7630,
          44520,
          9910,
          12690,
          6450,
          11550,
          10000,
          12000,
          32510,
          25000,
          9670,
          6000,
          29150,
          35000,
          44000,
          9080,
          24960,
          5000,
          69000,
          15000,
          10000,
          12000,
          25740,
          60000,
          9210,
          13320,
          118670,
          90640,
          9000,
          18760,
          13070,
          47410,
          4240,
          18000,
          21000,
          21320,
          1630,
          7960,
          230420,
          19000,
          18410,
          47660,
          39000,
          24000,
          3390,
          23000,
          41000,
          176760,
          59000,
          7990,
          2390,
          2000,
          18000,
          135950,
          13000,
          15280,
          14000,
          10000,
          10430,
          23000,
          1780,
          7000,
          19980,
          2000,
          3000,
          2970,
          3000,
          9000,
          12790,
          22000,
          18000,
          3580,
          25440,
          440,
          10560,
          6000,
          12000,
          2570,
          2000,
          3000,
          3870,
          4440,
          4000,
          1470,
          33000,
          16000,
          14560,
          3000,
          5000,
          12060,
          3000,
          2000,
          16010,
          6000,
          4580,
          2000,
          12000,
          3000,
          18000,
          7000,
          3000,
          2000,
          3000,
          4000,
          10640,
          3000,
          6000,
          2000,
          4000,
          3000,
          3000,
          630,
          3180,
          3000,
          25000,
          24000,
          370,
          19960,
          22000,
          12490,
          16000,
          4600,
          1930,
          7000,
          380,
          6150,
          6000,
          5890,
          7260,
          20520,
          14770,
          380,
          2260
         ]
        },
        {
         "boxpoints": "all",
         "marker": {
          "color": "#3C7A89"
         },
         "name": "Low",
         "type": "box",
         "y": [
          36540,
          9730,
          12770,
          45330,
          282550,
          33020,
          4830,
          59050,
          43000,
          11000,
          19000,
          4430,
          63250,
          7020,
          13500,
          7470,
          22000,
          13000,
          20160,
          28000,
          142000,
          8000,
          19250,
          36740,
          20830,
          24420,
          4980,
          13000,
          260910,
          9120,
          14750,
          14810,
          10210,
          11970,
          8750,
          5580,
          14540,
          45310,
          45580,
          24500,
          44000,
          15540,
          43400,
          23000,
          8000,
          4660,
          106000,
          97000,
          11730,
          7790,
          47800,
          63830,
          2250,
          6000,
          1420,
          9940,
          18000,
          3000,
          25470,
          70000,
          41000,
          4000,
          45000,
          13770,
          39180,
          2120,
          4680,
          9550,
          73380,
          1520,
          75470,
          17950,
          4000,
          239000,
          21530,
          41280,
          6300,
          32870,
          8300,
          278000,
          3000,
          2000,
          6000,
          3790,
          100,
          10680,
          72000,
          81430,
          5000,
          32960,
          5040,
          1360,
          12450,
          26680,
          7000,
          27000,
          14400,
          11000,
          26000,
          22000,
          11000,
          76000,
          2800,
          5000,
          3470,
          9000,
          1000,
          34060,
          1770,
          2900,
          300,
          29570,
          32700,
          14700,
          15480,
          60850,
          3200,
          42050,
          41340,
          7610,
          7170,
          18120,
          14350,
          17420,
          5000,
          10800,
          18820,
          18000,
          32350,
          18920,
          11000,
          82260,
          17970,
          5000,
          2000,
          4940,
          4000,
          8840,
          6000,
          68540,
          6930,
          490,
          20680,
          13420,
          2000,
          13100,
          39690,
          9570,
          170250,
          104070,
          17970,
          19120,
          21520,
          16000,
          60370,
          66170,
          6970,
          2920,
          23040,
          4000,
          27120,
          62520,
          3630,
          61470,
          10600,
          18000,
          40500,
          5460,
          193040,
          22390,
          29000,
          5490,
          13960,
          12000,
          74920,
          28550,
          18360,
          14320,
          1420,
          2630,
          46560,
          19000,
          72000,
          8730,
          8900,
          14000,
          17000,
          43620,
          14400,
          6760,
          21000,
          1840,
          68550,
          64220,
          24560,
          9380,
          16000,
          2080,
          45000,
          660,
          36510,
          2730,
          99220,
          4000,
          15080,
          26000,
          82000,
          9570,
          5000,
          5360,
          15960,
          6000,
          2100,
          8960,
          47200,
          5840,
          9290,
          25170,
          39940,
          14360,
          1000,
          4610,
          10020,
          37220,
          20920,
          179610,
          4100,
          4000,
          7000,
          5000,
          29230,
          30000,
          5650,
          1170,
          76780,
          22300,
          13370,
          1720,
          1940,
          90370,
          17290,
          4410,
          21430,
          14000,
          68000,
          7900,
          18000,
          5610,
          24710,
          4000,
          17000,
          5190,
          9040,
          10390,
          8990,
          71590,
          10470,
          710,
          7000,
          19000,
          6370,
          35000,
          6680,
          3810,
          47460,
          15180,
          220040,
          224490,
          31460,
          11000,
          46200,
          2160,
          17410,
          22290,
          9000,
          1000,
          37750,
          15000,
          27500,
          7000,
          5000,
          10240,
          9310,
          22000,
          5000,
          17000,
          13420,
          6260,
          14000,
          6000,
          2720,
          664290,
          36000,
          19000,
          7310,
          19250,
          1540,
          6300,
          58820,
          12540,
          21810,
          15000,
          14000,
          34000,
          45000,
          68000,
          57000,
          14180,
          104250,
          150870,
          16000,
          12800,
          30000,
          5430,
          35150,
          8490,
          60,
          22250,
          41000,
          260,
          12490,
          62000,
          3000,
          170000,
          7650,
          8740,
          12060,
          132000,
          4860,
          27000,
          14000,
          25270,
          9000,
          8880,
          24000,
          2180,
          7200,
          16550,
          15220,
          15580,
          1000,
          16000,
          4000,
          32000,
          23000,
          2000,
          1000,
          30800,
          3000,
          33850,
          28150,
          30730,
          2000,
          15390,
          32000,
          3000,
          11110,
          12410,
          1000,
          9540,
          3000,
          27250,
          1310,
          3740,
          30000,
          21450,
          7210,
          13600,
          17490,
          310000,
          5000,
          40000,
          53280,
          133700,
          16540,
          15460,
          1280,
          49600,
          2000,
          4000,
          12170,
          27280,
          242000,
          19000,
          2000,
          28230,
          9220,
          2280,
          5210,
          6870,
          10370,
          5690,
          34000,
          8000,
          16500,
          19500,
          43290,
          7000,
          173350,
          52720,
          12700,
          24620,
          5000,
          3780,
          170360,
          900,
          22000,
          39610,
          21600,
          3420,
          3000,
          2430,
          11000,
          14490,
          41670,
          25810,
          11990,
          18610,
          6000,
          25500,
          9000,
          3000,
          11000,
          3920,
          12850,
          23390,
          10680,
          5960,
          1320,
          11460,
          32790,
          2480,
          14000,
          17140,
          23630,
          20000,
          10970,
          38990,
          6310,
          12000,
          6000,
          11000,
          2000,
          160540,
          12300,
          9000,
          42000,
          37610,
          4400,
          1000,
          177600,
          2980,
          2000,
          12000,
          430,
          92520,
          11000,
          84000,
          9000,
          9220,
          41250,
          17000,
          7000,
          13000,
          14000,
          17990,
          5890,
          4860,
          20000,
          6000,
          2450,
          7350,
          1900,
          28440,
          16490,
          2000,
          12000,
          7790,
          28000,
          3000,
          12690,
          5780,
          37730,
          27250,
          7490,
          10000,
          4720,
          45000,
          5530,
          91000,
          10600,
          490,
          5430,
          17750,
          92740,
          110730,
          37000,
          46610,
          51980,
          22000,
          11630,
          24000,
          124050,
          950,
          42100,
          24540,
          5250,
          740,
          8380,
          1350,
          2750,
          34000,
          43270,
          16150,
          13000,
          4000,
          11000,
          52000,
          7000,
          3000,
          1090,
          79700,
          62000,
          5080,
          65000,
          6280,
          12910,
          17250,
          16000,
          3000,
          10470,
          4000,
          9000,
          2520,
          11780,
          12320,
          5550,
          5500,
          16290,
          480,
          28640,
          19000,
          1000,
          7620,
          43000,
          20000,
          5790,
          6230,
          7000,
          19600,
          15000,
          12790,
          22000,
          1000,
          19370,
          9000,
          21000,
          79760,
          7720,
          25740,
          260000,
          23000,
          720,
          6000,
          59250,
          10180,
          4200,
          21000,
          9310,
          7000,
          11160,
          40660,
          32220,
          6000,
          5000,
          9240,
          3450,
          65000,
          19000,
          3250,
          20000,
          117620,
          6000,
          4490,
          11070,
          5000,
          13980,
          32260,
          37470,
          21740,
          3000,
          22980,
          8000,
          9960,
          1000,
          23400,
          6160,
          7000,
          26990,
          370,
          7000,
          45000,
          6930,
          13000,
          9080,
          14000,
          17000,
          5000,
          1780,
          3000,
          11000,
          92750,
          7000,
          2260,
          3340,
          4430,
          7420,
          24430,
          1860,
          31000,
          6320,
          6000,
          30070,
          5240,
          36000,
          4420,
          32640,
          5850,
          9000,
          92000,
          4000,
          7480,
          6000,
          2210,
          3250,
          14000,
          14000,
          8450,
          12870,
          14180,
          3670,
          6300,
          1720,
          4000,
          16000,
          6530,
          3410,
          2000,
          3490,
          4000,
          10000,
          42000,
          5000,
          9820,
          1000,
          26820,
          3470,
          4000,
          28170,
          346150,
          2600,
          3860,
          31700,
          18610,
          3720,
          44600,
          11690,
          31980,
          590,
          30120,
          3000,
          9000,
          17120,
          9000,
          1880,
          5000,
          400,
          3660,
          32420,
          25000,
          2000,
          21760,
          6490,
          9440,
          2280,
          42750,
          17780,
          13650,
          7000,
          39000,
          2000,
          60240,
          8000,
          11560,
          72600,
          17650,
          3370,
          4000,
          16060,
          31460,
          28860,
          27990,
          4280,
          7060,
          21810,
          10000,
          14430,
          76000,
          6220,
          10000,
          2000,
          18500,
          8430,
          980,
          5040,
          6810,
          22000,
          33000,
          20500,
          27450,
          33000,
          17700,
          18440,
          4380,
          3000,
          15350,
          20270,
          15630,
          1330,
          5450,
          24000,
          16000,
          22000,
          14000,
          22250,
          33600,
          198000,
          114820,
          37660,
          9120,
          20000,
          7400,
          3000,
          3990,
          17000,
          3000,
          15300,
          51410,
          18130,
          8270,
          10720,
          10720,
          56840,
          12000,
          2000,
          4000,
          10000,
          5000,
          33480,
          5640,
          10000,
          17370,
          48990,
          12940,
          25280,
          2160,
          28040,
          5340,
          7340,
          7230,
          50840,
          60040,
          13380,
          116000,
          15260,
          15000,
          7000,
          8340,
          25000,
          50460,
          11110,
          11560,
          42880,
          9880,
          250,
          88970,
          7630,
          44040,
          72660,
          190000,
          52830,
          3000,
          52000,
          91670,
          6610,
          12000,
          7000,
          16340,
          26080,
          20830,
          17330,
          10820,
          9640,
          20940,
          44600,
          89000,
          10610,
          40080,
          15970,
          20630,
          8620,
          26160,
          14960,
          9050,
          17000,
          16000,
          4040,
          33000,
          5220,
          3670,
          29220,
          3000,
          970,
          5000,
          75000,
          11000,
          1080,
          30820,
          42040,
          64780,
          39840,
          6000,
          8000,
          13000,
          25130,
          3960,
          1000,
          15000,
          4000,
          7000,
          8910,
          4000,
          9120,
          2000,
          14130,
          6000,
          4510,
          9950,
          2000,
          455970,
          4250,
          8280,
          8000,
          21090,
          12000,
          3920,
          16830,
          10000,
          67710,
          232620,
          16260,
          2180,
          178530,
          6000,
          12000,
          10180,
          600,
          1000,
          141000,
          14710,
          8000,
          40000,
          1000,
          97000,
          13000,
          640,
          13720,
          3000,
          18300,
          1000,
          98000,
          50000,
          207000,
          50000,
          177900,
          5000,
          108000,
          22000,
          850,
          5000,
          4000,
          4270,
          5000,
          47000,
          104000,
          6000,
          12960,
          12000,
          66450,
          720,
          176000,
          4000,
          94890,
          7000,
          22960,
          52450,
          17450,
          17480,
          5000,
          176000,
          20000,
          170,
          11290,
          2000,
          1420,
          50530,
          8970,
          17000,
          610,
          35000,
          10300,
          4000,
          530,
          6220,
          3680,
          1000,
          870,
          3340,
          530,
          84000,
          250,
          630,
          6000,
          120,
          6000,
          5000,
          3680,
          9000,
          190,
          29390,
          1820,
          9000,
          9000,
          5000,
          1650,
          20150,
          16000,
          19720,
          9000,
          2000,
          6000,
          7000,
          3000,
          2610,
          9000,
          450,
          5000,
          81380,
          60,
          920,
          9000,
          240,
          7000,
          12750,
          2000,
          49550,
          7000,
          4240,
          21000,
          680,
          31000,
          5320,
          150,
          10000,
          6000,
          1000,
          10240,
          1590,
          4000,
          6000,
          2280,
          6270,
          7000,
          38000,
          760,
          13440,
          19300,
          260
         ]
        }
       ],
       "layout": {
        "template": {
         "data": {
          "bar": [
           {
            "error_x": {
             "color": "#2a3f5f"
            },
            "error_y": {
             "color": "#2a3f5f"
            },
            "marker": {
             "line": {
              "color": "#E5ECF6",
              "width": 0.5
             },
             "pattern": {
              "fillmode": "overlay",
              "size": 10,
              "solidity": 0.2
             }
            },
            "type": "bar"
           }
          ],
          "barpolar": [
           {
            "marker": {
             "line": {
              "color": "#E5ECF6",
              "width": 0.5
             },
             "pattern": {
              "fillmode": "overlay",
              "size": 10,
              "solidity": 0.2
             }
            },
            "type": "barpolar"
           }
          ],
          "carpet": [
           {
            "aaxis": {
             "endlinecolor": "#2a3f5f",
             "gridcolor": "white",
             "linecolor": "white",
             "minorgridcolor": "white",
             "startlinecolor": "#2a3f5f"
            },
            "baxis": {
             "endlinecolor": "#2a3f5f",
             "gridcolor": "white",
             "linecolor": "white",
             "minorgridcolor": "white",
             "startlinecolor": "#2a3f5f"
            },
            "type": "carpet"
           }
          ],
          "choropleth": [
           {
            "colorbar": {
             "outlinewidth": 0,
             "ticks": ""
            },
            "type": "choropleth"
           }
          ],
          "contour": [
           {
            "colorbar": {
             "outlinewidth": 0,
             "ticks": ""
            },
            "colorscale": [
             [
              0,
              "#0d0887"
             ],
             [
              0.1111111111111111,
              "#46039f"
             ],
             [
              0.2222222222222222,
              "#7201a8"
             ],
             [
              0.3333333333333333,
              "#9c179e"
             ],
             [
              0.4444444444444444,
              "#bd3786"
             ],
             [
              0.5555555555555556,
              "#d8576b"
             ],
             [
              0.6666666666666666,
              "#ed7953"
             ],
             [
              0.7777777777777778,
              "#fb9f3a"
             ],
             [
              0.8888888888888888,
              "#fdca26"
             ],
             [
              1,
              "#f0f921"
             ]
            ],
            "type": "contour"
           }
          ],
          "contourcarpet": [
           {
            "colorbar": {
             "outlinewidth": 0,
             "ticks": ""
            },
            "type": "contourcarpet"
           }
          ],
          "heatmap": [
           {
            "colorbar": {
             "outlinewidth": 0,
             "ticks": ""
            },
            "colorscale": [
             [
              0,
              "#0d0887"
             ],
             [
              0.1111111111111111,
              "#46039f"
             ],
             [
              0.2222222222222222,
              "#7201a8"
             ],
             [
              0.3333333333333333,
              "#9c179e"
             ],
             [
              0.4444444444444444,
              "#bd3786"
             ],
             [
              0.5555555555555556,
              "#d8576b"
             ],
             [
              0.6666666666666666,
              "#ed7953"
             ],
             [
              0.7777777777777778,
              "#fb9f3a"
             ],
             [
              0.8888888888888888,
              "#fdca26"
             ],
             [
              1,
              "#f0f921"
             ]
            ],
            "type": "heatmap"
           }
          ],
          "heatmapgl": [
           {
            "colorbar": {
             "outlinewidth": 0,
             "ticks": ""
            },
            "colorscale": [
             [
              0,
              "#0d0887"
             ],
             [
              0.1111111111111111,
              "#46039f"
             ],
             [
              0.2222222222222222,
              "#7201a8"
             ],
             [
              0.3333333333333333,
              "#9c179e"
             ],
             [
              0.4444444444444444,
              "#bd3786"
             ],
             [
              0.5555555555555556,
              "#d8576b"
             ],
             [
              0.6666666666666666,
              "#ed7953"
             ],
             [
              0.7777777777777778,
              "#fb9f3a"
             ],
             [
              0.8888888888888888,
              "#fdca26"
             ],
             [
              1,
              "#f0f921"
             ]
            ],
            "type": "heatmapgl"
           }
          ],
          "histogram": [
           {
            "marker": {
             "pattern": {
              "fillmode": "overlay",
              "size": 10,
              "solidity": 0.2
             }
            },
            "type": "histogram"
           }
          ],
          "histogram2d": [
           {
            "colorbar": {
             "outlinewidth": 0,
             "ticks": ""
            },
            "colorscale": [
             [
              0,
              "#0d0887"
             ],
             [
              0.1111111111111111,
              "#46039f"
             ],
             [
              0.2222222222222222,
              "#7201a8"
             ],
             [
              0.3333333333333333,
              "#9c179e"
             ],
             [
              0.4444444444444444,
              "#bd3786"
             ],
             [
              0.5555555555555556,
              "#d8576b"
             ],
             [
              0.6666666666666666,
              "#ed7953"
             ],
             [
              0.7777777777777778,
              "#fb9f3a"
             ],
             [
              0.8888888888888888,
              "#fdca26"
             ],
             [
              1,
              "#f0f921"
             ]
            ],
            "type": "histogram2d"
           }
          ],
          "histogram2dcontour": [
           {
            "colorbar": {
             "outlinewidth": 0,
             "ticks": ""
            },
            "colorscale": [
             [
              0,
              "#0d0887"
             ],
             [
              0.1111111111111111,
              "#46039f"
             ],
             [
              0.2222222222222222,
              "#7201a8"
             ],
             [
              0.3333333333333333,
              "#9c179e"
             ],
             [
              0.4444444444444444,
              "#bd3786"
             ],
             [
              0.5555555555555556,
              "#d8576b"
             ],
             [
              0.6666666666666666,
              "#ed7953"
             ],
             [
              0.7777777777777778,
              "#fb9f3a"
             ],
             [
              0.8888888888888888,
              "#fdca26"
             ],
             [
              1,
              "#f0f921"
             ]
            ],
            "type": "histogram2dcontour"
           }
          ],
          "mesh3d": [
           {
            "colorbar": {
             "outlinewidth": 0,
             "ticks": ""
            },
            "type": "mesh3d"
           }
          ],
          "parcoords": [
           {
            "line": {
             "colorbar": {
              "outlinewidth": 0,
              "ticks": ""
             }
            },
            "type": "parcoords"
           }
          ],
          "pie": [
           {
            "automargin": true,
            "type": "pie"
           }
          ],
          "scatter": [
           {
            "fillpattern": {
             "fillmode": "overlay",
             "size": 10,
             "solidity": 0.2
            },
            "type": "scatter"
           }
          ],
          "scatter3d": [
           {
            "line": {
             "colorbar": {
              "outlinewidth": 0,
              "ticks": ""
             }
            },
            "marker": {
             "colorbar": {
              "outlinewidth": 0,
              "ticks": ""
             }
            },
            "type": "scatter3d"
           }
          ],
          "scattercarpet": [
           {
            "marker": {
             "colorbar": {
              "outlinewidth": 0,
              "ticks": ""
             }
            },
            "type": "scattercarpet"
           }
          ],
          "scattergeo": [
           {
            "marker": {
             "colorbar": {
              "outlinewidth": 0,
              "ticks": ""
             }
            },
            "type": "scattergeo"
           }
          ],
          "scattergl": [
           {
            "marker": {
             "colorbar": {
              "outlinewidth": 0,
              "ticks": ""
             }
            },
            "type": "scattergl"
           }
          ],
          "scattermapbox": [
           {
            "marker": {
             "colorbar": {
              "outlinewidth": 0,
              "ticks": ""
             }
            },
            "type": "scattermapbox"
           }
          ],
          "scatterpolar": [
           {
            "marker": {
             "colorbar": {
              "outlinewidth": 0,
              "ticks": ""
             }
            },
            "type": "scatterpolar"
           }
          ],
          "scatterpolargl": [
           {
            "marker": {
             "colorbar": {
              "outlinewidth": 0,
              "ticks": ""
             }
            },
            "type": "scatterpolargl"
           }
          ],
          "scatterternary": [
           {
            "marker": {
             "colorbar": {
              "outlinewidth": 0,
              "ticks": ""
             }
            },
            "type": "scatterternary"
           }
          ],
          "surface": [
           {
            "colorbar": {
             "outlinewidth": 0,
             "ticks": ""
            },
            "colorscale": [
             [
              0,
              "#0d0887"
             ],
             [
              0.1111111111111111,
              "#46039f"
             ],
             [
              0.2222222222222222,
              "#7201a8"
             ],
             [
              0.3333333333333333,
              "#9c179e"
             ],
             [
              0.4444444444444444,
              "#bd3786"
             ],
             [
              0.5555555555555556,
              "#d8576b"
             ],
             [
              0.6666666666666666,
              "#ed7953"
             ],
             [
              0.7777777777777778,
              "#fb9f3a"
             ],
             [
              0.8888888888888888,
              "#fdca26"
             ],
             [
              1,
              "#f0f921"
             ]
            ],
            "type": "surface"
           }
          ],
          "table": [
           {
            "cells": {
             "fill": {
              "color": "#EBF0F8"
             },
             "line": {
              "color": "white"
             }
            },
            "header": {
             "fill": {
              "color": "#C8D4E3"
             },
             "line": {
              "color": "white"
             }
            },
            "type": "table"
           }
          ]
         },
         "layout": {
          "annotationdefaults": {
           "arrowcolor": "#2a3f5f",
           "arrowhead": 0,
           "arrowwidth": 1
          },
          "autotypenumbers": "strict",
          "coloraxis": {
           "colorbar": {
            "outlinewidth": 0,
            "ticks": ""
           }
          },
          "colorscale": {
           "diverging": [
            [
             0,
             "#8e0152"
            ],
            [
             0.1,
             "#c51b7d"
            ],
            [
             0.2,
             "#de77ae"
            ],
            [
             0.3,
             "#f1b6da"
            ],
            [
             0.4,
             "#fde0ef"
            ],
            [
             0.5,
             "#f7f7f7"
            ],
            [
             0.6,
             "#e6f5d0"
            ],
            [
             0.7,
             "#b8e186"
            ],
            [
             0.8,
             "#7fbc41"
            ],
            [
             0.9,
             "#4d9221"
            ],
            [
             1,
             "#276419"
            ]
           ],
           "sequential": [
            [
             0,
             "#0d0887"
            ],
            [
             0.1111111111111111,
             "#46039f"
            ],
            [
             0.2222222222222222,
             "#7201a8"
            ],
            [
             0.3333333333333333,
             "#9c179e"
            ],
            [
             0.4444444444444444,
             "#bd3786"
            ],
            [
             0.5555555555555556,
             "#d8576b"
            ],
            [
             0.6666666666666666,
             "#ed7953"
            ],
            [
             0.7777777777777778,
             "#fb9f3a"
            ],
            [
             0.8888888888888888,
             "#fdca26"
            ],
            [
             1,
             "#f0f921"
            ]
           ],
           "sequentialminus": [
            [
             0,
             "#0d0887"
            ],
            [
             0.1111111111111111,
             "#46039f"
            ],
            [
             0.2222222222222222,
             "#7201a8"
            ],
            [
             0.3333333333333333,
             "#9c179e"
            ],
            [
             0.4444444444444444,
             "#bd3786"
            ],
            [
             0.5555555555555556,
             "#d8576b"
            ],
            [
             0.6666666666666666,
             "#ed7953"
            ],
            [
             0.7777777777777778,
             "#fb9f3a"
            ],
            [
             0.8888888888888888,
             "#fdca26"
            ],
            [
             1,
             "#f0f921"
            ]
           ]
          },
          "colorway": [
           "#636efa",
           "#EF553B",
           "#00cc96",
           "#ab63fa",
           "#FFA15A",
           "#19d3f3",
           "#FF6692",
           "#B6E880",
           "#FF97FF",
           "#FECB52"
          ],
          "font": {
           "color": "#2a3f5f"
          },
          "geo": {
           "bgcolor": "white",
           "lakecolor": "white",
           "landcolor": "#E5ECF6",
           "showlakes": true,
           "showland": true,
           "subunitcolor": "white"
          },
          "hoverlabel": {
           "align": "left"
          },
          "hovermode": "closest",
          "mapbox": {
           "style": "light"
          },
          "paper_bgcolor": "white",
          "plot_bgcolor": "#E5ECF6",
          "polar": {
           "angularaxis": {
            "gridcolor": "white",
            "linecolor": "white",
            "ticks": ""
           },
           "bgcolor": "#E5ECF6",
           "radialaxis": {
            "gridcolor": "white",
            "linecolor": "white",
            "ticks": ""
           }
          },
          "scene": {
           "xaxis": {
            "backgroundcolor": "#E5ECF6",
            "gridcolor": "white",
            "gridwidth": 2,
            "linecolor": "white",
            "showbackground": true,
            "ticks": "",
            "zerolinecolor": "white"
           },
           "yaxis": {
            "backgroundcolor": "#E5ECF6",
            "gridcolor": "white",
            "gridwidth": 2,
            "linecolor": "white",
            "showbackground": true,
            "ticks": "",
            "zerolinecolor": "white"
           },
           "zaxis": {
            "backgroundcolor": "#E5ECF6",
            "gridcolor": "white",
            "gridwidth": 2,
            "linecolor": "white",
            "showbackground": true,
            "ticks": "",
            "zerolinecolor": "white"
           }
          },
          "shapedefaults": {
           "line": {
            "color": "#2a3f5f"
           }
          },
          "ternary": {
           "aaxis": {
            "gridcolor": "white",
            "linecolor": "white",
            "ticks": ""
           },
           "baxis": {
            "gridcolor": "white",
            "linecolor": "white",
            "ticks": ""
           },
           "bgcolor": "#E5ECF6",
           "caxis": {
            "gridcolor": "white",
            "linecolor": "white",
            "ticks": ""
           }
          },
          "title": {
           "x": 0.05
          },
          "xaxis": {
           "automargin": true,
           "gridcolor": "white",
           "linecolor": "white",
           "ticks": "",
           "title": {
            "standoff": 15
           },
           "zerolinecolor": "white",
           "zerolinewidth": 2
          },
          "yaxis": {
           "automargin": true,
           "gridcolor": "white",
           "linecolor": "white",
           "ticks": "",
           "title": {
            "standoff": 15
           },
           "zerolinecolor": "white",
           "zerolinewidth": 2
          }
         }
        },
        "yaxis": {
         "range": [
          0,
          100000
         ]
        }
       }
      }
     },
     "metadata": {},
     "output_type": "display_data"
    }
   ],
   "source": [
    "intDF = patientDF[patientDF['Interest Supplies'] == 'Insumo de Interes']\n",
    "fig = go.Figure()\n",
    "colors = {'Low': CATEGORY_PALETTE[0], 'Medium': CATEGORY_PALETTE[3], 'High': CATEGORY_PALETTE[2]}\n",
    "for group in intDF['Hospital Group'].unique():\n",
    "  iDF = intDF[intDF['Hospital Group'] == group]\n",
    "  fig.add_trace(go.Box(y=iDF['Treatment Cost'], name=group, boxpoints='all', marker_color=colors[group]))\n",
    "fig.update_yaxes(range=[0, 100000])\n",
    "fig.show()"
   ]
  },
  {
   "cell_type": "markdown",
   "metadata": {},
   "source": [
    "### Diferencia de Medias en Costo de tratamiento por Grupos Hospitalarios en 2020 y 2021 \n",
    "\n",
    "La siguiente prueba es para determinar si los promedios de costo de tratamiento son diferentes entre Grupos Hospitlarios para 2020 y 2021, de Marzo a Julio en ambos años.\n",
    "\n",
    "$H_0$: El promedio de costo de tratamiento es igual para todos los grupos hospitalarios\n",
    "\n",
    "$H_1$: El promedio de costo de tratamiento es diferente para todos los grupos hospitalarios"
   ]
  },
  {
   "cell_type": "code",
   "execution_count": 79,
   "metadata": {},
   "outputs": [
    {
     "data": {
      "text/html": [
       "<div>\n",
       "<style scoped>\n",
       "    .dataframe tbody tr th:only-of-type {\n",
       "        vertical-align: middle;\n",
       "    }\n",
       "\n",
       "    .dataframe tbody tr th {\n",
       "        vertical-align: top;\n",
       "    }\n",
       "\n",
       "    .dataframe thead th {\n",
       "        text-align: right;\n",
       "    }\n",
       "</style>\n",
       "<table border=\"1\" class=\"dataframe\">\n",
       "  <thead>\n",
       "    <tr style=\"text-align: right;\">\n",
       "      <th></th>\n",
       "      <th>Source</th>\n",
       "      <th>ddof1</th>\n",
       "      <th>ddof2</th>\n",
       "      <th>F</th>\n",
       "      <th>p-unc</th>\n",
       "      <th>np2</th>\n",
       "    </tr>\n",
       "  </thead>\n",
       "  <tbody>\n",
       "    <tr>\n",
       "      <th>0</th>\n",
       "      <td>Hospital Group</td>\n",
       "      <td>2</td>\n",
       "      <td>834</td>\n",
       "      <td>2.330126</td>\n",
       "      <td>0.097917</td>\n",
       "      <td>0.005557</td>\n",
       "    </tr>\n",
       "  </tbody>\n",
       "</table>\n",
       "</div>"
      ],
      "text/plain": [
       "           Source  ddof1  ddof2         F     p-unc       np2\n",
       "0  Hospital Group      2    834  2.330126  0.097917  0.005557"
      ]
     },
     "execution_count": 79,
     "metadata": {},
     "output_type": "execute_result"
    }
   ],
   "source": [
    "# ANOVA de costos promedio por Nivel hospitalario (low, medium, high)\n",
    "# Prueba de hipotesis\n",
    "# H0: El promedio de gasto en 2020 es igual para todos los niveles\n",
    "# H1: El promedio de gasto en 2020 es diferente para algún nivel\n",
    "newpDF2020 = newpDF[(newpDF['Ingress Month'].dt.year == 2020)]\n",
    "results = pg.anova(newpDF2020, dv = 'Treatment Cost', between='Hospital Group')\n",
    "results"
   ]
  },
  {
   "cell_type": "code",
   "execution_count": 80,
   "metadata": {},
   "outputs": [
    {
     "data": {
      "text/html": [
       "<div>\n",
       "<style scoped>\n",
       "    .dataframe tbody tr th:only-of-type {\n",
       "        vertical-align: middle;\n",
       "    }\n",
       "\n",
       "    .dataframe tbody tr th {\n",
       "        vertical-align: top;\n",
       "    }\n",
       "\n",
       "    .dataframe thead th {\n",
       "        text-align: right;\n",
       "    }\n",
       "</style>\n",
       "<table border=\"1\" class=\"dataframe\">\n",
       "  <thead>\n",
       "    <tr style=\"text-align: right;\">\n",
       "      <th></th>\n",
       "      <th>Contrast</th>\n",
       "      <th>A</th>\n",
       "      <th>B</th>\n",
       "      <th>Paired</th>\n",
       "      <th>Parametric</th>\n",
       "      <th>T</th>\n",
       "      <th>dof</th>\n",
       "      <th>alternative</th>\n",
       "      <th>p-unc</th>\n",
       "      <th>p-corr</th>\n",
       "      <th>p-adjust</th>\n",
       "      <th>BF10</th>\n",
       "      <th>hedges</th>\n",
       "    </tr>\n",
       "  </thead>\n",
       "  <tbody>\n",
       "    <tr>\n",
       "      <th>0</th>\n",
       "      <td>Hospital Group</td>\n",
       "      <td>High</td>\n",
       "      <td>Low</td>\n",
       "      <td>False</td>\n",
       "      <td>True</td>\n",
       "      <td>1.227352</td>\n",
       "      <td>413.327862</td>\n",
       "      <td>two-sided</td>\n",
       "      <td>0.220389</td>\n",
       "      <td>0.661166</td>\n",
       "      <td>bonf</td>\n",
       "      <td>0.226</td>\n",
       "      <td>0.118413</td>\n",
       "    </tr>\n",
       "    <tr>\n",
       "      <th>1</th>\n",
       "      <td>Hospital Group</td>\n",
       "      <td>High</td>\n",
       "      <td>Medium</td>\n",
       "      <td>False</td>\n",
       "      <td>True</td>\n",
       "      <td>2.013114</td>\n",
       "      <td>406.875092</td>\n",
       "      <td>two-sided</td>\n",
       "      <td>0.044761</td>\n",
       "      <td>0.134282</td>\n",
       "      <td>bonf</td>\n",
       "      <td>0.655</td>\n",
       "      <td>0.173642</td>\n",
       "    </tr>\n",
       "    <tr>\n",
       "      <th>2</th>\n",
       "      <td>Hospital Group</td>\n",
       "      <td>Low</td>\n",
       "      <td>Medium</td>\n",
       "      <td>False</td>\n",
       "      <td>True</td>\n",
       "      <td>0.594799</td>\n",
       "      <td>342.024917</td>\n",
       "      <td>two-sided</td>\n",
       "      <td>0.552371</td>\n",
       "      <td>1.000000</td>\n",
       "      <td>bonf</td>\n",
       "      <td>0.117</td>\n",
       "      <td>0.052993</td>\n",
       "    </tr>\n",
       "  </tbody>\n",
       "</table>\n",
       "</div>"
      ],
      "text/plain": [
       "         Contrast     A       B  Paired  Parametric         T         dof  \\\n",
       "0  Hospital Group  High     Low   False        True  1.227352  413.327862   \n",
       "1  Hospital Group  High  Medium   False        True  2.013114  406.875092   \n",
       "2  Hospital Group   Low  Medium   False        True  0.594799  342.024917   \n",
       "\n",
       "  alternative     p-unc    p-corr p-adjust   BF10    hedges  \n",
       "0   two-sided  0.220389  0.661166     bonf  0.226  0.118413  \n",
       "1   two-sided  0.044761  0.134282     bonf  0.655  0.173642  \n",
       "2   two-sided  0.552371  1.000000     bonf  0.117  0.052993  "
      ]
     },
     "execution_count": 80,
     "metadata": {},
     "output_type": "execute_result"
    }
   ],
   "source": [
    "pg.pairwise_tests(newpDF2020, dv = 'Treatment Cost', between='Hospital Group', padjust='bonf')"
   ]
  },
  {
   "cell_type": "markdown",
   "metadata": {},
   "source": [
    "Para 2020, ninguno de los grupos es estadísticamente significativo a un $\\alpha$ de 5%"
   ]
  },
  {
   "cell_type": "code",
   "execution_count": 81,
   "metadata": {},
   "outputs": [
    {
     "data": {
      "text/html": [
       "<div>\n",
       "<style scoped>\n",
       "    .dataframe tbody tr th:only-of-type {\n",
       "        vertical-align: middle;\n",
       "    }\n",
       "\n",
       "    .dataframe tbody tr th {\n",
       "        vertical-align: top;\n",
       "    }\n",
       "\n",
       "    .dataframe thead th {\n",
       "        text-align: right;\n",
       "    }\n",
       "</style>\n",
       "<table border=\"1\" class=\"dataframe\">\n",
       "  <thead>\n",
       "    <tr style=\"text-align: right;\">\n",
       "      <th></th>\n",
       "      <th>Source</th>\n",
       "      <th>ddof1</th>\n",
       "      <th>ddof2</th>\n",
       "      <th>F</th>\n",
       "      <th>p-unc</th>\n",
       "      <th>np2</th>\n",
       "    </tr>\n",
       "  </thead>\n",
       "  <tbody>\n",
       "    <tr>\n",
       "      <th>0</th>\n",
       "      <td>Hospital Group</td>\n",
       "      <td>2</td>\n",
       "      <td>777</td>\n",
       "      <td>0.565313</td>\n",
       "      <td>0.568416</td>\n",
       "      <td>0.001453</td>\n",
       "    </tr>\n",
       "  </tbody>\n",
       "</table>\n",
       "</div>"
      ],
      "text/plain": [
       "           Source  ddof1  ddof2         F     p-unc       np2\n",
       "0  Hospital Group      2    777  0.565313  0.568416  0.001453"
      ]
     },
     "execution_count": 81,
     "metadata": {},
     "output_type": "execute_result"
    }
   ],
   "source": [
    "# ANOVA de costos promedio por Nivel hospitalario (low, medium, high)\n",
    "# Prueba de hipotesis\n",
    "# H0: El promedio de gasto en 2020 es igual para todos los niveles\n",
    "# H1: El promedio de gasto en 2020 es diferente para algún nivel\n",
    "newpDF2021 = newpDF[(newpDF['Ingress Month'].dt.year == 2021)]\n",
    "results = pg.anova(newpDF2021, dv = 'Treatment Cost', between='Hospital Group')\n",
    "results"
   ]
  },
  {
   "cell_type": "code",
   "execution_count": 82,
   "metadata": {},
   "outputs": [
    {
     "data": {
      "text/html": [
       "<div>\n",
       "<style scoped>\n",
       "    .dataframe tbody tr th:only-of-type {\n",
       "        vertical-align: middle;\n",
       "    }\n",
       "\n",
       "    .dataframe tbody tr th {\n",
       "        vertical-align: top;\n",
       "    }\n",
       "\n",
       "    .dataframe thead th {\n",
       "        text-align: right;\n",
       "    }\n",
       "</style>\n",
       "<table border=\"1\" class=\"dataframe\">\n",
       "  <thead>\n",
       "    <tr style=\"text-align: right;\">\n",
       "      <th></th>\n",
       "      <th>Contrast</th>\n",
       "      <th>A</th>\n",
       "      <th>B</th>\n",
       "      <th>Paired</th>\n",
       "      <th>Parametric</th>\n",
       "      <th>T</th>\n",
       "      <th>dof</th>\n",
       "      <th>alternative</th>\n",
       "      <th>p-unc</th>\n",
       "      <th>p-corr</th>\n",
       "      <th>p-adjust</th>\n",
       "      <th>BF10</th>\n",
       "      <th>hedges</th>\n",
       "    </tr>\n",
       "  </thead>\n",
       "  <tbody>\n",
       "    <tr>\n",
       "      <th>0</th>\n",
       "      <td>Hospital Group</td>\n",
       "      <td>High</td>\n",
       "      <td>Low</td>\n",
       "      <td>False</td>\n",
       "      <td>True</td>\n",
       "      <td>1.351136</td>\n",
       "      <td>366.821087</td>\n",
       "      <td>two-sided</td>\n",
       "      <td>0.177485</td>\n",
       "      <td>0.532454</td>\n",
       "      <td>bonf</td>\n",
       "      <td>0.27</td>\n",
       "      <td>0.134720</td>\n",
       "    </tr>\n",
       "    <tr>\n",
       "      <th>1</th>\n",
       "      <td>Hospital Group</td>\n",
       "      <td>High</td>\n",
       "      <td>Medium</td>\n",
       "      <td>False</td>\n",
       "      <td>True</td>\n",
       "      <td>0.414572</td>\n",
       "      <td>490.065072</td>\n",
       "      <td>two-sided</td>\n",
       "      <td>0.678637</td>\n",
       "      <td>1.000000</td>\n",
       "      <td>bonf</td>\n",
       "      <td>0.113</td>\n",
       "      <td>0.032016</td>\n",
       "    </tr>\n",
       "    <tr>\n",
       "      <th>2</th>\n",
       "      <td>Hospital Group</td>\n",
       "      <td>Low</td>\n",
       "      <td>Medium</td>\n",
       "      <td>False</td>\n",
       "      <td>True</td>\n",
       "      <td>-0.834218</td>\n",
       "      <td>613.995846</td>\n",
       "      <td>two-sided</td>\n",
       "      <td>0.404482</td>\n",
       "      <td>1.000000</td>\n",
       "      <td>bonf</td>\n",
       "      <td>0.129</td>\n",
       "      <td>-0.062726</td>\n",
       "    </tr>\n",
       "  </tbody>\n",
       "</table>\n",
       "</div>"
      ],
      "text/plain": [
       "         Contrast     A       B  Paired  Parametric         T         dof  \\\n",
       "0  Hospital Group  High     Low   False        True  1.351136  366.821087   \n",
       "1  Hospital Group  High  Medium   False        True  0.414572  490.065072   \n",
       "2  Hospital Group   Low  Medium   False        True -0.834218  613.995846   \n",
       "\n",
       "  alternative     p-unc    p-corr p-adjust   BF10    hedges  \n",
       "0   two-sided  0.177485  0.532454     bonf   0.27  0.134720  \n",
       "1   two-sided  0.678637  1.000000     bonf  0.113  0.032016  \n",
       "2   two-sided  0.404482  1.000000     bonf  0.129 -0.062726  "
      ]
     },
     "execution_count": 82,
     "metadata": {},
     "output_type": "execute_result"
    }
   ],
   "source": [
    "pg.pairwise_tests(newpDF2021, dv = 'Treatment Cost', between='Hospital Group', padjust='bonf')"
   ]
  },
  {
   "cell_type": "markdown",
   "metadata": {},
   "source": [
    "Para 2021, similar a 2020, ningún grupo muestra una diferencia estadísticamente significativa"
   ]
  },
  {
   "cell_type": "markdown",
   "metadata": {},
   "source": [
    "### Diferencias de medias de los grupos hospitalarios 2020 vs 2021"
   ]
  },
  {
   "cell_type": "code",
   "execution_count": 83,
   "metadata": {},
   "outputs": [
    {
     "data": {
      "text/plain": [
       "Hospital Group  Ingress Month\n",
       "High            2020             42243.390558\n",
       "                2021             21195.853659\n",
       "Low             2020             36058.097826\n",
       "                2021             17035.333333\n",
       "Medium          2020             33604.047619\n",
       "                2021             19769.680851\n",
       "Name: Treatment Cost, dtype: float64"
      ]
     },
     "execution_count": 83,
     "metadata": {},
     "output_type": "execute_result"
    }
   ],
   "source": [
    "mDF = newpDF.groupby(['Hospital Group', newpDF['Ingress Month'].dt.year])['Treatment Cost'].mean()\n",
    "mDF"
   ]
  },
  {
   "cell_type": "code",
   "execution_count": 84,
   "metadata": {},
   "outputs": [],
   "source": [
    "mDF = mDF.unstack()\n",
    "mDF = mDF.reset_index()\n",
    "mDF.columns = ['Hospital Group', '2020', '2021']\n",
    "mDF['2020'] = mDF['2020'].apply(lambda x: np.round(x, 2))\n",
    "mDF['2021'] = mDF['2021'].apply(lambda x: np.round(x, 2))\n"
   ]
  },
  {
   "cell_type": "code",
   "execution_count": 85,
   "metadata": {},
   "outputs": [
    {
     "data": {
      "text/html": [
       "<div>\n",
       "<style scoped>\n",
       "    .dataframe tbody tr th:only-of-type {\n",
       "        vertical-align: middle;\n",
       "    }\n",
       "\n",
       "    .dataframe tbody tr th {\n",
       "        vertical-align: top;\n",
       "    }\n",
       "\n",
       "    .dataframe thead th {\n",
       "        text-align: right;\n",
       "    }\n",
       "</style>\n",
       "<table border=\"1\" class=\"dataframe\">\n",
       "  <thead>\n",
       "    <tr style=\"text-align: right;\">\n",
       "      <th></th>\n",
       "      <th>T</th>\n",
       "      <th>dof</th>\n",
       "      <th>alternative</th>\n",
       "      <th>p-val</th>\n",
       "      <th>CI95%</th>\n",
       "      <th>cohen-d</th>\n",
       "      <th>BF10</th>\n",
       "      <th>power</th>\n",
       "      <th>grupo</th>\n",
       "      <th>alpha</th>\n",
       "      <th>relevant</th>\n",
       "    </tr>\n",
       "  </thead>\n",
       "  <tbody>\n",
       "    <tr>\n",
       "      <th>T-test</th>\n",
       "      <td>4.869536</td>\n",
       "      <td>369.365887</td>\n",
       "      <td>two-sided</td>\n",
       "      <td>0.000002</td>\n",
       "      <td>[12548.16, 29546.92]</td>\n",
       "      <td>0.449657</td>\n",
       "      <td>7968.974</td>\n",
       "      <td>0.992672</td>\n",
       "      <td>High</td>\n",
       "      <td>0.05</td>\n",
       "      <td>True</td>\n",
       "    </tr>\n",
       "    <tr>\n",
       "      <th>T-test</th>\n",
       "      <td>4.067270</td>\n",
       "      <td>766.992315</td>\n",
       "      <td>two-sided</td>\n",
       "      <td>0.000052</td>\n",
       "      <td>[7157.23, 20511.5]</td>\n",
       "      <td>0.290000</td>\n",
       "      <td>248.212</td>\n",
       "      <td>0.982988</td>\n",
       "      <td>Medium</td>\n",
       "      <td>0.05</td>\n",
       "      <td>True</td>\n",
       "    </tr>\n",
       "    <tr>\n",
       "      <th>T-test</th>\n",
       "      <td>4.726719</td>\n",
       "      <td>304.794943</td>\n",
       "      <td>two-sided</td>\n",
       "      <td>0.000003</td>\n",
       "      <td>[11103.41, 26942.12]</td>\n",
       "      <td>0.486665</td>\n",
       "      <td>4246.21</td>\n",
       "      <td>0.998629</td>\n",
       "      <td>Low</td>\n",
       "      <td>0.05</td>\n",
       "      <td>True</td>\n",
       "    </tr>\n",
       "  </tbody>\n",
       "</table>\n",
       "</div>"
      ],
      "text/plain": [
       "               T         dof alternative     p-val                 CI95%  \\\n",
       "T-test  4.869536  369.365887   two-sided  0.000002  [12548.16, 29546.92]   \n",
       "T-test  4.067270  766.992315   two-sided  0.000052    [7157.23, 20511.5]   \n",
       "T-test  4.726719  304.794943   two-sided  0.000003  [11103.41, 26942.12]   \n",
       "\n",
       "         cohen-d      BF10     power   grupo  alpha  relevant  \n",
       "T-test  0.449657  7968.974  0.992672    High   0.05      True  \n",
       "T-test  0.290000   248.212  0.982988  Medium   0.05      True  \n",
       "T-test  0.486665   4246.21  0.998629     Low   0.05      True  "
      ]
     },
     "execution_count": 85,
     "metadata": {},
     "output_type": "execute_result"
    }
   ],
   "source": [
    "def compareMeans(vars, column):\n",
    "  results = []\n",
    "  for grupo in vars:\n",
    "    df1 = newpDF[(newpDF[column] == grupo) & (newpDF['Ingress Month'].dt.year == 2020)]\n",
    "    df2 = newpDF[(newpDF[column] == grupo) & (newpDF['Ingress Month'].dt.year == 2021)]\n",
    "    results.append(pg.ttest(df1['Treatment Cost'], df2['Treatment Cost'], alternative='two-sided', paired=False))\n",
    "  result = pd.concat(results, axis=0)\n",
    "  result['grupo'] = vars\n",
    "  result['alpha'] = 0.05\n",
    "  result['relevant'] = result['p-val'] < result['alpha']\n",
    "  return result\n",
    "\n",
    "resultDF = compareMeans(['High', 'Medium', 'Low'], 'Hospital Group')\n",
    "resultDF"
   ]
  },
  {
   "cell_type": "code",
   "execution_count": 86,
   "metadata": {},
   "outputs": [
    {
     "data": {
      "application/vnd.plotly.v1+json": {
       "config": {
        "plotlyServerURL": "https://plot.ly"
       },
       "data": [
        {
         "marker": {
          "color": "#2E4756",
          "size": 12
         },
         "mode": "lines+markers+text",
         "name": "High",
         "text": [
          "42243.0",
          "21196.0"
         ],
         "textposition": [
          "middle left",
          "middle right"
         ],
         "type": "scatter",
         "x": [
          2020,
          2021
         ],
         "y": [
          42243,
          21196
         ]
        },
        {
         "marker": {
          "color": "#3C7A89",
          "size": 12
         },
         "mode": "lines+markers+text",
         "name": "Low",
         "text": [
          "36058.0",
          "17035.0"
         ],
         "textposition": [
          "middle left",
          "middle right"
         ],
         "type": "scatter",
         "x": [
          2020,
          2021
         ],
         "y": [
          36058,
          17035
         ]
        },
        {
         "marker": {
          "color": "#AA78A6",
          "size": 12
         },
         "mode": "lines+markers+text",
         "name": "Medium",
         "text": [
          "33604.0",
          "19770.0"
         ],
         "textposition": [
          "middle left",
          "middle right"
         ],
         "type": "scatter",
         "x": [
          2020,
          2021
         ],
         "y": [
          33604,
          19770
         ]
        }
       ],
       "layout": {
        "annotations": [
         {
          "font": {
           "size": 16
          },
          "showarrow": false,
          "text": "2020",
          "x": 2020,
          "y": -0.05,
          "yref": "paper"
         },
         {
          "font": {
           "size": 16
          },
          "showarrow": false,
          "text": "2021",
          "x": 2021,
          "y": -0.05,
          "yref": "paper"
         }
        ],
        "legend": {
         "orientation": "h",
         "x": 1,
         "xanchor": "right",
         "y": 1.002,
         "yanchor": "bottom"
        },
        "shapes": [
         {
          "layer": "below",
          "type": "line",
          "x0": 2020,
          "x1": 2020,
          "xref": "x",
          "y0": 0,
          "y1": 1,
          "yref": "paper"
         },
         {
          "layer": "below",
          "type": "line",
          "x0": 2021,
          "x1": 2021,
          "xref": "x",
          "y0": 0,
          "y1": 1,
          "yref": "paper"
         }
        ],
        "template": {
         "data": {
          "bar": [
           {
            "error_x": {
             "color": "#2a3f5f"
            },
            "error_y": {
             "color": "#2a3f5f"
            },
            "marker": {
             "line": {
              "color": "white",
              "width": 0.5
             },
             "pattern": {
              "fillmode": "overlay",
              "size": 10,
              "solidity": 0.2
             }
            },
            "type": "bar"
           }
          ],
          "barpolar": [
           {
            "marker": {
             "line": {
              "color": "white",
              "width": 0.5
             },
             "pattern": {
              "fillmode": "overlay",
              "size": 10,
              "solidity": 0.2
             }
            },
            "type": "barpolar"
           }
          ],
          "carpet": [
           {
            "aaxis": {
             "endlinecolor": "#2a3f5f",
             "gridcolor": "#C8D4E3",
             "linecolor": "#C8D4E3",
             "minorgridcolor": "#C8D4E3",
             "startlinecolor": "#2a3f5f"
            },
            "baxis": {
             "endlinecolor": "#2a3f5f",
             "gridcolor": "#C8D4E3",
             "linecolor": "#C8D4E3",
             "minorgridcolor": "#C8D4E3",
             "startlinecolor": "#2a3f5f"
            },
            "type": "carpet"
           }
          ],
          "choropleth": [
           {
            "colorbar": {
             "outlinewidth": 0,
             "ticks": ""
            },
            "type": "choropleth"
           }
          ],
          "contour": [
           {
            "colorbar": {
             "outlinewidth": 0,
             "ticks": ""
            },
            "colorscale": [
             [
              0,
              "#0d0887"
             ],
             [
              0.1111111111111111,
              "#46039f"
             ],
             [
              0.2222222222222222,
              "#7201a8"
             ],
             [
              0.3333333333333333,
              "#9c179e"
             ],
             [
              0.4444444444444444,
              "#bd3786"
             ],
             [
              0.5555555555555556,
              "#d8576b"
             ],
             [
              0.6666666666666666,
              "#ed7953"
             ],
             [
              0.7777777777777778,
              "#fb9f3a"
             ],
             [
              0.8888888888888888,
              "#fdca26"
             ],
             [
              1,
              "#f0f921"
             ]
            ],
            "type": "contour"
           }
          ],
          "contourcarpet": [
           {
            "colorbar": {
             "outlinewidth": 0,
             "ticks": ""
            },
            "type": "contourcarpet"
           }
          ],
          "heatmap": [
           {
            "colorbar": {
             "outlinewidth": 0,
             "ticks": ""
            },
            "colorscale": [
             [
              0,
              "#0d0887"
             ],
             [
              0.1111111111111111,
              "#46039f"
             ],
             [
              0.2222222222222222,
              "#7201a8"
             ],
             [
              0.3333333333333333,
              "#9c179e"
             ],
             [
              0.4444444444444444,
              "#bd3786"
             ],
             [
              0.5555555555555556,
              "#d8576b"
             ],
             [
              0.6666666666666666,
              "#ed7953"
             ],
             [
              0.7777777777777778,
              "#fb9f3a"
             ],
             [
              0.8888888888888888,
              "#fdca26"
             ],
             [
              1,
              "#f0f921"
             ]
            ],
            "type": "heatmap"
           }
          ],
          "heatmapgl": [
           {
            "colorbar": {
             "outlinewidth": 0,
             "ticks": ""
            },
            "colorscale": [
             [
              0,
              "#0d0887"
             ],
             [
              0.1111111111111111,
              "#46039f"
             ],
             [
              0.2222222222222222,
              "#7201a8"
             ],
             [
              0.3333333333333333,
              "#9c179e"
             ],
             [
              0.4444444444444444,
              "#bd3786"
             ],
             [
              0.5555555555555556,
              "#d8576b"
             ],
             [
              0.6666666666666666,
              "#ed7953"
             ],
             [
              0.7777777777777778,
              "#fb9f3a"
             ],
             [
              0.8888888888888888,
              "#fdca26"
             ],
             [
              1,
              "#f0f921"
             ]
            ],
            "type": "heatmapgl"
           }
          ],
          "histogram": [
           {
            "marker": {
             "pattern": {
              "fillmode": "overlay",
              "size": 10,
              "solidity": 0.2
             }
            },
            "type": "histogram"
           }
          ],
          "histogram2d": [
           {
            "colorbar": {
             "outlinewidth": 0,
             "ticks": ""
            },
            "colorscale": [
             [
              0,
              "#0d0887"
             ],
             [
              0.1111111111111111,
              "#46039f"
             ],
             [
              0.2222222222222222,
              "#7201a8"
             ],
             [
              0.3333333333333333,
              "#9c179e"
             ],
             [
              0.4444444444444444,
              "#bd3786"
             ],
             [
              0.5555555555555556,
              "#d8576b"
             ],
             [
              0.6666666666666666,
              "#ed7953"
             ],
             [
              0.7777777777777778,
              "#fb9f3a"
             ],
             [
              0.8888888888888888,
              "#fdca26"
             ],
             [
              1,
              "#f0f921"
             ]
            ],
            "type": "histogram2d"
           }
          ],
          "histogram2dcontour": [
           {
            "colorbar": {
             "outlinewidth": 0,
             "ticks": ""
            },
            "colorscale": [
             [
              0,
              "#0d0887"
             ],
             [
              0.1111111111111111,
              "#46039f"
             ],
             [
              0.2222222222222222,
              "#7201a8"
             ],
             [
              0.3333333333333333,
              "#9c179e"
             ],
             [
              0.4444444444444444,
              "#bd3786"
             ],
             [
              0.5555555555555556,
              "#d8576b"
             ],
             [
              0.6666666666666666,
              "#ed7953"
             ],
             [
              0.7777777777777778,
              "#fb9f3a"
             ],
             [
              0.8888888888888888,
              "#fdca26"
             ],
             [
              1,
              "#f0f921"
             ]
            ],
            "type": "histogram2dcontour"
           }
          ],
          "mesh3d": [
           {
            "colorbar": {
             "outlinewidth": 0,
             "ticks": ""
            },
            "type": "mesh3d"
           }
          ],
          "parcoords": [
           {
            "line": {
             "colorbar": {
              "outlinewidth": 0,
              "ticks": ""
             }
            },
            "type": "parcoords"
           }
          ],
          "pie": [
           {
            "automargin": true,
            "type": "pie"
           }
          ],
          "scatter": [
           {
            "fillpattern": {
             "fillmode": "overlay",
             "size": 10,
             "solidity": 0.2
            },
            "type": "scatter"
           }
          ],
          "scatter3d": [
           {
            "line": {
             "colorbar": {
              "outlinewidth": 0,
              "ticks": ""
             }
            },
            "marker": {
             "colorbar": {
              "outlinewidth": 0,
              "ticks": ""
             }
            },
            "type": "scatter3d"
           }
          ],
          "scattercarpet": [
           {
            "marker": {
             "colorbar": {
              "outlinewidth": 0,
              "ticks": ""
             }
            },
            "type": "scattercarpet"
           }
          ],
          "scattergeo": [
           {
            "marker": {
             "colorbar": {
              "outlinewidth": 0,
              "ticks": ""
             }
            },
            "type": "scattergeo"
           }
          ],
          "scattergl": [
           {
            "marker": {
             "colorbar": {
              "outlinewidth": 0,
              "ticks": ""
             }
            },
            "type": "scattergl"
           }
          ],
          "scattermapbox": [
           {
            "marker": {
             "colorbar": {
              "outlinewidth": 0,
              "ticks": ""
             }
            },
            "type": "scattermapbox"
           }
          ],
          "scatterpolar": [
           {
            "marker": {
             "colorbar": {
              "outlinewidth": 0,
              "ticks": ""
             }
            },
            "type": "scatterpolar"
           }
          ],
          "scatterpolargl": [
           {
            "marker": {
             "colorbar": {
              "outlinewidth": 0,
              "ticks": ""
             }
            },
            "type": "scatterpolargl"
           }
          ],
          "scatterternary": [
           {
            "marker": {
             "colorbar": {
              "outlinewidth": 0,
              "ticks": ""
             }
            },
            "type": "scatterternary"
           }
          ],
          "surface": [
           {
            "colorbar": {
             "outlinewidth": 0,
             "ticks": ""
            },
            "colorscale": [
             [
              0,
              "#0d0887"
             ],
             [
              0.1111111111111111,
              "#46039f"
             ],
             [
              0.2222222222222222,
              "#7201a8"
             ],
             [
              0.3333333333333333,
              "#9c179e"
             ],
             [
              0.4444444444444444,
              "#bd3786"
             ],
             [
              0.5555555555555556,
              "#d8576b"
             ],
             [
              0.6666666666666666,
              "#ed7953"
             ],
             [
              0.7777777777777778,
              "#fb9f3a"
             ],
             [
              0.8888888888888888,
              "#fdca26"
             ],
             [
              1,
              "#f0f921"
             ]
            ],
            "type": "surface"
           }
          ],
          "table": [
           {
            "cells": {
             "fill": {
              "color": "#EBF0F8"
             },
             "line": {
              "color": "white"
             }
            },
            "header": {
             "fill": {
              "color": "#C8D4E3"
             },
             "line": {
              "color": "white"
             }
            },
            "type": "table"
           }
          ]
         },
         "layout": {
          "annotationdefaults": {
           "arrowcolor": "#2a3f5f",
           "arrowhead": 0,
           "arrowwidth": 1
          },
          "autotypenumbers": "strict",
          "coloraxis": {
           "colorbar": {
            "outlinewidth": 0,
            "ticks": ""
           }
          },
          "colorscale": {
           "diverging": [
            [
             0,
             "#8e0152"
            ],
            [
             0.1,
             "#c51b7d"
            ],
            [
             0.2,
             "#de77ae"
            ],
            [
             0.3,
             "#f1b6da"
            ],
            [
             0.4,
             "#fde0ef"
            ],
            [
             0.5,
             "#f7f7f7"
            ],
            [
             0.6,
             "#e6f5d0"
            ],
            [
             0.7,
             "#b8e186"
            ],
            [
             0.8,
             "#7fbc41"
            ],
            [
             0.9,
             "#4d9221"
            ],
            [
             1,
             "#276419"
            ]
           ],
           "sequential": [
            [
             0,
             "#0d0887"
            ],
            [
             0.1111111111111111,
             "#46039f"
            ],
            [
             0.2222222222222222,
             "#7201a8"
            ],
            [
             0.3333333333333333,
             "#9c179e"
            ],
            [
             0.4444444444444444,
             "#bd3786"
            ],
            [
             0.5555555555555556,
             "#d8576b"
            ],
            [
             0.6666666666666666,
             "#ed7953"
            ],
            [
             0.7777777777777778,
             "#fb9f3a"
            ],
            [
             0.8888888888888888,
             "#fdca26"
            ],
            [
             1,
             "#f0f921"
            ]
           ],
           "sequentialminus": [
            [
             0,
             "#0d0887"
            ],
            [
             0.1111111111111111,
             "#46039f"
            ],
            [
             0.2222222222222222,
             "#7201a8"
            ],
            [
             0.3333333333333333,
             "#9c179e"
            ],
            [
             0.4444444444444444,
             "#bd3786"
            ],
            [
             0.5555555555555556,
             "#d8576b"
            ],
            [
             0.6666666666666666,
             "#ed7953"
            ],
            [
             0.7777777777777778,
             "#fb9f3a"
            ],
            [
             0.8888888888888888,
             "#fdca26"
            ],
            [
             1,
             "#f0f921"
            ]
           ]
          },
          "colorway": [
           "#636efa",
           "#EF553B",
           "#00cc96",
           "#ab63fa",
           "#FFA15A",
           "#19d3f3",
           "#FF6692",
           "#B6E880",
           "#FF97FF",
           "#FECB52"
          ],
          "font": {
           "color": "#2a3f5f"
          },
          "geo": {
           "bgcolor": "white",
           "lakecolor": "white",
           "landcolor": "white",
           "showlakes": true,
           "showland": true,
           "subunitcolor": "#C8D4E3"
          },
          "hoverlabel": {
           "align": "left"
          },
          "hovermode": "closest",
          "mapbox": {
           "style": "light"
          },
          "paper_bgcolor": "white",
          "plot_bgcolor": "white",
          "polar": {
           "angularaxis": {
            "gridcolor": "#EBF0F8",
            "linecolor": "#EBF0F8",
            "ticks": ""
           },
           "bgcolor": "white",
           "radialaxis": {
            "gridcolor": "#EBF0F8",
            "linecolor": "#EBF0F8",
            "ticks": ""
           }
          },
          "scene": {
           "xaxis": {
            "backgroundcolor": "white",
            "gridcolor": "#DFE8F3",
            "gridwidth": 2,
            "linecolor": "#EBF0F8",
            "showbackground": true,
            "ticks": "",
            "zerolinecolor": "#EBF0F8"
           },
           "yaxis": {
            "backgroundcolor": "white",
            "gridcolor": "#DFE8F3",
            "gridwidth": 2,
            "linecolor": "#EBF0F8",
            "showbackground": true,
            "ticks": "",
            "zerolinecolor": "#EBF0F8"
           },
           "zaxis": {
            "backgroundcolor": "white",
            "gridcolor": "#DFE8F3",
            "gridwidth": 2,
            "linecolor": "#EBF0F8",
            "showbackground": true,
            "ticks": "",
            "zerolinecolor": "#EBF0F8"
           }
          },
          "shapedefaults": {
           "line": {
            "color": "#2a3f5f"
           }
          },
          "ternary": {
           "aaxis": {
            "gridcolor": "#DFE8F3",
            "linecolor": "#A2B1C6",
            "ticks": ""
           },
           "baxis": {
            "gridcolor": "#DFE8F3",
            "linecolor": "#A2B1C6",
            "ticks": ""
           },
           "bgcolor": "white",
           "caxis": {
            "gridcolor": "#DFE8F3",
            "linecolor": "#A2B1C6",
            "ticks": ""
           }
          },
          "title": {
           "x": 0.05
          },
          "xaxis": {
           "automargin": true,
           "gridcolor": "#EBF0F8",
           "linecolor": "#EBF0F8",
           "ticks": "",
           "title": {
            "standoff": 15
           },
           "zerolinecolor": "#EBF0F8",
           "zerolinewidth": 2
          },
          "yaxis": {
           "automargin": true,
           "gridcolor": "#EBF0F8",
           "linecolor": "#EBF0F8",
           "ticks": "",
           "title": {
            "standoff": 15
           },
           "zerolinecolor": "#EBF0F8",
           "zerolinewidth": 2
          }
         }
        },
        "title": {
         "text": "Cambio en el costo de tratamiento por Grupo Hospitalario (2020 vs 2021)"
        },
        "xaxis": {
         "range": [
          2019.5,
          2021.5
         ],
         "title": {
          "text": ""
         },
         "visible": false
        },
        "yaxis": {
         "title": {
          "text": "Media de Gasto de bolsillo"
         }
        }
       }
      }
     },
     "metadata": {},
     "output_type": "display_data"
    }
   ],
   "source": [
    "fig = go.Figure()\n",
    "colors = {'Low': CATEGORY_PALETTE[0], 'Medium': CATEGORY_PALETTE[3], 'High': CATEGORY_PALETTE[2]}\n",
    "for i in mDF['Hospital Group']:\n",
    "    dats = mDF[mDF['Hospital Group'] == i][['2020', '2021']]\n",
    "    fig.add_trace(\n",
    "        go.Scatter(\n",
    "            x=[2020, 2021],\n",
    "            y=[np.round(dats['2020'].values[0]), np.round(dats['2021'].values[0])],\n",
    "            mode=\"lines+markers+text\",\n",
    "            text=[np.round(dats['2020'].values[0]), np.round(dats['2021'].values[0])],\n",
    "            textposition=[\"middle left\", \"middle right\"],\n",
    "            marker=dict(size=12, color=colors[i]),\n",
    "            name=i,\n",
    "        )\n",
    "    )\n",
    "\n",
    "fig.add_annotation(yref='paper', x=2020, y=-0.05, text='2020', showarrow=False, font=dict(size=16))\n",
    "fig.add_annotation(yref='paper', x=2021, y=-0.05, text='2021', showarrow=False, font=dict(size=16))\n",
    "fig.add_shape(\n",
    "    type=\"line\",\n",
    "    x0=2020,\n",
    "    x1=2020,\n",
    "    y0=0,\n",
    "    y1=1,\n",
    "    xref=\"x\",\n",
    "    yref=\"paper\",\n",
    "    layer=\"below\",\n",
    ")\n",
    "fig.add_shape(\n",
    "    type=\"line\",\n",
    "    x0=2021,\n",
    "    x1=2021,\n",
    "    y0=0,\n",
    "    y1=1,\n",
    "    xref=\"x\",\n",
    "    yref=\"paper\",\n",
    "    layer=\"below\",\n",
    ")\n",
    "fig.update_xaxes(range=[2019.5, 2021.5], visible=False)\n",
    "fig.update_layout(title_text=\"Cambio en el costo de tratamiento por Grupo Hospitalario (2020 vs 2021)\", \n",
    "                  yaxis_title=\"Media de Gasto de bolsillo\", xaxis_title=\"\",\n",
    "                  legend=dict(orientation=\"h\", yanchor=\"bottom\", y=1.002, xanchor=\"right\", x=1),\n",
    "                  template=\"plotly_white\",)\n",
    "fig.write_image(\"images/fig5.png\", width=1000, height=800)\n",
    "fig.show()\n"
   ]
  },
  {
   "cell_type": "code",
   "execution_count": 87,
   "metadata": {},
   "outputs": [
    {
     "data": {
      "text/html": [
       "<div>\n",
       "<style scoped>\n",
       "    .dataframe tbody tr th:only-of-type {\n",
       "        vertical-align: middle;\n",
       "    }\n",
       "\n",
       "    .dataframe tbody tr th {\n",
       "        vertical-align: top;\n",
       "    }\n",
       "\n",
       "    .dataframe thead th {\n",
       "        text-align: right;\n",
       "    }\n",
       "</style>\n",
       "<table border=\"1\" class=\"dataframe\">\n",
       "  <thead>\n",
       "    <tr style=\"text-align: right;\">\n",
       "      <th></th>\n",
       "      <th>Hospital Group</th>\n",
       "      <th>2020</th>\n",
       "      <th>2021</th>\n",
       "      <th>PCT_DIFF</th>\n",
       "    </tr>\n",
       "  </thead>\n",
       "  <tbody>\n",
       "    <tr>\n",
       "      <th>0</th>\n",
       "      <td>High</td>\n",
       "      <td>42243.39</td>\n",
       "      <td>21195.85</td>\n",
       "      <td>-0.498245</td>\n",
       "    </tr>\n",
       "    <tr>\n",
       "      <th>1</th>\n",
       "      <td>Low</td>\n",
       "      <td>36058.10</td>\n",
       "      <td>17035.33</td>\n",
       "      <td>-0.527559</td>\n",
       "    </tr>\n",
       "    <tr>\n",
       "      <th>2</th>\n",
       "      <td>Medium</td>\n",
       "      <td>33604.05</td>\n",
       "      <td>19769.68</td>\n",
       "      <td>-0.411688</td>\n",
       "    </tr>\n",
       "  </tbody>\n",
       "</table>\n",
       "</div>"
      ],
      "text/plain": [
       "  Hospital Group      2020      2021  PCT_DIFF\n",
       "0           High  42243.39  21195.85 -0.498245\n",
       "1            Low  36058.10  17035.33 -0.527559\n",
       "2         Medium  33604.05  19769.68 -0.411688"
      ]
     },
     "execution_count": 87,
     "metadata": {},
     "output_type": "execute_result"
    }
   ],
   "source": [
    "mDF['PCT_DIFF'] = mDF['2021']/mDF['2020']-1\n",
    "mDF"
   ]
  },
  {
   "cell_type": "markdown",
   "metadata": {},
   "source": [
    "Todos las diferencias entre años son estadísticamente significativas."
   ]
  },
  {
   "cell_type": "markdown",
   "metadata": {},
   "source": [
    "### Media de Costos de Tratamiento de 2020 a 2021 (Marzo-Julio en ambos años)"
   ]
  },
  {
   "cell_type": "code",
   "execution_count": null,
   "metadata": {},
   "outputs": [
    {
     "data": {
      "text/plain": [
       "Hospital Group\n",
       "High      33548.690176\n",
       "Low       25290.495283\n",
       "Medium    27069.221106\n",
       "Name: Treatment Cost, dtype: float64"
      ]
     },
     "execution_count": 207,
     "metadata": {},
     "output_type": "execute_result"
    }
   ],
   "source": [
    "newpDF.groupby(['Hospital Group'])['Treatment Cost'].mean()"
   ]
  },
  {
   "cell_type": "markdown",
   "metadata": {},
   "source": [
    "### Media de Días de Tratamiento\n",
    "En este caso se usa toda la base de Insurers"
   ]
  },
  {
   "cell_type": "code",
   "execution_count": null,
   "metadata": {},
   "outputs": [
    {
     "data": {
      "text/plain": [
       "11.996340150699677"
      ]
     },
     "execution_count": 209,
     "metadata": {},
     "output_type": "execute_result"
    }
   ],
   "source": [
    "df[['Patient ID', 'Treatment Days']].drop_duplicates()['Treatment Days'].mean()"
   ]
  },
  {
   "cell_type": "markdown",
   "metadata": {},
   "source": [
    "### Media de Días de Tratamiento para 2020 y 2021"
   ]
  },
  {
   "cell_type": "code",
   "execution_count": null,
   "metadata": {},
   "outputs": [
    {
     "data": {
      "text/plain": [
       "Ingress Month\n",
       "2020    12.242028\n",
       "2021    11.707656\n",
       "Name: Treatment Days, dtype: float64"
      ]
     },
     "execution_count": 225,
     "metadata": {},
     "output_type": "execute_result"
    }
   ],
   "source": [
    "patientDF.groupby([patientDF['Ingress Month'].dt.year])['Treatment Days'].mean()"
   ]
  },
  {
   "cell_type": "markdown",
   "metadata": {},
   "source": [
    "### Media de Costos de Tratamiento de 2020 por Grupos Hospitalarios para Insumos de Interés"
   ]
  },
  {
   "cell_type": "code",
   "execution_count": null,
   "metadata": {},
   "outputs": [
    {
     "data": {
      "text/plain": [
       "Hospital Group\n",
       "High      61389.230769\n",
       "Low       48780.224719\n",
       "Medium    44358.625000\n",
       "Name: Treatment Cost, dtype: float64"
      ]
     },
     "execution_count": 4,
     "metadata": {},
     "output_type": "execute_result"
    }
   ],
   "source": [
    "patientDF[\n",
    "    (patientDF[\"Ingress Month\"].dt.year == 2020)\n",
    "    & (patientDF[\"Treatment Days\"] == 0)\n",
    "    & (patientDF[\"Interest Supplies\"] == \"Insumo de Interes\")\n",
    "].groupby('Hospital Group')[\"Treatment Cost\"].mean()\n"
   ]
  },
  {
   "cell_type": "markdown",
   "metadata": {},
   "source": [
    "### Conteo de Casos con Días de Tratamiento 0 en 2020 para insumos de interés"
   ]
  },
  {
   "cell_type": "code",
   "execution_count": null,
   "metadata": {},
   "outputs": [
    {
     "data": {
      "text/plain": [
       "Low       89\n",
       "Medium    80\n",
       "High      39\n",
       "Name: Hospital Group, dtype: int64"
      ]
     },
     "execution_count": 9,
     "metadata": {},
     "output_type": "execute_result"
    }
   ],
   "source": [
    "patientDF[\n",
    "    (patientDF[\"Ingress Month\"].dt.year == 2020)\n",
    "    & (patientDF[\"Treatment Days\"] == 0)\n",
    "    & (patientDF[\"Interest Supplies\"] == \"Insumo de Interes\")\n",
    "]['Hospital Group'].value_counts()"
   ]
  },
  {
   "cell_type": "markdown",
   "metadata": {},
   "source": [
    "### Media de Costos de Tratamiento en Casos D0 en 2020 para insumos de interés"
   ]
  },
  {
   "cell_type": "code",
   "execution_count": null,
   "metadata": {},
   "outputs": [
    {
     "data": {
      "text/html": [
       "<div>\n",
       "<style scoped>\n",
       "    .dataframe tbody tr th:only-of-type {\n",
       "        vertical-align: middle;\n",
       "    }\n",
       "\n",
       "    .dataframe tbody tr th {\n",
       "        vertical-align: top;\n",
       "    }\n",
       "\n",
       "    .dataframe thead th {\n",
       "        text-align: right;\n",
       "    }\n",
       "</style>\n",
       "<table border=\"1\" class=\"dataframe\">\n",
       "  <thead>\n",
       "    <tr style=\"text-align: right;\">\n",
       "      <th></th>\n",
       "      <th>Source</th>\n",
       "      <th>ddof1</th>\n",
       "      <th>ddof2</th>\n",
       "      <th>F</th>\n",
       "      <th>p-unc</th>\n",
       "      <th>np2</th>\n",
       "    </tr>\n",
       "  </thead>\n",
       "  <tbody>\n",
       "    <tr>\n",
       "      <th>0</th>\n",
       "      <td>Hospital Group</td>\n",
       "      <td>2</td>\n",
       "      <td>205</td>\n",
       "      <td>1.215306</td>\n",
       "      <td>0.298747</td>\n",
       "      <td>0.011718</td>\n",
       "    </tr>\n",
       "  </tbody>\n",
       "</table>\n",
       "</div>"
      ],
      "text/plain": [
       "           Source  ddof1  ddof2         F     p-unc       np2\n",
       "0  Hospital Group      2    205  1.215306  0.298747  0.011718"
      ]
     },
     "execution_count": 14,
     "metadata": {},
     "output_type": "execute_result"
    }
   ],
   "source": [
    "# ANOVA de costos promedio por Nivel hospitalario (low, medium, high) para pacientes con 0 días de tratamiento\n",
    "# Prueba de hipotesis\n",
    "# H0: El promedio de gasto en 2020 es igual para todos los niveles\n",
    "# H1: El promedio de gasto en 2020 es diferente para algún nivel\n",
    "intDF = patientDF[\n",
    "    (patientDF[\"Ingress Month\"].dt.year == 2020)\n",
    "    & (patientDF[\"Treatment Days\"] == 0)\n",
    "    & (patientDF[\"Interest Supplies\"] == \"Insumo de Interes\")\n",
    "]\n",
    "results = pg.anova(intDF, dv = 'Treatment Cost', between='Hospital Group')\n",
    "results"
   ]
  },
  {
   "cell_type": "code",
   "execution_count": null,
   "metadata": {},
   "outputs": [
    {
     "data": {
      "text/html": [
       "<div>\n",
       "<style scoped>\n",
       "    .dataframe tbody tr th:only-of-type {\n",
       "        vertical-align: middle;\n",
       "    }\n",
       "\n",
       "    .dataframe tbody tr th {\n",
       "        vertical-align: top;\n",
       "    }\n",
       "\n",
       "    .dataframe thead th {\n",
       "        text-align: right;\n",
       "    }\n",
       "</style>\n",
       "<table border=\"1\" class=\"dataframe\">\n",
       "  <thead>\n",
       "    <tr style=\"text-align: right;\">\n",
       "      <th></th>\n",
       "      <th>Contrast</th>\n",
       "      <th>A</th>\n",
       "      <th>B</th>\n",
       "      <th>Paired</th>\n",
       "      <th>Parametric</th>\n",
       "      <th>T</th>\n",
       "      <th>dof</th>\n",
       "      <th>alternative</th>\n",
       "      <th>p-unc</th>\n",
       "      <th>p-corr</th>\n",
       "      <th>p-adjust</th>\n",
       "      <th>BF10</th>\n",
       "      <th>hedges</th>\n",
       "    </tr>\n",
       "  </thead>\n",
       "  <tbody>\n",
       "    <tr>\n",
       "      <th>0</th>\n",
       "      <td>Hospital Group</td>\n",
       "      <td>High</td>\n",
       "      <td>Low</td>\n",
       "      <td>False</td>\n",
       "      <td>True</td>\n",
       "      <td>1.112362</td>\n",
       "      <td>63.375491</td>\n",
       "      <td>two-sided</td>\n",
       "      <td>0.270184</td>\n",
       "      <td>0.810552</td>\n",
       "      <td>bonf</td>\n",
       "      <td>0.354</td>\n",
       "      <td>0.225858</td>\n",
       "    </tr>\n",
       "    <tr>\n",
       "      <th>1</th>\n",
       "      <td>Hospital Group</td>\n",
       "      <td>High</td>\n",
       "      <td>Medium</td>\n",
       "      <td>False</td>\n",
       "      <td>True</td>\n",
       "      <td>1.447804</td>\n",
       "      <td>70.707807</td>\n",
       "      <td>two-sided</td>\n",
       "      <td>0.152091</td>\n",
       "      <td>0.456274</td>\n",
       "      <td>bonf</td>\n",
       "      <td>0.524</td>\n",
       "      <td>0.288169</td>\n",
       "    </tr>\n",
       "    <tr>\n",
       "      <th>2</th>\n",
       "      <td>Hospital Group</td>\n",
       "      <td>Low</td>\n",
       "      <td>Medium</td>\n",
       "      <td>False</td>\n",
       "      <td>True</td>\n",
       "      <td>0.520663</td>\n",
       "      <td>161.112496</td>\n",
       "      <td>two-sided</td>\n",
       "      <td>0.603316</td>\n",
       "      <td>1.000000</td>\n",
       "      <td>bonf</td>\n",
       "      <td>0.189</td>\n",
       "      <td>0.080217</td>\n",
       "    </tr>\n",
       "  </tbody>\n",
       "</table>\n",
       "</div>"
      ],
      "text/plain": [
       "         Contrast     A       B  Paired  Parametric         T         dof  \\\n",
       "0  Hospital Group  High     Low   False        True  1.112362   63.375491   \n",
       "1  Hospital Group  High  Medium   False        True  1.447804   70.707807   \n",
       "2  Hospital Group   Low  Medium   False        True  0.520663  161.112496   \n",
       "\n",
       "  alternative     p-unc    p-corr p-adjust   BF10    hedges  \n",
       "0   two-sided  0.270184  0.810552     bonf  0.354  0.225858  \n",
       "1   two-sided  0.152091  0.456274     bonf  0.524  0.288169  \n",
       "2   two-sided  0.603316  1.000000     bonf  0.189  0.080217  "
      ]
     },
     "execution_count": 16,
     "metadata": {},
     "output_type": "execute_result"
    }
   ],
   "source": [
    "pg.pairwise_tests(intDF, dv = 'Treatment Cost', between='Hospital Group', padjust='bonf', alpha=0.1)"
   ]
  },
  {
   "cell_type": "markdown",
   "metadata": {},
   "source": [
    "Ninguna comparación entre grupo es estadísticamente significativo."
   ]
  },
  {
   "cell_type": "markdown",
   "metadata": {},
   "source": [
    "### Conteo de casos con Días de Tratamiento 0 para insumos de interés"
   ]
  },
  {
   "cell_type": "code",
   "execution_count": null,
   "metadata": {},
   "outputs": [
    {
     "data": {
      "text/html": [
       "<div>\n",
       "<style scoped>\n",
       "    .dataframe tbody tr th:only-of-type {\n",
       "        vertical-align: middle;\n",
       "    }\n",
       "\n",
       "    .dataframe tbody tr th {\n",
       "        vertical-align: top;\n",
       "    }\n",
       "\n",
       "    .dataframe thead th {\n",
       "        text-align: right;\n",
       "    }\n",
       "</style>\n",
       "<table border=\"1\" class=\"dataframe\">\n",
       "  <thead>\n",
       "    <tr style=\"text-align: right;\">\n",
       "      <th>Ingress Month</th>\n",
       "      <th>Hospital Group</th>\n",
       "      <th>2020</th>\n",
       "      <th>2021</th>\n",
       "    </tr>\n",
       "  </thead>\n",
       "  <tbody>\n",
       "    <tr>\n",
       "      <th>0</th>\n",
       "      <td>High</td>\n",
       "      <td>39</td>\n",
       "      <td>43</td>\n",
       "    </tr>\n",
       "    <tr>\n",
       "      <th>1</th>\n",
       "      <td>Low</td>\n",
       "      <td>89</td>\n",
       "      <td>61</td>\n",
       "    </tr>\n",
       "    <tr>\n",
       "      <th>2</th>\n",
       "      <td>Medium</td>\n",
       "      <td>80</td>\n",
       "      <td>76</td>\n",
       "    </tr>\n",
       "  </tbody>\n",
       "</table>\n",
       "</div>"
      ],
      "text/plain": [
       "Ingress Month Hospital Group  2020  2021\n",
       "0                       High    39    43\n",
       "1                        Low    89    61\n",
       "2                     Medium    80    76"
      ]
     },
     "execution_count": 212,
     "metadata": {},
     "output_type": "execute_result"
    }
   ],
   "source": [
    "results = patientDF[\n",
    "    (patientDF[\"Treatment Days\"] == 0)\n",
    "    & (patientDF[\"Interest Supplies\"] == \"Insumo de Interes\")\n",
    "].groupby([\"Hospital Group\", patientDF[\"Ingress Month\"].dt.year])[\"Patient ID\"].count()\n",
    "results = results.unstack()\n",
    "results.reset_index(inplace=True)\n",
    "results "
   ]
  },
  {
   "cell_type": "code",
   "execution_count": 89,
   "metadata": {},
   "outputs": [
    {
     "ename": "IndexError",
     "evalue": "single positional indexer is out-of-bounds",
     "output_type": "error",
     "traceback": [
      "\u001b[1;31m---------------------------------------------------------------------------\u001b[0m",
      "\u001b[1;31mIndexError\u001b[0m                                Traceback (most recent call last)",
      "\u001b[1;32md:\\Projects\\Freelance\\vision-de-delfos\\insurers_eda.ipynb Celda 81\u001b[0m in \u001b[0;36m<cell line: 5>\u001b[1;34m()\u001b[0m\n\u001b[0;32m      <a href='vscode-notebook-cell:/d%3A/Projects/Freelance/vision-de-delfos/insurers_eda.ipynb#ch0000078?line=0'>1</a>\u001b[0m fig \u001b[39m=\u001b[39m go\u001b[39m.\u001b[39mFigure(go\u001b[39m.\u001b[39mScatter(x\u001b[39m=\u001b[39m[\u001b[39m2020\u001b[39m, \u001b[39m2021\u001b[39m], y\u001b[39m=\u001b[39mresults\u001b[39m.\u001b[39miloc[\u001b[39m0\u001b[39m, \u001b[39m1\u001b[39m:], mode\u001b[39m=\u001b[39m\u001b[39m'\u001b[39m\u001b[39mlines+markers+text\u001b[39m\u001b[39m'\u001b[39m, \n\u001b[0;32m      <a href='vscode-notebook-cell:/d%3A/Projects/Freelance/vision-de-delfos/insurers_eda.ipynb#ch0000078?line=1'>2</a>\u001b[0m                            text\u001b[39m=\u001b[39m[\u001b[39m'\u001b[39m\u001b[39mHigh\u001b[39m\u001b[39m'\u001b[39m, \u001b[39m'\u001b[39m\u001b[39m'\u001b[39m], textposition\u001b[39m=\u001b[39m[\u001b[39m'\u001b[39m\u001b[39mmiddle left\u001b[39m\u001b[39m'\u001b[39m, \u001b[39m'\u001b[39m\u001b[39mmiddle right\u001b[39m\u001b[39m'\u001b[39m],\n\u001b[0;32m      <a href='vscode-notebook-cell:/d%3A/Projects/Freelance/vision-de-delfos/insurers_eda.ipynb#ch0000078?line=2'>3</a>\u001b[0m                            marker\u001b[39m=\u001b[39m\u001b[39mdict\u001b[39m(size\u001b[39m=\u001b[39m\u001b[39m12\u001b[39m, color\u001b[39m=\u001b[39mCATEGORY_PALETTE[\u001b[39m0\u001b[39m]), \n\u001b[0;32m      <a href='vscode-notebook-cell:/d%3A/Projects/Freelance/vision-de-delfos/insurers_eda.ipynb#ch0000078?line=3'>4</a>\u001b[0m                            name\u001b[39m=\u001b[39m\u001b[39m'\u001b[39m\u001b[39mHigh\u001b[39m\u001b[39m'\u001b[39m,))\n\u001b[1;32m----> <a href='vscode-notebook-cell:/d%3A/Projects/Freelance/vision-de-delfos/insurers_eda.ipynb#ch0000078?line=4'>5</a>\u001b[0m fig\u001b[39m.\u001b[39madd_trace(go\u001b[39m.\u001b[39mScatter(x\u001b[39m=\u001b[39m[\u001b[39m2020\u001b[39m, \u001b[39m2021\u001b[39m], y\u001b[39m=\u001b[39mresults\u001b[39m.\u001b[39;49miloc[\u001b[39m1\u001b[39;49m, \u001b[39m1\u001b[39;49m:], mode\u001b[39m=\u001b[39m\u001b[39m'\u001b[39m\u001b[39mlines+markers+text\u001b[39m\u001b[39m'\u001b[39m,\n\u001b[0;32m      <a href='vscode-notebook-cell:/d%3A/Projects/Freelance/vision-de-delfos/insurers_eda.ipynb#ch0000078?line=5'>6</a>\u001b[0m                          text\u001b[39m=\u001b[39m[\u001b[39m'\u001b[39m\u001b[39mLow\u001b[39m\u001b[39m'\u001b[39m, \u001b[39m'\u001b[39m\u001b[39m'\u001b[39m], textposition\u001b[39m=\u001b[39m[\u001b[39m'\u001b[39m\u001b[39mmiddle left\u001b[39m\u001b[39m'\u001b[39m, \u001b[39m'\u001b[39m\u001b[39mmiddle right\u001b[39m\u001b[39m'\u001b[39m],\n\u001b[0;32m      <a href='vscode-notebook-cell:/d%3A/Projects/Freelance/vision-de-delfos/insurers_eda.ipynb#ch0000078?line=6'>7</a>\u001b[0m                          marker\u001b[39m=\u001b[39m\u001b[39mdict\u001b[39m(size\u001b[39m=\u001b[39m\u001b[39m12\u001b[39m, color\u001b[39m=\u001b[39mCATEGORY_PALETTE[\u001b[39m1\u001b[39m]), \n\u001b[0;32m      <a href='vscode-notebook-cell:/d%3A/Projects/Freelance/vision-de-delfos/insurers_eda.ipynb#ch0000078?line=7'>8</a>\u001b[0m                          name\u001b[39m=\u001b[39m\u001b[39m'\u001b[39m\u001b[39mLow\u001b[39m\u001b[39m'\u001b[39m))\n\u001b[0;32m      <a href='vscode-notebook-cell:/d%3A/Projects/Freelance/vision-de-delfos/insurers_eda.ipynb#ch0000078?line=8'>9</a>\u001b[0m fig\u001b[39m.\u001b[39madd_trace(go\u001b[39m.\u001b[39mScatter(x\u001b[39m=\u001b[39m[\u001b[39m2020\u001b[39m, \u001b[39m2021\u001b[39m], y\u001b[39m=\u001b[39mresults\u001b[39m.\u001b[39miloc[\u001b[39m2\u001b[39m, \u001b[39m1\u001b[39m:], mode\u001b[39m=\u001b[39m\u001b[39m'\u001b[39m\u001b[39mlines+markers+text\u001b[39m\u001b[39m'\u001b[39m,\n\u001b[0;32m     <a href='vscode-notebook-cell:/d%3A/Projects/Freelance/vision-de-delfos/insurers_eda.ipynb#ch0000078?line=9'>10</a>\u001b[0m                          text\u001b[39m=\u001b[39m[\u001b[39m'\u001b[39m\u001b[39mMedium\u001b[39m\u001b[39m'\u001b[39m, \u001b[39m'\u001b[39m\u001b[39m'\u001b[39m], textposition\u001b[39m=\u001b[39m[\u001b[39m'\u001b[39m\u001b[39mmiddle left\u001b[39m\u001b[39m'\u001b[39m, \u001b[39m'\u001b[39m\u001b[39mmiddle right\u001b[39m\u001b[39m'\u001b[39m],\n\u001b[0;32m     <a href='vscode-notebook-cell:/d%3A/Projects/Freelance/vision-de-delfos/insurers_eda.ipynb#ch0000078?line=10'>11</a>\u001b[0m                          marker\u001b[39m=\u001b[39m\u001b[39mdict\u001b[39m(size\u001b[39m=\u001b[39m\u001b[39m12\u001b[39m, color\u001b[39m=\u001b[39mCATEGORY_PALETTE[\u001b[39m2\u001b[39m]), \n\u001b[0;32m     <a href='vscode-notebook-cell:/d%3A/Projects/Freelance/vision-de-delfos/insurers_eda.ipynb#ch0000078?line=11'>12</a>\u001b[0m                          name\u001b[39m=\u001b[39m\u001b[39m'\u001b[39m\u001b[39mMedium\u001b[39m\u001b[39m'\u001b[39m))\n\u001b[0;32m     <a href='vscode-notebook-cell:/d%3A/Projects/Freelance/vision-de-delfos/insurers_eda.ipynb#ch0000078?line=12'>13</a>\u001b[0m fig\u001b[39m.\u001b[39madd_shape(\u001b[39mtype\u001b[39m\u001b[39m=\u001b[39m\u001b[39m'\u001b[39m\u001b[39mline\u001b[39m\u001b[39m'\u001b[39m, x0\u001b[39m=\u001b[39m\u001b[39m2020\u001b[39m, x1\u001b[39m=\u001b[39m\u001b[39m2020\u001b[39m, y0\u001b[39m=\u001b[39m\u001b[39m0\u001b[39m, y1\u001b[39m=\u001b[39m\u001b[39m1\u001b[39m, xref\u001b[39m=\u001b[39m\u001b[39m'\u001b[39m\u001b[39mx\u001b[39m\u001b[39m'\u001b[39m, yref\u001b[39m=\u001b[39m\u001b[39m'\u001b[39m\u001b[39mpaper\u001b[39m\u001b[39m'\u001b[39m, layer\u001b[39m=\u001b[39m\u001b[39m'\u001b[39m\u001b[39mbelow\u001b[39m\u001b[39m'\u001b[39m,)\n",
      "File \u001b[1;32mc:\\Python310\\lib\\site-packages\\pandas\\core\\indexing.py:961\u001b[0m, in \u001b[0;36m_LocationIndexer.__getitem__\u001b[1;34m(self, key)\u001b[0m\n\u001b[0;32m    959\u001b[0m     \u001b[39mif\u001b[39;00m \u001b[39mself\u001b[39m\u001b[39m.\u001b[39m_is_scalar_access(key):\n\u001b[0;32m    960\u001b[0m         \u001b[39mreturn\u001b[39;00m \u001b[39mself\u001b[39m\u001b[39m.\u001b[39mobj\u001b[39m.\u001b[39m_get_value(\u001b[39m*\u001b[39mkey, takeable\u001b[39m=\u001b[39m\u001b[39mself\u001b[39m\u001b[39m.\u001b[39m_takeable)\n\u001b[1;32m--> 961\u001b[0m     \u001b[39mreturn\u001b[39;00m \u001b[39mself\u001b[39;49m\u001b[39m.\u001b[39;49m_getitem_tuple(key)\n\u001b[0;32m    962\u001b[0m \u001b[39melse\u001b[39;00m:\n\u001b[0;32m    963\u001b[0m     \u001b[39m# we by definition only have the 0th axis\u001b[39;00m\n\u001b[0;32m    964\u001b[0m     axis \u001b[39m=\u001b[39m \u001b[39mself\u001b[39m\u001b[39m.\u001b[39maxis \u001b[39mor\u001b[39;00m \u001b[39m0\u001b[39m\n",
      "File \u001b[1;32mc:\\Python310\\lib\\site-packages\\pandas\\core\\indexing.py:1458\u001b[0m, in \u001b[0;36m_iLocIndexer._getitem_tuple\u001b[1;34m(self, tup)\u001b[0m\n\u001b[0;32m   1456\u001b[0m \u001b[39mdef\u001b[39;00m \u001b[39m_getitem_tuple\u001b[39m(\u001b[39mself\u001b[39m, tup: \u001b[39mtuple\u001b[39m):\n\u001b[1;32m-> 1458\u001b[0m     tup \u001b[39m=\u001b[39m \u001b[39mself\u001b[39;49m\u001b[39m.\u001b[39;49m_validate_tuple_indexer(tup)\n\u001b[0;32m   1459\u001b[0m     \u001b[39mwith\u001b[39;00m suppress(IndexingError):\n\u001b[0;32m   1460\u001b[0m         \u001b[39mreturn\u001b[39;00m \u001b[39mself\u001b[39m\u001b[39m.\u001b[39m_getitem_lowerdim(tup)\n",
      "File \u001b[1;32mc:\\Python310\\lib\\site-packages\\pandas\\core\\indexing.py:769\u001b[0m, in \u001b[0;36m_LocationIndexer._validate_tuple_indexer\u001b[1;34m(self, key)\u001b[0m\n\u001b[0;32m    767\u001b[0m \u001b[39mfor\u001b[39;00m i, k \u001b[39min\u001b[39;00m \u001b[39menumerate\u001b[39m(key):\n\u001b[0;32m    768\u001b[0m     \u001b[39mtry\u001b[39;00m:\n\u001b[1;32m--> 769\u001b[0m         \u001b[39mself\u001b[39;49m\u001b[39m.\u001b[39;49m_validate_key(k, i)\n\u001b[0;32m    770\u001b[0m     \u001b[39mexcept\u001b[39;00m \u001b[39mValueError\u001b[39;00m \u001b[39mas\u001b[39;00m err:\n\u001b[0;32m    771\u001b[0m         \u001b[39mraise\u001b[39;00m \u001b[39mValueError\u001b[39;00m(\n\u001b[0;32m    772\u001b[0m             \u001b[39m\"\u001b[39m\u001b[39mLocation based indexing can only have \u001b[39m\u001b[39m\"\u001b[39m\n\u001b[0;32m    773\u001b[0m             \u001b[39mf\u001b[39m\u001b[39m\"\u001b[39m\u001b[39m[\u001b[39m\u001b[39m{\u001b[39;00m\u001b[39mself\u001b[39m\u001b[39m.\u001b[39m_valid_types\u001b[39m}\u001b[39;00m\u001b[39m] types\u001b[39m\u001b[39m\"\u001b[39m\n\u001b[0;32m    774\u001b[0m         ) \u001b[39mfrom\u001b[39;00m \u001b[39merr\u001b[39;00m\n",
      "File \u001b[1;32mc:\\Python310\\lib\\site-packages\\pandas\\core\\indexing.py:1361\u001b[0m, in \u001b[0;36m_iLocIndexer._validate_key\u001b[1;34m(self, key, axis)\u001b[0m\n\u001b[0;32m   1359\u001b[0m     \u001b[39mreturn\u001b[39;00m\n\u001b[0;32m   1360\u001b[0m \u001b[39melif\u001b[39;00m is_integer(key):\n\u001b[1;32m-> 1361\u001b[0m     \u001b[39mself\u001b[39;49m\u001b[39m.\u001b[39;49m_validate_integer(key, axis)\n\u001b[0;32m   1362\u001b[0m \u001b[39melif\u001b[39;00m \u001b[39misinstance\u001b[39m(key, \u001b[39mtuple\u001b[39m):\n\u001b[0;32m   1363\u001b[0m     \u001b[39m# a tuple should already have been caught by this point\u001b[39;00m\n\u001b[0;32m   1364\u001b[0m     \u001b[39m# so don't treat a tuple as a valid indexer\u001b[39;00m\n\u001b[0;32m   1365\u001b[0m     \u001b[39mraise\u001b[39;00m IndexingError(\u001b[39m\"\u001b[39m\u001b[39mToo many indexers\u001b[39m\u001b[39m\"\u001b[39m)\n",
      "File \u001b[1;32mc:\\Python310\\lib\\site-packages\\pandas\\core\\indexing.py:1452\u001b[0m, in \u001b[0;36m_iLocIndexer._validate_integer\u001b[1;34m(self, key, axis)\u001b[0m\n\u001b[0;32m   1450\u001b[0m len_axis \u001b[39m=\u001b[39m \u001b[39mlen\u001b[39m(\u001b[39mself\u001b[39m\u001b[39m.\u001b[39mobj\u001b[39m.\u001b[39m_get_axis(axis))\n\u001b[0;32m   1451\u001b[0m \u001b[39mif\u001b[39;00m key \u001b[39m>\u001b[39m\u001b[39m=\u001b[39m len_axis \u001b[39mor\u001b[39;00m key \u001b[39m<\u001b[39m \u001b[39m-\u001b[39mlen_axis:\n\u001b[1;32m-> 1452\u001b[0m     \u001b[39mraise\u001b[39;00m \u001b[39mIndexError\u001b[39;00m(\u001b[39m\"\u001b[39m\u001b[39msingle positional indexer is out-of-bounds\u001b[39m\u001b[39m\"\u001b[39m)\n",
      "\u001b[1;31mIndexError\u001b[0m: single positional indexer is out-of-bounds"
     ]
    }
   ],
   "source": [
    "fig = go.Figure(go.Scatter(x=[2020, 2021], y=results.iloc[0, 1:], mode='lines+markers+text', \n",
    "                           text=['High', ''], textposition=['middle left', 'middle right'],\n",
    "                           marker=dict(size=12, color=CATEGORY_PALETTE[0]), \n",
    "                           name='High',))\n",
    "fig.add_trace(go.Scatter(x=[2020, 2021], y=results.iloc[1, 1:], mode='lines+markers+text',\n",
    "                         text=['Low', ''], textposition=['middle left', 'middle right'],\n",
    "                         marker=dict(size=12, color=CATEGORY_PALETTE[1]), \n",
    "                         name='Low'))\n",
    "fig.add_trace(go.Scatter(x=[2020, 2021], y=results.iloc[2, 1:], mode='lines+markers+text',\n",
    "                         text=['Medium', ''], textposition=['middle left', 'middle right'],\n",
    "                         marker=dict(size=12, color=CATEGORY_PALETTE[2]), \n",
    "                         name='Medium'))\n",
    "fig.add_shape(type='line', x0=2020, x1=2020, y0=0, y1=1, xref='x', yref='paper', layer='below',)\n",
    "fig.add_shape(type='line', x0=2021, x1=2021, y0=0, y1=1, xref='x', yref='paper', layer='below',)\n",
    "fig.update_layout(title='Diferencias entre casos T0 de insumo de interes por nivel hospitalario')\n",
    "fig.show()"
   ]
  },
  {
   "cell_type": "code",
   "execution_count": null,
   "metadata": {},
   "outputs": [],
   "source": []
  },
  {
   "cell_type": "code",
   "execution_count": null,
   "metadata": {},
   "outputs": [
    {
     "data": {
      "application/vnd.plotly.v1+json": {
       "config": {
        "plotlyServerURL": "https://plot.ly"
       },
       "data": [
        {
         "alignmentgroup": "True",
         "bingroup": "x",
         "hovertemplate": "Treatment Cost=%{x}<br>count=%{y}<extra></extra>",
         "legendgroup": "",
         "marker": {
          "color": "#636efa",
          "pattern": {
           "shape": ""
          }
         },
         "name": "",
         "nbinsx": 50,
         "offsetgroup": "",
         "orientation": "v",
         "showlegend": false,
         "type": "histogram",
         "x": [
          14370,
          13930,
          13000,
          22260,
          3720,
          23390,
          10110,
          13310,
          12110,
          16000,
          25140,
          22020,
          10800,
          24510,
          19020,
          12370,
          18640,
          15590,
          14300,
          14520,
          17730,
          4450,
          37000,
          17540,
          34290,
          24000,
          22280,
          258660,
          25620,
          42000,
          39180,
          72000,
          9550,
          18150,
          45120,
          81430,
          10610,
          37760,
          76000,
          82440,
          63800,
          17970,
          66170,
          193040,
          28550,
          14320,
          72000,
          43620,
          68550,
          64220,
          15080,
          82000,
          8960,
          12950,
          27050,
          97000,
          10020,
          37220,
          12800,
          29230,
          7400,
          76430,
          26120,
          5890,
          4790,
          6690,
          220040,
          224490,
          13570,
          344000,
          9460,
          26000,
          77670,
          37000,
          14490,
          58000,
          62000,
          31300,
          800,
          17760,
          20550,
          143000,
          21890,
          129380,
          15000,
          220,
          6000,
          15730,
          19270,
          1620,
          20000,
          29060,
          66840,
          234000,
          124000,
          46100,
          9000,
          15230,
          23880,
          14270,
          65000,
          71000,
          12940,
          76720,
          49530,
          164000,
          26000,
          37950,
          28040,
          45740,
          68160,
          26360,
          50840,
          89630,
          51950,
          116000,
          66780,
          15260,
          31530,
          8340,
          25000,
          97880,
          50460,
          300,
          29000,
          11560,
          42880,
          88970,
          44040,
          82250,
          81000,
          20670,
          90630,
          26910,
          91670,
          83920,
          144640,
          6610,
          12000,
          26080,
          71000,
          20830,
          85820,
          10820,
          21840,
          82710,
          20940,
          44600,
          89000,
          40080,
          15970,
          15950,
          26160,
          9050,
          17000,
          4040,
          29220,
          5000,
          90640,
          75000,
          42040,
          176760,
          64780,
          39840,
          6000,
          13000,
          1780,
          310780,
          178530,
          25440,
          97000,
          13720,
          3000,
          18300,
          1000,
          98000,
          50000,
          207000,
          50000,
          22000,
          14560,
          5000,
          104000,
          6000,
          176000,
          4000,
          94890,
          52450,
          17480,
          176000,
          50530,
          35000,
          103340,
          49000,
          870,
          530,
          84000,
          1820,
          19720,
          81380,
          81400,
          12750,
          134020,
          15000,
          1000,
          2280,
          112000,
          38000
         ],
         "xaxis": "x",
         "yaxis": "y"
        }
       ],
       "layout": {
        "barmode": "relative",
        "legend": {
         "tracegroupgap": 0
        },
        "margin": {
         "t": 60
        },
        "template": {
         "data": {
          "bar": [
           {
            "error_x": {
             "color": "#2a3f5f"
            },
            "error_y": {
             "color": "#2a3f5f"
            },
            "marker": {
             "line": {
              "color": "#E5ECF6",
              "width": 0.5
             },
             "pattern": {
              "fillmode": "overlay",
              "size": 10,
              "solidity": 0.2
             }
            },
            "type": "bar"
           }
          ],
          "barpolar": [
           {
            "marker": {
             "line": {
              "color": "#E5ECF6",
              "width": 0.5
             },
             "pattern": {
              "fillmode": "overlay",
              "size": 10,
              "solidity": 0.2
             }
            },
            "type": "barpolar"
           }
          ],
          "carpet": [
           {
            "aaxis": {
             "endlinecolor": "#2a3f5f",
             "gridcolor": "white",
             "linecolor": "white",
             "minorgridcolor": "white",
             "startlinecolor": "#2a3f5f"
            },
            "baxis": {
             "endlinecolor": "#2a3f5f",
             "gridcolor": "white",
             "linecolor": "white",
             "minorgridcolor": "white",
             "startlinecolor": "#2a3f5f"
            },
            "type": "carpet"
           }
          ],
          "choropleth": [
           {
            "colorbar": {
             "outlinewidth": 0,
             "ticks": ""
            },
            "type": "choropleth"
           }
          ],
          "contour": [
           {
            "colorbar": {
             "outlinewidth": 0,
             "ticks": ""
            },
            "colorscale": [
             [
              0,
              "#0d0887"
             ],
             [
              0.1111111111111111,
              "#46039f"
             ],
             [
              0.2222222222222222,
              "#7201a8"
             ],
             [
              0.3333333333333333,
              "#9c179e"
             ],
             [
              0.4444444444444444,
              "#bd3786"
             ],
             [
              0.5555555555555556,
              "#d8576b"
             ],
             [
              0.6666666666666666,
              "#ed7953"
             ],
             [
              0.7777777777777778,
              "#fb9f3a"
             ],
             [
              0.8888888888888888,
              "#fdca26"
             ],
             [
              1,
              "#f0f921"
             ]
            ],
            "type": "contour"
           }
          ],
          "contourcarpet": [
           {
            "colorbar": {
             "outlinewidth": 0,
             "ticks": ""
            },
            "type": "contourcarpet"
           }
          ],
          "heatmap": [
           {
            "colorbar": {
             "outlinewidth": 0,
             "ticks": ""
            },
            "colorscale": [
             [
              0,
              "#0d0887"
             ],
             [
              0.1111111111111111,
              "#46039f"
             ],
             [
              0.2222222222222222,
              "#7201a8"
             ],
             [
              0.3333333333333333,
              "#9c179e"
             ],
             [
              0.4444444444444444,
              "#bd3786"
             ],
             [
              0.5555555555555556,
              "#d8576b"
             ],
             [
              0.6666666666666666,
              "#ed7953"
             ],
             [
              0.7777777777777778,
              "#fb9f3a"
             ],
             [
              0.8888888888888888,
              "#fdca26"
             ],
             [
              1,
              "#f0f921"
             ]
            ],
            "type": "heatmap"
           }
          ],
          "heatmapgl": [
           {
            "colorbar": {
             "outlinewidth": 0,
             "ticks": ""
            },
            "colorscale": [
             [
              0,
              "#0d0887"
             ],
             [
              0.1111111111111111,
              "#46039f"
             ],
             [
              0.2222222222222222,
              "#7201a8"
             ],
             [
              0.3333333333333333,
              "#9c179e"
             ],
             [
              0.4444444444444444,
              "#bd3786"
             ],
             [
              0.5555555555555556,
              "#d8576b"
             ],
             [
              0.6666666666666666,
              "#ed7953"
             ],
             [
              0.7777777777777778,
              "#fb9f3a"
             ],
             [
              0.8888888888888888,
              "#fdca26"
             ],
             [
              1,
              "#f0f921"
             ]
            ],
            "type": "heatmapgl"
           }
          ],
          "histogram": [
           {
            "marker": {
             "pattern": {
              "fillmode": "overlay",
              "size": 10,
              "solidity": 0.2
             }
            },
            "type": "histogram"
           }
          ],
          "histogram2d": [
           {
            "colorbar": {
             "outlinewidth": 0,
             "ticks": ""
            },
            "colorscale": [
             [
              0,
              "#0d0887"
             ],
             [
              0.1111111111111111,
              "#46039f"
             ],
             [
              0.2222222222222222,
              "#7201a8"
             ],
             [
              0.3333333333333333,
              "#9c179e"
             ],
             [
              0.4444444444444444,
              "#bd3786"
             ],
             [
              0.5555555555555556,
              "#d8576b"
             ],
             [
              0.6666666666666666,
              "#ed7953"
             ],
             [
              0.7777777777777778,
              "#fb9f3a"
             ],
             [
              0.8888888888888888,
              "#fdca26"
             ],
             [
              1,
              "#f0f921"
             ]
            ],
            "type": "histogram2d"
           }
          ],
          "histogram2dcontour": [
           {
            "colorbar": {
             "outlinewidth": 0,
             "ticks": ""
            },
            "colorscale": [
             [
              0,
              "#0d0887"
             ],
             [
              0.1111111111111111,
              "#46039f"
             ],
             [
              0.2222222222222222,
              "#7201a8"
             ],
             [
              0.3333333333333333,
              "#9c179e"
             ],
             [
              0.4444444444444444,
              "#bd3786"
             ],
             [
              0.5555555555555556,
              "#d8576b"
             ],
             [
              0.6666666666666666,
              "#ed7953"
             ],
             [
              0.7777777777777778,
              "#fb9f3a"
             ],
             [
              0.8888888888888888,
              "#fdca26"
             ],
             [
              1,
              "#f0f921"
             ]
            ],
            "type": "histogram2dcontour"
           }
          ],
          "mesh3d": [
           {
            "colorbar": {
             "outlinewidth": 0,
             "ticks": ""
            },
            "type": "mesh3d"
           }
          ],
          "parcoords": [
           {
            "line": {
             "colorbar": {
              "outlinewidth": 0,
              "ticks": ""
             }
            },
            "type": "parcoords"
           }
          ],
          "pie": [
           {
            "automargin": true,
            "type": "pie"
           }
          ],
          "scatter": [
           {
            "fillpattern": {
             "fillmode": "overlay",
             "size": 10,
             "solidity": 0.2
            },
            "type": "scatter"
           }
          ],
          "scatter3d": [
           {
            "line": {
             "colorbar": {
              "outlinewidth": 0,
              "ticks": ""
             }
            },
            "marker": {
             "colorbar": {
              "outlinewidth": 0,
              "ticks": ""
             }
            },
            "type": "scatter3d"
           }
          ],
          "scattercarpet": [
           {
            "marker": {
             "colorbar": {
              "outlinewidth": 0,
              "ticks": ""
             }
            },
            "type": "scattercarpet"
           }
          ],
          "scattergeo": [
           {
            "marker": {
             "colorbar": {
              "outlinewidth": 0,
              "ticks": ""
             }
            },
            "type": "scattergeo"
           }
          ],
          "scattergl": [
           {
            "marker": {
             "colorbar": {
              "outlinewidth": 0,
              "ticks": ""
             }
            },
            "type": "scattergl"
           }
          ],
          "scattermapbox": [
           {
            "marker": {
             "colorbar": {
              "outlinewidth": 0,
              "ticks": ""
             }
            },
            "type": "scattermapbox"
           }
          ],
          "scatterpolar": [
           {
            "marker": {
             "colorbar": {
              "outlinewidth": 0,
              "ticks": ""
             }
            },
            "type": "scatterpolar"
           }
          ],
          "scatterpolargl": [
           {
            "marker": {
             "colorbar": {
              "outlinewidth": 0,
              "ticks": ""
             }
            },
            "type": "scatterpolargl"
           }
          ],
          "scatterternary": [
           {
            "marker": {
             "colorbar": {
              "outlinewidth": 0,
              "ticks": ""
             }
            },
            "type": "scatterternary"
           }
          ],
          "surface": [
           {
            "colorbar": {
             "outlinewidth": 0,
             "ticks": ""
            },
            "colorscale": [
             [
              0,
              "#0d0887"
             ],
             [
              0.1111111111111111,
              "#46039f"
             ],
             [
              0.2222222222222222,
              "#7201a8"
             ],
             [
              0.3333333333333333,
              "#9c179e"
             ],
             [
              0.4444444444444444,
              "#bd3786"
             ],
             [
              0.5555555555555556,
              "#d8576b"
             ],
             [
              0.6666666666666666,
              "#ed7953"
             ],
             [
              0.7777777777777778,
              "#fb9f3a"
             ],
             [
              0.8888888888888888,
              "#fdca26"
             ],
             [
              1,
              "#f0f921"
             ]
            ],
            "type": "surface"
           }
          ],
          "table": [
           {
            "cells": {
             "fill": {
              "color": "#EBF0F8"
             },
             "line": {
              "color": "white"
             }
            },
            "header": {
             "fill": {
              "color": "#C8D4E3"
             },
             "line": {
              "color": "white"
             }
            },
            "type": "table"
           }
          ]
         },
         "layout": {
          "annotationdefaults": {
           "arrowcolor": "#2a3f5f",
           "arrowhead": 0,
           "arrowwidth": 1
          },
          "autotypenumbers": "strict",
          "coloraxis": {
           "colorbar": {
            "outlinewidth": 0,
            "ticks": ""
           }
          },
          "colorscale": {
           "diverging": [
            [
             0,
             "#8e0152"
            ],
            [
             0.1,
             "#c51b7d"
            ],
            [
             0.2,
             "#de77ae"
            ],
            [
             0.3,
             "#f1b6da"
            ],
            [
             0.4,
             "#fde0ef"
            ],
            [
             0.5,
             "#f7f7f7"
            ],
            [
             0.6,
             "#e6f5d0"
            ],
            [
             0.7,
             "#b8e186"
            ],
            [
             0.8,
             "#7fbc41"
            ],
            [
             0.9,
             "#4d9221"
            ],
            [
             1,
             "#276419"
            ]
           ],
           "sequential": [
            [
             0,
             "#0d0887"
            ],
            [
             0.1111111111111111,
             "#46039f"
            ],
            [
             0.2222222222222222,
             "#7201a8"
            ],
            [
             0.3333333333333333,
             "#9c179e"
            ],
            [
             0.4444444444444444,
             "#bd3786"
            ],
            [
             0.5555555555555556,
             "#d8576b"
            ],
            [
             0.6666666666666666,
             "#ed7953"
            ],
            [
             0.7777777777777778,
             "#fb9f3a"
            ],
            [
             0.8888888888888888,
             "#fdca26"
            ],
            [
             1,
             "#f0f921"
            ]
           ],
           "sequentialminus": [
            [
             0,
             "#0d0887"
            ],
            [
             0.1111111111111111,
             "#46039f"
            ],
            [
             0.2222222222222222,
             "#7201a8"
            ],
            [
             0.3333333333333333,
             "#9c179e"
            ],
            [
             0.4444444444444444,
             "#bd3786"
            ],
            [
             0.5555555555555556,
             "#d8576b"
            ],
            [
             0.6666666666666666,
             "#ed7953"
            ],
            [
             0.7777777777777778,
             "#fb9f3a"
            ],
            [
             0.8888888888888888,
             "#fdca26"
            ],
            [
             1,
             "#f0f921"
            ]
           ]
          },
          "colorway": [
           "#636efa",
           "#EF553B",
           "#00cc96",
           "#ab63fa",
           "#FFA15A",
           "#19d3f3",
           "#FF6692",
           "#B6E880",
           "#FF97FF",
           "#FECB52"
          ],
          "font": {
           "color": "#2a3f5f"
          },
          "geo": {
           "bgcolor": "white",
           "lakecolor": "white",
           "landcolor": "#E5ECF6",
           "showlakes": true,
           "showland": true,
           "subunitcolor": "white"
          },
          "hoverlabel": {
           "align": "left"
          },
          "hovermode": "closest",
          "mapbox": {
           "style": "light"
          },
          "paper_bgcolor": "white",
          "plot_bgcolor": "#E5ECF6",
          "polar": {
           "angularaxis": {
            "gridcolor": "white",
            "linecolor": "white",
            "ticks": ""
           },
           "bgcolor": "#E5ECF6",
           "radialaxis": {
            "gridcolor": "white",
            "linecolor": "white",
            "ticks": ""
           }
          },
          "scene": {
           "xaxis": {
            "backgroundcolor": "#E5ECF6",
            "gridcolor": "white",
            "gridwidth": 2,
            "linecolor": "white",
            "showbackground": true,
            "ticks": "",
            "zerolinecolor": "white"
           },
           "yaxis": {
            "backgroundcolor": "#E5ECF6",
            "gridcolor": "white",
            "gridwidth": 2,
            "linecolor": "white",
            "showbackground": true,
            "ticks": "",
            "zerolinecolor": "white"
           },
           "zaxis": {
            "backgroundcolor": "#E5ECF6",
            "gridcolor": "white",
            "gridwidth": 2,
            "linecolor": "white",
            "showbackground": true,
            "ticks": "",
            "zerolinecolor": "white"
           }
          },
          "shapedefaults": {
           "line": {
            "color": "#2a3f5f"
           }
          },
          "ternary": {
           "aaxis": {
            "gridcolor": "white",
            "linecolor": "white",
            "ticks": ""
           },
           "baxis": {
            "gridcolor": "white",
            "linecolor": "white",
            "ticks": ""
           },
           "bgcolor": "#E5ECF6",
           "caxis": {
            "gridcolor": "white",
            "linecolor": "white",
            "ticks": ""
           }
          },
          "title": {
           "x": 0.05
          },
          "xaxis": {
           "automargin": true,
           "gridcolor": "white",
           "linecolor": "white",
           "ticks": "",
           "title": {
            "standoff": 15
           },
           "zerolinecolor": "white",
           "zerolinewidth": 2
          },
          "yaxis": {
           "automargin": true,
           "gridcolor": "white",
           "linecolor": "white",
           "ticks": "",
           "title": {
            "standoff": 15
           },
           "zerolinecolor": "white",
           "zerolinewidth": 2
          }
         }
        },
        "title": {
         "text": "Histograma de costos de tratamiento para casos T0 de insumo de interes"
        },
        "xaxis": {
         "anchor": "y",
         "domain": [
          0,
          1
         ],
         "title": {
          "text": "Treatment Cost"
         }
        },
        "yaxis": {
         "anchor": "x",
         "domain": [
          0,
          1
         ],
         "title": {
          "text": "count"
         }
        }
       }
      }
     },
     "metadata": {},
     "output_type": "display_data"
    }
   ],
   "source": [
    "fig = px.histogram(patientDF[(patientDF['Ingress Month'].dt.year == 2020) & (patientDF['Treatment Days'] == 0) & (patientDF['Interest Supplies'] == 'Insumo de Interes')], x='Treatment Cost', nbins=50)\n",
    "fig.update_layout(title='Histograma de costos de tratamiento para casos T0 de insumo de interes')\n",
    "fig.show()"
   ]
  },
  {
   "cell_type": "code",
   "execution_count": null,
   "metadata": {},
   "outputs": [],
   "source": [
    "supDF = df[\n",
    "    [\"Patient ID\", \"Cost per Unit\", \"Medical Supply\", \"Ingress Month\", \"Hospital Group\"]\n",
    "].drop_duplicates()\n",
    "supDF = supDF[supDF[\"Medical Supply\"] == \"BARICITINIB\"]\n"
   ]
  },
  {
   "cell_type": "markdown",
   "metadata": {},
   "source": [
    "### "
   ]
  },
  {
   "cell_type": "code",
   "execution_count": 99,
   "metadata": {},
   "outputs": [
    {
     "data": {
      "application/vnd.plotly.v1+json": {
       "config": {
        "plotlyServerURL": "https://plot.ly"
       },
       "data": [
        {
         "marker": {
          "color": "#3C7A89",
          "opacity": 0.6,
          "size": 13,
          "symbol": "square"
         },
         "mode": "markers",
         "name": "Medium",
         "textposition": "top center",
         "type": "scatter",
         "x": [
          "2020-05-01T00:00:00",
          "2020-05-01T00:00:00",
          "2020-05-01T00:00:00",
          "2020-06-01T00:00:00",
          "2020-06-01T00:00:00",
          "2020-07-01T00:00:00",
          "2020-08-01T00:00:00",
          "2020-10-01T00:00:00",
          "2020-11-01T00:00:00",
          "2020-11-01T00:00:00",
          "2020-12-01T00:00:00",
          "2021-03-01T00:00:00"
         ],
         "xaxis": "x2",
         "y": [
          4416.66650390625,
          4500,
          4235.2939453125,
          4500,
          4250,
          3000,
          132000,
          112000,
          2016.6666748046875,
          1000,
          2000,
          64000
         ],
         "yaxis": "y2"
        },
        {
         "marker": {
          "color": "#3C7A89",
          "opacity": 0.6,
          "size": 13,
          "symbol": "circle"
         },
         "mode": "markers",
         "name": "Low",
         "textposition": "top center",
         "type": "scatter",
         "x": [
          "2020-06-01T00:00:00",
          "2020-06-01T00:00:00",
          "2020-06-01T00:00:00",
          "2020-06-01T00:00:00",
          "2020-06-01T00:00:00",
          "2020-07-01T00:00:00",
          "2020-07-01T00:00:00",
          "2020-09-01T00:00:00",
          "2020-10-01T00:00:00",
          "2021-02-01T00:00:00",
          "2021-03-01T00:00:00",
          "2021-03-01T00:00:00"
         ],
         "xaxis": "x2",
         "y": [
          1000,
          1250,
          51000,
          1250,
          1142.857177734375,
          1111.111083984375,
          1166.6666259765625,
          1200,
          1333.3333740234375,
          1200,
          1142.857177734375,
          1500
         ],
         "yaxis": "y2"
        },
        {
         "marker": {
          "color": "#3C7A89",
          "opacity": 0.6,
          "size": 13,
          "symbol": "triangle-up"
         },
         "mode": "markers",
         "name": "High",
         "textposition": "top center",
         "type": "scatter",
         "x": [
          "2020-06-01T00:00:00",
          "2020-06-01T00:00:00",
          "2020-10-01T00:00:00"
         ],
         "xaxis": "x2",
         "y": [
          1480,
          1478.2608642578125,
          72000
         ],
         "yaxis": "y2"
        },
        {
         "marker": {
          "color": "#3C7A89",
          "opacity": 0.6,
          "size": 13,
          "symbol": "square"
         },
         "mode": "markers",
         "name": "Medium",
         "textposition": "top center",
         "type": "scatter",
         "x": [
          "2020-04-01T00:00:00",
          "2020-04-01T00:00:00",
          "2020-04-01T00:00:00",
          "2020-05-01T00:00:00",
          "2020-05-01T00:00:00",
          "2020-06-01T00:00:00",
          "2020-06-01T00:00:00",
          "2020-06-01T00:00:00",
          "2020-06-01T00:00:00",
          "2020-06-01T00:00:00",
          "2020-06-01T00:00:00",
          "2020-06-01T00:00:00",
          "2020-06-01T00:00:00",
          "2020-06-01T00:00:00",
          "2020-06-01T00:00:00",
          "2020-06-01T00:00:00",
          "2020-06-01T00:00:00",
          "2020-07-01T00:00:00",
          "2020-07-01T00:00:00",
          "2020-07-01T00:00:00",
          "2020-07-01T00:00:00",
          "2020-07-01T00:00:00",
          "2020-07-01T00:00:00",
          "2020-07-01T00:00:00",
          "2020-07-01T00:00:00",
          "2020-07-01T00:00:00",
          "2020-07-01T00:00:00",
          "2020-07-01T00:00:00",
          "2020-07-01T00:00:00",
          "2020-07-01T00:00:00",
          "2020-07-01T00:00:00",
          "2020-08-01T00:00:00",
          "2020-08-01T00:00:00",
          "2020-08-01T00:00:00",
          "2020-08-01T00:00:00",
          "2020-08-01T00:00:00",
          "2020-08-01T00:00:00",
          "2020-08-01T00:00:00",
          "2020-08-01T00:00:00",
          "2020-08-01T00:00:00",
          "2020-08-01T00:00:00",
          "2020-08-01T00:00:00",
          "2020-08-01T00:00:00",
          "2020-08-01T00:00:00",
          "2020-09-01T00:00:00",
          "2020-09-01T00:00:00",
          "2020-09-01T00:00:00",
          "2020-09-01T00:00:00",
          "2020-09-01T00:00:00",
          "2020-09-01T00:00:00",
          "2020-09-01T00:00:00",
          "2020-10-01T00:00:00",
          "2020-10-01T00:00:00",
          "2020-10-01T00:00:00",
          "2020-10-01T00:00:00",
          "2020-10-01T00:00:00",
          "2020-10-01T00:00:00",
          "2020-10-01T00:00:00",
          "2020-10-01T00:00:00",
          "2020-11-01T00:00:00",
          "2020-11-01T00:00:00",
          "2020-11-01T00:00:00",
          "2020-11-01T00:00:00",
          "2020-11-01T00:00:00",
          "2020-11-01T00:00:00",
          "2020-11-01T00:00:00",
          "2020-11-01T00:00:00",
          "2020-11-01T00:00:00",
          "2020-11-01T00:00:00",
          "2020-11-01T00:00:00",
          "2020-11-01T00:00:00",
          "2020-12-01T00:00:00",
          "2020-12-01T00:00:00",
          "2020-12-01T00:00:00",
          "2020-12-01T00:00:00",
          "2020-12-01T00:00:00",
          "2020-12-01T00:00:00",
          "2020-12-01T00:00:00",
          "2020-12-01T00:00:00",
          "2020-12-01T00:00:00",
          "2020-12-01T00:00:00",
          "2020-12-01T00:00:00",
          "2020-12-01T00:00:00",
          "2020-12-01T00:00:00",
          "2020-12-01T00:00:00",
          "2020-12-01T00:00:00",
          "2020-12-01T00:00:00",
          "2020-12-01T00:00:00",
          "2020-12-01T00:00:00",
          "2020-12-01T00:00:00",
          "2020-12-01T00:00:00",
          "2020-12-01T00:00:00",
          "2021-01-01T00:00:00",
          "2021-01-01T00:00:00",
          "2021-01-01T00:00:00",
          "2021-01-01T00:00:00",
          "2021-02-01T00:00:00",
          "2021-02-01T00:00:00",
          "2021-02-01T00:00:00",
          "2021-02-01T00:00:00",
          "2021-03-01T00:00:00",
          "2021-03-01T00:00:00",
          "2021-03-01T00:00:00",
          "2021-04-01T00:00:00",
          "2021-04-01T00:00:00",
          "2021-04-01T00:00:00",
          "2021-06-01T00:00:00",
          "2021-06-01T00:00:00",
          "2021-07-01T00:00:00",
          "2021-07-01T00:00:00",
          "2021-07-01T00:00:00"
         ],
         "xaxis": "x",
         "y": [
          1000,
          1062.5,
          1000,
          24000,
          1125,
          1000,
          1000,
          1000,
          1000,
          1000,
          1000,
          24000,
          24000,
          24000,
          1000,
          1000,
          25500,
          1000,
          1000,
          1000,
          1000,
          1025.6409912109375,
          1000,
          1000,
          1000,
          1000,
          1000,
          1000,
          1000,
          1000,
          27500,
          1000,
          1000,
          1000,
          1000,
          1000,
          1000,
          1000,
          1000,
          1000,
          1000,
          28000,
          23000,
          20000,
          1000,
          1000,
          1000,
          1000,
          1000,
          1000,
          28000,
          1000,
          1000,
          1000,
          1000,
          1000,
          22000,
          1250,
          800,
          1000,
          1000,
          1000,
          1000,
          1000,
          1000,
          1000,
          1000,
          1000,
          33000,
          27000,
          14000,
          1000,
          1000,
          1000,
          1000,
          1000,
          1000,
          1000,
          1000,
          1000,
          1000,
          850,
          850,
          1071.4285888671875,
          1142.857177734375,
          22000,
          22000,
          37000,
          1285.7142333984375,
          1400,
          1000,
          26000,
          1000,
          1000,
          1000,
          1000,
          1000,
          1000,
          1000,
          1000,
          1000,
          24000,
          24000,
          1500,
          850,
          24000,
          1000,
          1000,
          1000,
          1000,
          1000
         ],
         "yaxis": "y"
        },
        {
         "marker": {
          "color": "#3C7A89",
          "opacity": 0.6,
          "size": 13,
          "symbol": "circle"
         },
         "mode": "markers",
         "name": "Low",
         "textposition": "top center",
         "type": "scatter",
         "x": [
          "2020-05-01T00:00:00",
          "2020-05-01T00:00:00",
          "2020-06-01T00:00:00",
          "2020-06-01T00:00:00",
          "2020-06-01T00:00:00",
          "2020-07-01T00:00:00",
          "2020-07-01T00:00:00",
          "2020-07-01T00:00:00",
          "2020-07-01T00:00:00",
          "2020-07-01T00:00:00",
          "2020-09-01T00:00:00",
          "2020-10-01T00:00:00",
          "2020-10-01T00:00:00",
          "2020-11-01T00:00:00",
          "2020-11-01T00:00:00",
          "2020-12-01T00:00:00",
          "2020-12-01T00:00:00",
          "2021-01-01T00:00:00",
          "2021-01-01T00:00:00",
          "2021-05-01T00:00:00",
          "2021-05-01T00:00:00"
         ],
         "xaxis": "x",
         "y": [
          20000,
          20000,
          1000,
          26666.666015625,
          20000,
          1000,
          1000,
          1000,
          1000,
          27000,
          1000,
          1000,
          2000,
          27000,
          20000,
          1000,
          20000,
          6500,
          7000,
          1000,
          6000
         ],
         "yaxis": "y"
        },
        {
         "marker": {
          "color": "#3C7A89",
          "opacity": 0.6,
          "size": 13,
          "symbol": "triangle-up"
         },
         "mode": "markers",
         "name": "High",
         "textposition": "top center",
         "type": "scatter",
         "x": [
          "2020-11-01T00:00:00",
          "2020-12-01T00:00:00",
          "2021-01-01T00:00:00",
          "2021-02-01T00:00:00",
          "2021-06-01T00:00:00",
          "2021-06-01T00:00:00"
         ],
         "xaxis": "x",
         "y": [
          714.2857055664062,
          26500,
          769.2307739257812,
          780,
          2000,
          2000
         ],
         "yaxis": "y"
        }
       ],
       "layout": {
        "annotations": [
         {
          "font": {
           "size": 16
          },
          "showarrow": false,
          "text": "Costo máximo<br>permitido",
          "textangle": 0,
          "x": "2020-03-01",
          "y": 24500
         },
         {
          "font": {
           "size": 16
          },
          "showarrow": false,
          "text": "Costo máximo<br>permitido 1",
          "textangle": 0,
          "x": "2020-03-01",
          "xref": "x2",
          "y": 51800,
          "yref": "y2"
         },
         {
          "font": {
           "size": 16
          },
          "showarrow": false,
          "text": "Costo máximo<br>permitido 2",
          "textangle": 0,
          "x": "2020-03-01",
          "xref": "x2",
          "y": 99000,
          "yref": "y2"
         },
         {
          "showarrow": false,
          "text": "Fuente: Elaboración propia con datos de Insurers, DataMexico",
          "x": -0.01,
          "xref": "paper",
          "y": -0.08,
          "yref": "paper"
         }
        ],
        "shapes": [
         {
          "fillcolor": "red",
          "line": {
           "width": 0
          },
          "opacity": 0.2,
          "type": "rect",
          "x0": 0,
          "x1": 1,
          "xref": "x domain",
          "y0": 22027.5,
          "y1": 42000,
          "yref": "y"
         },
         {
          "line": {
           "color": "red",
           "dash": "dash"
          },
          "type": "line",
          "x0": 0,
          "x1": 1,
          "xref": "x domain",
          "y0": 22027.5,
          "y1": 22027.5,
          "yref": "y"
         },
         {
          "line": {
           "color": "blue",
           "dash": "dash"
          },
          "type": "line",
          "x0": 0,
          "x1": 1,
          "xref": "x2 domain",
          "y0": 46250,
          "y1": 46250,
          "yref": "y2"
         },
         {
          "fillcolor": "blue",
          "line": {
           "width": 0
          },
          "opacity": 0.2,
          "type": "rect",
          "x0": 0,
          "x1": 1,
          "xref": "x2 domain",
          "y0": 46250,
          "y1": 92499,
          "yref": "y2"
         },
         {
          "line": {
           "color": "red",
           "dash": "dash"
          },
          "type": "line",
          "x0": 0,
          "x1": 1,
          "xref": "x2 domain",
          "y0": 92500,
          "y1": 92500,
          "yref": "y2"
         },
         {
          "fillcolor": "red",
          "line": {
           "width": 0
          },
          "opacity": 0.2,
          "type": "rect",
          "x0": 0,
          "x1": 1,
          "xref": "x2 domain",
          "y0": 92500,
          "y1": 150000,
          "yref": "y2"
         }
        ],
        "showlegend": false,
        "template": {
         "data": {
          "bar": [
           {
            "error_x": {
             "color": "#2a3f5f"
            },
            "error_y": {
             "color": "#2a3f5f"
            },
            "marker": {
             "line": {
              "color": "#E5ECF6",
              "width": 0.5
             },
             "pattern": {
              "fillmode": "overlay",
              "size": 10,
              "solidity": 0.2
             }
            },
            "type": "bar"
           }
          ],
          "barpolar": [
           {
            "marker": {
             "line": {
              "color": "#E5ECF6",
              "width": 0.5
             },
             "pattern": {
              "fillmode": "overlay",
              "size": 10,
              "solidity": 0.2
             }
            },
            "type": "barpolar"
           }
          ],
          "carpet": [
           {
            "aaxis": {
             "endlinecolor": "#2a3f5f",
             "gridcolor": "white",
             "linecolor": "white",
             "minorgridcolor": "white",
             "startlinecolor": "#2a3f5f"
            },
            "baxis": {
             "endlinecolor": "#2a3f5f",
             "gridcolor": "white",
             "linecolor": "white",
             "minorgridcolor": "white",
             "startlinecolor": "#2a3f5f"
            },
            "type": "carpet"
           }
          ],
          "choropleth": [
           {
            "colorbar": {
             "outlinewidth": 0,
             "ticks": ""
            },
            "type": "choropleth"
           }
          ],
          "contour": [
           {
            "colorbar": {
             "outlinewidth": 0,
             "ticks": ""
            },
            "colorscale": [
             [
              0,
              "#0d0887"
             ],
             [
              0.1111111111111111,
              "#46039f"
             ],
             [
              0.2222222222222222,
              "#7201a8"
             ],
             [
              0.3333333333333333,
              "#9c179e"
             ],
             [
              0.4444444444444444,
              "#bd3786"
             ],
             [
              0.5555555555555556,
              "#d8576b"
             ],
             [
              0.6666666666666666,
              "#ed7953"
             ],
             [
              0.7777777777777778,
              "#fb9f3a"
             ],
             [
              0.8888888888888888,
              "#fdca26"
             ],
             [
              1,
              "#f0f921"
             ]
            ],
            "type": "contour"
           }
          ],
          "contourcarpet": [
           {
            "colorbar": {
             "outlinewidth": 0,
             "ticks": ""
            },
            "type": "contourcarpet"
           }
          ],
          "heatmap": [
           {
            "colorbar": {
             "outlinewidth": 0,
             "ticks": ""
            },
            "colorscale": [
             [
              0,
              "#0d0887"
             ],
             [
              0.1111111111111111,
              "#46039f"
             ],
             [
              0.2222222222222222,
              "#7201a8"
             ],
             [
              0.3333333333333333,
              "#9c179e"
             ],
             [
              0.4444444444444444,
              "#bd3786"
             ],
             [
              0.5555555555555556,
              "#d8576b"
             ],
             [
              0.6666666666666666,
              "#ed7953"
             ],
             [
              0.7777777777777778,
              "#fb9f3a"
             ],
             [
              0.8888888888888888,
              "#fdca26"
             ],
             [
              1,
              "#f0f921"
             ]
            ],
            "type": "heatmap"
           }
          ],
          "heatmapgl": [
           {
            "colorbar": {
             "outlinewidth": 0,
             "ticks": ""
            },
            "colorscale": [
             [
              0,
              "#0d0887"
             ],
             [
              0.1111111111111111,
              "#46039f"
             ],
             [
              0.2222222222222222,
              "#7201a8"
             ],
             [
              0.3333333333333333,
              "#9c179e"
             ],
             [
              0.4444444444444444,
              "#bd3786"
             ],
             [
              0.5555555555555556,
              "#d8576b"
             ],
             [
              0.6666666666666666,
              "#ed7953"
             ],
             [
              0.7777777777777778,
              "#fb9f3a"
             ],
             [
              0.8888888888888888,
              "#fdca26"
             ],
             [
              1,
              "#f0f921"
             ]
            ],
            "type": "heatmapgl"
           }
          ],
          "histogram": [
           {
            "marker": {
             "pattern": {
              "fillmode": "overlay",
              "size": 10,
              "solidity": 0.2
             }
            },
            "type": "histogram"
           }
          ],
          "histogram2d": [
           {
            "colorbar": {
             "outlinewidth": 0,
             "ticks": ""
            },
            "colorscale": [
             [
              0,
              "#0d0887"
             ],
             [
              0.1111111111111111,
              "#46039f"
             ],
             [
              0.2222222222222222,
              "#7201a8"
             ],
             [
              0.3333333333333333,
              "#9c179e"
             ],
             [
              0.4444444444444444,
              "#bd3786"
             ],
             [
              0.5555555555555556,
              "#d8576b"
             ],
             [
              0.6666666666666666,
              "#ed7953"
             ],
             [
              0.7777777777777778,
              "#fb9f3a"
             ],
             [
              0.8888888888888888,
              "#fdca26"
             ],
             [
              1,
              "#f0f921"
             ]
            ],
            "type": "histogram2d"
           }
          ],
          "histogram2dcontour": [
           {
            "colorbar": {
             "outlinewidth": 0,
             "ticks": ""
            },
            "colorscale": [
             [
              0,
              "#0d0887"
             ],
             [
              0.1111111111111111,
              "#46039f"
             ],
             [
              0.2222222222222222,
              "#7201a8"
             ],
             [
              0.3333333333333333,
              "#9c179e"
             ],
             [
              0.4444444444444444,
              "#bd3786"
             ],
             [
              0.5555555555555556,
              "#d8576b"
             ],
             [
              0.6666666666666666,
              "#ed7953"
             ],
             [
              0.7777777777777778,
              "#fb9f3a"
             ],
             [
              0.8888888888888888,
              "#fdca26"
             ],
             [
              1,
              "#f0f921"
             ]
            ],
            "type": "histogram2dcontour"
           }
          ],
          "mesh3d": [
           {
            "colorbar": {
             "outlinewidth": 0,
             "ticks": ""
            },
            "type": "mesh3d"
           }
          ],
          "parcoords": [
           {
            "line": {
             "colorbar": {
              "outlinewidth": 0,
              "ticks": ""
             }
            },
            "type": "parcoords"
           }
          ],
          "pie": [
           {
            "automargin": true,
            "type": "pie"
           }
          ],
          "scatter": [
           {
            "fillpattern": {
             "fillmode": "overlay",
             "size": 10,
             "solidity": 0.2
            },
            "type": "scatter"
           }
          ],
          "scatter3d": [
           {
            "line": {
             "colorbar": {
              "outlinewidth": 0,
              "ticks": ""
             }
            },
            "marker": {
             "colorbar": {
              "outlinewidth": 0,
              "ticks": ""
             }
            },
            "type": "scatter3d"
           }
          ],
          "scattercarpet": [
           {
            "marker": {
             "colorbar": {
              "outlinewidth": 0,
              "ticks": ""
             }
            },
            "type": "scattercarpet"
           }
          ],
          "scattergeo": [
           {
            "marker": {
             "colorbar": {
              "outlinewidth": 0,
              "ticks": ""
             }
            },
            "type": "scattergeo"
           }
          ],
          "scattergl": [
           {
            "marker": {
             "colorbar": {
              "outlinewidth": 0,
              "ticks": ""
             }
            },
            "type": "scattergl"
           }
          ],
          "scattermapbox": [
           {
            "marker": {
             "colorbar": {
              "outlinewidth": 0,
              "ticks": ""
             }
            },
            "type": "scattermapbox"
           }
          ],
          "scatterpolar": [
           {
            "marker": {
             "colorbar": {
              "outlinewidth": 0,
              "ticks": ""
             }
            },
            "type": "scatterpolar"
           }
          ],
          "scatterpolargl": [
           {
            "marker": {
             "colorbar": {
              "outlinewidth": 0,
              "ticks": ""
             }
            },
            "type": "scatterpolargl"
           }
          ],
          "scatterternary": [
           {
            "marker": {
             "colorbar": {
              "outlinewidth": 0,
              "ticks": ""
             }
            },
            "type": "scatterternary"
           }
          ],
          "surface": [
           {
            "colorbar": {
             "outlinewidth": 0,
             "ticks": ""
            },
            "colorscale": [
             [
              0,
              "#0d0887"
             ],
             [
              0.1111111111111111,
              "#46039f"
             ],
             [
              0.2222222222222222,
              "#7201a8"
             ],
             [
              0.3333333333333333,
              "#9c179e"
             ],
             [
              0.4444444444444444,
              "#bd3786"
             ],
             [
              0.5555555555555556,
              "#d8576b"
             ],
             [
              0.6666666666666666,
              "#ed7953"
             ],
             [
              0.7777777777777778,
              "#fb9f3a"
             ],
             [
              0.8888888888888888,
              "#fdca26"
             ],
             [
              1,
              "#f0f921"
             ]
            ],
            "type": "surface"
           }
          ],
          "table": [
           {
            "cells": {
             "fill": {
              "color": "#EBF0F8"
             },
             "line": {
              "color": "white"
             }
            },
            "header": {
             "fill": {
              "color": "#C8D4E3"
             },
             "line": {
              "color": "white"
             }
            },
            "type": "table"
           }
          ]
         },
         "layout": {
          "annotationdefaults": {
           "arrowcolor": "#2a3f5f",
           "arrowhead": 0,
           "arrowwidth": 1
          },
          "autotypenumbers": "strict",
          "coloraxis": {
           "colorbar": {
            "outlinewidth": 0,
            "ticks": ""
           }
          },
          "colorscale": {
           "diverging": [
            [
             0,
             "#8e0152"
            ],
            [
             0.1,
             "#c51b7d"
            ],
            [
             0.2,
             "#de77ae"
            ],
            [
             0.3,
             "#f1b6da"
            ],
            [
             0.4,
             "#fde0ef"
            ],
            [
             0.5,
             "#f7f7f7"
            ],
            [
             0.6,
             "#e6f5d0"
            ],
            [
             0.7,
             "#b8e186"
            ],
            [
             0.8,
             "#7fbc41"
            ],
            [
             0.9,
             "#4d9221"
            ],
            [
             1,
             "#276419"
            ]
           ],
           "sequential": [
            [
             0,
             "#0d0887"
            ],
            [
             0.1111111111111111,
             "#46039f"
            ],
            [
             0.2222222222222222,
             "#7201a8"
            ],
            [
             0.3333333333333333,
             "#9c179e"
            ],
            [
             0.4444444444444444,
             "#bd3786"
            ],
            [
             0.5555555555555556,
             "#d8576b"
            ],
            [
             0.6666666666666666,
             "#ed7953"
            ],
            [
             0.7777777777777778,
             "#fb9f3a"
            ],
            [
             0.8888888888888888,
             "#fdca26"
            ],
            [
             1,
             "#f0f921"
            ]
           ],
           "sequentialminus": [
            [
             0,
             "#0d0887"
            ],
            [
             0.1111111111111111,
             "#46039f"
            ],
            [
             0.2222222222222222,
             "#7201a8"
            ],
            [
             0.3333333333333333,
             "#9c179e"
            ],
            [
             0.4444444444444444,
             "#bd3786"
            ],
            [
             0.5555555555555556,
             "#d8576b"
            ],
            [
             0.6666666666666666,
             "#ed7953"
            ],
            [
             0.7777777777777778,
             "#fb9f3a"
            ],
            [
             0.8888888888888888,
             "#fdca26"
            ],
            [
             1,
             "#f0f921"
            ]
           ]
          },
          "colorway": [
           "#636efa",
           "#EF553B",
           "#00cc96",
           "#ab63fa",
           "#FFA15A",
           "#19d3f3",
           "#FF6692",
           "#B6E880",
           "#FF97FF",
           "#FECB52"
          ],
          "font": {
           "color": "#2a3f5f"
          },
          "geo": {
           "bgcolor": "white",
           "lakecolor": "white",
           "landcolor": "#E5ECF6",
           "showlakes": true,
           "showland": true,
           "subunitcolor": "white"
          },
          "hoverlabel": {
           "align": "left"
          },
          "hovermode": "closest",
          "mapbox": {
           "style": "light"
          },
          "paper_bgcolor": "white",
          "plot_bgcolor": "#E5ECF6",
          "polar": {
           "angularaxis": {
            "gridcolor": "white",
            "linecolor": "white",
            "ticks": ""
           },
           "bgcolor": "#E5ECF6",
           "radialaxis": {
            "gridcolor": "white",
            "linecolor": "white",
            "ticks": ""
           }
          },
          "scene": {
           "xaxis": {
            "backgroundcolor": "#E5ECF6",
            "gridcolor": "white",
            "gridwidth": 2,
            "linecolor": "white",
            "showbackground": true,
            "ticks": "",
            "zerolinecolor": "white"
           },
           "yaxis": {
            "backgroundcolor": "#E5ECF6",
            "gridcolor": "white",
            "gridwidth": 2,
            "linecolor": "white",
            "showbackground": true,
            "ticks": "",
            "zerolinecolor": "white"
           },
           "zaxis": {
            "backgroundcolor": "#E5ECF6",
            "gridcolor": "white",
            "gridwidth": 2,
            "linecolor": "white",
            "showbackground": true,
            "ticks": "",
            "zerolinecolor": "white"
           }
          },
          "shapedefaults": {
           "line": {
            "color": "#2a3f5f"
           }
          },
          "ternary": {
           "aaxis": {
            "gridcolor": "white",
            "linecolor": "white",
            "ticks": ""
           },
           "baxis": {
            "gridcolor": "white",
            "linecolor": "white",
            "ticks": ""
           },
           "bgcolor": "#E5ECF6",
           "caxis": {
            "gridcolor": "white",
            "linecolor": "white",
            "ticks": ""
           }
          },
          "title": {
           "x": 0.05
          },
          "xaxis": {
           "automargin": true,
           "gridcolor": "white",
           "linecolor": "white",
           "ticks": "",
           "title": {
            "standoff": 15
           },
           "zerolinecolor": "white",
           "zerolinewidth": 2
          },
          "yaxis": {
           "automargin": true,
           "gridcolor": "white",
           "linecolor": "white",
           "ticks": "",
           "title": {
            "standoff": 15
           },
           "zerolinecolor": "white",
           "zerolinewidth": 2
          }
         }
        },
        "title": {
         "text": "Figura 5. Costos por unidad de BARICITINIB y RUXOLITINIB"
        },
        "xaxis": {
         "anchor": "y",
         "domain": [
          0,
          0.45
         ],
         "title": {
          "text": ""
         }
        },
        "xaxis2": {
         "anchor": "y2",
         "domain": [
          0.55,
          1
         ]
        },
        "yaxis": {
         "anchor": "x",
         "domain": [
          0,
          1
         ]
        },
        "yaxis2": {
         "anchor": "x2",
         "domain": [
          0,
          1
         ]
        }
       }
      }
     },
     "metadata": {},
     "output_type": "display_data"
    }
   ],
   "source": [
    "def createFigure(df, supply):\n",
    "    supDF = df[\n",
    "        [\"Patient ID\", \"Cost per Unit\", \"Medical Supply\", \"Ingress Month\", \"Hospital Group\"]\n",
    "    ].drop_duplicates()\n",
    "    supDF = supDF[supDF[\"Medical Supply\"] == supply]\n",
    "    mincost1 = np.round(supDF['Cost per Unit'].min())\n",
    "    maxcost1 = np.round(supDF['Cost per Unit'].max())\n",
    "    supDF['labels'] = ''\n",
    "    supDF.iloc[0, -1] = mincost1\n",
    "    supDF.loc[df['Cost per Unit'] == supDF['Cost per Unit'].max(), 'labels'] = maxcost1\n",
    "    \n",
    "    figs = []\n",
    "    symbols = {'Low': 'circle', 'Medium': 'square', 'High': 'triangle-up'}\n",
    "    for i in supDF['Hospital Group'].unique():\n",
    "        iDF = supDF[supDF['Hospital Group'] == i]\n",
    "        figs.append(go.Scatter(x=iDF['Ingress Month'], y=iDF['Cost per Unit'], \n",
    "                               mode='markers', name=i, \n",
    "                               marker=dict(size=13, symbol= symbols[i], \n",
    "                                           color=CATEGORY_PALETTE[0],\n",
    "                                           opacity=0.6)))\n",
    "    return figs\n",
    "\n",
    "fig = make_subplots(rows=1, cols=2)\n",
    "\n",
    "fig.add_traces(data = createFigure(df, 'RUXOLITINIB'), rows=1, cols=2)\n",
    "fig.add_traces(data = createFigure(df, 'BARICITINIB'), rows=1, cols=1)\n",
    "fig.update_traces(textposition='top center', row=1, col=1)\n",
    "fig.update_traces(textposition='top center', row=1, col=2)\n",
    "fig.add_hrect(y0=22027.5, y1=42000, fillcolor='red', line_width=0, opacity=0.2, row=1, col=1)\n",
    "fig.add_hline(y=22027.5, line_dash=\"dash\", line_color=\"red\", row=1, col=1)\n",
    "fig.add_annotation(\n",
    "    x=\"2020-03-01\", y=24500, text=\"Costo máximo<br>permitido\", textangle=0, showarrow=False,\n",
    "    font=dict(size=16),\n",
    ")\n",
    "\n",
    "\n",
    "fig.add_hline(y=46250, line_dash='dash', line_color='blue', row=1, col=2)\n",
    "fig.add_annotation(\n",
    "    x=\"2020-03-01\", y=51800, text=\"Costo máximo<br>permitido 1\", textangle=0, showarrow=False,\n",
    "    font=dict(size=16), row=1, col=2\n",
    ")\n",
    "fig.add_hrect(y0=46250, y1=92499, fillcolor='blue', line_width=0, opacity=0.2, row=1, col=2)\n",
    "fig.add_hline(y=92500, line_dash='dash', line_color='red', row=1, col=2)\n",
    "fig.add_annotation(\n",
    "    x=\"2020-03-01\", y=99000, text=\"Costo máximo<br>permitido 2\", textangle=0, showarrow=False,\n",
    "    font=dict(size=16), row=1, col=2\n",
    ")\n",
    "fig.add_hrect(y0=92500, y1=150000, fillcolor='red', line_width=0, opacity=0.2, row=1, col=2)\n",
    "\n",
    "fig.update_layout(\n",
    "    showlegend=False,\n",
    "    title_text=\"Figura 5. Costos por unidad de BARICITINIB y RUXOLITINIB\",\n",
    "    xaxis_title=\"\", \n",
    ")\n",
    "fig.add_annotation(xref=\"paper\", yref=\"paper\", x=-0.01, y=-0.08, \n",
    "                   text=\"Fuente: Elaboración propia con datos de Insurers, DataMexico\", \n",
    "                   showarrow=False)\n",
    "fig.write_image(\"images/fig5.png\", width=1200, height=700)\n",
    "fig.show()\n"
   ]
  },
  {
   "cell_type": "code",
   "execution_count": 111,
   "metadata": {},
   "outputs": [
    {
     "data": {
      "application/vnd.plotly.v1+json": {
       "config": {
        "plotlyServerURL": "https://plot.ly"
       },
       "data": [
        {
         "marker": {
          "color": "#3C7A89",
          "opacity": 0.6,
          "size": 13,
          "symbol": "square"
         },
         "mode": "markers",
         "name": "Medium",
         "textposition": "top center",
         "type": "scatter",
         "x": [
          "2020-05-01T00:00:00",
          "2020-05-01T00:00:00",
          "2020-05-01T00:00:00",
          "2020-06-01T00:00:00",
          "2020-06-01T00:00:00",
          "2020-07-01T00:00:00",
          "2020-08-01T00:00:00",
          "2020-10-01T00:00:00",
          "2020-11-01T00:00:00",
          "2020-11-01T00:00:00",
          "2020-12-01T00:00:00",
          "2021-03-01T00:00:00"
         ],
         "xaxis": "x2",
         "y": [
          4416.66650390625,
          4500,
          4235.2939453125,
          4500,
          4250,
          3000,
          132000,
          112000,
          2016.6666748046875,
          1000,
          2000,
          64000
         ],
         "yaxis": "y2"
        },
        {
         "marker": {
          "color": "#3C7A89",
          "opacity": 0.6,
          "size": 13,
          "symbol": "circle"
         },
         "mode": "markers",
         "name": "Low",
         "textposition": "top center",
         "type": "scatter",
         "x": [
          "2020-06-01T00:00:00",
          "2020-06-01T00:00:00",
          "2020-06-01T00:00:00",
          "2020-06-01T00:00:00",
          "2020-06-01T00:00:00",
          "2020-07-01T00:00:00",
          "2020-07-01T00:00:00",
          "2020-09-01T00:00:00",
          "2020-10-01T00:00:00",
          "2021-02-01T00:00:00",
          "2021-03-01T00:00:00",
          "2021-03-01T00:00:00"
         ],
         "xaxis": "x2",
         "y": [
          1000,
          1250,
          51000,
          1250,
          1142.857177734375,
          1111.111083984375,
          1166.6666259765625,
          1200,
          1333.3333740234375,
          1200,
          1142.857177734375,
          1500
         ],
         "yaxis": "y2"
        },
        {
         "marker": {
          "color": "#3C7A89",
          "opacity": 0.6,
          "size": 13,
          "symbol": "triangle-up"
         },
         "mode": "markers",
         "name": "High",
         "textposition": "top center",
         "type": "scatter",
         "x": [
          "2020-06-01T00:00:00",
          "2020-06-01T00:00:00",
          "2020-10-01T00:00:00"
         ],
         "xaxis": "x2",
         "y": [
          1480,
          1478.2608642578125,
          72000
         ],
         "yaxis": "y2"
        },
        {
         "marker": {
          "color": "#3C7A89",
          "opacity": 0.6,
          "size": 13,
          "symbol": "square"
         },
         "mode": "markers",
         "name": "Medium",
         "textposition": "top center",
         "type": "scatter",
         "x": [
          "2020-04-01T00:00:00",
          "2020-04-01T00:00:00",
          "2020-04-01T00:00:00",
          "2020-05-01T00:00:00",
          "2020-05-01T00:00:00",
          "2020-06-01T00:00:00",
          "2020-06-01T00:00:00",
          "2020-06-01T00:00:00",
          "2020-06-01T00:00:00",
          "2020-06-01T00:00:00",
          "2020-06-01T00:00:00",
          "2020-06-01T00:00:00",
          "2020-06-01T00:00:00",
          "2020-06-01T00:00:00",
          "2020-06-01T00:00:00",
          "2020-06-01T00:00:00",
          "2020-06-01T00:00:00",
          "2020-07-01T00:00:00",
          "2020-07-01T00:00:00",
          "2020-07-01T00:00:00",
          "2020-07-01T00:00:00",
          "2020-07-01T00:00:00",
          "2020-07-01T00:00:00",
          "2020-07-01T00:00:00",
          "2020-07-01T00:00:00",
          "2020-07-01T00:00:00",
          "2020-07-01T00:00:00",
          "2020-07-01T00:00:00",
          "2020-07-01T00:00:00",
          "2020-07-01T00:00:00",
          "2020-07-01T00:00:00",
          "2020-08-01T00:00:00",
          "2020-08-01T00:00:00",
          "2020-08-01T00:00:00",
          "2020-08-01T00:00:00",
          "2020-08-01T00:00:00",
          "2020-08-01T00:00:00",
          "2020-08-01T00:00:00",
          "2020-08-01T00:00:00",
          "2020-08-01T00:00:00",
          "2020-08-01T00:00:00",
          "2020-08-01T00:00:00",
          "2020-08-01T00:00:00",
          "2020-08-01T00:00:00",
          "2020-09-01T00:00:00",
          "2020-09-01T00:00:00",
          "2020-09-01T00:00:00",
          "2020-09-01T00:00:00",
          "2020-09-01T00:00:00",
          "2020-09-01T00:00:00",
          "2020-09-01T00:00:00",
          "2020-10-01T00:00:00",
          "2020-10-01T00:00:00",
          "2020-10-01T00:00:00",
          "2020-10-01T00:00:00",
          "2020-10-01T00:00:00",
          "2020-10-01T00:00:00",
          "2020-10-01T00:00:00",
          "2020-10-01T00:00:00",
          "2020-11-01T00:00:00",
          "2020-11-01T00:00:00",
          "2020-11-01T00:00:00",
          "2020-11-01T00:00:00",
          "2020-11-01T00:00:00",
          "2020-11-01T00:00:00",
          "2020-11-01T00:00:00",
          "2020-11-01T00:00:00",
          "2020-11-01T00:00:00",
          "2020-11-01T00:00:00",
          "2020-11-01T00:00:00",
          "2020-11-01T00:00:00",
          "2020-12-01T00:00:00",
          "2020-12-01T00:00:00",
          "2020-12-01T00:00:00",
          "2020-12-01T00:00:00",
          "2020-12-01T00:00:00",
          "2020-12-01T00:00:00",
          "2020-12-01T00:00:00",
          "2020-12-01T00:00:00",
          "2020-12-01T00:00:00",
          "2020-12-01T00:00:00",
          "2020-12-01T00:00:00",
          "2020-12-01T00:00:00",
          "2020-12-01T00:00:00",
          "2020-12-01T00:00:00",
          "2020-12-01T00:00:00",
          "2020-12-01T00:00:00",
          "2020-12-01T00:00:00",
          "2020-12-01T00:00:00",
          "2020-12-01T00:00:00",
          "2020-12-01T00:00:00",
          "2020-12-01T00:00:00",
          "2021-01-01T00:00:00",
          "2021-01-01T00:00:00",
          "2021-01-01T00:00:00",
          "2021-01-01T00:00:00",
          "2021-02-01T00:00:00",
          "2021-02-01T00:00:00",
          "2021-02-01T00:00:00",
          "2021-02-01T00:00:00",
          "2021-03-01T00:00:00",
          "2021-03-01T00:00:00",
          "2021-03-01T00:00:00",
          "2021-04-01T00:00:00",
          "2021-04-01T00:00:00",
          "2021-04-01T00:00:00",
          "2021-06-01T00:00:00",
          "2021-06-01T00:00:00",
          "2021-07-01T00:00:00",
          "2021-07-01T00:00:00",
          "2021-07-01T00:00:00"
         ],
         "xaxis": "x",
         "y": [
          1000,
          1062.5,
          1000,
          24000,
          1125,
          1000,
          1000,
          1000,
          1000,
          1000,
          1000,
          24000,
          24000,
          24000,
          1000,
          1000,
          25500,
          1000,
          1000,
          1000,
          1000,
          1025.6409912109375,
          1000,
          1000,
          1000,
          1000,
          1000,
          1000,
          1000,
          1000,
          27500,
          1000,
          1000,
          1000,
          1000,
          1000,
          1000,
          1000,
          1000,
          1000,
          1000,
          28000,
          23000,
          20000,
          1000,
          1000,
          1000,
          1000,
          1000,
          1000,
          28000,
          1000,
          1000,
          1000,
          1000,
          1000,
          22000,
          1250,
          800,
          1000,
          1000,
          1000,
          1000,
          1000,
          1000,
          1000,
          1000,
          1000,
          33000,
          27000,
          14000,
          1000,
          1000,
          1000,
          1000,
          1000,
          1000,
          1000,
          1000,
          1000,
          1000,
          850,
          850,
          1071.4285888671875,
          1142.857177734375,
          22000,
          22000,
          37000,
          1285.7142333984375,
          1400,
          1000,
          26000,
          1000,
          1000,
          1000,
          1000,
          1000,
          1000,
          1000,
          1000,
          1000,
          24000,
          24000,
          1500,
          850,
          24000,
          1000,
          1000,
          1000,
          1000,
          1000
         ],
         "yaxis": "y"
        },
        {
         "marker": {
          "color": "#3C7A89",
          "opacity": 0.6,
          "size": 13,
          "symbol": "circle"
         },
         "mode": "markers",
         "name": "Low",
         "textposition": "top center",
         "type": "scatter",
         "x": [
          "2020-05-01T00:00:00",
          "2020-05-01T00:00:00",
          "2020-06-01T00:00:00",
          "2020-06-01T00:00:00",
          "2020-06-01T00:00:00",
          "2020-07-01T00:00:00",
          "2020-07-01T00:00:00",
          "2020-07-01T00:00:00",
          "2020-07-01T00:00:00",
          "2020-07-01T00:00:00",
          "2020-09-01T00:00:00",
          "2020-10-01T00:00:00",
          "2020-10-01T00:00:00",
          "2020-11-01T00:00:00",
          "2020-11-01T00:00:00",
          "2020-12-01T00:00:00",
          "2020-12-01T00:00:00",
          "2021-01-01T00:00:00",
          "2021-01-01T00:00:00",
          "2021-05-01T00:00:00",
          "2021-05-01T00:00:00"
         ],
         "xaxis": "x",
         "y": [
          20000,
          20000,
          1000,
          26666.666015625,
          20000,
          1000,
          1000,
          1000,
          1000,
          27000,
          1000,
          1000,
          2000,
          27000,
          20000,
          1000,
          20000,
          6500,
          7000,
          1000,
          6000
         ],
         "yaxis": "y"
        },
        {
         "marker": {
          "color": "#3C7A89",
          "opacity": 0.6,
          "size": 13,
          "symbol": "triangle-up"
         },
         "mode": "markers",
         "name": "High",
         "textposition": "top center",
         "type": "scatter",
         "x": [
          "2020-11-01T00:00:00",
          "2020-12-01T00:00:00",
          "2021-01-01T00:00:00",
          "2021-02-01T00:00:00",
          "2021-06-01T00:00:00",
          "2021-06-01T00:00:00"
         ],
         "xaxis": "x",
         "y": [
          714.2857055664062,
          26500,
          769.2307739257812,
          780,
          2000,
          2000
         ],
         "yaxis": "y"
        }
       ],
       "layout": {
        "annotations": [
         {
          "font": {
           "size": 16
          },
          "showarrow": false,
          "text": "BARICITINIB",
          "x": 0.5,
          "xanchor": "center",
          "xref": "paper",
          "y": 1,
          "yanchor": "bottom",
          "yref": "paper"
         },
         {
          "font": {
           "size": 16
          },
          "showarrow": false,
          "text": "RUXOLITINIB",
          "x": 0.5,
          "xanchor": "center",
          "xref": "paper",
          "y": 0.45,
          "yanchor": "bottom",
          "yref": "paper"
         },
         {
          "font": {
           "size": 16
          },
          "showarrow": false,
          "text": "Costo máximo<br>permitido",
          "textangle": 0,
          "x": "2020-03-01",
          "y": 24500
         },
         {
          "font": {
           "size": 16
          },
          "showarrow": false,
          "text": "Costo máximo<br>permitido 1",
          "textangle": 0,
          "x": "2020-03-01",
          "xref": "x2",
          "y": 51800,
          "yref": "y2"
         },
         {
          "font": {
           "size": 16
          },
          "showarrow": false,
          "text": "Costo máximo<br>permitido 2",
          "textangle": 0,
          "x": "2020-03-01",
          "xref": "x2",
          "y": 99000,
          "yref": "y2"
         },
         {
          "showarrow": false,
          "text": "Fuente: Elaboración propia con datos de Insurers, DataMexico",
          "x": -0.01,
          "xref": "paper",
          "y": -0.04,
          "yref": "paper"
         }
        ],
        "shapes": [
         {
          "fillcolor": "red",
          "line": {
           "width": 0
          },
          "opacity": 0.2,
          "type": "rect",
          "x0": 0,
          "x1": 1,
          "xref": "x domain",
          "y0": 22027.5,
          "y1": 42000,
          "yref": "y"
         },
         {
          "line": {
           "color": "red",
           "dash": "dash"
          },
          "type": "line",
          "x0": 0,
          "x1": 1,
          "xref": "x domain",
          "y0": 22027.5,
          "y1": 22027.5,
          "yref": "y"
         },
         {
          "line": {
           "color": "blue",
           "dash": "dash"
          },
          "type": "line",
          "x0": 0,
          "x1": 1,
          "xref": "x2 domain",
          "y0": 46250,
          "y1": 46250,
          "yref": "y2"
         },
         {
          "fillcolor": "blue",
          "line": {
           "width": 0
          },
          "opacity": 0.2,
          "type": "rect",
          "x0": 0,
          "x1": 1,
          "xref": "x2 domain",
          "y0": 46250,
          "y1": 92499,
          "yref": "y2"
         },
         {
          "line": {
           "color": "red",
           "dash": "dash"
          },
          "type": "line",
          "x0": 0,
          "x1": 1,
          "xref": "x2 domain",
          "y0": 92500,
          "y1": 92500,
          "yref": "y2"
         },
         {
          "fillcolor": "red",
          "line": {
           "width": 0
          },
          "opacity": 0.2,
          "type": "rect",
          "x0": 0,
          "x1": 1,
          "xref": "x2 domain",
          "y0": 92500,
          "y1": 150000,
          "yref": "y2"
         }
        ],
        "showlegend": false,
        "template": {
         "data": {
          "bar": [
           {
            "error_x": {
             "color": "#2a3f5f"
            },
            "error_y": {
             "color": "#2a3f5f"
            },
            "marker": {
             "line": {
              "color": "white",
              "width": 0.5
             },
             "pattern": {
              "fillmode": "overlay",
              "size": 10,
              "solidity": 0.2
             }
            },
            "type": "bar"
           }
          ],
          "barpolar": [
           {
            "marker": {
             "line": {
              "color": "white",
              "width": 0.5
             },
             "pattern": {
              "fillmode": "overlay",
              "size": 10,
              "solidity": 0.2
             }
            },
            "type": "barpolar"
           }
          ],
          "carpet": [
           {
            "aaxis": {
             "endlinecolor": "#2a3f5f",
             "gridcolor": "#C8D4E3",
             "linecolor": "#C8D4E3",
             "minorgridcolor": "#C8D4E3",
             "startlinecolor": "#2a3f5f"
            },
            "baxis": {
             "endlinecolor": "#2a3f5f",
             "gridcolor": "#C8D4E3",
             "linecolor": "#C8D4E3",
             "minorgridcolor": "#C8D4E3",
             "startlinecolor": "#2a3f5f"
            },
            "type": "carpet"
           }
          ],
          "choropleth": [
           {
            "colorbar": {
             "outlinewidth": 0,
             "ticks": ""
            },
            "type": "choropleth"
           }
          ],
          "contour": [
           {
            "colorbar": {
             "outlinewidth": 0,
             "ticks": ""
            },
            "colorscale": [
             [
              0,
              "#0d0887"
             ],
             [
              0.1111111111111111,
              "#46039f"
             ],
             [
              0.2222222222222222,
              "#7201a8"
             ],
             [
              0.3333333333333333,
              "#9c179e"
             ],
             [
              0.4444444444444444,
              "#bd3786"
             ],
             [
              0.5555555555555556,
              "#d8576b"
             ],
             [
              0.6666666666666666,
              "#ed7953"
             ],
             [
              0.7777777777777778,
              "#fb9f3a"
             ],
             [
              0.8888888888888888,
              "#fdca26"
             ],
             [
              1,
              "#f0f921"
             ]
            ],
            "type": "contour"
           }
          ],
          "contourcarpet": [
           {
            "colorbar": {
             "outlinewidth": 0,
             "ticks": ""
            },
            "type": "contourcarpet"
           }
          ],
          "heatmap": [
           {
            "colorbar": {
             "outlinewidth": 0,
             "ticks": ""
            },
            "colorscale": [
             [
              0,
              "#0d0887"
             ],
             [
              0.1111111111111111,
              "#46039f"
             ],
             [
              0.2222222222222222,
              "#7201a8"
             ],
             [
              0.3333333333333333,
              "#9c179e"
             ],
             [
              0.4444444444444444,
              "#bd3786"
             ],
             [
              0.5555555555555556,
              "#d8576b"
             ],
             [
              0.6666666666666666,
              "#ed7953"
             ],
             [
              0.7777777777777778,
              "#fb9f3a"
             ],
             [
              0.8888888888888888,
              "#fdca26"
             ],
             [
              1,
              "#f0f921"
             ]
            ],
            "type": "heatmap"
           }
          ],
          "heatmapgl": [
           {
            "colorbar": {
             "outlinewidth": 0,
             "ticks": ""
            },
            "colorscale": [
             [
              0,
              "#0d0887"
             ],
             [
              0.1111111111111111,
              "#46039f"
             ],
             [
              0.2222222222222222,
              "#7201a8"
             ],
             [
              0.3333333333333333,
              "#9c179e"
             ],
             [
              0.4444444444444444,
              "#bd3786"
             ],
             [
              0.5555555555555556,
              "#d8576b"
             ],
             [
              0.6666666666666666,
              "#ed7953"
             ],
             [
              0.7777777777777778,
              "#fb9f3a"
             ],
             [
              0.8888888888888888,
              "#fdca26"
             ],
             [
              1,
              "#f0f921"
             ]
            ],
            "type": "heatmapgl"
           }
          ],
          "histogram": [
           {
            "marker": {
             "pattern": {
              "fillmode": "overlay",
              "size": 10,
              "solidity": 0.2
             }
            },
            "type": "histogram"
           }
          ],
          "histogram2d": [
           {
            "colorbar": {
             "outlinewidth": 0,
             "ticks": ""
            },
            "colorscale": [
             [
              0,
              "#0d0887"
             ],
             [
              0.1111111111111111,
              "#46039f"
             ],
             [
              0.2222222222222222,
              "#7201a8"
             ],
             [
              0.3333333333333333,
              "#9c179e"
             ],
             [
              0.4444444444444444,
              "#bd3786"
             ],
             [
              0.5555555555555556,
              "#d8576b"
             ],
             [
              0.6666666666666666,
              "#ed7953"
             ],
             [
              0.7777777777777778,
              "#fb9f3a"
             ],
             [
              0.8888888888888888,
              "#fdca26"
             ],
             [
              1,
              "#f0f921"
             ]
            ],
            "type": "histogram2d"
           }
          ],
          "histogram2dcontour": [
           {
            "colorbar": {
             "outlinewidth": 0,
             "ticks": ""
            },
            "colorscale": [
             [
              0,
              "#0d0887"
             ],
             [
              0.1111111111111111,
              "#46039f"
             ],
             [
              0.2222222222222222,
              "#7201a8"
             ],
             [
              0.3333333333333333,
              "#9c179e"
             ],
             [
              0.4444444444444444,
              "#bd3786"
             ],
             [
              0.5555555555555556,
              "#d8576b"
             ],
             [
              0.6666666666666666,
              "#ed7953"
             ],
             [
              0.7777777777777778,
              "#fb9f3a"
             ],
             [
              0.8888888888888888,
              "#fdca26"
             ],
             [
              1,
              "#f0f921"
             ]
            ],
            "type": "histogram2dcontour"
           }
          ],
          "mesh3d": [
           {
            "colorbar": {
             "outlinewidth": 0,
             "ticks": ""
            },
            "type": "mesh3d"
           }
          ],
          "parcoords": [
           {
            "line": {
             "colorbar": {
              "outlinewidth": 0,
              "ticks": ""
             }
            },
            "type": "parcoords"
           }
          ],
          "pie": [
           {
            "automargin": true,
            "type": "pie"
           }
          ],
          "scatter": [
           {
            "fillpattern": {
             "fillmode": "overlay",
             "size": 10,
             "solidity": 0.2
            },
            "type": "scatter"
           }
          ],
          "scatter3d": [
           {
            "line": {
             "colorbar": {
              "outlinewidth": 0,
              "ticks": ""
             }
            },
            "marker": {
             "colorbar": {
              "outlinewidth": 0,
              "ticks": ""
             }
            },
            "type": "scatter3d"
           }
          ],
          "scattercarpet": [
           {
            "marker": {
             "colorbar": {
              "outlinewidth": 0,
              "ticks": ""
             }
            },
            "type": "scattercarpet"
           }
          ],
          "scattergeo": [
           {
            "marker": {
             "colorbar": {
              "outlinewidth": 0,
              "ticks": ""
             }
            },
            "type": "scattergeo"
           }
          ],
          "scattergl": [
           {
            "marker": {
             "colorbar": {
              "outlinewidth": 0,
              "ticks": ""
             }
            },
            "type": "scattergl"
           }
          ],
          "scattermapbox": [
           {
            "marker": {
             "colorbar": {
              "outlinewidth": 0,
              "ticks": ""
             }
            },
            "type": "scattermapbox"
           }
          ],
          "scatterpolar": [
           {
            "marker": {
             "colorbar": {
              "outlinewidth": 0,
              "ticks": ""
             }
            },
            "type": "scatterpolar"
           }
          ],
          "scatterpolargl": [
           {
            "marker": {
             "colorbar": {
              "outlinewidth": 0,
              "ticks": ""
             }
            },
            "type": "scatterpolargl"
           }
          ],
          "scatterternary": [
           {
            "marker": {
             "colorbar": {
              "outlinewidth": 0,
              "ticks": ""
             }
            },
            "type": "scatterternary"
           }
          ],
          "surface": [
           {
            "colorbar": {
             "outlinewidth": 0,
             "ticks": ""
            },
            "colorscale": [
             [
              0,
              "#0d0887"
             ],
             [
              0.1111111111111111,
              "#46039f"
             ],
             [
              0.2222222222222222,
              "#7201a8"
             ],
             [
              0.3333333333333333,
              "#9c179e"
             ],
             [
              0.4444444444444444,
              "#bd3786"
             ],
             [
              0.5555555555555556,
              "#d8576b"
             ],
             [
              0.6666666666666666,
              "#ed7953"
             ],
             [
              0.7777777777777778,
              "#fb9f3a"
             ],
             [
              0.8888888888888888,
              "#fdca26"
             ],
             [
              1,
              "#f0f921"
             ]
            ],
            "type": "surface"
           }
          ],
          "table": [
           {
            "cells": {
             "fill": {
              "color": "#EBF0F8"
             },
             "line": {
              "color": "white"
             }
            },
            "header": {
             "fill": {
              "color": "#C8D4E3"
             },
             "line": {
              "color": "white"
             }
            },
            "type": "table"
           }
          ]
         },
         "layout": {
          "annotationdefaults": {
           "arrowcolor": "#2a3f5f",
           "arrowhead": 0,
           "arrowwidth": 1
          },
          "autotypenumbers": "strict",
          "coloraxis": {
           "colorbar": {
            "outlinewidth": 0,
            "ticks": ""
           }
          },
          "colorscale": {
           "diverging": [
            [
             0,
             "#8e0152"
            ],
            [
             0.1,
             "#c51b7d"
            ],
            [
             0.2,
             "#de77ae"
            ],
            [
             0.3,
             "#f1b6da"
            ],
            [
             0.4,
             "#fde0ef"
            ],
            [
             0.5,
             "#f7f7f7"
            ],
            [
             0.6,
             "#e6f5d0"
            ],
            [
             0.7,
             "#b8e186"
            ],
            [
             0.8,
             "#7fbc41"
            ],
            [
             0.9,
             "#4d9221"
            ],
            [
             1,
             "#276419"
            ]
           ],
           "sequential": [
            [
             0,
             "#0d0887"
            ],
            [
             0.1111111111111111,
             "#46039f"
            ],
            [
             0.2222222222222222,
             "#7201a8"
            ],
            [
             0.3333333333333333,
             "#9c179e"
            ],
            [
             0.4444444444444444,
             "#bd3786"
            ],
            [
             0.5555555555555556,
             "#d8576b"
            ],
            [
             0.6666666666666666,
             "#ed7953"
            ],
            [
             0.7777777777777778,
             "#fb9f3a"
            ],
            [
             0.8888888888888888,
             "#fdca26"
            ],
            [
             1,
             "#f0f921"
            ]
           ],
           "sequentialminus": [
            [
             0,
             "#0d0887"
            ],
            [
             0.1111111111111111,
             "#46039f"
            ],
            [
             0.2222222222222222,
             "#7201a8"
            ],
            [
             0.3333333333333333,
             "#9c179e"
            ],
            [
             0.4444444444444444,
             "#bd3786"
            ],
            [
             0.5555555555555556,
             "#d8576b"
            ],
            [
             0.6666666666666666,
             "#ed7953"
            ],
            [
             0.7777777777777778,
             "#fb9f3a"
            ],
            [
             0.8888888888888888,
             "#fdca26"
            ],
            [
             1,
             "#f0f921"
            ]
           ]
          },
          "colorway": [
           "#636efa",
           "#EF553B",
           "#00cc96",
           "#ab63fa",
           "#FFA15A",
           "#19d3f3",
           "#FF6692",
           "#B6E880",
           "#FF97FF",
           "#FECB52"
          ],
          "font": {
           "color": "#2a3f5f"
          },
          "geo": {
           "bgcolor": "white",
           "lakecolor": "white",
           "landcolor": "white",
           "showlakes": true,
           "showland": true,
           "subunitcolor": "#C8D4E3"
          },
          "hoverlabel": {
           "align": "left"
          },
          "hovermode": "closest",
          "mapbox": {
           "style": "light"
          },
          "paper_bgcolor": "white",
          "plot_bgcolor": "white",
          "polar": {
           "angularaxis": {
            "gridcolor": "#EBF0F8",
            "linecolor": "#EBF0F8",
            "ticks": ""
           },
           "bgcolor": "white",
           "radialaxis": {
            "gridcolor": "#EBF0F8",
            "linecolor": "#EBF0F8",
            "ticks": ""
           }
          },
          "scene": {
           "xaxis": {
            "backgroundcolor": "white",
            "gridcolor": "#DFE8F3",
            "gridwidth": 2,
            "linecolor": "#EBF0F8",
            "showbackground": true,
            "ticks": "",
            "zerolinecolor": "#EBF0F8"
           },
           "yaxis": {
            "backgroundcolor": "white",
            "gridcolor": "#DFE8F3",
            "gridwidth": 2,
            "linecolor": "#EBF0F8",
            "showbackground": true,
            "ticks": "",
            "zerolinecolor": "#EBF0F8"
           },
           "zaxis": {
            "backgroundcolor": "white",
            "gridcolor": "#DFE8F3",
            "gridwidth": 2,
            "linecolor": "#EBF0F8",
            "showbackground": true,
            "ticks": "",
            "zerolinecolor": "#EBF0F8"
           }
          },
          "shapedefaults": {
           "line": {
            "color": "#2a3f5f"
           }
          },
          "ternary": {
           "aaxis": {
            "gridcolor": "#DFE8F3",
            "linecolor": "#A2B1C6",
            "ticks": ""
           },
           "baxis": {
            "gridcolor": "#DFE8F3",
            "linecolor": "#A2B1C6",
            "ticks": ""
           },
           "bgcolor": "white",
           "caxis": {
            "gridcolor": "#DFE8F3",
            "linecolor": "#A2B1C6",
            "ticks": ""
           }
          },
          "title": {
           "x": 0.05
          },
          "xaxis": {
           "automargin": true,
           "gridcolor": "#EBF0F8",
           "linecolor": "#EBF0F8",
           "ticks": "",
           "title": {
            "standoff": 15
           },
           "zerolinecolor": "#EBF0F8",
           "zerolinewidth": 2
          },
          "yaxis": {
           "automargin": true,
           "gridcolor": "#EBF0F8",
           "linecolor": "#EBF0F8",
           "ticks": "",
           "title": {
            "standoff": 15
           },
           "zerolinecolor": "#EBF0F8",
           "zerolinewidth": 2
          }
         }
        },
        "title": {
         "text": "Figura 5. Costos por unidad de BARICITINIB y RUXOLITINIB"
        },
        "xaxis": {
         "anchor": "y",
         "domain": [
          0,
          1
         ],
         "title": {
          "text": ""
         }
        },
        "xaxis2": {
         "anchor": "y2",
         "domain": [
          0,
          1
         ]
        },
        "yaxis": {
         "anchor": "x",
         "domain": [
          0.55,
          1
         ],
         "title": {
          "text": "Costo por unidad"
         }
        },
        "yaxis2": {
         "anchor": "x2",
         "domain": [
          0,
          0.45
         ],
         "title": {
          "text": "Costo por unidad"
         }
        }
       }
      }
     },
     "metadata": {},
     "output_type": "display_data"
    }
   ],
   "source": [
    "def createFigure(df, supply):\n",
    "    supDF = df[\n",
    "        [\"Patient ID\", \"Cost per Unit\", \"Medical Supply\", \"Ingress Month\", \"Hospital Group\"]\n",
    "    ].drop_duplicates()\n",
    "    supDF = supDF[supDF[\"Medical Supply\"] == supply]\n",
    "    mincost1 = np.round(supDF['Cost per Unit'].min())\n",
    "    maxcost1 = np.round(supDF['Cost per Unit'].max())\n",
    "    supDF['labels'] = ''\n",
    "    supDF.iloc[0, -1] = mincost1\n",
    "    supDF.loc[df['Cost per Unit'] == supDF['Cost per Unit'].max(), 'labels'] = maxcost1\n",
    "    \n",
    "    figs = []\n",
    "    symbols = {'Low': 'circle', 'Medium': 'square', 'High': 'triangle-up'}\n",
    "    for i in supDF['Hospital Group'].unique():\n",
    "        iDF = supDF[supDF['Hospital Group'] == i]\n",
    "        figs.append(go.Scatter(x=iDF['Ingress Month'], y=iDF['Cost per Unit'], \n",
    "                               mode='markers', name=i, \n",
    "                               marker=dict(size=13, symbol= symbols[i], \n",
    "                                           color=CATEGORY_PALETTE[0],\n",
    "                                           opacity=0.6)))\n",
    "    return figs\n",
    "\n",
    "fig = make_subplots(rows=2, cols=1, subplot_titles=(\"BARICITINIB\", \"RUXOLITINIB\"), vertical_spacing=0.1)\n",
    "\n",
    "fig.add_traces(data = createFigure(df, 'RUXOLITINIB'), rows=2, cols=1)\n",
    "fig.add_traces(data = createFigure(df, 'BARICITINIB'), rows=1, cols=1)\n",
    "fig.update_traces(textposition='top center', row=1, col=1)\n",
    "fig.update_traces(textposition='top center', row=2, col=1)\n",
    "fig.add_hrect(y0=22027.5, y1=42000, fillcolor='red', line_width=0, opacity=0.2, row=1, col=1)\n",
    "fig.add_hline(y=22027.5, line_dash=\"dash\", line_color=\"red\", row=1, col=1)\n",
    "fig.add_annotation(\n",
    "    x=\"2020-03-01\", y=24500, text=\"Costo máximo<br>permitido\", textangle=0, showarrow=False,\n",
    "    font=dict(size=16),\n",
    ")\n",
    "\n",
    "\n",
    "fig.add_hline(y=46250, line_dash='dash', line_color='blue', row=2, col=1)\n",
    "fig.add_annotation(\n",
    "    x=\"2020-03-01\", y=51800, text=\"Costo máximo<br>permitido 1\", textangle=0, showarrow=False,\n",
    "    font=dict(size=16), row=2, col=1\n",
    ")\n",
    "fig.add_hrect(y0=46250, y1=92499, fillcolor='blue', line_width=0, opacity=0.2, row=2, col=1)\n",
    "fig.add_hline(y=92500, line_dash='dash', line_color='red', row=2, col=1)\n",
    "fig.add_annotation(\n",
    "    x=\"2020-03-01\", y=99000, text=\"Costo máximo<br>permitido 2\", textangle=0, showarrow=False,\n",
    "    font=dict(size=16), row=2, col=1\n",
    ")\n",
    "fig.add_hrect(y0=92500, y1=150000, fillcolor='red', line_width=0, opacity=0.2, row=2, col=1)\n",
    "\n",
    "fig.update_layout(\n",
    "    showlegend=False,\n",
    "    title_text=\"Figura 5. Costos por unidad de BARICITINIB y RUXOLITINIB\",\n",
    "    xaxis_title=\"\", \n",
    "    template=\"plotly_white\",\n",
    ")\n",
    "fig.update_yaxes(title_text=\"Costo por unidad\", row=1, col=1)\n",
    "fig.update_yaxes(title_text=\"Costo por unidad\", row=2, col=1)\n",
    "fig.add_annotation(xref=\"paper\", yref=\"paper\", x=-0.01, y=-0.04, \n",
    "                   text=\"Fuente: Elaboración propia con datos de Insurers, DataMexico\", \n",
    "                   showarrow=False)\n",
    "fig.write_image(\"images/fig5.png\", height=1200, width=800)\n",
    "fig.show()\n"
   ]
  },
  {
   "cell_type": "code",
   "execution_count": null,
   "metadata": {},
   "outputs": [
    {
     "data": {
      "application/vnd.plotly.v1+json": {
       "config": {
        "plotlyServerURL": "https://plot.ly"
       },
       "data": [
        {
         "name": "Costo promedio de BARICITINIB por mes",
         "type": "scatter",
         "x": [
          "2020-04-01T00:00:00",
          "2020-05-01T00:00:00",
          "2020-06-01T00:00:00",
          "2020-07-01T00:00:00",
          "2020-08-01T00:00:00",
          "2020-09-01T00:00:00",
          "2020-10-01T00:00:00",
          "2020-11-01T00:00:00",
          "2020-12-01T00:00:00",
          "2021-01-01T00:00:00",
          "2021-02-01T00:00:00",
          "2021-03-01T00:00:00",
          "2021-04-01T00:00:00",
          "2021-05-01T00:00:00",
          "2021-06-01T00:00:00",
          "2021-07-01T00:00:00"
         ],
         "xaxis": "x",
         "y": [
          1020.8333333333334,
          16281.25,
          10211.111067708332,
          3764.507420590049,
          6230.7692307692305,
          4375,
          3205,
          8714.285713704427,
          7170.833333333333,
          2609.890110560826,
          956,
          16333.333333333334,
          8783.333333333334,
          3500,
          1500,
          1000
         ],
         "yaxis": "y"
        },
        {
         "fill": "tozeroy",
         "fillcolor": "rgba(0, 0, 0, 0.2)",
         "line": {
          "color": "rgba(0, 0, 0, 0.2)"
         },
         "marker": {
          "color": "rgba(0, 0, 0, 0.2)"
         },
         "name": "COVID Curve",
         "type": "scatter",
         "x": [
          "2020-01",
          "2020-02",
          "2020-03",
          "2020-04",
          "2020-05",
          "2020-06",
          "2020-07",
          "2020-08",
          "2020-09",
          "2020-10",
          "2020-11",
          "2020-12",
          "2021-01",
          "2021-02",
          "2021-03",
          "2021-04",
          "2021-05",
          "2021-06",
          "2021-07",
          "2021-08",
          "2021-09",
          "2021-10",
          "2021-11",
          "2021-12",
          "2022-01",
          "2022-02",
          "2022-03",
          "2022-04",
          "2022-05",
          "2022-06",
          "2022-07"
         ],
         "xaxis": "x",
         "y": [
          11612,
          11549,
          34280,
          114145,
          222141,
          349339,
          452124,
          402369,
          388148,
          443498,
          495214,
          866707,
          1118316,
          713070,
          631221,
          514833,
          402872,
          464191,
          1082654,
          1374046,
          872125,
          617922,
          506176,
          539369,
          2206282,
          608179,
          273678,
          169962,
          194188,
          573026,
          195929
         ],
         "yaxis": "y2"
        }
       ],
       "layout": {
        "template": {
         "data": {
          "bar": [
           {
            "error_x": {
             "color": "#2a3f5f"
            },
            "error_y": {
             "color": "#2a3f5f"
            },
            "marker": {
             "line": {
              "color": "#E5ECF6",
              "width": 0.5
             },
             "pattern": {
              "fillmode": "overlay",
              "size": 10,
              "solidity": 0.2
             }
            },
            "type": "bar"
           }
          ],
          "barpolar": [
           {
            "marker": {
             "line": {
              "color": "#E5ECF6",
              "width": 0.5
             },
             "pattern": {
              "fillmode": "overlay",
              "size": 10,
              "solidity": 0.2
             }
            },
            "type": "barpolar"
           }
          ],
          "carpet": [
           {
            "aaxis": {
             "endlinecolor": "#2a3f5f",
             "gridcolor": "white",
             "linecolor": "white",
             "minorgridcolor": "white",
             "startlinecolor": "#2a3f5f"
            },
            "baxis": {
             "endlinecolor": "#2a3f5f",
             "gridcolor": "white",
             "linecolor": "white",
             "minorgridcolor": "white",
             "startlinecolor": "#2a3f5f"
            },
            "type": "carpet"
           }
          ],
          "choropleth": [
           {
            "colorbar": {
             "outlinewidth": 0,
             "ticks": ""
            },
            "type": "choropleth"
           }
          ],
          "contour": [
           {
            "colorbar": {
             "outlinewidth": 0,
             "ticks": ""
            },
            "colorscale": [
             [
              0,
              "#0d0887"
             ],
             [
              0.1111111111111111,
              "#46039f"
             ],
             [
              0.2222222222222222,
              "#7201a8"
             ],
             [
              0.3333333333333333,
              "#9c179e"
             ],
             [
              0.4444444444444444,
              "#bd3786"
             ],
             [
              0.5555555555555556,
              "#d8576b"
             ],
             [
              0.6666666666666666,
              "#ed7953"
             ],
             [
              0.7777777777777778,
              "#fb9f3a"
             ],
             [
              0.8888888888888888,
              "#fdca26"
             ],
             [
              1,
              "#f0f921"
             ]
            ],
            "type": "contour"
           }
          ],
          "contourcarpet": [
           {
            "colorbar": {
             "outlinewidth": 0,
             "ticks": ""
            },
            "type": "contourcarpet"
           }
          ],
          "heatmap": [
           {
            "colorbar": {
             "outlinewidth": 0,
             "ticks": ""
            },
            "colorscale": [
             [
              0,
              "#0d0887"
             ],
             [
              0.1111111111111111,
              "#46039f"
             ],
             [
              0.2222222222222222,
              "#7201a8"
             ],
             [
              0.3333333333333333,
              "#9c179e"
             ],
             [
              0.4444444444444444,
              "#bd3786"
             ],
             [
              0.5555555555555556,
              "#d8576b"
             ],
             [
              0.6666666666666666,
              "#ed7953"
             ],
             [
              0.7777777777777778,
              "#fb9f3a"
             ],
             [
              0.8888888888888888,
              "#fdca26"
             ],
             [
              1,
              "#f0f921"
             ]
            ],
            "type": "heatmap"
           }
          ],
          "heatmapgl": [
           {
            "colorbar": {
             "outlinewidth": 0,
             "ticks": ""
            },
            "colorscale": [
             [
              0,
              "#0d0887"
             ],
             [
              0.1111111111111111,
              "#46039f"
             ],
             [
              0.2222222222222222,
              "#7201a8"
             ],
             [
              0.3333333333333333,
              "#9c179e"
             ],
             [
              0.4444444444444444,
              "#bd3786"
             ],
             [
              0.5555555555555556,
              "#d8576b"
             ],
             [
              0.6666666666666666,
              "#ed7953"
             ],
             [
              0.7777777777777778,
              "#fb9f3a"
             ],
             [
              0.8888888888888888,
              "#fdca26"
             ],
             [
              1,
              "#f0f921"
             ]
            ],
            "type": "heatmapgl"
           }
          ],
          "histogram": [
           {
            "marker": {
             "pattern": {
              "fillmode": "overlay",
              "size": 10,
              "solidity": 0.2
             }
            },
            "type": "histogram"
           }
          ],
          "histogram2d": [
           {
            "colorbar": {
             "outlinewidth": 0,
             "ticks": ""
            },
            "colorscale": [
             [
              0,
              "#0d0887"
             ],
             [
              0.1111111111111111,
              "#46039f"
             ],
             [
              0.2222222222222222,
              "#7201a8"
             ],
             [
              0.3333333333333333,
              "#9c179e"
             ],
             [
              0.4444444444444444,
              "#bd3786"
             ],
             [
              0.5555555555555556,
              "#d8576b"
             ],
             [
              0.6666666666666666,
              "#ed7953"
             ],
             [
              0.7777777777777778,
              "#fb9f3a"
             ],
             [
              0.8888888888888888,
              "#fdca26"
             ],
             [
              1,
              "#f0f921"
             ]
            ],
            "type": "histogram2d"
           }
          ],
          "histogram2dcontour": [
           {
            "colorbar": {
             "outlinewidth": 0,
             "ticks": ""
            },
            "colorscale": [
             [
              0,
              "#0d0887"
             ],
             [
              0.1111111111111111,
              "#46039f"
             ],
             [
              0.2222222222222222,
              "#7201a8"
             ],
             [
              0.3333333333333333,
              "#9c179e"
             ],
             [
              0.4444444444444444,
              "#bd3786"
             ],
             [
              0.5555555555555556,
              "#d8576b"
             ],
             [
              0.6666666666666666,
              "#ed7953"
             ],
             [
              0.7777777777777778,
              "#fb9f3a"
             ],
             [
              0.8888888888888888,
              "#fdca26"
             ],
             [
              1,
              "#f0f921"
             ]
            ],
            "type": "histogram2dcontour"
           }
          ],
          "mesh3d": [
           {
            "colorbar": {
             "outlinewidth": 0,
             "ticks": ""
            },
            "type": "mesh3d"
           }
          ],
          "parcoords": [
           {
            "line": {
             "colorbar": {
              "outlinewidth": 0,
              "ticks": ""
             }
            },
            "type": "parcoords"
           }
          ],
          "pie": [
           {
            "automargin": true,
            "type": "pie"
           }
          ],
          "scatter": [
           {
            "fillpattern": {
             "fillmode": "overlay",
             "size": 10,
             "solidity": 0.2
            },
            "type": "scatter"
           }
          ],
          "scatter3d": [
           {
            "line": {
             "colorbar": {
              "outlinewidth": 0,
              "ticks": ""
             }
            },
            "marker": {
             "colorbar": {
              "outlinewidth": 0,
              "ticks": ""
             }
            },
            "type": "scatter3d"
           }
          ],
          "scattercarpet": [
           {
            "marker": {
             "colorbar": {
              "outlinewidth": 0,
              "ticks": ""
             }
            },
            "type": "scattercarpet"
           }
          ],
          "scattergeo": [
           {
            "marker": {
             "colorbar": {
              "outlinewidth": 0,
              "ticks": ""
             }
            },
            "type": "scattergeo"
           }
          ],
          "scattergl": [
           {
            "marker": {
             "colorbar": {
              "outlinewidth": 0,
              "ticks": ""
             }
            },
            "type": "scattergl"
           }
          ],
          "scattermapbox": [
           {
            "marker": {
             "colorbar": {
              "outlinewidth": 0,
              "ticks": ""
             }
            },
            "type": "scattermapbox"
           }
          ],
          "scatterpolar": [
           {
            "marker": {
             "colorbar": {
              "outlinewidth": 0,
              "ticks": ""
             }
            },
            "type": "scatterpolar"
           }
          ],
          "scatterpolargl": [
           {
            "marker": {
             "colorbar": {
              "outlinewidth": 0,
              "ticks": ""
             }
            },
            "type": "scatterpolargl"
           }
          ],
          "scatterternary": [
           {
            "marker": {
             "colorbar": {
              "outlinewidth": 0,
              "ticks": ""
             }
            },
            "type": "scatterternary"
           }
          ],
          "surface": [
           {
            "colorbar": {
             "outlinewidth": 0,
             "ticks": ""
            },
            "colorscale": [
             [
              0,
              "#0d0887"
             ],
             [
              0.1111111111111111,
              "#46039f"
             ],
             [
              0.2222222222222222,
              "#7201a8"
             ],
             [
              0.3333333333333333,
              "#9c179e"
             ],
             [
              0.4444444444444444,
              "#bd3786"
             ],
             [
              0.5555555555555556,
              "#d8576b"
             ],
             [
              0.6666666666666666,
              "#ed7953"
             ],
             [
              0.7777777777777778,
              "#fb9f3a"
             ],
             [
              0.8888888888888888,
              "#fdca26"
             ],
             [
              1,
              "#f0f921"
             ]
            ],
            "type": "surface"
           }
          ],
          "table": [
           {
            "cells": {
             "fill": {
              "color": "#EBF0F8"
             },
             "line": {
              "color": "white"
             }
            },
            "header": {
             "fill": {
              "color": "#C8D4E3"
             },
             "line": {
              "color": "white"
             }
            },
            "type": "table"
           }
          ]
         },
         "layout": {
          "annotationdefaults": {
           "arrowcolor": "#2a3f5f",
           "arrowhead": 0,
           "arrowwidth": 1
          },
          "autotypenumbers": "strict",
          "coloraxis": {
           "colorbar": {
            "outlinewidth": 0,
            "ticks": ""
           }
          },
          "colorscale": {
           "diverging": [
            [
             0,
             "#8e0152"
            ],
            [
             0.1,
             "#c51b7d"
            ],
            [
             0.2,
             "#de77ae"
            ],
            [
             0.3,
             "#f1b6da"
            ],
            [
             0.4,
             "#fde0ef"
            ],
            [
             0.5,
             "#f7f7f7"
            ],
            [
             0.6,
             "#e6f5d0"
            ],
            [
             0.7,
             "#b8e186"
            ],
            [
             0.8,
             "#7fbc41"
            ],
            [
             0.9,
             "#4d9221"
            ],
            [
             1,
             "#276419"
            ]
           ],
           "sequential": [
            [
             0,
             "#0d0887"
            ],
            [
             0.1111111111111111,
             "#46039f"
            ],
            [
             0.2222222222222222,
             "#7201a8"
            ],
            [
             0.3333333333333333,
             "#9c179e"
            ],
            [
             0.4444444444444444,
             "#bd3786"
            ],
            [
             0.5555555555555556,
             "#d8576b"
            ],
            [
             0.6666666666666666,
             "#ed7953"
            ],
            [
             0.7777777777777778,
             "#fb9f3a"
            ],
            [
             0.8888888888888888,
             "#fdca26"
            ],
            [
             1,
             "#f0f921"
            ]
           ],
           "sequentialminus": [
            [
             0,
             "#0d0887"
            ],
            [
             0.1111111111111111,
             "#46039f"
            ],
            [
             0.2222222222222222,
             "#7201a8"
            ],
            [
             0.3333333333333333,
             "#9c179e"
            ],
            [
             0.4444444444444444,
             "#bd3786"
            ],
            [
             0.5555555555555556,
             "#d8576b"
            ],
            [
             0.6666666666666666,
             "#ed7953"
            ],
            [
             0.7777777777777778,
             "#fb9f3a"
            ],
            [
             0.8888888888888888,
             "#fdca26"
            ],
            [
             1,
             "#f0f921"
            ]
           ]
          },
          "colorway": [
           "#636efa",
           "#EF553B",
           "#00cc96",
           "#ab63fa",
           "#FFA15A",
           "#19d3f3",
           "#FF6692",
           "#B6E880",
           "#FF97FF",
           "#FECB52"
          ],
          "font": {
           "color": "#2a3f5f"
          },
          "geo": {
           "bgcolor": "white",
           "lakecolor": "white",
           "landcolor": "#E5ECF6",
           "showlakes": true,
           "showland": true,
           "subunitcolor": "white"
          },
          "hoverlabel": {
           "align": "left"
          },
          "hovermode": "closest",
          "mapbox": {
           "style": "light"
          },
          "paper_bgcolor": "white",
          "plot_bgcolor": "#E5ECF6",
          "polar": {
           "angularaxis": {
            "gridcolor": "white",
            "linecolor": "white",
            "ticks": ""
           },
           "bgcolor": "#E5ECF6",
           "radialaxis": {
            "gridcolor": "white",
            "linecolor": "white",
            "ticks": ""
           }
          },
          "scene": {
           "xaxis": {
            "backgroundcolor": "#E5ECF6",
            "gridcolor": "white",
            "gridwidth": 2,
            "linecolor": "white",
            "showbackground": true,
            "ticks": "",
            "zerolinecolor": "white"
           },
           "yaxis": {
            "backgroundcolor": "#E5ECF6",
            "gridcolor": "white",
            "gridwidth": 2,
            "linecolor": "white",
            "showbackground": true,
            "ticks": "",
            "zerolinecolor": "white"
           },
           "zaxis": {
            "backgroundcolor": "#E5ECF6",
            "gridcolor": "white",
            "gridwidth": 2,
            "linecolor": "white",
            "showbackground": true,
            "ticks": "",
            "zerolinecolor": "white"
           }
          },
          "shapedefaults": {
           "line": {
            "color": "#2a3f5f"
           }
          },
          "ternary": {
           "aaxis": {
            "gridcolor": "white",
            "linecolor": "white",
            "ticks": ""
           },
           "baxis": {
            "gridcolor": "white",
            "linecolor": "white",
            "ticks": ""
           },
           "bgcolor": "#E5ECF6",
           "caxis": {
            "gridcolor": "white",
            "linecolor": "white",
            "ticks": ""
           }
          },
          "title": {
           "x": 0.05
          },
          "xaxis": {
           "automargin": true,
           "gridcolor": "white",
           "linecolor": "white",
           "ticks": "",
           "title": {
            "standoff": 15
           },
           "zerolinecolor": "white",
           "zerolinewidth": 2
          },
          "yaxis": {
           "automargin": true,
           "gridcolor": "white",
           "linecolor": "white",
           "ticks": "",
           "title": {
            "standoff": 15
           },
           "zerolinecolor": "white",
           "zerolinewidth": 2
          }
         }
        },
        "xaxis": {
         "anchor": "y",
         "domain": [
          0,
          0.94
         ]
        },
        "yaxis": {
         "anchor": "x",
         "domain": [
          0,
          1
         ]
        },
        "yaxis2": {
         "anchor": "x",
         "overlaying": "y",
         "side": "right"
        }
       }
      }
     },
     "metadata": {},
     "output_type": "display_data"
    }
   ],
   "source": [
    "supDF = df[['Patient ID', 'Cost per Unit', 'Medical Supply', 'Ingress Month']].drop_duplicates()\n",
    "supDF = supDF[supDF['Medical Supply'] == 'BARICITINIB'].groupby(['Ingress Month'])['Cost per Unit'].mean()\n",
    "supDF = supDF.reset_index()\n",
    "\n",
    "fig = make_subplots(specs=[[{\"secondary_y\": True}]])\n",
    "\n",
    "fig.add_trace(\n",
    "        go.Scatter(\n",
    "            x=supDF[\"Ingress Month\"],\n",
    "            y=supDF[\"Cost per Unit\"],\n",
    "            name='Costo promedio de BARICITINIB por mes',\n",
    "        ),\n",
    "        secondary_y=False,\n",
    "    )\n",
    "fig.add_trace(\n",
    "    go.Scatter(\n",
    "        x=covidDF[\"Ingress Month\"],\n",
    "        y=covidDF[\"Cases\"],\n",
    "        name=\"COVID Curve\",\n",
    "        fill='tozeroy',\n",
    "        fillcolor=\"rgba(0, 0, 0, 0.2)\",\n",
    "        marker_color=\"rgba(0, 0, 0, 0.2)\",\n",
    "        marker=dict(color=\"rgba(0, 0, 0, 0.2)\"),\n",
    "        line=dict(color=\"rgba(0, 0, 0, 0.2)\"),\n",
    "    ),\n",
    "    secondary_y=True,\n",
    ")\n",
    "fig.show()"
   ]
  },
  {
   "cell_type": "code",
   "execution_count": null,
   "metadata": {},
   "outputs": [
    {
     "data": {
      "application/vnd.plotly.v1+json": {
       "config": {
        "plotlyServerURL": "https://plot.ly"
       },
       "data": [
        {
         "name": "Costo promedio de RUXOLITINIB por mes",
         "type": "scatter",
         "x": [
          "2020-05-01T00:00:00",
          "2020-06-01T00:00:00",
          "2020-07-01T00:00:00",
          "2020-08-01T00:00:00",
          "2020-09-01T00:00:00",
          "2020-10-01T00:00:00",
          "2020-11-01T00:00:00",
          "2020-12-01T00:00:00",
          "2021-02-01T00:00:00",
          "2021-03-01T00:00:00"
         ],
         "xaxis": "x",
         "y": [
          4383.98681640625,
          7483.4575602213545,
          1759.2592366536458,
          132000,
          1200,
          61777.77779134115,
          1508.3333374023437,
          2000,
          1200,
          22214.285725911457
         ],
         "yaxis": "y"
        },
        {
         "fill": "tozeroy",
         "fillcolor": "rgba(0, 0, 0, 0.2)",
         "line": {
          "color": "rgba(0, 0, 0, 0.2)"
         },
         "marker": {
          "color": "rgba(0, 0, 0, 0.2)"
         },
         "name": "COVID Curve",
         "type": "scatter",
         "x": [
          "2020-01",
          "2020-02",
          "2020-03",
          "2020-04",
          "2020-05",
          "2020-06",
          "2020-07",
          "2020-08",
          "2020-09",
          "2020-10",
          "2020-11",
          "2020-12",
          "2021-01",
          "2021-02",
          "2021-03",
          "2021-04",
          "2021-05",
          "2021-06",
          "2021-07",
          "2021-08",
          "2021-09",
          "2021-10",
          "2021-11",
          "2021-12",
          "2022-01",
          "2022-02",
          "2022-03",
          "2022-04",
          "2022-05",
          "2022-06",
          "2022-07"
         ],
         "xaxis": "x",
         "y": [
          11612,
          11549,
          34280,
          114145,
          222141,
          349339,
          452124,
          402369,
          388148,
          443498,
          495214,
          866707,
          1118316,
          713070,
          631221,
          514833,
          402872,
          464191,
          1082654,
          1374046,
          872125,
          617922,
          506176,
          539369,
          2206282,
          608179,
          273678,
          169962,
          194188,
          573026,
          195929
         ],
         "yaxis": "y2"
        }
       ],
       "layout": {
        "template": {
         "data": {
          "bar": [
           {
            "error_x": {
             "color": "#2a3f5f"
            },
            "error_y": {
             "color": "#2a3f5f"
            },
            "marker": {
             "line": {
              "color": "#E5ECF6",
              "width": 0.5
             },
             "pattern": {
              "fillmode": "overlay",
              "size": 10,
              "solidity": 0.2
             }
            },
            "type": "bar"
           }
          ],
          "barpolar": [
           {
            "marker": {
             "line": {
              "color": "#E5ECF6",
              "width": 0.5
             },
             "pattern": {
              "fillmode": "overlay",
              "size": 10,
              "solidity": 0.2
             }
            },
            "type": "barpolar"
           }
          ],
          "carpet": [
           {
            "aaxis": {
             "endlinecolor": "#2a3f5f",
             "gridcolor": "white",
             "linecolor": "white",
             "minorgridcolor": "white",
             "startlinecolor": "#2a3f5f"
            },
            "baxis": {
             "endlinecolor": "#2a3f5f",
             "gridcolor": "white",
             "linecolor": "white",
             "minorgridcolor": "white",
             "startlinecolor": "#2a3f5f"
            },
            "type": "carpet"
           }
          ],
          "choropleth": [
           {
            "colorbar": {
             "outlinewidth": 0,
             "ticks": ""
            },
            "type": "choropleth"
           }
          ],
          "contour": [
           {
            "colorbar": {
             "outlinewidth": 0,
             "ticks": ""
            },
            "colorscale": [
             [
              0,
              "#0d0887"
             ],
             [
              0.1111111111111111,
              "#46039f"
             ],
             [
              0.2222222222222222,
              "#7201a8"
             ],
             [
              0.3333333333333333,
              "#9c179e"
             ],
             [
              0.4444444444444444,
              "#bd3786"
             ],
             [
              0.5555555555555556,
              "#d8576b"
             ],
             [
              0.6666666666666666,
              "#ed7953"
             ],
             [
              0.7777777777777778,
              "#fb9f3a"
             ],
             [
              0.8888888888888888,
              "#fdca26"
             ],
             [
              1,
              "#f0f921"
             ]
            ],
            "type": "contour"
           }
          ],
          "contourcarpet": [
           {
            "colorbar": {
             "outlinewidth": 0,
             "ticks": ""
            },
            "type": "contourcarpet"
           }
          ],
          "heatmap": [
           {
            "colorbar": {
             "outlinewidth": 0,
             "ticks": ""
            },
            "colorscale": [
             [
              0,
              "#0d0887"
             ],
             [
              0.1111111111111111,
              "#46039f"
             ],
             [
              0.2222222222222222,
              "#7201a8"
             ],
             [
              0.3333333333333333,
              "#9c179e"
             ],
             [
              0.4444444444444444,
              "#bd3786"
             ],
             [
              0.5555555555555556,
              "#d8576b"
             ],
             [
              0.6666666666666666,
              "#ed7953"
             ],
             [
              0.7777777777777778,
              "#fb9f3a"
             ],
             [
              0.8888888888888888,
              "#fdca26"
             ],
             [
              1,
              "#f0f921"
             ]
            ],
            "type": "heatmap"
           }
          ],
          "heatmapgl": [
           {
            "colorbar": {
             "outlinewidth": 0,
             "ticks": ""
            },
            "colorscale": [
             [
              0,
              "#0d0887"
             ],
             [
              0.1111111111111111,
              "#46039f"
             ],
             [
              0.2222222222222222,
              "#7201a8"
             ],
             [
              0.3333333333333333,
              "#9c179e"
             ],
             [
              0.4444444444444444,
              "#bd3786"
             ],
             [
              0.5555555555555556,
              "#d8576b"
             ],
             [
              0.6666666666666666,
              "#ed7953"
             ],
             [
              0.7777777777777778,
              "#fb9f3a"
             ],
             [
              0.8888888888888888,
              "#fdca26"
             ],
             [
              1,
              "#f0f921"
             ]
            ],
            "type": "heatmapgl"
           }
          ],
          "histogram": [
           {
            "marker": {
             "pattern": {
              "fillmode": "overlay",
              "size": 10,
              "solidity": 0.2
             }
            },
            "type": "histogram"
           }
          ],
          "histogram2d": [
           {
            "colorbar": {
             "outlinewidth": 0,
             "ticks": ""
            },
            "colorscale": [
             [
              0,
              "#0d0887"
             ],
             [
              0.1111111111111111,
              "#46039f"
             ],
             [
              0.2222222222222222,
              "#7201a8"
             ],
             [
              0.3333333333333333,
              "#9c179e"
             ],
             [
              0.4444444444444444,
              "#bd3786"
             ],
             [
              0.5555555555555556,
              "#d8576b"
             ],
             [
              0.6666666666666666,
              "#ed7953"
             ],
             [
              0.7777777777777778,
              "#fb9f3a"
             ],
             [
              0.8888888888888888,
              "#fdca26"
             ],
             [
              1,
              "#f0f921"
             ]
            ],
            "type": "histogram2d"
           }
          ],
          "histogram2dcontour": [
           {
            "colorbar": {
             "outlinewidth": 0,
             "ticks": ""
            },
            "colorscale": [
             [
              0,
              "#0d0887"
             ],
             [
              0.1111111111111111,
              "#46039f"
             ],
             [
              0.2222222222222222,
              "#7201a8"
             ],
             [
              0.3333333333333333,
              "#9c179e"
             ],
             [
              0.4444444444444444,
              "#bd3786"
             ],
             [
              0.5555555555555556,
              "#d8576b"
             ],
             [
              0.6666666666666666,
              "#ed7953"
             ],
             [
              0.7777777777777778,
              "#fb9f3a"
             ],
             [
              0.8888888888888888,
              "#fdca26"
             ],
             [
              1,
              "#f0f921"
             ]
            ],
            "type": "histogram2dcontour"
           }
          ],
          "mesh3d": [
           {
            "colorbar": {
             "outlinewidth": 0,
             "ticks": ""
            },
            "type": "mesh3d"
           }
          ],
          "parcoords": [
           {
            "line": {
             "colorbar": {
              "outlinewidth": 0,
              "ticks": ""
             }
            },
            "type": "parcoords"
           }
          ],
          "pie": [
           {
            "automargin": true,
            "type": "pie"
           }
          ],
          "scatter": [
           {
            "fillpattern": {
             "fillmode": "overlay",
             "size": 10,
             "solidity": 0.2
            },
            "type": "scatter"
           }
          ],
          "scatter3d": [
           {
            "line": {
             "colorbar": {
              "outlinewidth": 0,
              "ticks": ""
             }
            },
            "marker": {
             "colorbar": {
              "outlinewidth": 0,
              "ticks": ""
             }
            },
            "type": "scatter3d"
           }
          ],
          "scattercarpet": [
           {
            "marker": {
             "colorbar": {
              "outlinewidth": 0,
              "ticks": ""
             }
            },
            "type": "scattercarpet"
           }
          ],
          "scattergeo": [
           {
            "marker": {
             "colorbar": {
              "outlinewidth": 0,
              "ticks": ""
             }
            },
            "type": "scattergeo"
           }
          ],
          "scattergl": [
           {
            "marker": {
             "colorbar": {
              "outlinewidth": 0,
              "ticks": ""
             }
            },
            "type": "scattergl"
           }
          ],
          "scattermapbox": [
           {
            "marker": {
             "colorbar": {
              "outlinewidth": 0,
              "ticks": ""
             }
            },
            "type": "scattermapbox"
           }
          ],
          "scatterpolar": [
           {
            "marker": {
             "colorbar": {
              "outlinewidth": 0,
              "ticks": ""
             }
            },
            "type": "scatterpolar"
           }
          ],
          "scatterpolargl": [
           {
            "marker": {
             "colorbar": {
              "outlinewidth": 0,
              "ticks": ""
             }
            },
            "type": "scatterpolargl"
           }
          ],
          "scatterternary": [
           {
            "marker": {
             "colorbar": {
              "outlinewidth": 0,
              "ticks": ""
             }
            },
            "type": "scatterternary"
           }
          ],
          "surface": [
           {
            "colorbar": {
             "outlinewidth": 0,
             "ticks": ""
            },
            "colorscale": [
             [
              0,
              "#0d0887"
             ],
             [
              0.1111111111111111,
              "#46039f"
             ],
             [
              0.2222222222222222,
              "#7201a8"
             ],
             [
              0.3333333333333333,
              "#9c179e"
             ],
             [
              0.4444444444444444,
              "#bd3786"
             ],
             [
              0.5555555555555556,
              "#d8576b"
             ],
             [
              0.6666666666666666,
              "#ed7953"
             ],
             [
              0.7777777777777778,
              "#fb9f3a"
             ],
             [
              0.8888888888888888,
              "#fdca26"
             ],
             [
              1,
              "#f0f921"
             ]
            ],
            "type": "surface"
           }
          ],
          "table": [
           {
            "cells": {
             "fill": {
              "color": "#EBF0F8"
             },
             "line": {
              "color": "white"
             }
            },
            "header": {
             "fill": {
              "color": "#C8D4E3"
             },
             "line": {
              "color": "white"
             }
            },
            "type": "table"
           }
          ]
         },
         "layout": {
          "annotationdefaults": {
           "arrowcolor": "#2a3f5f",
           "arrowhead": 0,
           "arrowwidth": 1
          },
          "autotypenumbers": "strict",
          "coloraxis": {
           "colorbar": {
            "outlinewidth": 0,
            "ticks": ""
           }
          },
          "colorscale": {
           "diverging": [
            [
             0,
             "#8e0152"
            ],
            [
             0.1,
             "#c51b7d"
            ],
            [
             0.2,
             "#de77ae"
            ],
            [
             0.3,
             "#f1b6da"
            ],
            [
             0.4,
             "#fde0ef"
            ],
            [
             0.5,
             "#f7f7f7"
            ],
            [
             0.6,
             "#e6f5d0"
            ],
            [
             0.7,
             "#b8e186"
            ],
            [
             0.8,
             "#7fbc41"
            ],
            [
             0.9,
             "#4d9221"
            ],
            [
             1,
             "#276419"
            ]
           ],
           "sequential": [
            [
             0,
             "#0d0887"
            ],
            [
             0.1111111111111111,
             "#46039f"
            ],
            [
             0.2222222222222222,
             "#7201a8"
            ],
            [
             0.3333333333333333,
             "#9c179e"
            ],
            [
             0.4444444444444444,
             "#bd3786"
            ],
            [
             0.5555555555555556,
             "#d8576b"
            ],
            [
             0.6666666666666666,
             "#ed7953"
            ],
            [
             0.7777777777777778,
             "#fb9f3a"
            ],
            [
             0.8888888888888888,
             "#fdca26"
            ],
            [
             1,
             "#f0f921"
            ]
           ],
           "sequentialminus": [
            [
             0,
             "#0d0887"
            ],
            [
             0.1111111111111111,
             "#46039f"
            ],
            [
             0.2222222222222222,
             "#7201a8"
            ],
            [
             0.3333333333333333,
             "#9c179e"
            ],
            [
             0.4444444444444444,
             "#bd3786"
            ],
            [
             0.5555555555555556,
             "#d8576b"
            ],
            [
             0.6666666666666666,
             "#ed7953"
            ],
            [
             0.7777777777777778,
             "#fb9f3a"
            ],
            [
             0.8888888888888888,
             "#fdca26"
            ],
            [
             1,
             "#f0f921"
            ]
           ]
          },
          "colorway": [
           "#636efa",
           "#EF553B",
           "#00cc96",
           "#ab63fa",
           "#FFA15A",
           "#19d3f3",
           "#FF6692",
           "#B6E880",
           "#FF97FF",
           "#FECB52"
          ],
          "font": {
           "color": "#2a3f5f"
          },
          "geo": {
           "bgcolor": "white",
           "lakecolor": "white",
           "landcolor": "#E5ECF6",
           "showlakes": true,
           "showland": true,
           "subunitcolor": "white"
          },
          "hoverlabel": {
           "align": "left"
          },
          "hovermode": "closest",
          "mapbox": {
           "style": "light"
          },
          "paper_bgcolor": "white",
          "plot_bgcolor": "#E5ECF6",
          "polar": {
           "angularaxis": {
            "gridcolor": "white",
            "linecolor": "white",
            "ticks": ""
           },
           "bgcolor": "#E5ECF6",
           "radialaxis": {
            "gridcolor": "white",
            "linecolor": "white",
            "ticks": ""
           }
          },
          "scene": {
           "xaxis": {
            "backgroundcolor": "#E5ECF6",
            "gridcolor": "white",
            "gridwidth": 2,
            "linecolor": "white",
            "showbackground": true,
            "ticks": "",
            "zerolinecolor": "white"
           },
           "yaxis": {
            "backgroundcolor": "#E5ECF6",
            "gridcolor": "white",
            "gridwidth": 2,
            "linecolor": "white",
            "showbackground": true,
            "ticks": "",
            "zerolinecolor": "white"
           },
           "zaxis": {
            "backgroundcolor": "#E5ECF6",
            "gridcolor": "white",
            "gridwidth": 2,
            "linecolor": "white",
            "showbackground": true,
            "ticks": "",
            "zerolinecolor": "white"
           }
          },
          "shapedefaults": {
           "line": {
            "color": "#2a3f5f"
           }
          },
          "ternary": {
           "aaxis": {
            "gridcolor": "white",
            "linecolor": "white",
            "ticks": ""
           },
           "baxis": {
            "gridcolor": "white",
            "linecolor": "white",
            "ticks": ""
           },
           "bgcolor": "#E5ECF6",
           "caxis": {
            "gridcolor": "white",
            "linecolor": "white",
            "ticks": ""
           }
          },
          "title": {
           "x": 0.05
          },
          "xaxis": {
           "automargin": true,
           "gridcolor": "white",
           "linecolor": "white",
           "ticks": "",
           "title": {
            "standoff": 15
           },
           "zerolinecolor": "white",
           "zerolinewidth": 2
          },
          "yaxis": {
           "automargin": true,
           "gridcolor": "white",
           "linecolor": "white",
           "ticks": "",
           "title": {
            "standoff": 15
           },
           "zerolinecolor": "white",
           "zerolinewidth": 2
          }
         }
        },
        "xaxis": {
         "anchor": "y",
         "domain": [
          0,
          0.94
         ]
        },
        "yaxis": {
         "anchor": "x",
         "domain": [
          0,
          1
         ]
        },
        "yaxis2": {
         "anchor": "x",
         "overlaying": "y",
         "side": "right"
        }
       }
      }
     },
     "metadata": {},
     "output_type": "display_data"
    }
   ],
   "source": [
    "supDF = df[['Patient ID', 'Cost per Unit', 'Medical Supply', 'Ingress Month']].drop_duplicates()\n",
    "supDF = supDF[supDF['Medical Supply'] == 'RUXOLITINIB'].groupby(['Ingress Month'])['Cost per Unit'].mean()\n",
    "supDF = supDF.reset_index()\n",
    "\n",
    "fig = make_subplots(specs=[[{\"secondary_y\": True}]])\n",
    "\n",
    "fig.add_trace(\n",
    "        go.Scatter(\n",
    "            x=supDF[\"Ingress Month\"],\n",
    "            y=supDF[\"Cost per Unit\"],\n",
    "            name='Costo promedio de RUXOLITINIB por mes',\n",
    "        ),\n",
    "        secondary_y=False,\n",
    "    )\n",
    "fig.add_trace(\n",
    "    go.Scatter(\n",
    "        x=covidDF[\"Ingress Month\"],\n",
    "        y=covidDF[\"Cases\"],\n",
    "        name=\"COVID Curve\",\n",
    "        fill='tozeroy',\n",
    "        fillcolor=\"rgba(0, 0, 0, 0.2)\",\n",
    "        marker_color=\"rgba(0, 0, 0, 0.2)\",\n",
    "        marker=dict(color=\"rgba(0, 0, 0, 0.2)\"),\n",
    "        line=dict(color=\"rgba(0, 0, 0, 0.2)\"),\n",
    "    ),\n",
    "    secondary_y=True,\n",
    ")\n",
    "fig.show()"
   ]
  },
  {
   "cell_type": "markdown",
   "metadata": {},
   "source": [
    "## Proporción de Gupos Hospitalarios por Estado"
   ]
  },
  {
   "cell_type": "code",
   "execution_count": 91,
   "metadata": {},
   "outputs": [],
   "source": [
    "hpDF = patientDF[['Hospital Group', 'State']]\n",
    "hpDF = hpDF.groupby(['State']).value_counts().unstack().fillna(0)\n",
    "hpDF['isMultiple'] = hpDF.apply(lambda row: np.sum([row.High > 0, row.Medium > 0, row.Low > 0]) > 1, axis=1)\n",
    "hpDF['Total'] = hpDF.sum(axis=1)\n",
    "hpDF['PCT'] = hpDF['Total'] / hpDF['Total'].sum()*100\n",
    "hpDF = pd.concat([hpDF, \n",
    "           pd.DataFrame({'High': hpDF.High.sum(), 'Medium': hpDF.Medium.sum(), 'Low': hpDF.Low.sum()}, index=['Total'])])\n",
    "hpDF = hpDF.sort_values(by='Total', ascending=True)"
   ]
  },
  {
   "cell_type": "code",
   "execution_count": 92,
   "metadata": {},
   "outputs": [
    {
     "data": {
      "text/html": [
       "<style type=\"text/css\">\n",
       "#T_17c98_row0_col0, #T_17c98_row0_col2, #T_17c98_row1_col0, #T_17c98_row1_col2, #T_17c98_row2_col0, #T_17c98_row2_col1, #T_17c98_row3_col0, #T_17c98_row3_col1, #T_17c98_row4_col0, #T_17c98_row4_col1, #T_17c98_row5_col0, #T_17c98_row6_col5, #T_17c98_row7_col0, #T_17c98_row8_col0, #T_17c98_row8_col1, #T_17c98_row9_col0, #T_17c98_row10_col0, #T_17c98_row10_col2, #T_17c98_row11_col0, #T_17c98_row11_col1, #T_17c98_row12_col0, #T_17c98_row12_col1, #T_17c98_row13_col0, #T_17c98_row14_col5, #T_17c98_row15_col0, #T_17c98_row16_col5, #T_17c98_row17_col0, #T_17c98_row18_col5, #T_17c98_row19_col0, #T_17c98_row20_col5, #T_17c98_row21_col5, #T_17c98_row22_col5, #T_17c98_row23_col0, #T_17c98_row24_col0 {\n",
       "  background-color: #ffffd9;\n",
       "  color: #000000;\n",
       "}\n",
       "#T_17c98_row0_col1, #T_17c98_row0_col4, #T_17c98_row1_col1, #T_17c98_row1_col4, #T_17c98_row2_col2, #T_17c98_row2_col4, #T_17c98_row3_col2, #T_17c98_row3_col4, #T_17c98_row4_col2, #T_17c98_row4_col4, #T_17c98_row5_col4, #T_17c98_row6_col4, #T_17c98_row7_col4, #T_17c98_row8_col2, #T_17c98_row8_col4, #T_17c98_row9_col4, #T_17c98_row10_col1, #T_17c98_row10_col4, #T_17c98_row11_col2, #T_17c98_row11_col4, #T_17c98_row12_col2, #T_17c98_row12_col4, #T_17c98_row13_col4, #T_17c98_row14_col4, #T_17c98_row15_col4, #T_17c98_row16_col4, #T_17c98_row17_col4, #T_17c98_row18_col4, #T_17c98_row19_col4, #T_17c98_row20_col4, #T_17c98_row21_col4, #T_17c98_row22_col4, #T_17c98_row23_col4, #T_17c98_row24_col2 {\n",
       "  background-color: #081d58;\n",
       "  color: #f1f1f1;\n",
       "}\n",
       "#T_17c98_row0_col5, #T_17c98_row1_col5, #T_17c98_row2_col5, #T_17c98_row3_col5, #T_17c98_row4_col5, #T_17c98_row5_col5, #T_17c98_row7_col5, #T_17c98_row8_col5, #T_17c98_row9_col5, #T_17c98_row10_col5, #T_17c98_row11_col5, #T_17c98_row12_col5, #T_17c98_row13_col5, #T_17c98_row15_col5, #T_17c98_row17_col5, #T_17c98_row19_col5, #T_17c98_row23_col5 {\n",
       "  background-color: #feffd6;\n",
       "  color: #000000;\n",
       "}\n",
       "#T_17c98_row5_col1 {\n",
       "  background-color: #73c8bd;\n",
       "  color: #000000;\n",
       "}\n",
       "#T_17c98_row5_col2 {\n",
       "  background-color: #2da2c2;\n",
       "  color: #f1f1f1;\n",
       "}\n",
       "#T_17c98_row6_col0 {\n",
       "  background-color: #f8fcca;\n",
       "  color: #000000;\n",
       "}\n",
       "#T_17c98_row6_col1, #T_17c98_row15_col2 {\n",
       "  background-color: #89d1ba;\n",
       "  color: #000000;\n",
       "}\n",
       "#T_17c98_row6_col2 {\n",
       "  background-color: #35aac3;\n",
       "  color: #f1f1f1;\n",
       "}\n",
       "#T_17c98_row7_col1 {\n",
       "  background-color: #216bae;\n",
       "  color: #f1f1f1;\n",
       "}\n",
       "#T_17c98_row7_col2 {\n",
       "  background-color: #c0e6b5;\n",
       "  color: #000000;\n",
       "}\n",
       "#T_17c98_row9_col1 {\n",
       "  background-color: #46b8c3;\n",
       "  color: #f1f1f1;\n",
       "}\n",
       "#T_17c98_row9_col2 {\n",
       "  background-color: #40b5c4;\n",
       "  color: #f1f1f1;\n",
       "}\n",
       "#T_17c98_row13_col1 {\n",
       "  background-color: #53bdc1;\n",
       "  color: #000000;\n",
       "}\n",
       "#T_17c98_row13_col2 {\n",
       "  background-color: #39adc3;\n",
       "  color: #f1f1f1;\n",
       "}\n",
       "#T_17c98_row14_col0 {\n",
       "  background-color: #e8f6b1;\n",
       "  color: #000000;\n",
       "}\n",
       "#T_17c98_row14_col1 {\n",
       "  background-color: #4ab9c3;\n",
       "  color: #f1f1f1;\n",
       "}\n",
       "#T_17c98_row14_col2, #T_17c98_row18_col0 {\n",
       "  background-color: #8ed3ba;\n",
       "  color: #000000;\n",
       "}\n",
       "#T_17c98_row15_col1 {\n",
       "  background-color: #1e8bbd;\n",
       "  color: #f1f1f1;\n",
       "}\n",
       "#T_17c98_row16_col0 {\n",
       "  background-color: #ddf2b2;\n",
       "  color: #000000;\n",
       "}\n",
       "#T_17c98_row16_col1 {\n",
       "  background-color: #e5f5b2;\n",
       "  color: #000000;\n",
       "}\n",
       "#T_17c98_row16_col2 {\n",
       "  background-color: #1e8abd;\n",
       "  color: #f1f1f1;\n",
       "}\n",
       "#T_17c98_row17_col1 {\n",
       "  background-color: #a0dab8;\n",
       "  color: #000000;\n",
       "}\n",
       "#T_17c98_row17_col2 {\n",
       "  background-color: #1f7ab5;\n",
       "  color: #f1f1f1;\n",
       "}\n",
       "#T_17c98_row18_col1 {\n",
       "  background-color: #dff2b2;\n",
       "  color: #000000;\n",
       "}\n",
       "#T_17c98_row18_col2, #T_17c98_row20_col2 {\n",
       "  background-color: #59bfc0;\n",
       "  color: #000000;\n",
       "}\n",
       "#T_17c98_row19_col1 {\n",
       "  background-color: #cdebb4;\n",
       "  color: #000000;\n",
       "}\n",
       "#T_17c98_row19_col2 {\n",
       "  background-color: #2259a6;\n",
       "  color: #f1f1f1;\n",
       "}\n",
       "#T_17c98_row20_col0 {\n",
       "  background-color: #caeab4;\n",
       "  color: #000000;\n",
       "}\n",
       "#T_17c98_row20_col1 {\n",
       "  background-color: #b2e1b6;\n",
       "  color: #000000;\n",
       "}\n",
       "#T_17c98_row21_col0 {\n",
       "  background-color: #9cd8b8;\n",
       "  color: #000000;\n",
       "}\n",
       "#T_17c98_row21_col1 {\n",
       "  background-color: #a7dcb7;\n",
       "  color: #000000;\n",
       "}\n",
       "#T_17c98_row21_col2 {\n",
       "  background-color: #92d5b9;\n",
       "  color: #000000;\n",
       "}\n",
       "#T_17c98_row22_col0 {\n",
       "  background-color: #1d8ebf;\n",
       "  color: #f1f1f1;\n",
       "}\n",
       "#T_17c98_row22_col1 {\n",
       "  background-color: #edf8b1;\n",
       "  color: #000000;\n",
       "}\n",
       "#T_17c98_row22_col2 {\n",
       "  background-color: #d0edb3;\n",
       "  color: #000000;\n",
       "}\n",
       "#T_17c98_row23_col1 {\n",
       "  background-color: #dbf1b2;\n",
       "  color: #000000;\n",
       "}\n",
       "#T_17c98_row23_col2 {\n",
       "  background-color: #24489d;\n",
       "  color: #f1f1f1;\n",
       "}\n",
       "#T_17c98_row24_col1 {\n",
       "  background-color: #f6fbc5;\n",
       "  color: #000000;\n",
       "}\n",
       "#T_17c98_row24_col4, #T_17c98_row24_col5 {\n",
       "  background-color: #000000;\n",
       "  color: #f1f1f1;\n",
       "}\n",
       "</style>\n",
       "<table id=\"T_17c98\">\n",
       "  <thead>\n",
       "    <tr>\n",
       "      <th class=\"blank level0\" >&nbsp;</th>\n",
       "      <th id=\"T_17c98_level0_col0\" class=\"col_heading level0 col0\" >High</th>\n",
       "      <th id=\"T_17c98_level0_col1\" class=\"col_heading level0 col1\" >Low</th>\n",
       "      <th id=\"T_17c98_level0_col2\" class=\"col_heading level0 col2\" >Medium</th>\n",
       "      <th id=\"T_17c98_level0_col3\" class=\"col_heading level0 col3\" >isMultiple</th>\n",
       "      <th id=\"T_17c98_level0_col4\" class=\"col_heading level0 col4\" >Total</th>\n",
       "      <th id=\"T_17c98_level0_col5\" class=\"col_heading level0 col5\" >PCT</th>\n",
       "    </tr>\n",
       "  </thead>\n",
       "  <tbody>\n",
       "    <tr>\n",
       "      <th id=\"T_17c98_level0_row0\" class=\"row_heading level0 row0\" >Nayarit</th>\n",
       "      <td id=\"T_17c98_row0_col0\" class=\"data row0 col0\" >0.0</td>\n",
       "      <td id=\"T_17c98_row0_col1\" class=\"data row0 col1\" >2.0</td>\n",
       "      <td id=\"T_17c98_row0_col2\" class=\"data row0 col2\" >0.0</td>\n",
       "      <td id=\"T_17c98_row0_col3\" class=\"data row0 col3\" >False</td>\n",
       "      <td id=\"T_17c98_row0_col4\" class=\"data row0 col4\" >2.0</td>\n",
       "      <td id=\"T_17c98_row0_col5\" class=\"data row0 col5\" >0.0</td>\n",
       "    </tr>\n",
       "    <tr>\n",
       "      <th id=\"T_17c98_level0_row1\" class=\"row_heading level0 row1\" >Colima</th>\n",
       "      <td id=\"T_17c98_row1_col0\" class=\"data row1 col0\" >0.0</td>\n",
       "      <td id=\"T_17c98_row1_col1\" class=\"data row1 col1\" >12.0</td>\n",
       "      <td id=\"T_17c98_row1_col2\" class=\"data row1 col2\" >0.0</td>\n",
       "      <td id=\"T_17c98_row1_col3\" class=\"data row1 col3\" >False</td>\n",
       "      <td id=\"T_17c98_row1_col4\" class=\"data row1 col4\" >12.0</td>\n",
       "      <td id=\"T_17c98_row1_col5\" class=\"data row1 col5\" >0.1</td>\n",
       "    </tr>\n",
       "    <tr>\n",
       "      <th id=\"T_17c98_level0_row2\" class=\"row_heading level0 row2\" >No Informado</th>\n",
       "      <td id=\"T_17c98_row2_col0\" class=\"data row2 col0\" >0.0</td>\n",
       "      <td id=\"T_17c98_row2_col1\" class=\"data row2 col1\" >0.0</td>\n",
       "      <td id=\"T_17c98_row2_col2\" class=\"data row2 col2\" >16.0</td>\n",
       "      <td id=\"T_17c98_row2_col3\" class=\"data row2 col3\" >False</td>\n",
       "      <td id=\"T_17c98_row2_col4\" class=\"data row2 col4\" >16.0</td>\n",
       "      <td id=\"T_17c98_row2_col5\" class=\"data row2 col5\" >0.2</td>\n",
       "    </tr>\n",
       "    <tr>\n",
       "      <th id=\"T_17c98_level0_row3\" class=\"row_heading level0 row3\" >San Luis Potosí</th>\n",
       "      <td id=\"T_17c98_row3_col0\" class=\"data row3 col0\" >0.0</td>\n",
       "      <td id=\"T_17c98_row3_col1\" class=\"data row3 col1\" >0.0</td>\n",
       "      <td id=\"T_17c98_row3_col2\" class=\"data row3 col2\" >20.0</td>\n",
       "      <td id=\"T_17c98_row3_col3\" class=\"data row3 col3\" >False</td>\n",
       "      <td id=\"T_17c98_row3_col4\" class=\"data row3 col4\" >20.0</td>\n",
       "      <td id=\"T_17c98_row3_col5\" class=\"data row3 col5\" >0.2</td>\n",
       "    </tr>\n",
       "    <tr>\n",
       "      <th id=\"T_17c98_level0_row4\" class=\"row_heading level0 row4\" >Aguascalientes</th>\n",
       "      <td id=\"T_17c98_row4_col0\" class=\"data row4 col0\" >0.0</td>\n",
       "      <td id=\"T_17c98_row4_col1\" class=\"data row4 col1\" >0.0</td>\n",
       "      <td id=\"T_17c98_row4_col2\" class=\"data row4 col2\" >25.0</td>\n",
       "      <td id=\"T_17c98_row4_col3\" class=\"data row4 col3\" >False</td>\n",
       "      <td id=\"T_17c98_row4_col4\" class=\"data row4 col4\" >25.0</td>\n",
       "      <td id=\"T_17c98_row4_col5\" class=\"data row4 col5\" >0.3</td>\n",
       "    </tr>\n",
       "    <tr>\n",
       "      <th id=\"T_17c98_level0_row5\" class=\"row_heading level0 row5\" >Michoacán de Ocampo</th>\n",
       "      <td id=\"T_17c98_row5_col0\" class=\"data row5 col0\" >0.0</td>\n",
       "      <td id=\"T_17c98_row5_col1\" class=\"data row5 col1\" >12.0</td>\n",
       "      <td id=\"T_17c98_row5_col2\" class=\"data row5 col2\" >17.0</td>\n",
       "      <td id=\"T_17c98_row5_col3\" class=\"data row5 col3\" >True</td>\n",
       "      <td id=\"T_17c98_row5_col4\" class=\"data row5 col4\" >30.0</td>\n",
       "      <td id=\"T_17c98_row5_col5\" class=\"data row5 col5\" >0.3</td>\n",
       "    </tr>\n",
       "    <tr>\n",
       "      <th id=\"T_17c98_level0_row6\" class=\"row_heading level0 row6\" >Guanajuato</th>\n",
       "      <td id=\"T_17c98_row6_col0\" class=\"data row6 col0\" >2.0</td>\n",
       "      <td id=\"T_17c98_row6_col1\" class=\"data row6 col1\" >12.0</td>\n",
       "      <td id=\"T_17c98_row6_col2\" class=\"data row6 col2\" >18.0</td>\n",
       "      <td id=\"T_17c98_row6_col3\" class=\"data row6 col3\" >True</td>\n",
       "      <td id=\"T_17c98_row6_col4\" class=\"data row6 col4\" >33.0</td>\n",
       "      <td id=\"T_17c98_row6_col5\" class=\"data row6 col5\" >0.4</td>\n",
       "    </tr>\n",
       "    <tr>\n",
       "      <th id=\"T_17c98_level0_row7\" class=\"row_heading level0 row7\" >Quintana Roo</th>\n",
       "      <td id=\"T_17c98_row7_col0\" class=\"data row7 col0\" >0.0</td>\n",
       "      <td id=\"T_17c98_row7_col1\" class=\"data row7 col1\" >38.0</td>\n",
       "      <td id=\"T_17c98_row7_col2\" class=\"data row7 col2\" >14.0</td>\n",
       "      <td id=\"T_17c98_row7_col3\" class=\"data row7 col3\" >True</td>\n",
       "      <td id=\"T_17c98_row7_col4\" class=\"data row7 col4\" >53.0</td>\n",
       "      <td id=\"T_17c98_row7_col5\" class=\"data row7 col5\" >0.6</td>\n",
       "    </tr>\n",
       "    <tr>\n",
       "      <th id=\"T_17c98_level0_row8\" class=\"row_heading level0 row8\" >Morelos</th>\n",
       "      <td id=\"T_17c98_row8_col0\" class=\"data row8 col0\" >0.0</td>\n",
       "      <td id=\"T_17c98_row8_col1\" class=\"data row8 col1\" >0.0</td>\n",
       "      <td id=\"T_17c98_row8_col2\" class=\"data row8 col2\" >64.0</td>\n",
       "      <td id=\"T_17c98_row8_col3\" class=\"data row8 col3\" >False</td>\n",
       "      <td id=\"T_17c98_row8_col4\" class=\"data row8 col4\" >64.0</td>\n",
       "      <td id=\"T_17c98_row8_col5\" class=\"data row8 col5\" >0.7</td>\n",
       "    </tr>\n",
       "    <tr>\n",
       "      <th id=\"T_17c98_level0_row9\" class=\"row_heading level0 row9\" >Tamaulipas</th>\n",
       "      <td id=\"T_17c98_row9_col0\" class=\"data row9 col0\" >0.0</td>\n",
       "      <td id=\"T_17c98_row9_col1\" class=\"data row9 col1\" >45.0</td>\n",
       "      <td id=\"T_17c98_row9_col2\" class=\"data row9 col2\" >46.0</td>\n",
       "      <td id=\"T_17c98_row9_col3\" class=\"data row9 col3\" >True</td>\n",
       "      <td id=\"T_17c98_row9_col4\" class=\"data row9 col4\" >92.0</td>\n",
       "      <td id=\"T_17c98_row9_col5\" class=\"data row9 col5\" >1.1</td>\n",
       "    </tr>\n",
       "    <tr>\n",
       "      <th id=\"T_17c98_level0_row10\" class=\"row_heading level0 row10\" >Tabasco</th>\n",
       "      <td id=\"T_17c98_row10_col0\" class=\"data row10 col0\" >0.0</td>\n",
       "      <td id=\"T_17c98_row10_col1\" class=\"data row10 col1\" >132.0</td>\n",
       "      <td id=\"T_17c98_row10_col2\" class=\"data row10 col2\" >0.0</td>\n",
       "      <td id=\"T_17c98_row10_col3\" class=\"data row10 col3\" >False</td>\n",
       "      <td id=\"T_17c98_row10_col4\" class=\"data row10 col4\" >132.0</td>\n",
       "      <td id=\"T_17c98_row10_col5\" class=\"data row10 col5\" >1.5</td>\n",
       "    </tr>\n",
       "    <tr>\n",
       "      <th id=\"T_17c98_level0_row11\" class=\"row_heading level0 row11\" >Veracruz de Ignacio de la Llave</th>\n",
       "      <td id=\"T_17c98_row11_col0\" class=\"data row11 col0\" >0.0</td>\n",
       "      <td id=\"T_17c98_row11_col1\" class=\"data row11 col1\" >0.0</td>\n",
       "      <td id=\"T_17c98_row11_col2\" class=\"data row11 col2\" >149.0</td>\n",
       "      <td id=\"T_17c98_row11_col3\" class=\"data row11 col3\" >False</td>\n",
       "      <td id=\"T_17c98_row11_col4\" class=\"data row11 col4\" >149.0</td>\n",
       "      <td id=\"T_17c98_row11_col5\" class=\"data row11 col5\" >1.7</td>\n",
       "    </tr>\n",
       "    <tr>\n",
       "      <th id=\"T_17c98_level0_row12\" class=\"row_heading level0 row12\" >Yucatán</th>\n",
       "      <td id=\"T_17c98_row12_col0\" class=\"data row12 col0\" >0.0</td>\n",
       "      <td id=\"T_17c98_row12_col1\" class=\"data row12 col1\" >0.0</td>\n",
       "      <td id=\"T_17c98_row12_col2\" class=\"data row12 col2\" >159.0</td>\n",
       "      <td id=\"T_17c98_row12_col3\" class=\"data row12 col3\" >False</td>\n",
       "      <td id=\"T_17c98_row12_col4\" class=\"data row12 col4\" >159.0</td>\n",
       "      <td id=\"T_17c98_row12_col5\" class=\"data row12 col5\" >1.8</td>\n",
       "    </tr>\n",
       "    <tr>\n",
       "      <th id=\"T_17c98_level0_row13\" class=\"row_heading level0 row13\" >Sinaloa</th>\n",
       "      <td id=\"T_17c98_row13_col0\" class=\"data row13 col0\" >0.0</td>\n",
       "      <td id=\"T_17c98_row13_col1\" class=\"data row13 col1\" >84.0</td>\n",
       "      <td id=\"T_17c98_row13_col2\" class=\"data row13 col2\" >96.0</td>\n",
       "      <td id=\"T_17c98_row13_col3\" class=\"data row13 col3\" >True</td>\n",
       "      <td id=\"T_17c98_row13_col4\" class=\"data row13 col4\" >181.0</td>\n",
       "      <td id=\"T_17c98_row13_col5\" class=\"data row13 col5\" >2.1</td>\n",
       "    </tr>\n",
       "    <tr>\n",
       "      <th id=\"T_17c98_level0_row14\" class=\"row_heading level0 row14\" >Querétaro</th>\n",
       "      <td id=\"T_17c98_row14_col0\" class=\"data row14 col0\" >30.0</td>\n",
       "      <td id=\"T_17c98_row14_col1\" class=\"data row14 col1\" >97.0</td>\n",
       "      <td id=\"T_17c98_row14_col2\" class=\"data row14 col2\" >71.0</td>\n",
       "      <td id=\"T_17c98_row14_col3\" class=\"data row14 col3\" >True</td>\n",
       "      <td id=\"T_17c98_row14_col4\" class=\"data row14 col4\" >199.0</td>\n",
       "      <td id=\"T_17c98_row14_col5\" class=\"data row14 col5\" >2.3</td>\n",
       "    </tr>\n",
       "    <tr>\n",
       "      <th id=\"T_17c98_level0_row15\" class=\"row_heading level0 row15\" >Baja California</th>\n",
       "      <td id=\"T_17c98_row15_col0\" class=\"data row15 col0\" >0.0</td>\n",
       "      <td id=\"T_17c98_row15_col1\" class=\"data row15 col1\" >155.0</td>\n",
       "      <td id=\"T_17c98_row15_col2\" class=\"data row15 col2\" >87.0</td>\n",
       "      <td id=\"T_17c98_row15_col3\" class=\"data row15 col3\" >True</td>\n",
       "      <td id=\"T_17c98_row15_col4\" class=\"data row15 col4\" >243.0</td>\n",
       "      <td id=\"T_17c98_row15_col5\" class=\"data row15 col5\" >2.8</td>\n",
       "    </tr>\n",
       "    <tr>\n",
       "      <th id=\"T_17c98_level0_row16\" class=\"row_heading level0 row16\" >Puebla</th>\n",
       "      <td id=\"T_17c98_row16_col0\" class=\"data row16 col0\" >48.0</td>\n",
       "      <td id=\"T_17c98_row16_col1\" class=\"data row16 col1\" >42.0</td>\n",
       "      <td id=\"T_17c98_row16_col2\" class=\"data row16 col2\" >167.0</td>\n",
       "      <td id=\"T_17c98_row16_col3\" class=\"data row16 col3\" >True</td>\n",
       "      <td id=\"T_17c98_row16_col4\" class=\"data row16 col4\" >258.0</td>\n",
       "      <td id=\"T_17c98_row16_col5\" class=\"data row16 col5\" >3.0</td>\n",
       "    </tr>\n",
       "    <tr>\n",
       "      <th id=\"T_17c98_level0_row17\" class=\"row_heading level0 row17\" >Coahuila de Zaragoza</th>\n",
       "      <td id=\"T_17c98_row17_col0\" class=\"data row17 col0\" >0.0</td>\n",
       "      <td id=\"T_17c98_row17_col1\" class=\"data row17 col1\" >97.0</td>\n",
       "      <td id=\"T_17c98_row17_col2\" class=\"data row17 col2\" >208.0</td>\n",
       "      <td id=\"T_17c98_row17_col3\" class=\"data row17 col3\" >True</td>\n",
       "      <td id=\"T_17c98_row17_col4\" class=\"data row17 col4\" >306.0</td>\n",
       "      <td id=\"T_17c98_row17_col5\" class=\"data row17 col5\" >3.6</td>\n",
       "    </tr>\n",
       "    <tr>\n",
       "      <th id=\"T_17c98_level0_row18\" class=\"row_heading level0 row18\" >Jalisco</th>\n",
       "      <td id=\"T_17c98_row18_col0\" class=\"data row18 col0\" >178.0</td>\n",
       "      <td id=\"T_17c98_row18_col1\" class=\"data row18 col1\" >92.0</td>\n",
       "      <td id=\"T_17c98_row18_col2\" class=\"data row18 col2\" >229.0</td>\n",
       "      <td id=\"T_17c98_row18_col3\" class=\"data row18 col3\" >True</td>\n",
       "      <td id=\"T_17c98_row18_col4\" class=\"data row18 col4\" >500.0</td>\n",
       "      <td id=\"T_17c98_row18_col5\" class=\"data row18 col5\" >5.8</td>\n",
       "    </tr>\n",
       "    <tr>\n",
       "      <th id=\"T_17c98_level0_row19\" class=\"row_heading level0 row19\" >Chihuahua</th>\n",
       "      <td id=\"T_17c98_row19_col0\" class=\"data row19 col0\" >0.0</td>\n",
       "      <td id=\"T_17c98_row19_col1\" class=\"data row19 col1\" >140.0</td>\n",
       "      <td id=\"T_17c98_row19_col2\" class=\"data row19 col2\" >457.0</td>\n",
       "      <td id=\"T_17c98_row19_col3\" class=\"data row19 col3\" >True</td>\n",
       "      <td id=\"T_17c98_row19_col4\" class=\"data row19 col4\" >598.0</td>\n",
       "      <td id=\"T_17c98_row19_col5\" class=\"data row19 col5\" >7.0</td>\n",
       "    </tr>\n",
       "    <tr>\n",
       "      <th id=\"T_17c98_level0_row20\" class=\"row_heading level0 row20\" >Sonora</th>\n",
       "      <td id=\"T_17c98_row20_col0\" class=\"data row20 col0\" >187.0</td>\n",
       "      <td id=\"T_17c98_row20_col1\" class=\"data row20 col1\" >221.0</td>\n",
       "      <td id=\"T_17c98_row20_col2\" class=\"data row20 col2\" >343.0</td>\n",
       "      <td id=\"T_17c98_row20_col3\" class=\"data row20 col3\" >True</td>\n",
       "      <td id=\"T_17c98_row20_col4\" class=\"data row20 col4\" >752.0</td>\n",
       "      <td id=\"T_17c98_row20_col5\" class=\"data row20 col5\" >8.7</td>\n",
       "    </tr>\n",
       "    <tr>\n",
       "      <th id=\"T_17c98_level0_row21\" class=\"row_heading level0 row21\" >Estado de México</th>\n",
       "      <td id=\"T_17c98_row21_col0\" class=\"data row21 col0\" >271.0</td>\n",
       "      <td id=\"T_17c98_row21_col1\" class=\"data row21 col1\" >254.0</td>\n",
       "      <td id=\"T_17c98_row21_col2\" class=\"data row21 col2\" >282.0</td>\n",
       "      <td id=\"T_17c98_row21_col3\" class=\"data row21 col3\" >True</td>\n",
       "      <td id=\"T_17c98_row21_col4\" class=\"data row21 col4\" >808.0</td>\n",
       "      <td id=\"T_17c98_row21_col5\" class=\"data row21 col5\" >9.4</td>\n",
       "    </tr>\n",
       "    <tr>\n",
       "      <th id=\"T_17c98_level0_row22\" class=\"row_heading level0 row22\" >Ciudad de México</th>\n",
       "      <td id=\"T_17c98_row22_col0\" class=\"data row22 col0\" >1 187.0</td>\n",
       "      <td id=\"T_17c98_row22_col1\" class=\"data row22 col1\" >256.0</td>\n",
       "      <td id=\"T_17c98_row22_col2\" class=\"data row22 col2\" >428.0</td>\n",
       "      <td id=\"T_17c98_row22_col3\" class=\"data row22 col3\" >True</td>\n",
       "      <td id=\"T_17c98_row22_col4\" class=\"data row22 col4\" >1 872.0</td>\n",
       "      <td id=\"T_17c98_row22_col5\" class=\"data row22 col5\" >21.8</td>\n",
       "    </tr>\n",
       "    <tr>\n",
       "      <th id=\"T_17c98_level0_row23\" class=\"row_heading level0 row23\" >Nuevo León</th>\n",
       "      <td id=\"T_17c98_row23_col0\" class=\"data row23 col0\" >0.0</td>\n",
       "      <td id=\"T_17c98_row23_col1\" class=\"data row23 col1\" >390.0</td>\n",
       "      <td id=\"T_17c98_row23_col2\" class=\"data row23 col2\" >1 709.0</td>\n",
       "      <td id=\"T_17c98_row23_col3\" class=\"data row23 col3\" >True</td>\n",
       "      <td id=\"T_17c98_row23_col4\" class=\"data row23 col4\" >2 100.0</td>\n",
       "      <td id=\"T_17c98_row23_col5\" class=\"data row23 col5\" >24.4</td>\n",
       "    </tr>\n",
       "    <tr>\n",
       "      <th id=\"T_17c98_level0_row24\" class=\"row_heading level0 row24\" >Total</th>\n",
       "      <td id=\"T_17c98_row24_col0\" class=\"data row24 col0\" >1 903.0</td>\n",
       "      <td id=\"T_17c98_row24_col1\" class=\"data row24 col1\" >2 081.0</td>\n",
       "      <td id=\"T_17c98_row24_col2\" class=\"data row24 col2\" >4 605.0</td>\n",
       "      <td id=\"T_17c98_row24_col3\" class=\"data row24 col3\" >nan</td>\n",
       "      <td id=\"T_17c98_row24_col4\" class=\"data row24 col4\" >nan</td>\n",
       "      <td id=\"T_17c98_row24_col5\" class=\"data row24 col5\" >nan</td>\n",
       "    </tr>\n",
       "  </tbody>\n",
       "</table>\n"
      ],
      "text/plain": [
       "<pandas.io.formats.style.Styler at 0x17882c16bc0>"
      ]
     },
     "execution_count": 92,
     "metadata": {},
     "output_type": "execute_result"
    }
   ],
   "source": [
    "hpDF.style.format(precision=1, thousands=' ').background_gradient(cmap=\"YlGnBu\", axis='columns')"
   ]
  },
  {
   "cell_type": "code",
   "execution_count": 96,
   "metadata": {},
   "outputs": [
    {
     "data": {
      "application/vnd.plotly.v1+json": {
       "config": {
        "plotlyServerURL": "https://plot.ly"
       },
       "data": [
        {
         "alignmentgroup": "True",
         "hovertemplate": "Total=%{x}<br>index=%{y}<extra></extra>",
         "legendgroup": "",
         "marker": {
          "color": [
           "#AA78A6",
           "#AA78A6",
           "#AA78A6",
           "#AA78A6",
           "#AA78A6",
           "#3C7A89",
           "#3C7A89",
           "#3C7A89",
           "#AA78A6",
           "#3C7A89",
           "#AA78A6",
           "#AA78A6",
           "#AA78A6",
           "#3C7A89",
           "#3C7A89",
           "#3C7A89",
           "#3C7A89",
           "#3C7A89",
           "#3C7A89",
           "#3C7A89",
           "#3C7A89",
           "#3C7A89",
           "#3C7A89",
           "#3C7A89"
          ],
          "pattern": {
           "shape": ""
          }
         },
         "name": "",
         "offsetgroup": "",
         "orientation": "h",
         "showlegend": false,
         "textposition": "auto",
         "type": "bar",
         "x": [
          2,
          12,
          16,
          20,
          25,
          30,
          33,
          53,
          64,
          92,
          132,
          149,
          159,
          181,
          199,
          243,
          258,
          306,
          500,
          598,
          752,
          808,
          1872,
          2100
         ],
         "xaxis": "x",
         "y": [
          "Nayarit",
          "Colima",
          "No Informado",
          "San Luis Potosí",
          "Aguascalientes",
          "Michoacán de Ocampo",
          "Guanajuato",
          "Quintana Roo",
          "Morelos",
          "Tamaulipas",
          "Tabasco",
          "Veracruz de Ignacio de la Llave",
          "Yucatán",
          "Sinaloa",
          "Querétaro",
          "Baja California",
          "Puebla",
          "Coahuila de Zaragoza",
          "Jalisco",
          "Chihuahua",
          "Sonora",
          "Estado de México",
          "Ciudad de México",
          "Nuevo León"
         ],
         "yaxis": "y"
        }
       ],
       "layout": {
        "annotations": [
         {
          "showarrow": false,
          "text": "Fuente: Elaboración propia con datos de Insurers, DataMexico",
          "x": -0.01,
          "xref": "paper",
          "y": -0.09,
          "yref": "paper"
         }
        ],
        "barmode": "relative",
        "legend": {
         "title": {
          "text": "Grupo Hospitalario > 1"
         },
         "tracegroupgap": 0,
         "x": 0.1,
         "xanchor": "left",
         "y": 0.1,
         "yanchor": "top"
        },
        "margin": {
         "t": 60
        },
        "template": {
         "data": {
          "bar": [
           {
            "error_x": {
             "color": "#2a3f5f"
            },
            "error_y": {
             "color": "#2a3f5f"
            },
            "marker": {
             "line": {
              "color": "white",
              "width": 0.5
             },
             "pattern": {
              "fillmode": "overlay",
              "size": 10,
              "solidity": 0.2
             }
            },
            "type": "bar"
           }
          ],
          "barpolar": [
           {
            "marker": {
             "line": {
              "color": "white",
              "width": 0.5
             },
             "pattern": {
              "fillmode": "overlay",
              "size": 10,
              "solidity": 0.2
             }
            },
            "type": "barpolar"
           }
          ],
          "carpet": [
           {
            "aaxis": {
             "endlinecolor": "#2a3f5f",
             "gridcolor": "#C8D4E3",
             "linecolor": "#C8D4E3",
             "minorgridcolor": "#C8D4E3",
             "startlinecolor": "#2a3f5f"
            },
            "baxis": {
             "endlinecolor": "#2a3f5f",
             "gridcolor": "#C8D4E3",
             "linecolor": "#C8D4E3",
             "minorgridcolor": "#C8D4E3",
             "startlinecolor": "#2a3f5f"
            },
            "type": "carpet"
           }
          ],
          "choropleth": [
           {
            "colorbar": {
             "outlinewidth": 0,
             "ticks": ""
            },
            "type": "choropleth"
           }
          ],
          "contour": [
           {
            "colorbar": {
             "outlinewidth": 0,
             "ticks": ""
            },
            "colorscale": [
             [
              0,
              "#0d0887"
             ],
             [
              0.1111111111111111,
              "#46039f"
             ],
             [
              0.2222222222222222,
              "#7201a8"
             ],
             [
              0.3333333333333333,
              "#9c179e"
             ],
             [
              0.4444444444444444,
              "#bd3786"
             ],
             [
              0.5555555555555556,
              "#d8576b"
             ],
             [
              0.6666666666666666,
              "#ed7953"
             ],
             [
              0.7777777777777778,
              "#fb9f3a"
             ],
             [
              0.8888888888888888,
              "#fdca26"
             ],
             [
              1,
              "#f0f921"
             ]
            ],
            "type": "contour"
           }
          ],
          "contourcarpet": [
           {
            "colorbar": {
             "outlinewidth": 0,
             "ticks": ""
            },
            "type": "contourcarpet"
           }
          ],
          "heatmap": [
           {
            "colorbar": {
             "outlinewidth": 0,
             "ticks": ""
            },
            "colorscale": [
             [
              0,
              "#0d0887"
             ],
             [
              0.1111111111111111,
              "#46039f"
             ],
             [
              0.2222222222222222,
              "#7201a8"
             ],
             [
              0.3333333333333333,
              "#9c179e"
             ],
             [
              0.4444444444444444,
              "#bd3786"
             ],
             [
              0.5555555555555556,
              "#d8576b"
             ],
             [
              0.6666666666666666,
              "#ed7953"
             ],
             [
              0.7777777777777778,
              "#fb9f3a"
             ],
             [
              0.8888888888888888,
              "#fdca26"
             ],
             [
              1,
              "#f0f921"
             ]
            ],
            "type": "heatmap"
           }
          ],
          "heatmapgl": [
           {
            "colorbar": {
             "outlinewidth": 0,
             "ticks": ""
            },
            "colorscale": [
             [
              0,
              "#0d0887"
             ],
             [
              0.1111111111111111,
              "#46039f"
             ],
             [
              0.2222222222222222,
              "#7201a8"
             ],
             [
              0.3333333333333333,
              "#9c179e"
             ],
             [
              0.4444444444444444,
              "#bd3786"
             ],
             [
              0.5555555555555556,
              "#d8576b"
             ],
             [
              0.6666666666666666,
              "#ed7953"
             ],
             [
              0.7777777777777778,
              "#fb9f3a"
             ],
             [
              0.8888888888888888,
              "#fdca26"
             ],
             [
              1,
              "#f0f921"
             ]
            ],
            "type": "heatmapgl"
           }
          ],
          "histogram": [
           {
            "marker": {
             "pattern": {
              "fillmode": "overlay",
              "size": 10,
              "solidity": 0.2
             }
            },
            "type": "histogram"
           }
          ],
          "histogram2d": [
           {
            "colorbar": {
             "outlinewidth": 0,
             "ticks": ""
            },
            "colorscale": [
             [
              0,
              "#0d0887"
             ],
             [
              0.1111111111111111,
              "#46039f"
             ],
             [
              0.2222222222222222,
              "#7201a8"
             ],
             [
              0.3333333333333333,
              "#9c179e"
             ],
             [
              0.4444444444444444,
              "#bd3786"
             ],
             [
              0.5555555555555556,
              "#d8576b"
             ],
             [
              0.6666666666666666,
              "#ed7953"
             ],
             [
              0.7777777777777778,
              "#fb9f3a"
             ],
             [
              0.8888888888888888,
              "#fdca26"
             ],
             [
              1,
              "#f0f921"
             ]
            ],
            "type": "histogram2d"
           }
          ],
          "histogram2dcontour": [
           {
            "colorbar": {
             "outlinewidth": 0,
             "ticks": ""
            },
            "colorscale": [
             [
              0,
              "#0d0887"
             ],
             [
              0.1111111111111111,
              "#46039f"
             ],
             [
              0.2222222222222222,
              "#7201a8"
             ],
             [
              0.3333333333333333,
              "#9c179e"
             ],
             [
              0.4444444444444444,
              "#bd3786"
             ],
             [
              0.5555555555555556,
              "#d8576b"
             ],
             [
              0.6666666666666666,
              "#ed7953"
             ],
             [
              0.7777777777777778,
              "#fb9f3a"
             ],
             [
              0.8888888888888888,
              "#fdca26"
             ],
             [
              1,
              "#f0f921"
             ]
            ],
            "type": "histogram2dcontour"
           }
          ],
          "mesh3d": [
           {
            "colorbar": {
             "outlinewidth": 0,
             "ticks": ""
            },
            "type": "mesh3d"
           }
          ],
          "parcoords": [
           {
            "line": {
             "colorbar": {
              "outlinewidth": 0,
              "ticks": ""
             }
            },
            "type": "parcoords"
           }
          ],
          "pie": [
           {
            "automargin": true,
            "type": "pie"
           }
          ],
          "scatter": [
           {
            "fillpattern": {
             "fillmode": "overlay",
             "size": 10,
             "solidity": 0.2
            },
            "type": "scatter"
           }
          ],
          "scatter3d": [
           {
            "line": {
             "colorbar": {
              "outlinewidth": 0,
              "ticks": ""
             }
            },
            "marker": {
             "colorbar": {
              "outlinewidth": 0,
              "ticks": ""
             }
            },
            "type": "scatter3d"
           }
          ],
          "scattercarpet": [
           {
            "marker": {
             "colorbar": {
              "outlinewidth": 0,
              "ticks": ""
             }
            },
            "type": "scattercarpet"
           }
          ],
          "scattergeo": [
           {
            "marker": {
             "colorbar": {
              "outlinewidth": 0,
              "ticks": ""
             }
            },
            "type": "scattergeo"
           }
          ],
          "scattergl": [
           {
            "marker": {
             "colorbar": {
              "outlinewidth": 0,
              "ticks": ""
             }
            },
            "type": "scattergl"
           }
          ],
          "scattermapbox": [
           {
            "marker": {
             "colorbar": {
              "outlinewidth": 0,
              "ticks": ""
             }
            },
            "type": "scattermapbox"
           }
          ],
          "scatterpolar": [
           {
            "marker": {
             "colorbar": {
              "outlinewidth": 0,
              "ticks": ""
             }
            },
            "type": "scatterpolar"
           }
          ],
          "scatterpolargl": [
           {
            "marker": {
             "colorbar": {
              "outlinewidth": 0,
              "ticks": ""
             }
            },
            "type": "scatterpolargl"
           }
          ],
          "scatterternary": [
           {
            "marker": {
             "colorbar": {
              "outlinewidth": 0,
              "ticks": ""
             }
            },
            "type": "scatterternary"
           }
          ],
          "surface": [
           {
            "colorbar": {
             "outlinewidth": 0,
             "ticks": ""
            },
            "colorscale": [
             [
              0,
              "#0d0887"
             ],
             [
              0.1111111111111111,
              "#46039f"
             ],
             [
              0.2222222222222222,
              "#7201a8"
             ],
             [
              0.3333333333333333,
              "#9c179e"
             ],
             [
              0.4444444444444444,
              "#bd3786"
             ],
             [
              0.5555555555555556,
              "#d8576b"
             ],
             [
              0.6666666666666666,
              "#ed7953"
             ],
             [
              0.7777777777777778,
              "#fb9f3a"
             ],
             [
              0.8888888888888888,
              "#fdca26"
             ],
             [
              1,
              "#f0f921"
             ]
            ],
            "type": "surface"
           }
          ],
          "table": [
           {
            "cells": {
             "fill": {
              "color": "#EBF0F8"
             },
             "line": {
              "color": "white"
             }
            },
            "header": {
             "fill": {
              "color": "#C8D4E3"
             },
             "line": {
              "color": "white"
             }
            },
            "type": "table"
           }
          ]
         },
         "layout": {
          "annotationdefaults": {
           "arrowcolor": "#2a3f5f",
           "arrowhead": 0,
           "arrowwidth": 1
          },
          "autotypenumbers": "strict",
          "coloraxis": {
           "colorbar": {
            "outlinewidth": 0,
            "ticks": ""
           }
          },
          "colorscale": {
           "diverging": [
            [
             0,
             "#8e0152"
            ],
            [
             0.1,
             "#c51b7d"
            ],
            [
             0.2,
             "#de77ae"
            ],
            [
             0.3,
             "#f1b6da"
            ],
            [
             0.4,
             "#fde0ef"
            ],
            [
             0.5,
             "#f7f7f7"
            ],
            [
             0.6,
             "#e6f5d0"
            ],
            [
             0.7,
             "#b8e186"
            ],
            [
             0.8,
             "#7fbc41"
            ],
            [
             0.9,
             "#4d9221"
            ],
            [
             1,
             "#276419"
            ]
           ],
           "sequential": [
            [
             0,
             "#0d0887"
            ],
            [
             0.1111111111111111,
             "#46039f"
            ],
            [
             0.2222222222222222,
             "#7201a8"
            ],
            [
             0.3333333333333333,
             "#9c179e"
            ],
            [
             0.4444444444444444,
             "#bd3786"
            ],
            [
             0.5555555555555556,
             "#d8576b"
            ],
            [
             0.6666666666666666,
             "#ed7953"
            ],
            [
             0.7777777777777778,
             "#fb9f3a"
            ],
            [
             0.8888888888888888,
             "#fdca26"
            ],
            [
             1,
             "#f0f921"
            ]
           ],
           "sequentialminus": [
            [
             0,
             "#0d0887"
            ],
            [
             0.1111111111111111,
             "#46039f"
            ],
            [
             0.2222222222222222,
             "#7201a8"
            ],
            [
             0.3333333333333333,
             "#9c179e"
            ],
            [
             0.4444444444444444,
             "#bd3786"
            ],
            [
             0.5555555555555556,
             "#d8576b"
            ],
            [
             0.6666666666666666,
             "#ed7953"
            ],
            [
             0.7777777777777778,
             "#fb9f3a"
            ],
            [
             0.8888888888888888,
             "#fdca26"
            ],
            [
             1,
             "#f0f921"
            ]
           ]
          },
          "colorway": [
           "#636efa",
           "#EF553B",
           "#00cc96",
           "#ab63fa",
           "#FFA15A",
           "#19d3f3",
           "#FF6692",
           "#B6E880",
           "#FF97FF",
           "#FECB52"
          ],
          "font": {
           "color": "#2a3f5f"
          },
          "geo": {
           "bgcolor": "white",
           "lakecolor": "white",
           "landcolor": "white",
           "showlakes": true,
           "showland": true,
           "subunitcolor": "#C8D4E3"
          },
          "hoverlabel": {
           "align": "left"
          },
          "hovermode": "closest",
          "mapbox": {
           "style": "light"
          },
          "paper_bgcolor": "white",
          "plot_bgcolor": "white",
          "polar": {
           "angularaxis": {
            "gridcolor": "#EBF0F8",
            "linecolor": "#EBF0F8",
            "ticks": ""
           },
           "bgcolor": "white",
           "radialaxis": {
            "gridcolor": "#EBF0F8",
            "linecolor": "#EBF0F8",
            "ticks": ""
           }
          },
          "scene": {
           "xaxis": {
            "backgroundcolor": "white",
            "gridcolor": "#DFE8F3",
            "gridwidth": 2,
            "linecolor": "#EBF0F8",
            "showbackground": true,
            "ticks": "",
            "zerolinecolor": "#EBF0F8"
           },
           "yaxis": {
            "backgroundcolor": "white",
            "gridcolor": "#DFE8F3",
            "gridwidth": 2,
            "linecolor": "#EBF0F8",
            "showbackground": true,
            "ticks": "",
            "zerolinecolor": "#EBF0F8"
           },
           "zaxis": {
            "backgroundcolor": "white",
            "gridcolor": "#DFE8F3",
            "gridwidth": 2,
            "linecolor": "#EBF0F8",
            "showbackground": true,
            "ticks": "",
            "zerolinecolor": "#EBF0F8"
           }
          },
          "shapedefaults": {
           "line": {
            "color": "#2a3f5f"
           }
          },
          "ternary": {
           "aaxis": {
            "gridcolor": "#DFE8F3",
            "linecolor": "#A2B1C6",
            "ticks": ""
           },
           "baxis": {
            "gridcolor": "#DFE8F3",
            "linecolor": "#A2B1C6",
            "ticks": ""
           },
           "bgcolor": "white",
           "caxis": {
            "gridcolor": "#DFE8F3",
            "linecolor": "#A2B1C6",
            "ticks": ""
           }
          },
          "title": {
           "x": 0.05
          },
          "xaxis": {
           "automargin": true,
           "gridcolor": "#EBF0F8",
           "linecolor": "#EBF0F8",
           "ticks": "",
           "title": {
            "standoff": 15
           },
           "zerolinecolor": "#EBF0F8",
           "zerolinewidth": 2
          },
          "yaxis": {
           "automargin": true,
           "gridcolor": "#EBF0F8",
           "linecolor": "#EBF0F8",
           "ticks": "",
           "title": {
            "standoff": 15
           },
           "zerolinecolor": "#EBF0F8",
           "zerolinewidth": 2
          }
         }
        },
        "title": {
         "text": "Figura 6. Estados que menor cantidad de pacientes trataron<br> tienen <span style=\"color: #AA78A6;\"><b>sólo un tipo de grupo hospitalario</b></span>"
        },
        "xaxis": {
         "anchor": "y",
         "domain": [
          0,
          1
         ],
         "title": {
          "text": "Pacientes Tratados"
         }
        },
        "yaxis": {
         "anchor": "x",
         "domain": [
          0,
          1
         ],
         "title": {
          "text": ""
         }
        }
       }
      }
     },
     "metadata": {},
     "output_type": "display_data"
    }
   ],
   "source": [
    "plotDF = hpDF.reset_index().iloc[0:-1, :]\n",
    "fig = px.bar(plotDF, y='index', x='Total', orientation='h')\n",
    "fig.update_layout(xaxis_title=\"Pacientes Tratados\", yaxis_title=\"\",\n",
    "                  title=f'Figura 6. Estados que menor cantidad de pacientes trataron<br> tienen <span style=\"color: {CATEGORY_PALETTE[3]};\"><b>sólo un tipo de grupo hospitalario</b></span>',\n",
    "                  legend_yanchor=\"top\", legend_y=0.1, legend_xanchor=\"left\", legend_x=0.1,\n",
    "                  legend_title_text='Grupo Hospitalario > 1', template='plotly_white')\n",
    "fig.update_traces(marker_color=plotDF.isMultiple.map({True: CATEGORY_PALETTE[0], False: CATEGORY_PALETTE[3]}))\n",
    "fig.add_annotation(xref=\"paper\", yref=\"paper\", x=-0.01, y=-0.09, showarrow=False,\n",
    "                   text=\"Fuente: Elaboración propia con datos de Insurers, DataMexico\",)\n",
    "fig.write_image(\"images/fig4.png\", width=1000, height=1000)\n",
    "fig.show()"
   ]
  },
  {
   "cell_type": "code",
   "execution_count": 35,
   "metadata": {},
   "outputs": [
    {
     "data": {
      "text/plain": [
       "True     0.625\n",
       "False    0.375\n",
       "Name: isMultiple, dtype: float64"
      ]
     },
     "execution_count": 35,
     "metadata": {},
     "output_type": "execute_result"
    }
   ],
   "source": [
    "hpDF.isMultiple.value_counts(normalize=True)"
   ]
  },
  {
   "cell_type": "code",
   "execution_count": 36,
   "metadata": {},
   "outputs": [
    {
     "data": {
      "text/plain": [
       "High               0.0\n",
       "Low              146.0\n",
       "Medium           433.0\n",
       "isMultiple           0\n",
       "Total            579.0\n",
       "PCT           6.729428\n",
       "dtype: object"
      ]
     },
     "execution_count": 36,
     "metadata": {},
     "output_type": "execute_result"
    }
   ],
   "source": [
    "hpDF[hpDF.isMultiple == False].sum()"
   ]
  },
  {
   "cell_type": "code",
   "execution_count": 40,
   "metadata": {},
   "outputs": [
    {
     "name": "stdout",
     "output_type": "stream",
     "text": [
      "Low: 0.25215889464594127\n",
      "Medium: 0.7478411053540587\n",
      "High: 0.0\n"
     ]
    }
   ],
   "source": [
    "print(f'Low: {hpDF[hpDF.isMultiple == False].Low.sum()/579}')\n",
    "print(f'Medium: {hpDF[hpDF.isMultiple == False].Medium.sum()/579}')\n",
    "print(f'High: {hpDF[hpDF.isMultiple == False].High.sum()/579}')"
   ]
  },
  {
   "cell_type": "code",
   "execution_count": 42,
   "metadata": {},
   "outputs": [
    {
     "data": {
      "text/plain": [
       "0.06729428172942817"
      ]
     },
     "execution_count": 42,
     "metadata": {},
     "output_type": "execute_result"
    }
   ],
   "source": [
    "hpDF[hpDF.isMultiple == False].Total.sum()/hpDF.Total.sum()"
   ]
  },
  {
   "cell_type": "markdown",
   "metadata": {},
   "source": [
    "Llama la atención ver que en el 37.5% de los estados sólo se tenga reportado un sólo tipo de grupo hospitalario. De estos, no existe ningún hospital High y la mayoría son Medium. ¿Podemos asumir que es un problema de acceso a la salud?"
   ]
  }
 ],
 "metadata": {
  "kernelspec": {
   "display_name": "Python 3.10.4 64-bit",
   "language": "python",
   "name": "python3"
  },
  "language_info": {
   "codemirror_mode": {
    "name": "ipython",
    "version": 3
   },
   "file_extension": ".py",
   "mimetype": "text/x-python",
   "name": "python",
   "nbconvert_exporter": "python",
   "pygments_lexer": "ipython3",
   "version": "3.10.4"
  },
  "orig_nbformat": 4,
  "vscode": {
   "interpreter": {
    "hash": "369f2c481f4da34e4445cda3fffd2e751bd1c4d706f27375911949ba6bb62e1c"
   }
  }
 },
 "nbformat": 4,
 "nbformat_minor": 2
}
